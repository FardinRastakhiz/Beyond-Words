{
 "cells": [
  {
   "cell_type": "code",
   "execution_count": null,
   "metadata": {},
   "outputs": [],
   "source": []
  },
  {
   "cell_type": "code",
   "execution_count": null,
   "metadata": {},
   "outputs": [],
   "source": [
    "import spacy\n",
    "nlp = spacy.load('en_core_web_lg')"
   ]
  },
  {
   "cell_type": "code",
   "execution_count": null,
   "metadata": {},
   "outputs": [],
   "source": [
    "def convert_to_word(vectors):\n",
    "    words = []\n",
    "    print(len(vectors))\n",
    "    for i in range(len(vectors)):\n",
    "        print(f'{i}/{len(vectors)}')\n",
    "        ms = nlp.vocab.vectors.most_similar(np.asarray([vectors[i]]), n=1)\n",
    "        ws = [nlp.vocab.strings[w] for w in ms[0][0]]\n",
    "        # print(ws)\n",
    "        for w in ws:\n",
    "            words.append(w)\n",
    "        if (i+1)%5==0:\n",
    "            break\n",
    "    return str.join(' ', words)"
   ]
  },
  {
   "cell_type": "code",
   "execution_count": null,
   "metadata": {},
   "outputs": [],
   "source": [
    "for i in range(0, len(X1)):\n",
    "    sent1 = convert_to_word(X1[i].x_dict['word'])\n",
    "    print(f'{i}: {y1[i]}: {sent1}')"
   ]
  },
  {
   "cell_type": "code",
   "execution_count": null,
   "metadata": {},
   "outputs": [],
   "source": [
    "import pandas as pd\n",
    "train_text = pd.read_csv(r'C:\\Users\\fardin\\Projects\\ColorIntelligence\\data\\Amazon-Review\\train.csv', header=None)\n",
    "train_text.head()"
   ]
  },
  {
   "cell_type": "code",
   "execution_count": null,
   "metadata": {},
   "outputs": [],
   "source": [
    "import pandas as pd\n",
    "train_text = pd.read_csv(r'C:\\Users\\fardin\\Projects\\ColorIntelligence\\data\\Amazon-Review\\train_sm.csv', header=None)\n",
    "train_text.head()"
   ]
  },
  {
   "cell_type": "code",
   "execution_count": null,
   "metadata": {},
   "outputs": [],
   "source": [
    "train_text[0][4]"
   ]
  },
  {
   "cell_type": "code",
   "execution_count": null,
   "metadata": {},
   "outputs": [],
   "source": [
    "for text in range(train_text.shape[0]):\n",
    "    # print(text)\n",
    "    if \"say that this\" in (train_text[2][text])[:50]:\n",
    "        print(f'aa {train_text[0][text]} {train_text[2][text]}')\n",
    "        break"
   ]
  },
  {
   "cell_type": "code",
   "execution_count": null,
   "metadata": {},
   "outputs": [],
   "source": []
  }
 ],
 "metadata": {
  "language_info": {
   "name": "python"
  }
 },
 "nbformat": 4,
 "nbformat_minor": 2
}
