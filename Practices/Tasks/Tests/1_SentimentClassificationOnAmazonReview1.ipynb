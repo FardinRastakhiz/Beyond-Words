{
 "cells": [
  {
   "cell_type": "markdown",
   "metadata": {},
   "source": [
    "# Test Sentiment Classification\n",
    "### On Amazon-Review, Cooccurrence Graph Dataseet"
   ]
  },
  {
   "cell_type": "code",
   "execution_count": 1,
   "metadata": {},
   "outputs": [
    {
     "name": "stderr",
     "output_type": "stream",
     "text": [
      "c:\\Users\\fardin\\AppData\\Local\\Programs\\Python\\Python310\\lib\\site-packages\\torchaudio\\backend\\utils.py:74: UserWarning: No audio backend is available.\n",
      "  warnings.warn(\"No audio backend is available.\")\n"
     ]
    }
   ],
   "source": [
    "import numpy as np\n",
    "from Scripts.Configs.ConfigClass import Config\n",
    "from Scripts.DataManager.GraphConstructor.GraphConstructor import TextGraphType\n",
    "from lightning.pytorch.loggers import CSVLogger\n",
    "import os\n",
    "from Scripts.DataManager.GraphLoader.AmazonReviewGraphDataModule import AmazonReviewGraphDataModule\n",
    "import time\n",
    "import torch"
   ]
  },
  {
   "cell_type": "code",
   "execution_count": 2,
   "metadata": {},
   "outputs": [],
   "source": [
    "config = Config(r'C:\\Users\\fardin\\Projects\\ColorIntelligence')\n",
    "os.environ['CUDA_LAUNCH_BLOCKING'] = \"1\"\n",
    "device = 'cuda'\n",
    "batch_size = 16"
   ]
  },
  {
   "cell_type": "code",
   "execution_count": 3,
   "metadata": {},
   "outputs": [
    {
     "name": "stderr",
     "output_type": "stream",
     "text": [
      " Creating Graphs : 100%|██████████| 110000/110000 [5:56:24<00:00,  5.14it/s]   \n"
     ]
    },
    {
     "name": "stdout",
     "output_type": "stream",
     "text": [
      "self.shuffle: False\n"
     ]
    }
   ],
   "source": [
    "tag_dep_seq_sent = TextGraphType.CO_OCCURRENCE\n",
    "data_manager = AmazonReviewGraphDataModule(config, True, True, shuffle=False, start_data_load=0 , end_data_load = -1, device='cpu', batch_size=batch_size, graph_type=tag_dep_seq_sent, load_preprocessed_data = True)\n",
    "data_manager.load_labels()\n",
    "data_manager.load_graphs()"
   ]
  },
  {
   "cell_type": "code",
   "execution_count": 4,
   "metadata": {},
   "outputs": [
    {
     "data": {
      "text/plain": [
       "16"
      ]
     },
     "execution_count": 4,
     "metadata": {},
     "output_type": "execute_result"
    }
   ],
   "source": [
    "# data_manager.update_batch_size(128)\n",
    "t_dataloader = data_manager.train_dataloader()\n",
    "v_dataloader = data_manager.val_dataloader()\n",
    "X1, y1 = next(iter(t_dataloader))\n",
    "X2, y2 = next(iter(v_dataloader))\n",
    "# X1.metadata()\n",
    "len(X1)"
   ]
  },
  {
   "cell_type": "code",
   "execution_count": 5,
   "metadata": {},
   "outputs": [],
   "source": [
    "from Scripts.Models.GraphEmbedding.HomogeneousDeepGraphEmbedding1 import HomogeneousDeepGraphEmbedding1"
   ]
  },
  {
   "cell_type": "code",
   "execution_count": 6,
   "metadata": {},
   "outputs": [],
   "source": [
    "from Scripts.Models.LightningModels.LightningModels import BinaryLightningModel\n",
    "from lightning.pytorch.callbacks import EarlyStopping, ModelCheckpoint\n",
    "from Scripts.Models.ModelsManager.ClassifierModelManager import ClassifierModelManager"
   ]
  },
  {
   "cell_type": "code",
   "execution_count": 7,
   "metadata": {},
   "outputs": [],
   "source": [
    "graph_embedding = HomogeneousDeepGraphEmbedding1(300, 1, 128, dropout=0.2)\n",
    "graph_embedding = graph_embedding.to(device)"
   ]
  },
  {
   "cell_type": "code",
   "execution_count": 8,
   "metadata": {},
   "outputs": [
    {
     "name": "stderr",
     "output_type": "stream",
     "text": [
      "c:\\Users\\fardin\\AppData\\Local\\Programs\\Python\\Python310\\lib\\site-packages\\lightning\\pytorch\\utilities\\parsing.py:198: Attribute 'model' is an instance of `nn.Module` and is already saved during checkpointing. It is recommended to ignore them using `self.save_hyperparameters(ignore=['model'])`.\n",
      "GPU available: True (cuda), used: True\n",
      "TPU available: False, using: 0 TPU cores\n",
      "IPU available: False, using: 0 IPUs\n",
      "HPU available: False, using: 0 HPUs\n"
     ]
    }
   ],
   "source": [
    "# lightning_model = HeteroBinaryLightningModel.load_from_checkpoint(r'C:\\Users\\fardin\\Projects\\ColorIntelligence\\logs\\hetero_model_5\\version_0\\checkpoints\\epoch=7-step=2056.ckpt', model=)\n",
    "\n",
    "callbacks = [\n",
    "    ModelCheckpoint(save_top_k=5, mode='max', monitor='val_acc', save_last=True),\n",
    "    # EarlyStopping(patience=50, mode='max', monitor='val_acc')\n",
    "]\n",
    "lightning_model = BinaryLightningModel(graph_embedding,\n",
    "                                 torch.optim.Adam(graph_embedding.parameters(), lr=0.004, weight_decay=0.001),\n",
    "                                       loss_func=torch.nn.BCEWithLogitsLoss(),\n",
    "                                       learning_rate=0.004,\n",
    "                                       batch_size=batch_size,\n",
    "                                       user_lr_scheduler=True,\n",
    "                                       min_lr=0.00003\n",
    "                                       ).to(device)\n",
    "model_manager = ClassifierModelManager(graph_embedding, lightning_model, log_name='hetero_model_6', model_save_dir=r'C:\\Users\\fardin\\Projects\\ColorIntelligence\\Practices\\Tasks\\HeterogeneousGraphs\\hetero_model_3',device=device, num_train_epoch=500)"
   ]
  },
  {
   "cell_type": "code",
   "execution_count": 9,
   "metadata": {},
   "outputs": [],
   "source": [
    "# model_manager.tune(data_manager=data_manager, min_lr=1e-5, max_lr = 1e-2)"
   ]
  },
  {
   "cell_type": "code",
   "execution_count": 10,
   "metadata": {},
   "outputs": [
    {
     "name": "stderr",
     "output_type": "stream",
     "text": [
      "c:\\Users\\fardin\\AppData\\Local\\Programs\\Python\\Python310\\lib\\site-packages\\lightning\\pytorch\\utilities\\parsing.py:43: attribute 'model' removed from hparams because it cannot be pickled\n",
      "You are using a CUDA device ('NVIDIA GeForce RTX 3080') that has Tensor Cores. To properly utilize them, you should set `torch.set_float32_matmul_precision('medium' | 'high')` which will trade-off precision for performance. For more details, read https://pytorch.org/docs/stable/generated/torch.set_float32_matmul_precision.html#torch.set_float32_matmul_precision\n",
      "LOCAL_RANK: 0 - CUDA_VISIBLE_DEVICES: [0]\n",
      "\n",
      "  | Name      | Type                           | Params\n",
      "-------------------------------------------------------------\n",
      "0 | model     | HomogeneousDeepGraphEmbedding1 | 179 K \n",
      "1 | loss_func | BCEWithLogitsLoss              | 0     \n",
      "2 | train_acc | BinaryAccuracy                 | 0     \n",
      "3 | val_acc   | BinaryAccuracy                 | 0     \n",
      "4 | test_acc  | BinaryAccuracy                 | 0     \n",
      "-------------------------------------------------------------\n",
      "179 K     Trainable params\n",
      "0         Non-trainable params\n",
      "179 K     Total params\n",
      "0.717     Total estimated model params size (MB)\n"
     ]
    },
    {
     "name": "stdout",
     "output_type": "stream",
     "text": [
      "bbbb\n"
     ]
    },
    {
     "name": "stderr",
     "output_type": "stream",
     "text": [
      "c:\\Users\\fardin\\AppData\\Local\\Programs\\Python\\Python310\\lib\\site-packages\\lightning\\pytorch\\trainer\\connectors\\data_connector.py:441: The 'train_dataloader' does not have many workers which may be a bottleneck. Consider increasing the value of the `num_workers` argument` to `num_workers=7` in the `DataLoader` to improve performance.\n",
      "c:\\Users\\fardin\\AppData\\Local\\Programs\\Python\\Python310\\lib\\site-packages\\lightning\\pytorch\\trainer\\connectors\\data_connector.py:441: The 'val_dataloader' does not have many workers which may be a bottleneck. Consider increasing the value of the `num_workers` argument` to `num_workers=7` in the `DataLoader` to improve performance.\n"
     ]
    },
    {
     "data": {
      "application/vnd.jupyter.widget-view+json": {
       "model_id": "1ef2e66693d445258c115f7462de8ec3",
       "version_major": 2,
       "version_minor": 0
      },
      "text/plain": [
       "Training: |          | 0/? [00:00<?, ?it/s]"
      ]
     },
     "metadata": {},
     "output_type": "display_data"
    },
    {
     "data": {
      "application/vnd.jupyter.widget-view+json": {
       "model_id": "7c6bc2dfb02e4298858886ffbca279d4",
       "version_major": 2,
       "version_minor": 0
      },
      "text/plain": [
       "Validation: |          | 0/? [00:00<?, ?it/s]"
      ]
     },
     "metadata": {},
     "output_type": "display_data"
    },
    {
     "data": {
      "application/vnd.jupyter.widget-view+json": {
       "model_id": "582da4dd1e9b4cef8286508d2120ccb5",
       "version_major": 2,
       "version_minor": 0
      },
      "text/plain": [
       "Validation: |          | 0/? [00:00<?, ?it/s]"
      ]
     },
     "metadata": {},
     "output_type": "display_data"
    },
    {
     "data": {
      "application/vnd.jupyter.widget-view+json": {
       "model_id": "dba4582bcd37409091a54e6cc88d70c8",
       "version_major": 2,
       "version_minor": 0
      },
      "text/plain": [
       "Validation: |          | 0/? [00:00<?, ?it/s]"
      ]
     },
     "metadata": {},
     "output_type": "display_data"
    },
    {
     "data": {
      "application/vnd.jupyter.widget-view+json": {
       "model_id": "a8642d63fc0d48a3b0c9f277c2a01b38",
       "version_major": 2,
       "version_minor": 0
      },
      "text/plain": [
       "Validation: |          | 0/? [00:00<?, ?it/s]"
      ]
     },
     "metadata": {},
     "output_type": "display_data"
    },
    {
     "data": {
      "application/vnd.jupyter.widget-view+json": {
       "model_id": "5343e1bc167a4167ac8bc36151b767ae",
       "version_major": 2,
       "version_minor": 0
      },
      "text/plain": [
       "Validation: |          | 0/? [00:00<?, ?it/s]"
      ]
     },
     "metadata": {},
     "output_type": "display_data"
    },
    {
     "data": {
      "application/vnd.jupyter.widget-view+json": {
       "model_id": "c75a80eb5648433f99ecbbfe99997400",
       "version_major": 2,
       "version_minor": 0
      },
      "text/plain": [
       "Validation: |          | 0/? [00:00<?, ?it/s]"
      ]
     },
     "metadata": {},
     "output_type": "display_data"
    },
    {
     "data": {
      "application/vnd.jupyter.widget-view+json": {
       "model_id": "1d4e3b403d884f53ad3c43516b44be68",
       "version_major": 2,
       "version_minor": 0
      },
      "text/plain": [
       "Validation: |          | 0/? [00:00<?, ?it/s]"
      ]
     },
     "metadata": {},
     "output_type": "display_data"
    },
    {
     "data": {
      "application/vnd.jupyter.widget-view+json": {
       "model_id": "a5c71dd8d6e347b3bb0a2ed51fd72c1a",
       "version_major": 2,
       "version_minor": 0
      },
      "text/plain": [
       "Validation: |          | 0/? [00:00<?, ?it/s]"
      ]
     },
     "metadata": {},
     "output_type": "display_data"
    },
    {
     "data": {
      "application/vnd.jupyter.widget-view+json": {
       "model_id": "8ec96ab65743453b94c10c19b0292aef",
       "version_major": 2,
       "version_minor": 0
      },
      "text/plain": [
       "Validation: |          | 0/? [00:00<?, ?it/s]"
      ]
     },
     "metadata": {},
     "output_type": "display_data"
    },
    {
     "data": {
      "application/vnd.jupyter.widget-view+json": {
       "model_id": "43b490b5cb234495b8fa5dc1c09168bb",
       "version_major": 2,
       "version_minor": 0
      },
      "text/plain": [
       "Validation: |          | 0/? [00:00<?, ?it/s]"
      ]
     },
     "metadata": {},
     "output_type": "display_data"
    },
    {
     "data": {
      "application/vnd.jupyter.widget-view+json": {
       "model_id": "50878d90c98f4c968a501981a83595c3",
       "version_major": 2,
       "version_minor": 0
      },
      "text/plain": [
       "Validation: |          | 0/? [00:00<?, ?it/s]"
      ]
     },
     "metadata": {},
     "output_type": "display_data"
    },
    {
     "data": {
      "application/vnd.jupyter.widget-view+json": {
       "model_id": "8cc36e64fe79480ba47c2502acdc8a2d",
       "version_major": 2,
       "version_minor": 0
      },
      "text/plain": [
       "Validation: |          | 0/? [00:00<?, ?it/s]"
      ]
     },
     "metadata": {},
     "output_type": "display_data"
    },
    {
     "data": {
      "application/vnd.jupyter.widget-view+json": {
       "model_id": "0e78eab1b224454c85fc7365962d1ea4",
       "version_major": 2,
       "version_minor": 0
      },
      "text/plain": [
       "Validation: |          | 0/? [00:00<?, ?it/s]"
      ]
     },
     "metadata": {},
     "output_type": "display_data"
    },
    {
     "data": {
      "application/vnd.jupyter.widget-view+json": {
       "model_id": "b592571c80ab46e9b1e4b98efd5d1825",
       "version_major": 2,
       "version_minor": 0
      },
      "text/plain": [
       "Validation: |          | 0/? [00:00<?, ?it/s]"
      ]
     },
     "metadata": {},
     "output_type": "display_data"
    },
    {
     "data": {
      "application/vnd.jupyter.widget-view+json": {
       "model_id": "3142049cd8364f96884b40cc6eb2fe03",
       "version_major": 2,
       "version_minor": 0
      },
      "text/plain": [
       "Validation: |          | 0/? [00:00<?, ?it/s]"
      ]
     },
     "metadata": {},
     "output_type": "display_data"
    },
    {
     "data": {
      "application/vnd.jupyter.widget-view+json": {
       "model_id": "6476b2a95a5e4a1bb1b56ab4dc599c51",
       "version_major": 2,
       "version_minor": 0
      },
      "text/plain": [
       "Validation: |          | 0/? [00:00<?, ?it/s]"
      ]
     },
     "metadata": {},
     "output_type": "display_data"
    },
    {
     "data": {
      "application/vnd.jupyter.widget-view+json": {
       "model_id": "160b5c9065904641980cbb1c3d0ed8f3",
       "version_major": 2,
       "version_minor": 0
      },
      "text/plain": [
       "Validation: |          | 0/? [00:00<?, ?it/s]"
      ]
     },
     "metadata": {},
     "output_type": "display_data"
    },
    {
     "data": {
      "application/vnd.jupyter.widget-view+json": {
       "model_id": "c4ead9578768446ca2d1b2f56cf8d06c",
       "version_major": 2,
       "version_minor": 0
      },
      "text/plain": [
       "Validation: |          | 0/? [00:00<?, ?it/s]"
      ]
     },
     "metadata": {},
     "output_type": "display_data"
    },
    {
     "data": {
      "application/vnd.jupyter.widget-view+json": {
       "model_id": "905a2d2c1ebd4cb0b367cf0da43e0368",
       "version_major": 2,
       "version_minor": 0
      },
      "text/plain": [
       "Validation: |          | 0/? [00:00<?, ?it/s]"
      ]
     },
     "metadata": {},
     "output_type": "display_data"
    },
    {
     "data": {
      "application/vnd.jupyter.widget-view+json": {
       "model_id": "10bbbabf2e4e4eae86b2ba610dc82cd2",
       "version_major": 2,
       "version_minor": 0
      },
      "text/plain": [
       "Validation: |          | 0/? [00:00<?, ?it/s]"
      ]
     },
     "metadata": {},
     "output_type": "display_data"
    },
    {
     "data": {
      "application/vnd.jupyter.widget-view+json": {
       "model_id": "98be107feed349458175b5fffdfe141d",
       "version_major": 2,
       "version_minor": 0
      },
      "text/plain": [
       "Validation: |          | 0/? [00:00<?, ?it/s]"
      ]
     },
     "metadata": {},
     "output_type": "display_data"
    },
    {
     "data": {
      "application/vnd.jupyter.widget-view+json": {
       "model_id": "9689f169095e4dd69bcd7b22c5f047f0",
       "version_major": 2,
       "version_minor": 0
      },
      "text/plain": [
       "Validation: |          | 0/? [00:00<?, ?it/s]"
      ]
     },
     "metadata": {},
     "output_type": "display_data"
    },
    {
     "data": {
      "application/vnd.jupyter.widget-view+json": {
       "model_id": "ed3b0dc89ddb4329a5eb9d2488d6d9fc",
       "version_major": 2,
       "version_minor": 0
      },
      "text/plain": [
       "Validation: |          | 0/? [00:00<?, ?it/s]"
      ]
     },
     "metadata": {},
     "output_type": "display_data"
    },
    {
     "data": {
      "application/vnd.jupyter.widget-view+json": {
       "model_id": "5cb5603b211a4d7a8209187defc1be26",
       "version_major": 2,
       "version_minor": 0
      },
      "text/plain": [
       "Validation: |          | 0/? [00:00<?, ?it/s]"
      ]
     },
     "metadata": {},
     "output_type": "display_data"
    },
    {
     "data": {
      "application/vnd.jupyter.widget-view+json": {
       "model_id": "21e73f88cf41497fa757be96d6e9922f",
       "version_major": 2,
       "version_minor": 0
      },
      "text/plain": [
       "Validation: |          | 0/? [00:00<?, ?it/s]"
      ]
     },
     "metadata": {},
     "output_type": "display_data"
    },
    {
     "data": {
      "application/vnd.jupyter.widget-view+json": {
       "model_id": "7a51829d07a6473f90ba33d3db7892e1",
       "version_major": 2,
       "version_minor": 0
      },
      "text/plain": [
       "Validation: |          | 0/? [00:00<?, ?it/s]"
      ]
     },
     "metadata": {},
     "output_type": "display_data"
    },
    {
     "data": {
      "application/vnd.jupyter.widget-view+json": {
       "model_id": "a969685f4e854950a44a1e1795240db0",
       "version_major": 2,
       "version_minor": 0
      },
      "text/plain": [
       "Validation: |          | 0/? [00:00<?, ?it/s]"
      ]
     },
     "metadata": {},
     "output_type": "display_data"
    },
    {
     "data": {
      "application/vnd.jupyter.widget-view+json": {
       "model_id": "970de6546271492a8467064d34bd1aa0",
       "version_major": 2,
       "version_minor": 0
      },
      "text/plain": [
       "Validation: |          | 0/? [00:00<?, ?it/s]"
      ]
     },
     "metadata": {},
     "output_type": "display_data"
    },
    {
     "data": {
      "application/vnd.jupyter.widget-view+json": {
       "model_id": "f1bfde26984b470eb3d734f62d6f1fd4",
       "version_major": 2,
       "version_minor": 0
      },
      "text/plain": [
       "Validation: |          | 0/? [00:00<?, ?it/s]"
      ]
     },
     "metadata": {},
     "output_type": "display_data"
    },
    {
     "data": {
      "application/vnd.jupyter.widget-view+json": {
       "model_id": "14ed50329c1a41e5b55f6682d5a914f6",
       "version_major": 2,
       "version_minor": 0
      },
      "text/plain": [
       "Validation: |          | 0/? [00:00<?, ?it/s]"
      ]
     },
     "metadata": {},
     "output_type": "display_data"
    },
    {
     "data": {
      "application/vnd.jupyter.widget-view+json": {
       "model_id": "4257fd26e2a74c80a52ba12f5657f957",
       "version_major": 2,
       "version_minor": 0
      },
      "text/plain": [
       "Validation: |          | 0/? [00:00<?, ?it/s]"
      ]
     },
     "metadata": {},
     "output_type": "display_data"
    },
    {
     "data": {
      "application/vnd.jupyter.widget-view+json": {
       "model_id": "edd46a5b242845a4877773f55d33d2e8",
       "version_major": 2,
       "version_minor": 0
      },
      "text/plain": [
       "Validation: |          | 0/? [00:00<?, ?it/s]"
      ]
     },
     "metadata": {},
     "output_type": "display_data"
    },
    {
     "data": {
      "application/vnd.jupyter.widget-view+json": {
       "model_id": "8db16e2a4c994ee4b33b7cfd19689d5f",
       "version_major": 2,
       "version_minor": 0
      },
      "text/plain": [
       "Validation: |          | 0/? [00:00<?, ?it/s]"
      ]
     },
     "metadata": {},
     "output_type": "display_data"
    },
    {
     "data": {
      "application/vnd.jupyter.widget-view+json": {
       "model_id": "b793df43021741b6800b419b4a994f76",
       "version_major": 2,
       "version_minor": 0
      },
      "text/plain": [
       "Validation: |          | 0/? [00:00<?, ?it/s]"
      ]
     },
     "metadata": {},
     "output_type": "display_data"
    },
    {
     "data": {
      "application/vnd.jupyter.widget-view+json": {
       "model_id": "d19549a547f84d7082b0d2f7d46118c3",
       "version_major": 2,
       "version_minor": 0
      },
      "text/plain": [
       "Validation: |          | 0/? [00:00<?, ?it/s]"
      ]
     },
     "metadata": {},
     "output_type": "display_data"
    },
    {
     "data": {
      "application/vnd.jupyter.widget-view+json": {
       "model_id": "3f193312ce2e484b95a18f233162d6f9",
       "version_major": 2,
       "version_minor": 0
      },
      "text/plain": [
       "Validation: |          | 0/? [00:00<?, ?it/s]"
      ]
     },
     "metadata": {},
     "output_type": "display_data"
    },
    {
     "data": {
      "application/vnd.jupyter.widget-view+json": {
       "model_id": "e9f10d5883a64ce0ae21985c8efa6350",
       "version_major": 2,
       "version_minor": 0
      },
      "text/plain": [
       "Validation: |          | 0/? [00:00<?, ?it/s]"
      ]
     },
     "metadata": {},
     "output_type": "display_data"
    },
    {
     "name": "stderr",
     "output_type": "stream",
     "text": [
      "c:\\Users\\fardin\\AppData\\Local\\Programs\\Python\\Python310\\lib\\site-packages\\lightning\\pytorch\\trainer\\call.py:58: Detected KeyboardInterrupt, attempting graceful shutdown...\n"
     ]
    }
   ],
   "source": [
    "model_manager.fit(datamodule=data_manager)"
   ]
  },
  {
   "cell_type": "code",
   "execution_count": 11,
   "metadata": {},
   "outputs": [
    {
     "name": "stdout",
     "output_type": "stream",
     "text": [
      "+---------------------------------+--------------------------------------------------------+-------------------------------------------------+----------+\n",
      "| Layer                           | Input Shape                                            | Output Shape                                    | #Param   |\n",
      "|---------------------------------+--------------------------------------------------------+-------------------------------------------------+----------|\n",
      "| HomogeneousDeepGraphEmbedding1  | [1143, 1143]                                           | [16, 1]                                         | 179,349  |\n",
      "| ├─(encoder)Sequential_9bd798    | [1143, 300], [2, 9344], [9344]                         | [1143, 128], [1143, 64], [1143, 32], [1143, 16] | 94,832   |\n",
      "| │    └─(module_0)GCNConv        | [1143, 300], [2, 9344], [9344]                         | [1143, 128]                                     | 38,528   |\n",
      "| │    └─(module_1)BatchNorm      | [1143, 128]                                            | [1143, 128]                                     | 256      |\n",
      "| │    │    └─(module)BatchNorm1d | [1143, 128]                                            | [1143, 128]                                     | 256      |\n",
      "| │    └─(module_2)ReLU           | [1143, 128]                                            | [1143, 128]                                     | --       |\n",
      "| │    └─(module_3)Dropout        | [1143, 128]                                            | [1143, 128]                                     | --       |\n",
      "| │    └─(module_4)GCNConv        | [1143, 128], [2, 9344], [9344]                         | [1143, 128]                                     | 16,512   |\n",
      "| │    └─(module_5)BatchNorm      | [1143, 128]                                            | [1143, 128]                                     | 256      |\n",
      "| │    │    └─(module)BatchNorm1d | [1143, 128]                                            | [1143, 128]                                     | 256      |\n",
      "| │    └─(module_6)ReLU           | [1143, 128]                                            | [1143, 128]                                     | --       |\n",
      "| │    └─(module_7)Dropout        | [1143, 128]                                            | [1143, 128]                                     | --       |\n",
      "| │    └─(module_8)GCNConv        | [1143, 128], [2, 9344], [9344]                         | [1143, 128]                                     | 16,512   |\n",
      "| │    └─(module_9)BatchNorm      | [1143, 128]                                            | [1143, 128]                                     | 256      |\n",
      "| │    │    └─(module)BatchNorm1d | [1143, 128]                                            | [1143, 128]                                     | 256      |\n",
      "| │    └─(module_10)ReLU          | [1143, 128]                                            | [1143, 128]                                     | --       |\n",
      "| │    └─(module_11)Dropout       | [1143, 128]                                            | [1143, 128]                                     | --       |\n",
      "| │    └─(module_12)GCNConv       | [1143, 128], [2, 9344], [9344]                         | [1143, 64]                                      | 8,256    |\n",
      "| │    └─(module_13)BatchNorm     | [1143, 64]                                             | [1143, 64]                                      | 128      |\n",
      "| │    │    └─(module)BatchNorm1d | [1143, 64]                                             | [1143, 64]                                      | 128      |\n",
      "| │    └─(module_14)ReLU          | [1143, 64]                                             | [1143, 64]                                      | --       |\n",
      "| │    └─(module_15)Dropout       | [1143, 64]                                             | [1143, 64]                                      | --       |\n",
      "| │    └─(module_16)GCNConv       | [1143, 64], [2, 9344], [9344]                          | [1143, 64]                                      | 4,160    |\n",
      "| │    └─(module_17)BatchNorm     | [1143, 64]                                             | [1143, 64]                                      | 128      |\n",
      "| │    │    └─(module)BatchNorm1d | [1143, 64]                                             | [1143, 64]                                      | 128      |\n",
      "| │    └─(module_18)ReLU          | [1143, 64]                                             | [1143, 64]                                      | --       |\n",
      "| │    └─(module_19)Dropout       | [1143, 64]                                             | [1143, 64]                                      | --       |\n",
      "| │    └─(module_20)GCNConv       | [1143, 64], [2, 9344], [9344]                          | [1143, 64]                                      | 4,160    |\n",
      "| │    └─(module_21)BatchNorm     | [1143, 64]                                             | [1143, 64]                                      | 128      |\n",
      "| │    │    └─(module)BatchNorm1d | [1143, 64]                                             | [1143, 64]                                      | 128      |\n",
      "| │    └─(module_22)ReLU          | [1143, 64]                                             | [1143, 64]                                      | --       |\n",
      "| │    └─(module_23)Dropout       | [1143, 64]                                             | [1143, 64]                                      | --       |\n",
      "| │    └─(module_24)GCNConv       | [1143, 64], [2, 9344], [9344]                          | [1143, 32]                                      | 2,080    |\n",
      "| │    └─(module_25)BatchNorm     | [1143, 32]                                             | [1143, 32]                                      | 64       |\n",
      "| │    │    └─(module)BatchNorm1d | [1143, 32]                                             | [1143, 32]                                      | 64       |\n",
      "| │    └─(module_26)ReLU          | [1143, 32]                                             | [1143, 32]                                      | --       |\n",
      "| │    └─(module_27)Dropout       | [1143, 32]                                             | [1143, 32]                                      | --       |\n",
      "| │    └─(module_28)GCNConv       | [1143, 32], [2, 9344], [9344]                          | [1143, 32]                                      | 1,056    |\n",
      "| │    └─(module_29)BatchNorm     | [1143, 32]                                             | [1143, 32]                                      | 64       |\n",
      "| │    │    └─(module)BatchNorm1d | [1143, 32]                                             | [1143, 32]                                      | 64       |\n",
      "| │    └─(module_30)ReLU          | [1143, 32]                                             | [1143, 32]                                      | --       |\n",
      "| │    └─(module_31)Dropout       | [1143, 32]                                             | [1143, 32]                                      | --       |\n",
      "| │    └─(module_32)GCNConv       | [1143, 32], [2, 9344], [9344]                          | [1143, 32]                                      | 1,056    |\n",
      "| │    └─(module_33)BatchNorm     | [1143, 32]                                             | [1143, 32]                                      | 64       |\n",
      "| │    │    └─(module)BatchNorm1d | [1143, 32]                                             | [1143, 32]                                      | 64       |\n",
      "| │    └─(module_34)ReLU          | [1143, 32]                                             | [1143, 32]                                      | --       |\n",
      "| │    └─(module_35)Dropout       | [1143, 32]                                             | [1143, 32]                                      | --       |\n",
      "| │    └─(module_36)GCNConv       | [1143, 32], [2, 9344], [9344]                          | [1143, 16]                                      | 528      |\n",
      "| │    └─(module_37)BatchNorm     | [1143, 16]                                             | [1143, 16]                                      | 32       |\n",
      "| │    │    └─(module)BatchNorm1d | [1143, 16]                                             | [1143, 16]                                      | 32       |\n",
      "| │    └─(module_38)ReLU          | [1143, 16]                                             | [1143, 16]                                      | --       |\n",
      "| │    └─(module_39)Dropout       | [1143, 16]                                             | [1143, 16]                                      | --       |\n",
      "| │    └─(module_40)GCNConv       | [1143, 16], [2, 9344], [9344]                          | [1143, 16]                                      | 272      |\n",
      "| │    └─(module_41)BatchNorm     | [1143, 16]                                             | [1143, 16]                                      | 32       |\n",
      "| │    │    └─(module)BatchNorm1d | [1143, 16]                                             | [1143, 16]                                      | 32       |\n",
      "| │    └─(module_42)ReLU          | [1143, 16]                                             | [1143, 16]                                      | --       |\n",
      "| │    └─(module_43)Dropout       | [1143, 16]                                             | [1143, 16]                                      | --       |\n",
      "| │    └─(module_44)GCNConv       | [1143, 16], [2, 9344], [9344]                          | [1143, 16]                                      | 272      |\n",
      "| │    └─(module_45)BatchNorm     | [1143, 16]                                             | [1143, 16]                                      | 32       |\n",
      "| │    │    └─(module)BatchNorm1d | [1143, 16]                                             | [1143, 16]                                      | 32       |\n",
      "| │    └─(module_46)ReLU          | [1143, 16]                                             | [1143, 16]                                      | --       |\n",
      "| ├─(attention)Sequential_9bdec4  | [1143, 32], [1143, 16], [2, 9344], [9344]              | [1143, 64], [1143, 32]                          | 7,904    |\n",
      "| │    └─(module_0)GATv2Conv      | [1143, 16], [2, 9344]                                  | [1143, 32]                                      | 1,152    |\n",
      "| │    └─(module_1)BatchNorm      | [1143, 32]                                             | [1143, 32]                                      | 64       |\n",
      "| │    │    └─(module)BatchNorm1d | [1143, 32]                                             | [1143, 32]                                      | 64       |\n",
      "| │    └─(module_2)ReLU           | [1143, 32]                                             | [1143, 32]                                      | --       |\n",
      "| │    └─(module_3)GCN2Conv       | [1143, 32], [1143, 32], [2, 9344], [9344]              | [1143, 32]                                      | 1,024    |\n",
      "| │    └─(module_4)BatchNorm      | [1143, 32]                                             | [1143, 32]                                      | 64       |\n",
      "| │    │    └─(module)BatchNorm1d | [1143, 32]                                             | [1143, 32]                                      | 64       |\n",
      "| │    └─(module_5)ReLU           | [1143, 32]                                             | [1143, 32]                                      | --       |\n",
      "| │    └─(module_6)GCNConv        | [1143, 32], [2, 9344], [9344]                          | [1143, 32]                                      | 1,056    |\n",
      "| │    └─(module_7)BatchNorm      | [1143, 32]                                             | [1143, 32]                                      | 64       |\n",
      "| │    │    └─(module)BatchNorm1d | [1143, 32]                                             | [1143, 32]                                      | 64       |\n",
      "| │    └─(module_8)ReLU           | [1143, 32]                                             | [1143, 32]                                      | --       |\n",
      "| │    └─(module_9)GATv2Conv      | [1143, 32], [2, 9344]                                  | [1143, 64]                                      | 4,352    |\n",
      "| │    └─(module_10)BatchNorm     | [1143, 64]                                             | [1143, 64]                                      | 128      |\n",
      "| │    │    └─(module)BatchNorm1d | [1143, 64]                                             | [1143, 64]                                      | 128      |\n",
      "| │    └─(module_11)ReLU          | [1143, 64]                                             | [1143, 64]                                      | --       |\n",
      "| ├─(decoder)Sequential_9be5f0    | [1143, 128], [1143, 64], [1143, 64], [2, 9344], [9344] | [1143, 128], [1143, 128], [1143, 64]            | 67,264   |\n",
      "| │    └─(module_0)GCN2Conv       | [1143, 64], [1143, 64], [2, 9344], [9344]              | [1143, 64]                                      | 4,096    |\n",
      "| │    └─(module_1)BatchNorm      | [1143, 64]                                             | [1143, 64]                                      | 128      |\n",
      "| │    │    └─(module)BatchNorm1d | [1143, 64]                                             | [1143, 64]                                      | 128      |\n",
      "| │    └─(module_2)ReLU           | [1143, 64]                                             | [1143, 64]                                      | --       |\n",
      "| │    └─(module_3)Dropout        | [1143, 64]                                             | [1143, 64]                                      | --       |\n",
      "| │    └─(module_4)GCNConv        | [1143, 64], [2, 9344], [9344]                          | [1143, 64]                                      | 4,160    |\n",
      "| │    └─(module_5)BatchNorm      | [1143, 64]                                             | [1143, 64]                                      | 128      |\n",
      "| │    │    └─(module)BatchNorm1d | [1143, 64]                                             | [1143, 64]                                      | 128      |\n",
      "| │    └─(module_6)ReLU           | [1143, 64]                                             | [1143, 64]                                      | --       |\n",
      "| │    └─(module_7)Dropout        | [1143, 64]                                             | [1143, 64]                                      | --       |\n",
      "| │    └─(module_8)GCNConv        | [1143, 64], [2, 9344]                                  | [1143, 128]                                     | 8,320    |\n",
      "| │    └─(module_9)BatchNorm      | [1143, 128]                                            | [1143, 128]                                     | 256      |\n",
      "| │    │    └─(module)BatchNorm1d | [1143, 128]                                            | [1143, 128]                                     | 256      |\n",
      "| │    └─(module_10)ReLU          | [1143, 128]                                            | [1143, 128]                                     | --       |\n",
      "| │    └─(module_11)Dropout       | [1143, 128]                                            | [1143, 128]                                     | --       |\n",
      "| │    └─(module_12)GCN2Conv      | [1143, 128], [1143, 128], [2, 9344], [9344]            | [1143, 128]                                     | 16,384   |\n",
      "| │    └─(module_13)BatchNorm     | [1143, 128]                                            | [1143, 128]                                     | 256      |\n",
      "| │    │    └─(module)BatchNorm1d | [1143, 128]                                            | [1143, 128]                                     | 256      |\n",
      "| │    └─(module_14)ReLU          | [1143, 128]                                            | [1143, 128]                                     | --       |\n",
      "| │    └─(module_15)Dropout       | [1143, 128]                                            | [1143, 128]                                     | --       |\n",
      "| │    └─(module_16)GCNConv       | [1143, 128], [2, 9344], [9344]                         | [1143, 128]                                     | 16,512   |\n",
      "| │    └─(module_17)BatchNorm     | [1143, 128]                                            | [1143, 128]                                     | 256      |\n",
      "| │    │    └─(module)BatchNorm1d | [1143, 128]                                            | [1143, 128]                                     | 256      |\n",
      "| │    └─(module_18)ReLU          | [1143, 128]                                            | [1143, 128]                                     | --       |\n",
      "| │    └─(module_19)Dropout       | [1143, 128]                                            | [1143, 128]                                     | --       |\n",
      "| │    └─(module_20)GCNConv       | [1143, 128], [2, 9344], [9344]                         | [1143, 128]                                     | 16,512   |\n",
      "| │    └─(module_21)BatchNorm     | [1143, 128]                                            | [1143, 128]                                     | 256      |\n",
      "| │    │    └─(module)BatchNorm1d | [1143, 128]                                            | [1143, 128]                                     | 256      |\n",
      "| │    └─(module_22)ReLU          | [1143, 128]                                            | [1143, 128]                                     | --       |\n",
      "| │    └─(module_23)Dropout       | [1143, 128]                                            | [1143, 128]                                     | --       |\n",
      "| ├─(mem_pool)MemPooling          | [1143, 128], [1143]                                    | [16, 2, 64], [16, 108, 2]                       | 9,220    |\n",
      "| │    └─(conv)Conv2d             | [16, 4, 108, 2]                                        | [16, 1, 108, 2]                                 | 4        |\n",
      "| │    └─(lin)Linear              | [16, 2, 128]                                           | [16, 2, 64]                                     | 8,192    |\n",
      "| ├─(output_layer)Linear          | [16, 128]                                              | [16, 1]                                         | 129      |\n",
      "+---------------------------------+--------------------------------------------------------+-------------------------------------------------+----------+\n"
     ]
    }
   ],
   "source": [
    "model_manager.draw_summary(t_dataloader)"
   ]
  },
  {
   "cell_type": "code",
   "execution_count": 12,
   "metadata": {},
   "outputs": [
    {
     "data": {
      "image/png": "[encoded data removed]",
      "text/plain": [
       "<Figure size 640x480 with 1 Axes>"
      ]
     },
     "metadata": {},
     "output_type": "display_data"
    },
    {
     "data": {
      "image/png": "[encoded data removed]",
      "text/plain": [
       "<Figure size 640x480 with 1 Axes>"
      ]
     },
     "metadata": {},
     "output_type": "display_data"
    }
   ],
   "source": [
    "model_manager.plot_csv_logger(loss_names=['train_loss_epoch', 'val_loss_epoch'], eval_names=['train_acc_epoch', 'val_acc_epoch'])"
   ]
  },
  {
   "cell_type": "code",
   "execution_count": 14,
   "metadata": {},
   "outputs": [
    {
     "name": "stdout",
     "output_type": "stream",
     "text": [
      "confusion_matrix: \n",
      "[[8916 1927]\n",
      " [1371 9786]]\n",
      "              precision    recall  f1-score   support\n",
      "\n",
      "           0       0.87      0.82      0.84     10843\n",
      "           1       0.84      0.88      0.86     11157\n",
      "\n",
      "    accuracy                           0.85     22000\n",
      "   macro avg       0.85      0.85      0.85     22000\n",
      "weighted avg       0.85      0.85      0.85     22000\n",
      "\n",
      "accuracy_score: 0.8500909090909091\n",
      "hinge_loss: 0.6427727272727273\n"
     ]
    }
   ],
   "source": [
    "model_manager.evaluate(data_manager.test_dataloader(), give_accuracy_score=True, give_hinge_loss=True)"
   ]
  },
  {
   "cell_type": "code",
   "execution_count": 15,
   "metadata": {},
   "outputs": [
    {
     "data": {
      "text/plain": [
       "'logs/hetero_model_6\\\\version_9\\\\checkpoints\\\\epoch=30-step=127875.ckpt'"
      ]
     },
     "execution_count": 15,
     "metadata": {},
     "output_type": "execute_result"
    }
   ],
   "source": [
    "model_manager.trainer.checkpoint_callback.best_model_path"
   ]
  },
  {
   "cell_type": "code",
   "execution_count": null,
   "metadata": {},
   "outputs": [],
   "source": []
  }
 ],
 "metadata": {
  "kernelspec": {
   "display_name": "Python 3",
   "language": "python",
   "name": "python3"
  },
  "language_info": {
   "codemirror_mode": {
    "name": "ipython",
    "version": 3
   },
   "file_extension": ".py",
   "mimetype": "text/x-python",
   "name": "python",
   "nbconvert_exporter": "python",
   "pygments_lexer": "ipython3",
   "version": "3.10.11"
  }
 },
 "nbformat": 4,
 "nbformat_minor": 2
}
