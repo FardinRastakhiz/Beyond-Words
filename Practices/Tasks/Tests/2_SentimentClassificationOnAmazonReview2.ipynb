{
 "cells": [
  {
   "cell_type": "markdown",
   "metadata": {},
   "source": [
    "# Test Sentiment Classification\n",
    "### On Amazon-Review, Full Heterogeneous Graph"
   ]
  },
  {
   "cell_type": "code",
   "execution_count": 3,
   "metadata": {},
   "outputs": [
    {
     "name": "stderr",
     "output_type": "stream",
     "text": [
      "c:\\Users\\fardin\\AppData\\Local\\Programs\\Python\\Python310\\lib\\site-packages\\torchaudio\\backend\\utils.py:74: UserWarning: No audio backend is available.\n",
      "  warnings.warn(\"No audio backend is available.\")\n"
     ]
    }
   ],
   "source": [
    "import numpy as np\n",
    "from Scripts.Configs.ConfigClass import Config\n",
    "from Scripts.DataManager.GraphConstructor.GraphConstructor import TextGraphType\n",
    "from lightning.pytorch.loggers import CSVLogger\n",
    "import os\n",
    "from Scripts.DataManager.GraphLoader.AmazonReviewGraphDataModule import AmazonReviewGraphDataModule\n",
    "import time\n",
    "import torch"
   ]
  },
  {
   "cell_type": "code",
   "execution_count": 5,
   "metadata": {},
   "outputs": [],
   "source": [
    "config = Config(r'C:\\Users\\fardin\\Projects\\ColorIntelligence')\n",
    "os.environ['CUDA_LAUNCH_BLOCKING'] = \"1\"\n",
    "device = 'cuda'\n",
    "batch_size = 16"
   ]
  },
  {
   "cell_type": "code",
   "execution_count": 18,
   "metadata": {},
   "outputs": [
    {
     "name": "stdout",
     "output_type": "stream",
     "text": [
      "filename: C:\\Users\\fardin\\Projects\\ColorIntelligence\\data/GraphData/AmazonReview\\sentiment\\graph_var.txt\n"
     ]
    },
    {
     "name": "stderr",
     "output_type": "stream",
     "text": [
      " Loding Graphs From File : 100%|██████████| 110/110 [20:07<00:00, 10.98s/it]"
     ]
    },
    {
     "name": "stdout",
     "output_type": "stream",
     "text": [
      "self.shuffle: False\n"
     ]
    },
    {
     "name": "stderr",
     "output_type": "stream",
     "text": [
      "\n"
     ]
    }
   ],
   "source": [
    "# tag_dep_seq_sent = TextGraphType.TAGS | TextGraphType.DEPENDENCY | TextGraphType.SEQUENTIAL | TextGraphType.SENTENCE | TextGraphType.SENTIMENT\n",
    "tag_dep_seq_sent = TextGraphType.SENTIMENT\n",
    "data_manager = AmazonReviewGraphDataModule(config, True, True, shuffle=False, start_data_load=0 , end_data_load = -1, device='cpu', batch_size=batch_size, graph_type=tag_dep_seq_sent, load_preprocessed_data = True)\n",
    "data_manager.load_labels()\n",
    "data_manager.load_graphs()"
   ]
  },
  {
   "cell_type": "code",
   "execution_count": 7,
   "metadata": {},
   "outputs": [
    {
     "data": {
      "text/plain": [
       "16"
      ]
     },
     "execution_count": 7,
     "metadata": {},
     "output_type": "execute_result"
    }
   ],
   "source": [
    "# data_manager.update_batch_size(128)\n",
    "t_dataloader = data_manager.train_dataloader()\n",
    "v_dataloader = data_manager.val_dataloader()\n",
    "X1, y1 = next(iter(t_dataloader))\n",
    "X2, y2 = next(iter(v_dataloader))\n",
    "# X1.metadata()\n",
    "len(X1)"
   ]
  },
  {
   "cell_type": "code",
   "execution_count": 8,
   "metadata": {},
   "outputs": [],
   "source": [
    "from Scripts.Models.GraphEmbedding.HeteroDeepGraphEmbedding1 import HeteroDeepGraphEmbedding1"
   ]
  },
  {
   "cell_type": "code",
   "execution_count": 9,
   "metadata": {},
   "outputs": [],
   "source": [
    "from Scripts.Models.LightningModels.LightningModels import HeteroBinaryLightningModel\n",
    "from Scripts.Models.LossFunctions.HeteroLossFunctions import HeteroLossArgs, HeteroLoss1, HeteroLoss2\n",
    "from lightning.pytorch.callbacks import EarlyStopping, ModelCheckpoint\n",
    "from Scripts.Models.ModelsManager.ClassifierModelManager import ClassifierModelManager"
   ]
  },
  {
   "cell_type": "code",
   "execution_count": 10,
   "metadata": {},
   "outputs": [],
   "source": [
    "graph_embedding = HeteroDeepGraphEmbedding1(300, 1, X1.metadata(), 128, dropout=0.2, edge_type_count=11)\n",
    "graph_embedding = graph_embedding.to(device)"
   ]
  },
  {
   "cell_type": "code",
   "execution_count": 11,
   "metadata": {},
   "outputs": [
    {
     "name": "stderr",
     "output_type": "stream",
     "text": [
      "c:\\Users\\fardin\\AppData\\Local\\Programs\\Python\\Python310\\lib\\site-packages\\lightning\\pytorch\\utilities\\parsing.py:198: Attribute 'model' is an instance of `nn.Module` and is already saved during checkpointing. It is recommended to ignore them using `self.save_hyperparameters(ignore=['model'])`.\n"
     ]
    },
    {
     "name": "stderr",
     "output_type": "stream",
     "text": [
      "GPU available: True (cuda), used: True\n",
      "TPU available: False, using: 0 TPU cores\n",
      "IPU available: False, using: 0 IPUs\n",
      "HPU available: False, using: 0 HPUs\n"
     ]
    }
   ],
   "source": [
    "\n",
    "callbacks = [\n",
    "    ModelCheckpoint(save_top_k=5, mode='max', monitor='val_acc', save_last=True)\n",
    "    ]\n",
    "lightning_model = HeteroBinaryLightningModel(graph_embedding,\n",
    "                                 torch.optim.Adam(graph_embedding.parameters(), lr=0.003, weight_decay=0.001),\n",
    "                                       loss_func=HeteroLoss1(exception_keys=['word'], enc_factor=0.03),\n",
    "                                       learning_rate=0.003,\n",
    "                                       batch_size=batch_size,\n",
    "                                       user_lr_scheduler=True,\n",
    "                                       min_lr=0.00005\n",
    "                                       ).to(device)\n",
    "model_manager = ClassifierModelManager(graph_embedding, lightning_model, log_name='hetero_model_6', model_save_dir=r'C:\\Users\\fardin\\Projects\\ColorIntelligence\\Practices\\Tasks\\HeterogeneousGraphs\\hetero_model_3',device=device, num_train_epoch=50)"
   ]
  },
  {
   "cell_type": "code",
   "execution_count": 12,
   "metadata": {},
   "outputs": [
    {
     "data": {
      "text/plain": [
       "(['dep', 'tag', 'word', 'sentence', 'general', 'sentiment'],\n",
       " [('dep', 'dep_word', 'word'),\n",
       "  ('word', 'word_dep', 'dep'),\n",
       "  ('tag', 'tag_word', 'word'),\n",
       "  ('word', 'word_tag', 'tag'),\n",
       "  ('word', 'seq', 'word'),\n",
       "  ('general', 'general_sentence', 'sentence'),\n",
       "  ('sentence', 'sentence_general', 'general'),\n",
       "  ('word', 'word_sentence', 'sentence'),\n",
       "  ('sentence', 'sentence_word', 'word'),\n",
       "  ('word', 'word_sentiment', 'sentiment'),\n",
       "  ('sentiment', 'sentiment_word', 'word')])"
      ]
     },
     "execution_count": 12,
     "metadata": {},
     "output_type": "execute_result"
    }
   ],
   "source": [
    "X1.metadata()"
   ]
  },
  {
   "cell_type": "code",
   "execution_count": 16,
   "metadata": {},
   "outputs": [],
   "source": [
    "def print_sentiment_edges(X):\n",
    "    print(X.edge_index_dict[('word', 'word_sentiment', 'sentiment')].dtype)"
   ]
  },
  {
   "cell_type": "code",
   "execution_count": 19,
   "metadata": {},
   "outputs": [
    {
     "name": "stdout",
     "output_type": "stream",
     "text": [
      "torch.int64\n",
      "torch.int64\n",
      "torch.int64\n",
      "torch.int64\n",
      "torch.int64\n",
      "torch.int64\n",
      "torch.int64\n",
      "torch.int64\n",
      "torch.int64\n",
      "torch.int64\n",
      "torch.int64\n",
      "torch.int64\n",
      "torch.int64\n",
      "torch.int64\n",
      "torch.int64\n",
      "torch.int64\n",
      "torch.int64\n",
      "torch.int64\n",
      "torch.int64\n",
      "torch.int64\n",
      "torch.int64\n",
      "torch.int64\n",
      "torch.int64\n",
      "torch.int64\n",
      "torch.int64\n",
      "torch.int64\n",
      "torch.int64\n",
      "torch.int64\n",
      "torch.int64\n",
      "torch.int64\n",
      "torch.int64\n",
      "torch.int64\n",
      "torch.int64\n",
      "torch.int64\n",
      "torch.int64\n",
      "torch.int64\n",
      "torch.int64\n",
      "torch.int64\n",
      "torch.int64\n",
      "torch.int64\n",
      "torch.int64\n",
      "torch.int64\n",
      "torch.int64\n",
      "torch.int64\n",
      "torch.int64\n",
      "torch.int64\n",
      "torch.int64\n",
      "torch.int64\n",
      "torch.int64\n",
      "torch.int64\n",
      "torch.int64\n",
      "torch.int64\n",
      "torch.int64\n",
      "torch.int64\n",
      "torch.int64\n",
      "torch.int64\n",
      "torch.int64\n",
      "torch.int64\n",
      "torch.int64\n",
      "torch.int64\n",
      "torch.int64\n",
      "torch.int64\n",
      "torch.int64\n",
      "torch.int64\n",
      "torch.int64\n",
      "torch.int64\n",
      "torch.int64\n",
      "torch.int64\n",
      "torch.int64\n",
      "torch.int64\n",
      "torch.int64\n",
      "torch.int64\n",
      "torch.int64\n",
      "torch.int64\n",
      "torch.int64\n",
      "torch.int64\n",
      "torch.int64\n",
      "torch.int64\n",
      "torch.int64\n",
      "torch.int64\n",
      "torch.int64\n",
      "torch.int64\n",
      "torch.int64\n",
      "torch.int64\n",
      "torch.int64\n",
      "torch.int64\n"
     ]
    },
    {
     "ename": "KeyError",
     "evalue": "('word', 'word_sentiment', 'sentiment')",
     "output_type": "error",
     "traceback": [
      "\u001b[1;31m---------------------------------------------------------------------------\u001b[0m",
      "\u001b[1;31mKeyError\u001b[0m                                  Traceback (most recent call last)",
      "\u001b[1;32mc:\\Users\\fardin\\Projects\\ColorIntelligence\\Practices\\Tasks\\Tests\\2_SentimentClassificationOnAmazonReview2.ipynb Cell 12\u001b[0m line \u001b[0;36m4\n\u001b[0;32m      <a href='vscode-notebook-cell:/c%3A/Users/fardin/Projects/ColorIntelligence/Practices/Tasks/Tests/2_SentimentClassificationOnAmazonReview2.ipynb#X35sZmlsZQ%3D%3D?line=1'>2</a>\u001b[0m v_dataloader \u001b[39m=\u001b[39m data_manager\u001b[39m.\u001b[39mval_dataloader()\n\u001b[0;32m      <a href='vscode-notebook-cell:/c%3A/Users/fardin/Projects/ColorIntelligence/Practices/Tasks/Tests/2_SentimentClassificationOnAmazonReview2.ipynb#X35sZmlsZQ%3D%3D?line=2'>3</a>\u001b[0m \u001b[39mfor\u001b[39;00m X, y \u001b[39min\u001b[39;00m t_dataloader:\n\u001b[1;32m----> <a href='vscode-notebook-cell:/c%3A/Users/fardin/Projects/ColorIntelligence/Practices/Tasks/Tests/2_SentimentClassificationOnAmazonReview2.ipynb#X35sZmlsZQ%3D%3D?line=3'>4</a>\u001b[0m     print_sentiment_edges(X)\n\u001b[0;32m      <a href='vscode-notebook-cell:/c%3A/Users/fardin/Projects/ColorIntelligence/Practices/Tasks/Tests/2_SentimentClassificationOnAmazonReview2.ipynb#X35sZmlsZQ%3D%3D?line=5'>6</a>\u001b[0m \u001b[39mfor\u001b[39;00m X, y \u001b[39min\u001b[39;00m v_dataloader:\n\u001b[0;32m      <a href='vscode-notebook-cell:/c%3A/Users/fardin/Projects/ColorIntelligence/Practices/Tasks/Tests/2_SentimentClassificationOnAmazonReview2.ipynb#X35sZmlsZQ%3D%3D?line=6'>7</a>\u001b[0m     print_sentiment_edges(X)\n",
      "\u001b[1;32mc:\\Users\\fardin\\Projects\\ColorIntelligence\\Practices\\Tasks\\Tests\\2_SentimentClassificationOnAmazonReview2.ipynb Cell 12\u001b[0m line \u001b[0;36m2\n\u001b[0;32m      <a href='vscode-notebook-cell:/c%3A/Users/fardin/Projects/ColorIntelligence/Practices/Tasks/Tests/2_SentimentClassificationOnAmazonReview2.ipynb#X35sZmlsZQ%3D%3D?line=0'>1</a>\u001b[0m \u001b[39mdef\u001b[39;00m \u001b[39mprint_sentiment_edges\u001b[39m(X):\n\u001b[1;32m----> <a href='vscode-notebook-cell:/c%3A/Users/fardin/Projects/ColorIntelligence/Practices/Tasks/Tests/2_SentimentClassificationOnAmazonReview2.ipynb#X35sZmlsZQ%3D%3D?line=1'>2</a>\u001b[0m     \u001b[39mprint\u001b[39m(X\u001b[39m.\u001b[39;49medge_index_dict[(\u001b[39m'\u001b[39;49m\u001b[39mword\u001b[39;49m\u001b[39m'\u001b[39;49m, \u001b[39m'\u001b[39;49m\u001b[39mword_sentiment\u001b[39;49m\u001b[39m'\u001b[39;49m, \u001b[39m'\u001b[39;49m\u001b[39msentiment\u001b[39;49m\u001b[39m'\u001b[39;49m)]\u001b[39m.\u001b[39mdtype)\n",
      "\u001b[1;31mKeyError\u001b[0m: ('word', 'word_sentiment', 'sentiment')"
     ]
    }
   ],
   "source": [
    "t_dataloader = data_manager.train_dataloader()\n",
    "v_dataloader = data_manager.val_dataloader()\n",
    "for X, y in t_dataloader:\n",
    "    print_sentiment_edges(X)\n",
    "    \n",
    "for X, y in v_dataloader:\n",
    "    print_sentiment_edges(X)"
   ]
  },
  {
   "cell_type": "code",
   "execution_count": 15,
   "metadata": {},
   "outputs": [
    {
     "name": "stderr",
     "output_type": "stream",
     "text": [
      "You are using a CUDA device ('NVIDIA GeForce RTX 3080') that has Tensor Cores. To properly utilize them, you should set `torch.set_float32_matmul_precision('medium' | 'high')` which will trade-off precision for performance. For more details, read https://pytorch.org/docs/stable/generated/torch.set_float32_matmul_precision.html#torch.set_float32_matmul_precision\n",
      "LOCAL_RANK: 0 - CUDA_VISIBLE_DEVICES: [0]\n",
      "\n",
      "  | Name      | Type                      | Params\n",
      "--------------------------------------------------------\n",
      "0 | model     | HeteroDeepGraphEmbedding1 | 2.2 M \n",
      "1 | loss_func | HeteroLoss1               | 0     \n",
      "2 | train_acc | BinaryAccuracy            | 0     \n",
      "3 | val_acc   | BinaryAccuracy            | 0     \n",
      "4 | test_acc  | BinaryAccuracy            | 0     \n",
      "--------------------------------------------------------\n",
      "2.2 M     Trainable params\n",
      "0         Non-trainable params\n",
      "2.2 M     Total params\n",
      "8.829     Total estimated model params size (MB)\n"
     ]
    },
    {
     "name": "stdout",
     "output_type": "stream",
     "text": [
      "bbbb\n"
     ]
    },
    {
     "name": "stderr",
     "output_type": "stream",
     "text": [
      "c:\\Users\\fardin\\AppData\\Local\\Programs\\Python\\Python310\\lib\\site-packages\\lightning\\pytorch\\trainer\\connectors\\data_connector.py:441: The 'train_dataloader' does not have many workers which may be a bottleneck. Consider increasing the value of the `num_workers` argument` to `num_workers=7` in the `DataLoader` to improve performance.\n",
      "c:\\Users\\fardin\\AppData\\Local\\Programs\\Python\\Python310\\lib\\site-packages\\lightning\\pytorch\\loops\\fit_loop.py:293: The number of training batches (37) is smaller than the logging interval Trainer(log_every_n_steps=50). Set a lower value for log_every_n_steps if you want to see logs for the training epoch.\n",
      "c:\\Users\\fardin\\AppData\\Local\\Programs\\Python\\Python310\\lib\\site-packages\\lightning\\pytorch\\trainer\\connectors\\data_connector.py:441: The 'val_dataloader' does not have many workers which may be a bottleneck. Consider increasing the value of the `num_workers` argument` to `num_workers=7` in the `DataLoader` to improve performance.\n"
     ]
    },
    {
     "data": {
      "application/vnd.jupyter.widget-view+json": {
       "model_id": "3fd1055794ec45a49b2e41992d413952",
       "version_major": 2,
       "version_minor": 0
      },
      "text/plain": [
       "Training: |          | 0/? [00:00<?, ?it/s]"
      ]
     },
     "metadata": {},
     "output_type": "display_data"
    },
    {
     "data": {
      "application/vnd.jupyter.widget-view+json": {
       "model_id": "df08dc4cc49b4cb9ab92d3889f3106d1",
       "version_major": 2,
       "version_minor": 0
      },
      "text/plain": [
       "Validation: |          | 0/? [00:00<?, ?it/s]"
      ]
     },
     "metadata": {},
     "output_type": "display_data"
    },
    {
     "name": "stderr",
     "output_type": "stream",
     "text": [
      "c:\\Users\\fardin\\AppData\\Local\\Programs\\Python\\Python310\\lib\\site-packages\\lightning\\pytorch\\trainer\\call.py:58: Detected KeyboardInterrupt, attempting graceful shutdown...\n"
     ]
    }
   ],
   "source": [
    "model_manager.fit(datamodule=data_manager)"
   ]
  },
  {
   "cell_type": "code",
   "execution_count": null,
   "metadata": {},
   "outputs": [
    {
     "name": "stdout",
     "output_type": "stream",
     "text": [
      "+------------------------------------------------------------+--------------------------------+----------------------------+-----------+\n",
      "| Layer                                                      | Input Shape                    | Output Shape               | #Param    |\n",
      "|------------------------------------------------------------+--------------------------------+----------------------------+-----------|\n",
      "| HeteroDeepGraphEmbedding1                                  | [3442, 3442]                   | [16, 1]                    | 2,207,246 |\n",
      "| ├─(part_weight_norm)LayerNorm                              | [11]                           | [11]                       | 22        |\n",
      "| ├─(norm)PairNorm                                           | --                             | --                         | --        |\n",
      "| ├─(drop)Dropout                                            | --                             | --                         | --        |\n",
      "| ├─(hetero_linear_1)GraphModule                             |                                |                            | 231,424   |\n",
      "| │    └─(linear)ModuleDict                                  | --                             | --                         | 231,168   |\n",
      "| │    │    └─(dep)Linear                                    | [720, 300]                     | [720, 128]                 | 38,528    |\n",
      "| │    │    └─(tag)Linear                                    | [800, 300]                     | [800, 128]                 | 38,528    |\n",
      "| │    │    └─(word)Linear                                   | [1781, 300]                    | [1781, 128]                | 38,528    |\n",
      "| │    │    └─(sentence)Linear                               | [93, 300]                      | [93, 128]                  | 38,528    |\n",
      "| │    │    └─(general)Linear                                | [16, 300]                      | [16, 128]                  | 38,528    |\n",
      "| │    │    └─(sentiment)Linear                              | [32, 300]                      | [32, 128]                  | 38,528    |\n",
      "| │    └─(dropout)ModuleDict                                 | --                             | --                         | --        |\n",
      "| │    │    └─(dep)Dropout                                   | [720, 128]                     | [720, 128]                 | --        |\n",
      "| │    │    └─(tag)Dropout                                   | [800, 128]                     | [800, 128]                 | --        |\n",
      "| │    │    └─(word)Dropout                                  | [1781, 128]                    | [1781, 128]                | --        |\n",
      "| │    │    └─(sentence)Dropout                              | [93, 128]                      | [93, 128]                  | --        |\n",
      "| │    │    └─(general)Dropout                               | [16, 128]                      | [16, 128]                  | --        |\n",
      "| │    │    └─(sentiment)Dropout                             | [32, 128]                      | [32, 128]                  | --        |\n",
      "| │    └─(batch_norm)BatchNorm                               | --                             | --                         | 256       |\n",
      "| │    │    └─(module)BatchNorm1d                            | --                             | --                         | 256       |\n",
      "| ├─(hetero_gat_1)GraphModule                                |                                |                            | 369,024   |\n",
      "| │    └─(conv1)ModuleDict                                   | --                             | --                         | 367,488   |\n",
      "| │    │    └─(dep__dep_word__word)GATv2Conv                 | [2, 1688], [1688]              | [1781, 128]                | 33,408    |\n",
      "| │    │    └─(word__word_dep__dep)GATv2Conv                 | [2, 1688], [1688]              | [720, 128]                 | 33,408    |\n",
      "| │    │    └─(tag__tag_word__word)GATv2Conv                 | [2, 1781], [1781]              | [1781, 128]                | 33,408    |\n",
      "| │    │    └─(word__word_tag__tag)GATv2Conv                 | [2, 1781], [1781]              | [800, 128]                 | 33,408    |\n",
      "| │    │    └─(word__seq__word)GATv2Conv                     | [1781, 128], [2, 3530], [3530] | [1781, 128]                | 33,408    |\n",
      "| │    │    └─(general__general_sentence__sentence)GATv2Conv | [2, 93], [93]                  | [93, 128]                  | 33,408    |\n",
      "| │    │    └─(sentence__sentence_general__general)GATv2Conv | [2, 93], [93]                  | [16, 128]                  | 33,408    |\n",
      "| │    │    └─(word__word_sentence__sentence)GATv2Conv       | [2, 1781], [1781]              | [93, 128]                  | 33,408    |\n",
      "| │    │    └─(sentence__sentence_word__word)GATv2Conv       | [2, 1781], [1781]              | [1781, 128]                | 33,408    |\n",
      "| │    │    └─(word__word_sentiment__sentiment)GATv2Conv     | [2, 147], [147]                | [32, 128]                  | 33,408    |\n",
      "| │    │    └─(sentiment__sentiment_word__word)GATv2Conv     | [2, 147], [147]                | [1781, 128]                | 33,408    |\n",
      "| │    └─(batch_norm)ModuleDict                              | --                             | --                         | 1,536     |\n",
      "| │    │    └─(dep)BatchNorm                                 | [720, 128]                     | [720, 128]                 | 256       |\n",
      "| │    │    └─(tag)BatchNorm                                 | [800, 128]                     | [800, 128]                 | 256       |\n",
      "| │    │    └─(word)BatchNorm                                | [1781, 128]                    | [1781, 128]                | 256       |\n",
      "| │    │    └─(sentence)BatchNorm                            | [93, 128]                      | [93, 128]                  | 256       |\n",
      "| │    │    └─(general)BatchNorm                             | [16, 128]                      | [16, 128]                  | 256       |\n",
      "| │    │    └─(sentiment)BatchNorm                           | [32, 128]                      | [32, 128]                  | 256       |\n",
      "| │    └─(dropout)ModuleDict                                 | --                             | --                         | --        |\n",
      "| │    │    └─(dep)Dropout                                   | [720, 128]                     | [720, 128]                 | --        |\n",
      "| │    │    └─(tag)Dropout                                   | [800, 128]                     | [800, 128]                 | --        |\n",
      "| │    │    └─(word)Dropout                                  | [1781, 128]                    | [1781, 128]                | --        |\n",
      "| │    │    └─(sentence)Dropout                              | [93, 128]                      | [93, 128]                  | --        |\n",
      "| │    │    └─(general)Dropout                               | [16, 128]                      | [16, 128]                  | --        |\n",
      "| │    │    └─(sentiment)Dropout                             | [32, 128]                      | [32, 128]                  | --        |\n",
      "| ├─(hetero_gat_2)GraphModule                                |                                |                            | 369,024   |\n",
      "| │    └─(conv1)ModuleDict                                   | --                             | --                         | 367,488   |\n",
      "| │    │    └─(dep__dep_word__word)GATv2Conv                 | [2, 1688], [1688]              | [1781, 128]                | 33,408    |\n",
      "| │    │    └─(word__word_dep__dep)GATv2Conv                 | [2, 1688], [1688]              | [720, 128]                 | 33,408    |\n",
      "| │    │    └─(tag__tag_word__word)GATv2Conv                 | [2, 1781], [1781]              | [1781, 128]                | 33,408    |\n",
      "| │    │    └─(word__word_tag__tag)GATv2Conv                 | [2, 1781], [1781]              | [800, 128]                 | 33,408    |\n",
      "| │    │    └─(word__seq__word)GATv2Conv                     | [1781, 128], [2, 3530], [3530] | [1781, 128]                | 33,408    |\n",
      "| │    │    └─(general__general_sentence__sentence)GATv2Conv | [2, 93], [93]                  | [93, 128]                  | 33,408    |\n",
      "| │    │    └─(sentence__sentence_general__general)GATv2Conv | [2, 93], [93]                  | [16, 128]                  | 33,408    |\n",
      "| │    │    └─(word__word_sentence__sentence)GATv2Conv       | [2, 1781], [1781]              | [93, 128]                  | 33,408    |\n",
      "| │    │    └─(sentence__sentence_word__word)GATv2Conv       | [2, 1781], [1781]              | [1781, 128]                | 33,408    |\n",
      "| │    │    └─(word__word_sentiment__sentiment)GATv2Conv     | [2, 147], [147]                | [32, 128]                  | 33,408    |\n",
      "| │    │    └─(sentiment__sentiment_word__word)GATv2Conv     | [2, 147], [147]                | [1781, 128]                | 33,408    |\n",
      "| │    └─(batch_norm)ModuleDict                              | --                             | --                         | 1,536     |\n",
      "| │    │    └─(dep)BatchNorm                                 | [720, 128]                     | [720, 128]                 | 256       |\n",
      "| │    │    └─(tag)BatchNorm                                 | [800, 128]                     | [800, 128]                 | 256       |\n",
      "| │    │    └─(word)BatchNorm                                | [1781, 128]                    | [1781, 128]                | 256       |\n",
      "| │    │    └─(sentence)BatchNorm                            | [93, 128]                      | [93, 128]                  | 256       |\n",
      "| │    │    └─(general)BatchNorm                             | [16, 128]                      | [16, 128]                  | 256       |\n",
      "| │    │    └─(sentiment)BatchNorm                           | [32, 128]                      | [32, 128]                  | 256       |\n",
      "| │    └─(dropout)ModuleDict                                 | --                             | --                         | --        |\n",
      "| │    │    └─(dep)Dropout                                   | [720, 128]                     | [720, 128]                 | --        |\n",
      "| │    │    └─(tag)Dropout                                   | [800, 128]                     | [800, 128]                 | --        |\n",
      "| │    │    └─(word)Dropout                                  | [1781, 128]                    | [1781, 128]                | --        |\n",
      "| │    │    └─(sentence)Dropout                              | [93, 128]                      | [93, 128]                  | --        |\n",
      "| │    │    └─(general)Dropout                               | [16, 128]                      | [16, 128]                  | --        |\n",
      "| │    │    └─(sentiment)Dropout                             | [32, 128]                      | [32, 128]                  | --        |\n",
      "| ├─(hetero_gat_3)GraphModule                                |                                |                            | 369,024   |\n",
      "| │    └─(conv1)ModuleDict                                   | --                             | --                         | 367,488   |\n",
      "| │    │    └─(dep__dep_word__word)GATv2Conv                 | [2, 1688], [1688]              | [1781, 128]                | 33,408    |\n",
      "| │    │    └─(word__word_dep__dep)GATv2Conv                 | [2, 1688], [1688]              | [720, 128]                 | 33,408    |\n",
      "| │    │    └─(tag__tag_word__word)GATv2Conv                 | [2, 1781], [1781]              | [1781, 128]                | 33,408    |\n",
      "| │    │    └─(word__word_tag__tag)GATv2Conv                 | [2, 1781], [1781]              | [800, 128]                 | 33,408    |\n",
      "| │    │    └─(word__seq__word)GATv2Conv                     | [1781, 128], [2, 3530], [3530] | [1781, 128]                | 33,408    |\n",
      "| │    │    └─(general__general_sentence__sentence)GATv2Conv | [2, 93], [93]                  | [93, 128]                  | 33,408    |\n",
      "| │    │    └─(sentence__sentence_general__general)GATv2Conv | [2, 93], [93]                  | [16, 128]                  | 33,408    |\n",
      "| │    │    └─(word__word_sentence__sentence)GATv2Conv       | [2, 1781], [1781]              | [93, 128]                  | 33,408    |\n",
      "| │    │    └─(sentence__sentence_word__word)GATv2Conv       | [2, 1781], [1781]              | [1781, 128]                | 33,408    |\n",
      "| │    │    └─(word__word_sentiment__sentiment)GATv2Conv     | [2, 147], [147]                | [32, 128]                  | 33,408    |\n",
      "| │    │    └─(sentiment__sentiment_word__word)GATv2Conv     | [2, 147], [147]                | [1781, 128]                | 33,408    |\n",
      "| │    └─(batch_norm)ModuleDict                              | --                             | --                         | 1,536     |\n",
      "| │    │    └─(dep)BatchNorm                                 | [720, 128]                     | [720, 128]                 | 256       |\n",
      "| │    │    └─(tag)BatchNorm                                 | [800, 128]                     | [800, 128]                 | 256       |\n",
      "| │    │    └─(word)BatchNorm                                | [1781, 128]                    | [1781, 128]                | 256       |\n",
      "| │    │    └─(sentence)BatchNorm                            | [93, 128]                      | [93, 128]                  | 256       |\n",
      "| │    │    └─(general)BatchNorm                             | [16, 128]                      | [16, 128]                  | 256       |\n",
      "| │    │    └─(sentiment)BatchNorm                           | [32, 128]                      | [32, 128]                  | 256       |\n",
      "| │    └─(dropout)ModuleDict                                 | --                             | --                         | --        |\n",
      "| │    │    └─(dep)Dropout                                   | [720, 128]                     | [720, 128]                 | --        |\n",
      "| │    │    └─(tag)Dropout                                   | [800, 128]                     | [800, 128]                 | --        |\n",
      "| │    │    └─(word)Dropout                                  | [1781, 128]                    | [1781, 128]                | --        |\n",
      "| │    │    └─(sentence)Dropout                              | [93, 128]                      | [93, 128]                  | --        |\n",
      "| │    │    └─(general)Dropout                               | [16, 128]                      | [16, 128]                  | --        |\n",
      "| │    │    └─(sentiment)Dropout                             | [32, 128]                      | [32, 128]                  | --        |\n",
      "| ├─(hetero_linear_2)GraphModule                             |                                |                            | 235,800   |\n",
      "| │    └─(linear)ModuleDict                                  | --                             | --                         | 232,200   |\n",
      "| │    │    └─(dep)Linear                                    | [720, 128]                     | [720, 300]                 | 38,700    |\n",
      "| │    │    └─(tag)Linear                                    | [800, 128]                     | [800, 300]                 | 38,700    |\n",
      "| │    │    └─(word)Linear                                   | [1781, 128]                    | [1781, 300]                | 38,700    |\n",
      "| │    │    └─(sentence)Linear                               | [93, 128]                      | [93, 300]                  | 38,700    |\n",
      "| │    │    └─(general)Linear                                | [16, 128]                      | [16, 300]                  | 38,700    |\n",
      "| │    │    └─(sentiment)Linear                              | [32, 128]                      | [32, 300]                  | 38,700    |\n",
      "| │    └─(batch_norm)ModuleDict                              | --                             | --                         | 3,600     |\n",
      "| │    │    └─(dep)BatchNorm                                 | [720, 300]                     | [720, 300]                 | 600       |\n",
      "| │    │    └─(tag)BatchNorm                                 | [800, 300]                     | [800, 300]                 | 600       |\n",
      "| │    │    └─(word)BatchNorm                                | [1781, 300]                    | [1781, 300]                | 600       |\n",
      "| │    │    └─(sentence)BatchNorm                            | [93, 300]                      | [93, 300]                  | 600       |\n",
      "| │    │    └─(general)BatchNorm                             | [16, 300]                      | [16, 300]                  | 600       |\n",
      "| │    │    └─(sentiment)BatchNorm                           | [32, 300]                      | [32, 300]                  | 600       |\n",
      "| │    └─(dropout)ModuleDict                                 | --                             | --                         | --        |\n",
      "| │    │    └─(dep)Dropout                                   | [720, 300]                     | [720, 300]                 | --        |\n",
      "| │    │    └─(tag)Dropout                                   | [800, 300]                     | [800, 300]                 | --        |\n",
      "| │    │    └─(word)Dropout                                  | [1781, 300]                    | [1781, 300]                | --        |\n",
      "| │    │    └─(sentence)Dropout                              | [93, 300]                      | [93, 300]                  | --        |\n",
      "| │    │    └─(general)Dropout                               | [16, 300]                      | [16, 300]                  | --        |\n",
      "| │    │    └─(sentiment)Dropout                             | [32, 300]                      | [32, 300]                  | --        |\n",
      "| ├─(hetero_linear_3)GraphModule                             |                                |                            | 542,400   |\n",
      "| │    └─(linear)ModuleDict                                  | --                             | --                         | 541,800   |\n",
      "| │    │    └─(dep)Linear                                    | [720, 300]                     | [720, 300]                 | 90,300    |\n",
      "| │    │    └─(tag)Linear                                    | [800, 300]                     | [800, 300]                 | 90,300    |\n",
      "| │    │    └─(word)Linear                                   | [1781, 300]                    | [1781, 300]                | 90,300    |\n",
      "| │    │    └─(sentence)Linear                               | [93, 300]                      | [93, 300]                  | 90,300    |\n",
      "| │    │    └─(general)Linear                                | [16, 300]                      | [16, 300]                  | 90,300    |\n",
      "| │    │    └─(sentiment)Linear                              | [32, 300]                      | [32, 300]                  | 90,300    |\n",
      "| │    └─(batch_norm)BatchNorm                               | --                             | --                         | 600       |\n",
      "| │    │    └─(module)BatchNorm1d                            | --                             | --                         | 600       |\n",
      "| │    └─(dropout)Dropout                                    | --                             | --                         | --        |\n",
      "| ├─(mem_pool)MemPooling                                     | [1781, 128], [1781]            | [16, 1, 128], [16, 169, 1] | 16,642    |\n",
      "| │    └─(conv)Conv2d                                        | [16, 2, 169, 1]                | [16, 1, 169, 1]            | 2         |\n",
      "| │    └─(lin)Linear                                         | [16, 1, 128]                   | [16, 1, 128]               | 16,384    |\n",
      "| ├─(linear_1)Linear                                         | [16, 128]                      | [16, 64]                   | 8,256     |\n",
      "| ├─(linear_2)Linear                                         | [16, 64]                       | [16, 64]                   | 4,160     |\n",
      "| ├─(linear_3)Linear                                         | [16, 64]                       | [16, 64]                   | 4,160     |\n",
      "| ├─(batch_norm_1)BatchNorm                                  | [16, 64]                       | [16, 64]                   | 128       |\n",
      "| │    └─(module)BatchNorm1d                                 | [16, 64]                       | [16, 64]                   | 128       |\n",
      "| ├─(output_layer)Linear                                     | [16, 64]                       | [16, 1]                    | 65        |\n",
      "| ├─(dep_embedding)Embedding                                 | [720]                          | [720, 300]                 | 13,500    |\n",
      "| ├─(tag_embedding)Embedding                                 | [800]                          | [800, 300]                 | 15,000    |\n",
      "| ├─(dep_unembedding)Linear                                  | [720, 300]                     | [720, 45]                  | 13,545    |\n",
      "| ├─(tag_unembedding)Linear                                  | [800, 300]                     | [800, 50]                  | 15,050    |\n",
      "+------------------------------------------------------------+--------------------------------+----------------------------+-----------+\n"
     ]
    }
   ],
   "source": [
    "model_manager.draw_summary(t_dataloader)"
   ]
  },
  {
   "cell_type": "code",
   "execution_count": null,
   "metadata": {},
   "outputs": [
    {
     "data": {
      "image/png": "[encoded data removed]",
      "text/plain": [
       "<Figure size 640x480 with 1 Axes>"
      ]
     },
     "metadata": {},
     "output_type": "display_data"
    },
    {
     "data": {
      "image/png": "[encoded data removed]",
      "text/plain": [
       "<Figure size 640x480 with 1 Axes>"
      ]
     },
     "metadata": {},
     "output_type": "display_data"
    }
   ],
   "source": [
    "model_manager.plot_csv_logger(loss_names=['train_loss', 'val_loss'], eval_names=['train_acc_epoch', 'val_acc_epoch'])"
   ]
  },
  {
   "cell_type": "code",
   "execution_count": null,
   "metadata": {},
   "outputs": [
    {
     "name": "stdout",
     "output_type": "stream",
     "text": [
      "confusion_matrix: \n",
      "[[43 84]\n",
      " [ 3 70]]\n",
      "              precision    recall  f1-score   support\n",
      "\n",
      "           0       0.93      0.34      0.50       127\n",
      "           1       0.45      0.96      0.62        73\n",
      "\n",
      "    accuracy                           0.56       200\n",
      "   macro avg       0.69      0.65      0.56       200\n",
      "weighted avg       0.76      0.56      0.54       200\n",
      "\n",
      "accuracy_score: 0.565\n",
      "hinge_loss: 1.07\n"
     ]
    }
   ],
   "source": [
    "model_manager.evaluate(data_manager.test_dataloader(), give_accuracy_score=True, give_hinge_loss=True)"
   ]
  },
  {
   "cell_type": "code",
   "execution_count": null,
   "metadata": {},
   "outputs": [
    {
     "data": {
      "text/plain": [
       "'logs/hetero_model_6\\\\version_11\\\\checkpoints\\\\epoch=7-step=296.ckpt'"
      ]
     },
     "execution_count": 13,
     "metadata": {},
     "output_type": "execute_result"
    }
   ],
   "source": [
    "model_manager.trainer.checkpoint_callback.best_model_path"
   ]
  },
  {
   "cell_type": "code",
   "execution_count": null,
   "metadata": {},
   "outputs": [],
   "source": []
  }
 ],
 "metadata": {
  "kernelspec": {
   "display_name": "Python 3",
   "language": "python",
   "name": "python3"
  },
  "language_info": {
   "codemirror_mode": {
    "name": "ipython",
    "version": 3
   },
   "file_extension": ".py",
   "mimetype": "text/x-python",
   "name": "python",
   "nbconvert_exporter": "python",
   "pygments_lexer": "ipython3",
   "version": "3.10.11"
  }
 },
 "nbformat": 4,
 "nbformat_minor": 2
}
