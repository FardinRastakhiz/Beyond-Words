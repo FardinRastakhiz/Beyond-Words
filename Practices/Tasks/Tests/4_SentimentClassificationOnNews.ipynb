{
 "cells": [
  {
   "cell_type": "code",
   "execution_count": 1,
   "metadata": {},
   "outputs": [
    {
     "name": "stderr",
     "output_type": "stream",
     "text": [
      "c:\\Users\\fardin\\AppData\\Local\\Programs\\Python\\Python310\\lib\\site-packages\\torchaudio\\backend\\utils.py:74: UserWarning: No audio backend is available.\n",
      "  warnings.warn(\"No audio backend is available.\")\n"
     ]
    }
   ],
   "source": [
    "import numpy as np\n",
    "from Scripts.Configs.ConfigClass import Config\n",
    "from Scripts.DataManager.GraphConstructor.GraphConstructor import TextGraphType\n",
    "from lightning.pytorch.loggers import CSVLogger\n",
    "import os\n",
    "from Scripts.DataManager.GraphLoader.AGGraphDataModule import AGGraphDataModule\n",
    "import time\n",
    "import torch\n",
    "import torch_geometric\n",
    "\n",
    "config = Config(r'C:\\Users\\fardin\\Projects\\ColorIntelligence')\n",
    "# config = Config(r'E:\\Darsi\\Payan Name Arshad\\Second Work\\ColorIntelligence2\\ColorIntelligence')\n",
    "os.environ['CUDA_LAUNCH_BLOCKING'] = \"1\"\n",
    "device = torch.device('cuda' if torch.cuda.is_available() else 'cpu')\n",
    "batch_size = 256"
   ]
  },
  {
   "cell_type": "code",
   "execution_count": 2,
   "metadata": {},
   "outputs": [],
   "source": [
    "from Scripts.Models.GraphEmbedding.HeteroDeepGraphEmbedding2 import HeteroDeepGraphEmbedding2\n",
    "from Scripts.Models.LightningModels.LightningModels import HeteroBinaryLightningModel, MultiClassLightningModel, HeteroMultiClassLightningModel\n",
    "from Scripts.Models.LossFunctions.HeteroLossFunctions import HeteroLossArgs, HeteroLoss1, HeteroLoss2, MulticlassHeteroLoss1\n",
    "from lightning.pytorch.callbacks import EarlyStopping, ModelCheckpoint\n",
    "import lightning as L\n",
    "from lightning.pytorch.tuner import Tuner\n",
    "from Scripts.Models.ModelsManager.ClassifierModelManager import ClassifierModelManager"
   ]
  },
  {
   "cell_type": "code",
   "execution_count": 3,
   "metadata": {},
   "outputs": [
    {
     "name": "stdout",
     "output_type": "stream",
     "text": [
      "filename: C:\\Users\\fardin\\Projects\\ColorIntelligence\\data/GraphData/AG\\sentiment\\graph_var.txt\n"
     ]
    },
    {
     "name": "stderr",
     "output_type": "stream",
     "text": [
      " Loding Graphs From File : 100%|██████████| 127/127 [14:16<00:00,  6.75s/it]\n"
     ]
    }
   ],
   "source": [
    "\n",
    "graph_type = TextGraphType.SENTIMENT\n",
    "# removals = ['sentiment'] # Enter node types to remove here\n",
    "# removals = ['general'] # Without General Nodes\n",
    "# removals = ['dep'] # Without Dependency Nodes\n",
    "# removals = ['tag'] # Without Tag Nodes\n",
    "# removals = ['sentiment'] # Without Sentiment Nodes\n",
    "# removals = ['sentiment' , 'general'] # Without Sentiment and General Nodes\n",
    "data_manager = AGGraphDataModule(config, True, True, test_size=0.055, val_size=0.055, shuffle=False, start_data_load=0 , end_data_load = 127000 , device='cpu', batch_size=batch_size, graph_type=graph_type, load_preprocessed_data = True)\n",
    "data_manager.load_labels()\n",
    "data_manager.load_graphs()"
   ]
  },
  {
   "cell_type": "code",
   "execution_count": 4,
   "metadata": {},
   "outputs": [],
   "source": [
    "# del os.environ['CUDA_LAUNCH_BLOCKING']"
   ]
  },
  {
   "cell_type": "code",
   "execution_count": 5,
   "metadata": {},
   "outputs": [],
   "source": [
    "# for data in data_manager.dataset[TextGraphType.SENTIMENT]:\n",
    "#     data[0].to('cuda')\n",
    "#     data[1].to('cuda')"
   ]
  },
  {
   "cell_type": "code",
   "execution_count": 6,
   "metadata": {},
   "outputs": [],
   "source": [
    "# # data_manager.update_batch_size(128)\n",
    "# t_dataloader = data_manager.train_dataloader()\n",
    "# v_dataloader = data_manager.val_dataloader()\n",
    "# X1, y1 = next(iter(t_dataloader))\n",
    "# X2, y2 = next(iter(v_dataloader))"
   ]
  },
  {
   "cell_type": "code",
   "execution_count": 7,
   "metadata": {},
   "outputs": [],
   "source": [
    "test_dataloader = data_manager.test_dataloader()\n",
    "X3, Y3 = next(iter(test_dataloader))"
   ]
  },
  {
   "cell_type": "code",
   "execution_count": 8,
   "metadata": {},
   "outputs": [
    {
     "data": {
      "text/plain": [
       "(['dep', 'tag', 'word', 'sentence', 'general', 'sentiment'],\n",
       " [('dep', 'dep_word', 'word'),\n",
       "  ('word', 'word_dep', 'dep'),\n",
       "  ('tag', 'tag_word', 'word'),\n",
       "  ('word', 'word_tag', 'tag'),\n",
       "  ('word', 'seq', 'word'),\n",
       "  ('general', 'general_sentence', 'sentence'),\n",
       "  ('sentence', 'sentence_general', 'general'),\n",
       "  ('word', 'word_sentence', 'sentence'),\n",
       "  ('sentence', 'sentence_word', 'word'),\n",
       "  ('word', 'word_sentiment', 'sentiment'),\n",
       "  ('sentiment', 'sentiment_word', 'word')])"
      ]
     },
     "execution_count": 8,
     "metadata": {},
     "output_type": "execute_result"
    }
   ],
   "source": [
    "X3.metadata()"
   ]
  },
  {
   "cell_type": "code",
   "execution_count": 152,
   "metadata": {},
   "outputs": [],
   "source": [
    "\n",
    "\n",
    "import torch.nn.functional as F\n",
    "from torch import Tensor\n",
    "import torch\n",
    "from torch.nn import Linear\n",
    "from torch_geometric.nn import BatchNorm, MemPooling, to_hetero, PairNorm\n",
    "from torch_geometric.data import HeteroData\n",
    "from Scripts.Models.BaseModels.HeteroGat import HeteroGat\n",
    "from Scripts.Models.BaseModels.HeteroLinear import HeteroLinear\n",
    "\n",
    "\n",
    "class HeteroDeepGraphEmbedding5(torch.nn.Module):\n",
    "    \n",
    "    def __init__(self,\n",
    "                 input_feature: int, out_features: int,\n",
    "                 metadata,\n",
    "                 hidden_feature: int=256,\n",
    "                 device = 'cpu',\n",
    "                 dropout=0.1,\n",
    "                 edge_type_count=9,\n",
    "                 edge_type_weights=-1,\n",
    "                 active_keys = ['dep', 'tag', 'word', 'sentence', 'general', 'sentiment']\n",
    "                 ):\n",
    "\n",
    "        super(HeteroDeepGraphEmbedding5, self).__init__()\n",
    "        self.input_features = input_feature\n",
    "        self.num_out_features = out_features\n",
    "        self.hidden_feature: int = hidden_feature\n",
    "        self.edge_type_count = edge_type_count\n",
    "        self.edge_type_weights = [1]* self.edge_type_count if edge_type_weights==-1 else edge_type_weights\n",
    "\n",
    "        self.part_weight_norm = torch.nn.LayerNorm((self.edge_type_count,))\n",
    "        self.norm = PairNorm()\n",
    "        self.drop = torch.nn.Dropout(0.2)\n",
    "        self.active_keys = active_keys\n",
    "        \n",
    "        self.hetero_gat_1 = to_hetero(HeteroGat(input_feature, self.hidden_feature, dropout, num_heads=2), metadata)\n",
    "        self.hetero_gat_2 = to_hetero(HeteroGat(self.hidden_feature, self.hidden_feature, dropout, num_heads=2), metadata)\n",
    "        \n",
    "        self.hetero_linear_2 = to_hetero(HeteroLinear(self.hidden_feature, self.hidden_feature, dropout, use_batch_norm=True), metadata)\n",
    "        \n",
    "        num_classes = self.num_out_features\n",
    "        self.mem_pool = MemPooling(self.hidden_feature, self.hidden_feature, 2, num_classes)\n",
    "        self.linear_1 = Linear(self.hidden_feature* num_classes, self.hidden_feature)\n",
    "        self.linear_2 = Linear(self.hidden_feature, self.hidden_feature)\n",
    "        self.batch_norm_1 = BatchNorm(self.hidden_feature)\n",
    "        self.output_layer = Linear(self.hidden_feature, self.num_out_features)\n",
    "        self.dep_embedding = torch.nn.Embedding(45, self.input_features)\n",
    "        self.tag_embedding = torch.nn.Embedding(50, self.input_features)\n",
    "        self.pw1 = torch.nn.Parameter(torch.tensor(self.edge_type_weights, dtype=torch.float32), requires_grad=False)\n",
    "        self.model_logger = [0] * 11\n",
    "        self.norm_logger = [0] * 8\n",
    "        self.x_batches = None\n",
    "        self.x_batches_cpu = None\n",
    "        self.x_dict_cpu_1 = None\n",
    "        self.x_dict_cpu_2 = None\n",
    "        \n",
    "\n",
    "    def forward(self, x: HeteroData) -> Tensor:\n",
    "        self.x_batches = {k:x[k].batch for k in self.active_keys}\n",
    "        self.x_batches_cpu = {k:self.x_batches[k].to('cpu') for k in self.active_keys}\n",
    "        x_dict, edge_attr_dict, edge_index_dict = self.preprocess_data(x)\n",
    "        edge_attr_dict = self.update_weights(edge_attr_dict, self.pw1)\n",
    "        \n",
    "        x_dict = self.hetero_gat_1(x_dict, edge_index_dict, edge_attr_dict)\n",
    "        self.x_dict_cpu_1 = {k: x_dict[k].to('cpu') for k in x_dict}\n",
    "        self.normalize(x_dict, self.x_batches)\n",
    "        x_dict = self.hetero_gat_2(x_dict, edge_index_dict, edge_attr_dict)\n",
    "        self.x_dict_cpu_2 = {k: x_dict[k].to('cpu') for k in x_dict}\n",
    "        x_pooled, S = self.mem_pool(x_dict['word'], self.x_batches['word'])\n",
    "                \n",
    "        x_pooled = x_pooled.view(x_pooled.shape[0], -1)\n",
    "        x_pooled = F.relu(self.linear_1(x_pooled))\n",
    "        x_pooled = F.relu(self.batch_norm_1(self.linear_2(x_pooled)))\n",
    "        out = self.output_layer(x_pooled)\n",
    "        return out, x_dict\n",
    "\n",
    "    def preprocess_data(self, x):\n",
    "        x_dict = {key: x.x_dict[key] for key in x.x_dict}\n",
    "        if 'dep' in x_dict:\n",
    "            x_dict['dep'] = self.dep_embedding(x_dict['dep'])\n",
    "        if 'tag' in x_dict:\n",
    "            x_dict['tag'] = self.tag_embedding(x_dict['tag'])\n",
    "\n",
    "        edge_attr_dict = x.edge_attr_dict\n",
    "        edge_index_dict = x.edge_index_dict\n",
    "\n",
    "        return x_dict, edge_attr_dict, edge_index_dict\n",
    "\n",
    "    def normalize(self, x_dict, x_batches):\n",
    "        for k in self.active_keys:\n",
    "            vecs = x_dict[k]\n",
    "            if k not in x_batches:\n",
    "                print('k is not in x_batches')\n",
    "                continue\n",
    "            batches = x_batches[k]\n",
    "            if batches is None:\n",
    "                print('batches is none')\n",
    "                continue\n",
    "            \n",
    "            if len(batches) == 0:\n",
    "                print('batches is empty')\n",
    "                continue\n",
    "            \n",
    "            x_dict[k] = self.norm(vecs, batches)\n",
    "        return x_dict\n",
    "\n",
    "    def update_weights(self, edge_attr_dict, part_weights):\n",
    "        for i, key in enumerate(edge_attr_dict):\n",
    "            edge_attr = edge_attr_dict[key]\n",
    "            if edge_attr is None or edge_attr == ('word', 'seq', 'word'):\n",
    "                continue\n",
    "            edge_attr_dict[key]= edge_attr * part_weights[i]\n",
    "        return edge_attr_dict\n",
    "\n",
    "    def get_scale_same(self, scale:float, attributes: Tensor):\n",
    "        if attributes is None or len(attributes) == 0:\n",
    "            return\n",
    "        attributes = scale * torch.ones_like(attributes)\n",
    "        return attributes"
   ]
  },
  {
   "cell_type": "code",
   "execution_count": 153,
   "metadata": {},
   "outputs": [],
   "source": [
    "from copy import copy\n",
    "t_dataloader = data_manager.train_dataloader()\n",
    "t_dataloader_copy = copy(t_dataloader)"
   ]
  },
  {
   "cell_type": "code",
   "execution_count": 154,
   "metadata": {},
   "outputs": [],
   "source": [
    "# graph_embedding = HeteroDeepGraphEmbedding5(300, 4, X1.metadata(), 256, dropout=0.2, edge_type_count=11)\n",
    "\n",
    "# loss_func = MulticlassHeteroLoss1(exception_keys=['word'], enc_factor=0.001)\n",
    "# optimizer = torch.optim.Adam(graph_embedding.parameters(), lr=0.001, weight_decay=0.0005)\n",
    "# lr_scheduler = torch.optim.lr_scheduler.MultiStepLR(optimizer, milestones=[5, 15, 35], gamma=0.5, verbose=True)\n",
    "# ckpt_path = r'logs\\hetero_model_11_AG\\version_5\\checkpoints\\epoch=1-step=882.ckpt'\n",
    "# lightning_model = HeteroMultiClassLightningModel.load_from_checkpoint(ckpt_path, \n",
    "#                                     model=graph_embedding,\n",
    "#                                     num_classes=4) #,\n",
    "#                                     # optimizer=optimizer,\n",
    "#                                     # loss_func=loss_func,\n",
    "#                                     # learning_rate=0.001,\n",
    "#                                     # batch_size=batch_size,\n",
    "#                                     # lr_scheduler=lr_scheduler,\n",
    "#                                     # user_lr_scheduler=True,\n",
    "#                                     # min_lr=0.00003)"
   ]
  },
  {
   "cell_type": "code",
   "execution_count": 155,
   "metadata": {},
   "outputs": [],
   "source": [
    "index = torch.arange(0, 0, 1, dtype=torch.float32, device='cuda')\n",
    "dim_size = int(index.max()) + 1 if index.numel() > 0 else 0"
   ]
  },
  {
   "cell_type": "code",
   "execution_count": 156,
   "metadata": {},
   "outputs": [],
   "source": [
    "# from sklearn.metrics import classification_report, f1_score, accuracy_score, precision_score, recall_score, confusion_matrix, hinge_loss\n",
    "# all_true = []\n",
    "# all_pred = []\n",
    "# i = 0\n",
    "# for X3, y3 in test_dataloader:\n",
    "#     y_true = torch.argmax(Y3, dim=1)\n",
    "#     all_true.append(y_true)\n",
    "#     y_pred = torch.argmax(lightning_model(X3.to(device))[0], dim=1).cpu()\n",
    "#     all_pred.append(y_pred)\n",
    "#     i += 1\n",
    "#     if i > 5:\n",
    "#         break\n",
    "#     print(classification_report(y_true, y_pred))\n",
    "# all_true = torch.concat(all_true)\n",
    "# all_pred = torch.concat(all_pred)\n",
    "# print(all_true.shape)\n",
    "# print(classification_report(all_true, all_pred))"
   ]
  },
  {
   "cell_type": "code",
   "execution_count": 157,
   "metadata": {},
   "outputs": [],
   "source": [
    "# graph_embedding = HeteroDeepGraphEmbedding4(300, 4, X1.metadata(), 256, dropout=0.2, edge_type_count=11)\n",
    "# graph_embedding = graph_embedding.to(device)\n",
    "# graph_embedding(X1.to(device))"
   ]
  },
  {
   "cell_type": "code",
   "execution_count": 158,
   "metadata": {},
   "outputs": [],
   "source": [
    "\n",
    "edge_type_weights = {\n",
    "    # 'full': [1., 1., 1., 1., 1., 1., 1., 1., 1., 1., 1.],\n",
    "    'full-non-sentiment': [1., 1., 1., 1., 1., 1., 1., 1., 1., 0., 0.],\n",
    "    # 'seq': [0., 0., 0., 0., 1., 0., 0., 0., 0., 0., 0.],\n",
    "    # 'dep': [1., 1., 0., 0., 1., 0., 0., 0., 0., 0., 0.],\n",
    "    # 'tag': [0., 0., 1., 1., 1., 0., 0., 0., 0., 0., 0.],\n",
    "    # 'general_sentence': [0., 0., 0., 0., 1., 1., 1., 1., 1., 0., 0.],\n",
    "    # 'sentence': [0., 0., 0., 0., 1., 0., 0., 1., 1., 0., 0.],\n",
    "    # 'sentiment': [0., 0., 0., 0., 1., 0., 0., 0., 0., 1., 1.],\n",
    "}\n",
    "# type_checkpoint = {\n",
    "#     #  'dep': r'logs\\hetero_model_14_AG\\version_0\\checkpoints\\epoch=38-step=17199.ckpt',\n",
    "#      'tag': r'logs\\hetero_model_15_AG_tag\\version_0\\checkpoints\\epoch=9-step=4410.ckpt',\n",
    "#      'general_sentence': '',\n",
    "#      'sentence': '',\n",
    "# }"
   ]
  },
  {
   "cell_type": "code",
   "execution_count": 159,
   "metadata": {},
   "outputs": [],
   "source": [
    "# edge_type_weights = {\n",
    "#     'seq_gen': [1, 1, 1],\n",
    "#     'seq': [0, 0, 1]\n",
    "# }\n",
    "# type_checkpoint = {\n",
    "#     'seq_gen': r'logs\\hetero_model_12_AG\\version_1\\checkpoints\\epoch=24-step=11025.ckpt',\n",
    "#     'seq': r'logs\\hetero_model_12_AG\\version_2\\checkpoints\\epoch=22-step=10143.ckpt'\n",
    "# }"
   ]
  },
  {
   "cell_type": "code",
   "execution_count": 160,
   "metadata": {},
   "outputs": [],
   "source": [
    "from os import path\n",
    "from sklearn.metrics import classification_report, f1_score, accuracy_score, precision_score, recall_score, confusion_matrix, hinge_loss\n",
    "import torchmetrics\n",
    "\n",
    "def save_evaluation(model_mgr, eval_dataloader, name_prepend: str='',\n",
    "                 give_confusion_matrix: bool=True, \n",
    "                 give_report: bool=True, \n",
    "                 give_f1_score: bool=False, \n",
    "                 give_accuracy_score: bool=False, \n",
    "                 give_precision_score: bool=False, \n",
    "                 give_recall_score: bool=False, \n",
    "                 give_hinge_loss: bool=False,\n",
    "                 multi_class: bool=False\n",
    "                 ):\n",
    "        \n",
    "        test_metrics_path = path.join(model_mgr.log_dir, model_mgr.log_name, f'version_{model_mgr.logger.version}', f'{name_prepend}_test_metrics.txt')\n",
    "        \n",
    "        y_true = []\n",
    "        y_pred = []\n",
    "        model_mgr.lightning_model.eval()\n",
    "        model_mgr.lightning_model.model.eval()\n",
    "        model_mgr.torch_model.eval()\n",
    "        for X, y in eval_dataloader:\n",
    "            model_mgr.trainer.model.eval()\n",
    "            with torch.no_grad():\n",
    "                y_p = model_mgr.trainer.model(X.to(model_mgr.device))\n",
    "            if type(y_p) is tuple:\n",
    "                y_p = y_p[0]\n",
    "            \n",
    "            if multi_class:\n",
    "                y_pred.append(y_p.detach().to(y.device))\n",
    "                y_true.append(y)\n",
    "            else:\n",
    "                y_pred.append((y_p>0).to(torch.int32).detach().to(y.device))\n",
    "                y_true.append(y.to(torch.int32))\n",
    "        y_true = torch.concat(y_true)\n",
    "        y_pred = torch.concat(y_pred)\n",
    "        print(y_true.shape)\n",
    "        print(y_pred.shape)\n",
    "        if multi_class:\n",
    "            y_true_num = torch.argmax(y_true, dim=1)\n",
    "            y_pred_num = torch.argmax(y_pred, dim=1)\n",
    "        else:\n",
    "            y_true_num = y_true\n",
    "            y_pred_num = y_pred\n",
    "            \n",
    "        print(y_true_num.shape)\n",
    "        print(y_pred_num.shape)\n",
    "        with open(test_metrics_path, 'at+') as f:\n",
    "            if(give_confusion_matrix):\n",
    "                print(f'confusion_matrix: \\n{confusion_matrix(y_true_num, y_pred_num)}', file=f)\n",
    "            if(give_report):\n",
    "                print(classification_report(y_true_num, y_pred_num), file=f)\n",
    "            if(give_f1_score):\n",
    "                if multi_class:\n",
    "                    print(f'f1_score: {f1_score(y_true_num, y_pred_num, average=None)}', file=f)\n",
    "                else:\n",
    "                    print(f'f1_score: {f1_score(y_true_num, y_pred_num)}', file=f)\n",
    "            if(give_accuracy_score):\n",
    "                print(f'accuracy_score: {accuracy_score(y_true_num, y_pred_num)}', file=f)\n",
    "            if(give_precision_score):\n",
    "                if multi_class:\n",
    "                    print(f'f1_score: {precision_score(y_true_num, y_pred_num, average=None)}', file=f)\n",
    "                else:\n",
    "                    print(f'f1_score: {precision_score(y_true_num, y_pred_num)}', file=f)\n",
    "            if(give_recall_score):\n",
    "                if multi_class:\n",
    "                    print(f'f1_score: {recall_score(y_true_num, y_pred_num, average=None)}', file=f)\n",
    "                else:\n",
    "                    print(f'f1_score: {recall_score(y_true_num, y_pred_num)}', file=f)\n",
    "            if(give_hinge_loss):\n",
    "                print(f'hinge_loss: {hinge_loss(y_true_num, y_pred)}', file=f)\n",
    "        \n",
    "        test_acc = torchmetrics.Accuracy(task=\"multiclass\", num_classes=4)\n",
    "        test_f1 = torchmetrics.F1Score(task=\"multiclass\", num_classes=4)\n",
    "        test_precision = torchmetrics.Precision(task=\"multiclass\", num_classes=4)\n",
    "        test_recall = torchmetrics.Recall(task=\"multiclass\", num_classes=4)\n",
    "        test_confusion_m = torchmetrics.ConfusionMatrix(task=\"multiclass\", num_classes=4)\n",
    "        \n",
    "        print(f'test_acc: {test_acc(y_true_num, y_pred_num)}')\n",
    "        print(f'test_f1: {test_f1(y_true_num, y_pred_num)}')\n",
    "        print(f'test_precision: {test_precision(y_true_num, y_pred_num)}')\n",
    "        print(f'test_recall: {test_recall(y_true_num, y_pred_num)}')\n",
    "        print(f'test_confusion_m: \\n{test_confusion_m(y_true_num, y_pred_num)}')"
   ]
  },
  {
   "cell_type": "code",
   "execution_count": 169,
   "metadata": {},
   "outputs": [
    {
     "name": "stdout",
     "output_type": "stream",
     "text": [
      "Adjusting learning rate of group 0 to 4.5000e-03.\n"
     ]
    },
    {
     "name": "stderr",
     "output_type": "stream",
     "text": [
      "c:\\Users\\fardin\\AppData\\Local\\Programs\\Python\\Python310\\lib\\site-packages\\lightning\\pytorch\\utilities\\parsing.py:198: Attribute 'model' is an instance of `nn.Module` and is already saved during checkpointing. It is recommended to ignore them using `self.save_hyperparameters(ignore=['model'])`.\n",
      "GPU available: True (cuda), used: True\n",
      "TPU available: False, using: 0 TPU cores\n",
      "IPU available: False, using: 0 IPUs\n",
      "HPU available: False, using: 0 HPUs\n",
      "LOCAL_RANK: 0 - CUDA_VISIBLE_DEVICES: [0]\n",
      "\n",
      "  | Name      | Type                      | Params\n",
      "--------------------------------------------------------\n",
      "0 | model     | HeteroDeepGraphEmbedding5 | 4.0 M \n",
      "1 | loss_func | MulticlassHeteroLoss1     | 0     \n",
      "2 | train_acc | MulticlassAccuracy        | 0     \n",
      "3 | val_acc   | MulticlassAccuracy        | 0     \n",
      "4 | test_acc  | MulticlassAccuracy        | 0     \n",
      "--------------------------------------------------------\n",
      "4.0 M     Trainable params\n",
      "11        Non-trainable params\n",
      "4.0 M     Total params\n",
      "15.957    Total estimated model params size (MB)\n"
     ]
    },
    {
     "name": "stdout",
     "output_type": "stream",
     "text": [
      "bbbb\n"
     ]
    },
    {
     "name": "stderr",
     "output_type": "stream",
     "text": [
      "c:\\Users\\fardin\\AppData\\Local\\Programs\\Python\\Python310\\lib\\site-packages\\lightning\\pytorch\\trainer\\connectors\\data_connector.py:441: The 'train_dataloader' does not have many workers which may be a bottleneck. Consider increasing the value of the `num_workers` argument` to `num_workers=7` in the `DataLoader` to improve performance.\n",
      "c:\\Users\\fardin\\AppData\\Local\\Programs\\Python\\Python310\\lib\\site-packages\\lightning\\pytorch\\trainer\\connectors\\data_connector.py:441: The 'val_dataloader' does not have many workers which may be a bottleneck. Consider increasing the value of the `num_workers` argument` to `num_workers=7` in the `DataLoader` to improve performance.\n"
     ]
    },
    {
     "data": {
      "application/vnd.jupyter.widget-view+json": {
       "model_id": "83b5d113b2f94d2fb48aaa05bdba0439",
       "version_major": 2,
       "version_minor": 0
      },
      "text/plain": [
       "Training: |          | 0/? [00:00<?, ?it/s]"
      ]
     },
     "metadata": {},
     "output_type": "display_data"
    },
    {
     "data": {
      "application/vnd.jupyter.widget-view+json": {
       "model_id": "122eb224a03341aabc6e5f77215ca6f6",
       "version_major": 2,
       "version_minor": 0
      },
      "text/plain": [
       "Validation: |          | 0/? [00:00<?, ?it/s]"
      ]
     },
     "metadata": {},
     "output_type": "display_data"
    },
    {
     "data": {
      "application/vnd.jupyter.widget-view+json": {
       "model_id": "a012010fb8154d6c928ee67719d8f150",
       "version_major": 2,
       "version_minor": 0
      },
      "text/plain": [
       "Validation: |          | 0/? [00:00<?, ?it/s]"
      ]
     },
     "metadata": {},
     "output_type": "display_data"
    },
    {
     "data": {
      "application/vnd.jupyter.widget-view+json": {
       "model_id": "4e8dd9574f4a459aaf9700e58f8c6913",
       "version_major": 2,
       "version_minor": 0
      },
      "text/plain": [
       "Validation: |          | 0/? [00:00<?, ?it/s]"
      ]
     },
     "metadata": {},
     "output_type": "display_data"
    }
   ],
   "source": [
    "\n",
    "for k in edge_type_weights:\n",
    "    graph_embedding = HeteroDeepGraphEmbedding5(300, 4, X3.metadata(), 256, dropout=0.2, edge_type_count=11, edge_type_weights=edge_type_weights[k])\n",
    "    graph_embedding = graph_embedding.to(device)\n",
    "    callbacks = [\n",
    "    ModelCheckpoint(save_top_k=5, mode='max', monitor='val_acc', save_last=True)\n",
    "    ]\n",
    "    loss_func = MulticlassHeteroLoss1(exception_keys=['word'], enc_factor=0.005)\n",
    "    optimizer = torch.optim.Adam(graph_embedding.parameters(), lr=0.0045, weight_decay=0.001)\n",
    "    lr_scheduler = torch.optim.lr_scheduler.MultiStepLR(optimizer, milestones=[5,10,15,20,25], gamma=0.6, verbose=True)\n",
    "    lightning_model = HeteroMultiClassLightningModel(graph_embedding, 4,\n",
    "                                        optimizer=optimizer,\n",
    "                                        loss_func=loss_func,\n",
    "                                        learning_rate=0.0045,\n",
    "                                        batch_size=batch_size,\n",
    "                                        # lr_scheduler=lr_scheduler,\n",
    "                                        user_lr_scheduler=True,\n",
    "                                        min_lr=0.00005\n",
    "                                        ).to(device)\n",
    "    lightning_model.model.to(device)\n",
    "    \n",
    "    # optimizer = torch.optim.Adam(graph_embedding.parameters(), lr=0.001, weight_decay=0.0005)\n",
    "    # lr_scheduler = torch.optim.lr_scheduler.MultiStepLR(optimizer, milestones=[5, 15, 35], gamma=0.5, verbose=True)\n",
    "    # lightning_model = HeteroMultiClassLightningModel.load_from_checkpoint(type_checkpoint[k], \n",
    "    #                                     model=graph_embedding,\n",
    "    #                                     num_classes=4,\n",
    "    #                                     optimizer=optimizer,\n",
    "    #                                     loss_func=loss_func,\n",
    "    #                                     learning_rate=0.001,\n",
    "    #                                     batch_size=batch_size,\n",
    "    #                                     lr_scheduler=lr_scheduler,\n",
    "    #                                     user_lr_scheduler=True,\n",
    "    #                                     min_lr=0.00003)\n",
    "        \n",
    "    \n",
    "    model_manager = ClassifierModelManager(graph_embedding, lightning_model, log_name='hetero_model_16_AG',device=device, num_train_epoch=150)\n",
    "    model_manager.fit(datamodule=data_manager)\n",
    "    model_manager.save_plot_csv_logger(loss_names=['train_loss_epoch', 'val_loss'], eval_names=['train_acc_epoch', 'val_acc'], name_prepend=f'tests_{k}')\n",
    "    model_manager.torch_model = model_manager.torch_model.to(device)\n",
    "    save_evaluation(model_manager, data_manager.test_dataloader(), f'{k}',True, True, True, True, True, True, True, multi_class=True)"
   ]
  },
  {
   "cell_type": "code",
   "execution_count": 151,
   "metadata": {},
   "outputs": [
    {
     "name": "stdout",
     "output_type": "stream",
     "text": [
      "bbbb\n"
     ]
    },
    {
     "name": "stderr",
     "output_type": "stream",
     "text": [
      "c:\\Users\\fardin\\AppData\\Local\\Programs\\Python\\Python310\\lib\\site-packages\\lightning\\pytorch\\callbacks\\model_checkpoint.py:630: Checkpoint directory logs/hetero_model_16_AG\\version_5\\checkpoints exists and is not empty.\n",
      "LOCAL_RANK: 0 - CUDA_VISIBLE_DEVICES: [0]\n",
      "\n",
      "  | Name      | Type                      | Params\n",
      "--------------------------------------------------------\n",
      "0 | model     | HeteroDeepGraphEmbedding5 | 4.0 M \n",
      "1 | loss_func | MulticlassHeteroLoss1     | 0     \n",
      "2 | train_acc | MulticlassAccuracy        | 0     \n",
      "3 | val_acc   | MulticlassAccuracy        | 0     \n",
      "4 | test_acc  | MulticlassAccuracy        | 0     \n",
      "--------------------------------------------------------\n",
      "4.0 M     Trainable params\n",
      "11        Non-trainable params\n",
      "4.0 M     Total params\n",
      "15.957    Total estimated model params size (MB)\n",
      "c:\\Users\\fardin\\AppData\\Local\\Programs\\Python\\Python310\\lib\\site-packages\\lightning\\pytorch\\trainer\\connectors\\data_connector.py:441: The 'train_dataloader' does not have many workers which may be a bottleneck. Consider increasing the value of the `num_workers` argument` to `num_workers=7` in the `DataLoader` to improve performance.\n",
      "c:\\Users\\fardin\\AppData\\Local\\Programs\\Python\\Python310\\lib\\site-packages\\lightning\\pytorch\\trainer\\connectors\\data_connector.py:441: The 'val_dataloader' does not have many workers which may be a bottleneck. Consider increasing the value of the `num_workers` argument` to `num_workers=7` in the `DataLoader` to improve performance.\n"
     ]
    },
    {
     "data": {
      "application/vnd.jupyter.widget-view+json": {
       "model_id": "06a886f9526e467396c9091a768f2da6",
       "version_major": 2,
       "version_minor": 0
      },
      "text/plain": [
       "Training: |          | 0/? [00:00<?, ?it/s]"
      ]
     },
     "metadata": {},
     "output_type": "display_data"
    },
    {
     "data": {
      "application/vnd.jupyter.widget-view+json": {
       "model_id": "7a535dd777e44c83863cc68eb4bb9d23",
       "version_major": 2,
       "version_minor": 0
      },
      "text/plain": [
       "Validation: |          | 0/? [00:00<?, ?it/s]"
      ]
     },
     "metadata": {},
     "output_type": "display_data"
    },
    {
     "data": {
      "application/vnd.jupyter.widget-view+json": {
       "model_id": "724da17ecc814c42adbf2853d96f9047",
       "version_major": 2,
       "version_minor": 0
      },
      "text/plain": [
       "Validation: |          | 0/? [00:00<?, ?it/s]"
      ]
     },
     "metadata": {},
     "output_type": "display_data"
    },
    {
     "data": {
      "application/vnd.jupyter.widget-view+json": {
       "model_id": "c9eb859ed3f24b72bfb31e11aeeeb24e",
       "version_major": 2,
       "version_minor": 0
      },
      "text/plain": [
       "Validation: |          | 0/? [00:00<?, ?it/s]"
      ]
     },
     "metadata": {},
     "output_type": "display_data"
    },
    {
     "data": {
      "application/vnd.jupyter.widget-view+json": {
       "model_id": "8a719c109e4c4f87bff79a7583ce6778",
       "version_major": 2,
       "version_minor": 0
      },
      "text/plain": [
       "Validation: |          | 0/? [00:00<?, ?it/s]"
      ]
     },
     "metadata": {},
     "output_type": "display_data"
    },
    {
     "data": {
      "application/vnd.jupyter.widget-view+json": {
       "model_id": "765c3a62fb8a434e85465eefcce300b8",
       "version_major": 2,
       "version_minor": 0
      },
      "text/plain": [
       "Validation: |          | 0/? [00:00<?, ?it/s]"
      ]
     },
     "metadata": {},
     "output_type": "display_data"
    },
    {
     "data": {
      "application/vnd.jupyter.widget-view+json": {
       "model_id": "1937b821281940099f5a7f863cb70a71",
       "version_major": 2,
       "version_minor": 0
      },
      "text/plain": [
       "Validation: |          | 0/? [00:00<?, ?it/s]"
      ]
     },
     "metadata": {},
     "output_type": "display_data"
    },
    {
     "name": "stderr",
     "output_type": "stream",
     "text": [
      "c:\\Users\\fardin\\AppData\\Local\\Programs\\Python\\Python310\\lib\\site-packages\\lightning\\pytorch\\trainer\\call.py:58: Detected KeyboardInterrupt, attempting graceful shutdown...\n"
     ]
    }
   ],
   "source": [
    "model_manager.fit(datamodule=data_manager)"
   ]
  },
  {
   "cell_type": "code",
   "execution_count": 138,
   "metadata": {},
   "outputs": [
    {
     "data": {
      "text/plain": [
       "HeteroMultiClassLightningModel(\n",
       "  (model): HeteroDeepGraphEmbedding5(\n",
       "    (part_weight_norm): LayerNorm((11,), eps=1e-05, elementwise_affine=True)\n",
       "    (norm): PairNorm()\n",
       "    (drop): Dropout(p=0.2, inplace=False)\n",
       "    (hetero_gat_1): GraphModule(\n",
       "      (conv1): ModuleDict(\n",
       "        (dep__dep_word__word): GATv2Conv(300, 128, heads=2)\n",
       "        (word__word_dep__dep): GATv2Conv(300, 128, heads=2)\n",
       "        (tag__tag_word__word): GATv2Conv(300, 128, heads=2)\n",
       "        (word__word_tag__tag): GATv2Conv(300, 128, heads=2)\n",
       "        (word__seq__word): GATv2Conv(300, 128, heads=2)\n",
       "        (general__general_sentence__sentence): GATv2Conv(300, 128, heads=2)\n",
       "        (sentence__sentence_general__general): GATv2Conv(300, 128, heads=2)\n",
       "        (word__word_sentence__sentence): GATv2Conv(300, 128, heads=2)\n",
       "        (sentence__sentence_word__word): GATv2Conv(300, 128, heads=2)\n",
       "        (word__word_sentiment__sentiment): GATv2Conv(300, 128, heads=2)\n",
       "        (sentiment__sentiment_word__word): GATv2Conv(300, 128, heads=2)\n",
       "      )\n",
       "      (batch_norm): ModuleDict(\n",
       "        (dep): BatchNorm(256)\n",
       "        (tag): BatchNorm(256)\n",
       "        (word): BatchNorm(256)\n",
       "        (sentence): BatchNorm(256)\n",
       "        (general): BatchNorm(256)\n",
       "        (sentiment): BatchNorm(256)\n",
       "      )\n",
       "      (dropout): ModuleDict(\n",
       "        (dep): Dropout(p=0.2, inplace=False)\n",
       "        (tag): Dropout(p=0.2, inplace=False)\n",
       "        (word): Dropout(p=0.2, inplace=False)\n",
       "        (sentence): Dropout(p=0.2, inplace=False)\n",
       "        (general): Dropout(p=0.2, inplace=False)\n",
       "        (sentiment): Dropout(p=0.2, inplace=False)\n",
       "      )\n",
       "    )\n",
       "    (hetero_gat_2): GraphModule(\n",
       "      (conv1): ModuleDict(\n",
       "        (dep__dep_word__word): GATv2Conv(256, 128, heads=2)\n",
       "        (word__word_dep__dep): GATv2Conv(256, 128, heads=2)\n",
       "        (tag__tag_word__word): GATv2Conv(256, 128, heads=2)\n",
       "        (word__word_tag__tag): GATv2Conv(256, 128, heads=2)\n",
       "        (word__seq__word): GATv2Conv(256, 128, heads=2)\n",
       "        (general__general_sentence__sentence): GATv2Conv(256, 128, heads=2)\n",
       "        (sentence__sentence_general__general): GATv2Conv(256, 128, heads=2)\n",
       "        (word__word_sentence__sentence): GATv2Conv(256, 128, heads=2)\n",
       "        (sentence__sentence_word__word): GATv2Conv(256, 128, heads=2)\n",
       "        (word__word_sentiment__sentiment): GATv2Conv(256, 128, heads=2)\n",
       "        (sentiment__sentiment_word__word): GATv2Conv(256, 128, heads=2)\n",
       "      )\n",
       "      (batch_norm): ModuleDict(\n",
       "        (dep): BatchNorm(256)\n",
       "        (tag): BatchNorm(256)\n",
       "        (word): BatchNorm(256)\n",
       "        (sentence): BatchNorm(256)\n",
       "        (general): BatchNorm(256)\n",
       "        (sentiment): BatchNorm(256)\n",
       "      )\n",
       "      (dropout): ModuleDict(\n",
       "        (dep): Dropout(p=0.2, inplace=False)\n",
       "        (tag): Dropout(p=0.2, inplace=False)\n",
       "        (word): Dropout(p=0.2, inplace=False)\n",
       "        (sentence): Dropout(p=0.2, inplace=False)\n",
       "        (general): Dropout(p=0.2, inplace=False)\n",
       "        (sentiment): Dropout(p=0.2, inplace=False)\n",
       "      )\n",
       "    )\n",
       "    (hetero_linear_2): GraphModule(\n",
       "      (linear): ModuleDict(\n",
       "        (dep): Linear(in_features=256, out_features=256, bias=True)\n",
       "        (tag): Linear(in_features=256, out_features=256, bias=True)\n",
       "        (word): Linear(in_features=256, out_features=256, bias=True)\n",
       "        (sentence): Linear(in_features=256, out_features=256, bias=True)\n",
       "        (general): Linear(in_features=256, out_features=256, bias=True)\n",
       "        (sentiment): Linear(in_features=256, out_features=256, bias=True)\n",
       "      )\n",
       "      (batch_norm): ModuleDict(\n",
       "        (dep): BatchNorm(256)\n",
       "        (tag): BatchNorm(256)\n",
       "        (word): BatchNorm(256)\n",
       "        (sentence): BatchNorm(256)\n",
       "        (general): BatchNorm(256)\n",
       "        (sentiment): BatchNorm(256)\n",
       "      )\n",
       "      (dropout): ModuleDict(\n",
       "        (dep): Dropout(p=0.2, inplace=False)\n",
       "        (tag): Dropout(p=0.2, inplace=False)\n",
       "        (word): Dropout(p=0.2, inplace=False)\n",
       "        (sentence): Dropout(p=0.2, inplace=False)\n",
       "        (general): Dropout(p=0.2, inplace=False)\n",
       "        (sentiment): Dropout(p=0.2, inplace=False)\n",
       "      )\n",
       "    )\n",
       "    (mem_pool): MemPooling(256, 256, heads=2, num_clusters=4)\n",
       "    (linear_1): Linear(in_features=1024, out_features=256, bias=True)\n",
       "    (linear_2): Linear(in_features=256, out_features=256, bias=True)\n",
       "    (batch_norm_1): BatchNorm(256)\n",
       "    (output_layer): Linear(in_features=256, out_features=4, bias=True)\n",
       "    (dep_embedding): Embedding(45, 300)\n",
       "    (tag_embedding): Embedding(50, 300)\n",
       "  )\n",
       "  (loss_func): MulticlassHeteroLoss1(\n",
       "    (cel_loss): CrossEntropyLoss()\n",
       "    (mse_loss): MSELoss()\n",
       "  )\n",
       "  (train_acc): MulticlassAccuracy()\n",
       "  (val_acc): MulticlassAccuracy()\n",
       "  (test_acc): MulticlassAccuracy()\n",
       ")"
      ]
     },
     "execution_count": 138,
     "metadata": {},
     "output_type": "execute_result"
    }
   ],
   "source": [
    "\n",
    "model_manager.trainer.model.eval()\n",
    "model_manager.trainer.model(X1)"
   ]
  },
  {
   "cell_type": "code",
   "execution_count": 144,
   "metadata": {},
   "outputs": [
    {
     "name": "stdout",
     "output_type": "stream",
     "text": [
      "tensor(0.8984, device='cuda:0')\n",
      "tensor(0.8945, device='cuda:0')\n",
      "tensor(0.8594, device='cuda:0')\n",
      "tensor(0.8906, device='cuda:0')\n",
      "tensor(0.8750, device='cuda:0')\n",
      "tensor(0.9180, device='cuda:0')\n",
      "tensor(0.8945, device='cuda:0')\n",
      "tensor(0.8750, device='cuda:0')\n",
      "tensor(0.8242, device='cuda:0')\n",
      "tensor(0.8672, device='cuda:0')\n",
      "tensor(0.8672, device='cuda:0')\n",
      "tensor(0.8750, device='cuda:0')\n",
      "tensor(0.8711, device='cuda:0')\n",
      "tensor(0.8594, device='cuda:0')\n",
      "tensor(0.8750, device='cuda:0')\n",
      "tensor(0.8867, device='cuda:0')\n",
      "tensor(0.9102, device='cuda:0')\n",
      "tensor(0.8945, device='cuda:0')\n",
      "tensor(0.9023, device='cuda:0')\n",
      "tensor(0.8750, device='cuda:0')\n",
      "tensor(0.8789, device='cuda:0')\n",
      "tensor(0.9102, device='cuda:0')\n",
      "tensor(0.8711, device='cuda:0')\n",
      "tensor(0.8516, device='cuda:0')\n",
      "tensor(0.8906, device='cuda:0')\n",
      "tensor(0.8906, device='cuda:0')\n",
      "tensor(0.8906, device='cuda:0')\n",
      "tensor(0.8493, device='cuda:0')\n"
     ]
    }
   ],
   "source": [
    "# t_dataloader = data_manager.train_dataloader()\n",
    "\n",
    "for X1, y1 in test_dataloader:\n",
    "    model_manager.trainer.model.eval()\n",
    "    with torch.no_grad():\n",
    "        y1_pred = model_manager.trainer.model(X1.to(device))\n",
    "    acc = model_manager.lightning_model.train_acc(torch.argmax(y1_pred[0], dim=1), torch.argmax(y1.to(device), dim=1))\n",
    "    print(acc)"
   ]
  },
  {
   "cell_type": "code",
   "execution_count": 57,
   "metadata": {},
   "outputs": [
    {
     "data": {
      "text/plain": [
       "MulticlassAccuracy()"
      ]
     },
     "execution_count": 57,
     "metadata": {},
     "output_type": "execute_result"
    }
   ],
   "source": [
    "X1, y1 = next(iter(t_dataloader))\n",
    "model_manager.lightning_model.train_acc"
   ]
  },
  {
   "cell_type": "code",
   "execution_count": 150,
   "metadata": {},
   "outputs": [
    {
     "name": "stdout",
     "output_type": "stream",
     "text": [
      "torch.Size([6985, 4])\n",
      "torch.Size([6985, 4])\n",
      "torch.Size([6985])\n",
      "torch.Size([6985])\n",
      "test_acc: 0.881030797958374\n",
      "test_f1: 0.881030797958374\n",
      "test_precision: 0.881030797958374\n",
      "test_recall: 0.881030797958374\n",
      "test_confusion_m: \n",
      "tensor([[1530,   35,   45,   74],\n",
      "        [  37, 1632,    8,    9],\n",
      "        [ 136,   42, 1454,  114],\n",
      "        [  54,   39,  238, 1538]])\n"
     ]
    },
    {
     "data": {
      "image/png": "[encoded data removed]",
      "text/plain": [
       "<Figure size 640x480 with 1 Axes>"
      ]
     },
     "metadata": {},
     "output_type": "display_data"
    }
   ],
   "source": [
    "model_manager.save_plot_csv_logger(loss_names=['train_loss_epoch', 'val_loss'], eval_names=['train_acc_epoch', 'val_acc'], name_prepend=f'tests_{k}')\n",
    "model_manager.torch_model = model_manager.torch_model.to(device)\n",
    "save_evaluation(model_manager, data_manager.test_dataloader(), f'{k}',True, True, True, True, True, True, True, multi_class=True)"
   ]
  },
  {
   "cell_type": "code",
   "execution_count": 34,
   "metadata": {},
   "outputs": [
    {
     "name": "stdout",
     "output_type": "stream",
     "text": [
      "test_acc: 0.6729172468185425\n",
      "test_f1: 0.6729172468185425\n",
      "test_precision: 0.6729172468185425\n",
      "test_recall: 0.6729172468185425\n",
      "test_confusion_m: \n",
      "tensor([[1699,  441,  676,  424],\n",
      "        [  17, 1312,   16,   26],\n",
      "        [  18,    8, 1111,  625],\n",
      "        [  10,    8,   16,  579]])\n"
     ]
    },
    {
     "data": {
      "image/png": "[encoded data removed]",
      "text/plain": [
       "<Figure size 640x480 with 1 Axes>"
      ]
     },
     "metadata": {},
     "output_type": "display_data"
    }
   ],
   "source": [
    "model_manager.save_plot_csv_logger(loss_names=['train_loss_epoch', 'val_loss'], eval_names=['train_acc_epoch', 'val_acc'], name_prepend=f'tests_{k}')\n",
    "model_manager.torch_model = model_manager.torch_model.to(device)\n",
    "save_evaluation(model_manager, data_manager.val_dataloader(), f'{k}',True, True, True, True, True, True, True, multi_class=True)"
   ]
  },
  {
   "cell_type": "code",
   "execution_count": 77,
   "metadata": {},
   "outputs": [],
   "source": [
    "# t_dl_l = list(data_manager.train_dataloader())"
   ]
  },
  {
   "cell_type": "code",
   "execution_count": 122,
   "metadata": {},
   "outputs": [
    {
     "data": {
      "text/plain": [
       "tensor(0.7148, device='cuda:0')"
      ]
     },
     "execution_count": 122,
     "metadata": {},
     "output_type": "execute_result"
    }
   ],
   "source": []
  },
  {
   "cell_type": "code",
   "execution_count": 51,
   "metadata": {},
   "outputs": [
    {
     "name": "stdout",
     "output_type": "stream",
     "text": [
      "tensor([[2, 2],\n",
      "        [2, 2],\n",
      "        [0, 2],\n",
      "        [0, 2],\n",
      "        [2, 2],\n",
      "        [2, 2],\n",
      "        [2, 2],\n",
      "        [2, 2],\n",
      "        [2, 2],\n",
      "        [2, 2],\n",
      "        [2, 2],\n",
      "        [2, 2],\n",
      "        [2, 2],\n",
      "        [2, 2],\n",
      "        [2, 2],\n",
      "        [0, 2],\n",
      "        [2, 2],\n",
      "        [2, 2],\n",
      "        [2, 2],\n",
      "        [2, 2],\n",
      "        [2, 2],\n",
      "        [2, 2],\n",
      "        [2, 2],\n",
      "        [2, 2],\n",
      "        [2, 2],\n",
      "        [3, 2],\n",
      "        [2, 2],\n",
      "        [2, 2],\n",
      "        [0, 2],\n",
      "        [0, 2],\n",
      "        [2, 2],\n",
      "        [2, 2],\n",
      "        [3, 2],\n",
      "        [3, 2],\n",
      "        [3, 2],\n",
      "        [3, 2],\n",
      "        [2, 2],\n",
      "        [3, 2],\n",
      "        [3, 2],\n",
      "        [0, 2],\n",
      "        [0, 2],\n",
      "        [2, 2],\n",
      "        [2, 2],\n",
      "        [2, 2],\n",
      "        [2, 2],\n",
      "        [0, 2],\n",
      "        [3, 2],\n",
      "        [3, 2],\n",
      "        [2, 2],\n",
      "        [2, 2],\n",
      "        [3, 2],\n",
      "        [2, 2],\n",
      "        [0, 2],\n",
      "        [3, 2],\n",
      "        [3, 2],\n",
      "        [3, 2],\n",
      "        [2, 2],\n",
      "        [3, 2],\n",
      "        [0, 2],\n",
      "        [2, 2],\n",
      "        [0, 2],\n",
      "        [0, 2],\n",
      "        [3, 2],\n",
      "        [0, 2],\n",
      "        [0, 2],\n",
      "        [3, 2],\n",
      "        [3, 2],\n",
      "        [3, 2],\n",
      "        [3, 2],\n",
      "        [3, 2],\n",
      "        [3, 2],\n",
      "        [2, 2],\n",
      "        [3, 2],\n",
      "        [3, 2],\n",
      "        [3, 2],\n",
      "        [3, 2],\n",
      "        [3, 2],\n",
      "        [1, 3],\n",
      "        [3, 3],\n",
      "        [3, 3],\n",
      "        [3, 3],\n",
      "        [3, 3],\n",
      "        [3, 3],\n",
      "        [3, 3],\n",
      "        [3, 3],\n",
      "        [3, 3],\n",
      "        [3, 3],\n",
      "        [3, 3],\n",
      "        [3, 3],\n",
      "        [3, 3],\n",
      "        [0, 3],\n",
      "        [0, 3],\n",
      "        [3, 3],\n",
      "        [3, 3],\n",
      "        [3, 3],\n",
      "        [3, 3],\n",
      "        [2, 3],\n",
      "        [3, 3],\n",
      "        [3, 3],\n",
      "        [3, 3],\n",
      "        [3, 3],\n",
      "        [3, 3],\n",
      "        [3, 3],\n",
      "        [3, 3],\n",
      "        [3, 3],\n",
      "        [3, 3],\n",
      "        [3, 3],\n",
      "        [3, 3],\n",
      "        [3, 3],\n",
      "        [3, 3],\n",
      "        [3, 3],\n",
      "        [0, 3],\n",
      "        [0, 3],\n",
      "        [3, 3],\n",
      "        [3, 3],\n",
      "        [3, 3],\n",
      "        [3, 3],\n",
      "        [3, 3],\n",
      "        [3, 3],\n",
      "        [3, 3],\n",
      "        [3, 3],\n",
      "        [3, 3],\n",
      "        [3, 3],\n",
      "        [3, 3],\n",
      "        [3, 3],\n",
      "        [3, 3],\n",
      "        [3, 3],\n",
      "        [3, 3],\n",
      "        [3, 3],\n",
      "        [3, 3],\n",
      "        [3, 3],\n",
      "        [3, 3],\n",
      "        [0, 3],\n",
      "        [3, 3],\n",
      "        [3, 3],\n",
      "        [3, 3],\n",
      "        [3, 3],\n",
      "        [3, 3],\n",
      "        [0, 3],\n",
      "        [0, 3],\n",
      "        [0, 3],\n",
      "        [3, 3],\n",
      "        [3, 3],\n",
      "        [3, 3],\n",
      "        [3, 3],\n",
      "        [3, 3],\n",
      "        [3, 3],\n",
      "        [3, 3],\n",
      "        [3, 3],\n",
      "        [3, 3],\n",
      "        [0, 3],\n",
      "        [3, 3],\n",
      "        [0, 3],\n",
      "        [3, 3],\n",
      "        [3, 3],\n",
      "        [3, 3],\n",
      "        [3, 3],\n",
      "        [0, 3],\n",
      "        [3, 3],\n",
      "        [3, 3],\n",
      "        [3, 3],\n",
      "        [3, 3],\n",
      "        [3, 3],\n",
      "        [0, 3],\n",
      "        [3, 3],\n",
      "        [1, 3],\n",
      "        [3, 3],\n",
      "        [3, 3],\n",
      "        [3, 3],\n",
      "        [3, 3],\n",
      "        [3, 3],\n",
      "        [3, 3],\n",
      "        [0, 3],\n",
      "        [3, 3],\n",
      "        [0, 3],\n",
      "        [0, 3],\n",
      "        [0, 3],\n",
      "        [3, 3],\n",
      "        [3, 3],\n",
      "        [0, 3],\n",
      "        [0, 3],\n",
      "        [0, 3],\n",
      "        [3, 3],\n",
      "        [3, 3],\n",
      "        [3, 3],\n",
      "        [3, 3],\n",
      "        [3, 3],\n",
      "        [3, 3],\n",
      "        [3, 3],\n",
      "        [3, 3],\n",
      "        [3, 3],\n",
      "        [3, 3],\n",
      "        [3, 3],\n",
      "        [3, 3],\n",
      "        [3, 3],\n",
      "        [3, 3],\n",
      "        [3, 3],\n",
      "        [3, 3],\n",
      "        [3, 3],\n",
      "        [3, 3],\n",
      "        [3, 3],\n",
      "        [3, 3],\n",
      "        [1, 3],\n",
      "        [3, 3],\n",
      "        [3, 3],\n",
      "        [3, 3],\n",
      "        [3, 3],\n",
      "        [3, 3],\n",
      "        [3, 3],\n",
      "        [3, 3],\n",
      "        [3, 3],\n",
      "        [3, 3],\n",
      "        [2, 3],\n",
      "        [3, 3],\n",
      "        [3, 3],\n",
      "        [3, 3],\n",
      "        [2, 3],\n",
      "        [0, 3],\n",
      "        [2, 3],\n",
      "        [3, 3],\n",
      "        [3, 3],\n",
      "        [3, 3],\n",
      "        [3, 3],\n",
      "        [2, 3],\n",
      "        [3, 3],\n",
      "        [3, 3],\n",
      "        [3, 3],\n",
      "        [3, 3],\n",
      "        [0, 3],\n",
      "        [3, 3],\n",
      "        [3, 3],\n",
      "        [3, 3],\n",
      "        [3, 3],\n",
      "        [3, 3],\n",
      "        [3, 3],\n",
      "        [3, 3],\n",
      "        [3, 3],\n",
      "        [3, 3],\n",
      "        [3, 3],\n",
      "        [3, 3],\n",
      "        [3, 3],\n",
      "        [3, 3],\n",
      "        [3, 3],\n",
      "        [3, 3],\n",
      "        [3, 3],\n",
      "        [3, 3],\n",
      "        [3, 3],\n",
      "        [3, 3],\n",
      "        [3, 3],\n",
      "        [3, 3],\n",
      "        [3, 3],\n",
      "        [3, 3],\n",
      "        [3, 3],\n",
      "        [3, 3],\n",
      "        [1, 3],\n",
      "        [3, 3]], device='cuda:0')\n"
     ]
    }
   ],
   "source": [
    "print(torch.concat([torch.argmax(y1_pred[0], dim=1)[:,None], torch.argmax(y1.to(device),dim=1)[:,None]], dim=1))"
   ]
  },
  {
   "cell_type": "code",
   "execution_count": 35,
   "metadata": {},
   "outputs": [
    {
     "name": "stdout",
     "output_type": "stream",
     "text": [
      "test_acc: 0.6320773363113403\n",
      "test_f1: 0.6320773363113403\n",
      "test_precision: 0.6320773363113403\n",
      "test_recall: 0.6320773363113403\n",
      "test_confusion_m: \n",
      "tensor([[27739,  8801, 11597,  9042],\n",
      "        [  179, 19189,   332,   429],\n",
      "        [  223,   121, 15893, 10335],\n",
      "        [   79,    75,   324,  8538]])\n"
     ]
    },
    {
     "data": {
      "image/png": "[encoded data removed]",
      "text/plain": [
       "<Figure size 640x480 with 1 Axes>"
      ]
     },
     "metadata": {},
     "output_type": "display_data"
    }
   ],
   "source": [
    "model_manager.save_plot_csv_logger(loss_names=['train_loss_epoch', 'val_loss'], eval_names=['train_acc_epoch', 'val_acc'], name_prepend=f'tests_{k}')\n",
    "model_manager.torch_model = model_manager.torch_model.to(device)\n",
    "save_evaluation(model_manager, data_manager.train_dataloader(), f'{k}',True, True, True, True, True, True, True, multi_class=True)"
   ]
  },
  {
   "cell_type": "code",
   "execution_count": null,
   "metadata": {},
   "outputs": [
    {
     "ename": "NameError",
     "evalue": "name 't_dataloader' is not defined",
     "output_type": "error",
     "traceback": [
      "\u001b[1;31m---------------------------------------------------------------------------\u001b[0m",
      "\u001b[1;31mNameError\u001b[0m                                 Traceback (most recent call last)",
      "\u001b[1;32mc:\\Users\\fardin\\Projects\\ColorIntelligence\\Practices\\Tasks\\Tests\\4_SentimentClassificationOnNews.ipynb Cell 19\u001b[0m line \u001b[0;36m1\n\u001b[1;32m----> <a href='vscode-notebook-cell:/c%3A/Users/fardin/Projects/ColorIntelligence/Practices/Tasks/Tests/4_SentimentClassificationOnNews.ipynb#Y112sZmlsZQ%3D%3D?line=0'>1</a>\u001b[0m \u001b[39mlist\u001b[39m(t_dataloader)[\u001b[39m76\u001b[39m]\n",
      "\u001b[1;31mNameError\u001b[0m: name 't_dataloader' is not defined"
     ]
    }
   ],
   "source": [
    "# list(t_dataloader)[76]"
   ]
  },
  {
   "cell_type": "code",
   "execution_count": null,
   "metadata": {},
   "outputs": [
    {
     "name": "stdout",
     "output_type": "stream",
     "text": [
      "dep tensor([45, 45, 45, 45, 45, 45, 45, 45, 45, 45, 45, 45, 45, 45, 45, 45, 45, 45,\n",
      "        45, 45, 45, 45, 45, 45, 45, 45, 45, 45, 45, 45, 45, 45, 45, 45, 45, 45,\n",
      "        45, 45, 45, 45, 45, 45, 45, 45, 45, 45, 45, 45, 45, 45, 45, 45, 45, 45,\n",
      "        45, 45, 45, 45, 45, 45, 45, 45, 45, 45, 45, 45, 45, 45, 45, 45, 45, 45,\n",
      "        45, 45, 45, 45, 45, 45, 45, 45, 45, 45, 45, 45, 45, 45, 45, 45, 45, 45,\n",
      "        45, 45, 45, 45, 45, 45, 45, 45, 45, 45, 45, 45, 45, 45, 45, 45, 45, 45,\n",
      "        45, 45, 45, 45, 45, 45, 45, 45, 45, 45, 45, 45, 45, 45, 45, 45, 45, 45,\n",
      "        45, 45, 45, 45, 45, 45, 45, 45, 45, 45, 45, 45, 45, 45, 45, 45, 45, 45,\n",
      "        45, 45, 45, 45, 45, 45, 45, 45, 45, 45, 45, 45, 45, 45, 45, 45, 45, 45,\n",
      "        45, 45, 45, 45, 45, 45, 45, 45, 45, 45, 45, 45, 45, 45, 45, 45, 45, 45,\n",
      "        45, 45, 45, 45, 45, 45, 45, 45, 45, 45, 45, 45, 45, 45, 45, 45, 45, 45,\n",
      "        45, 45, 45, 45, 45, 45, 45, 45, 45, 45, 45, 45, 45, 45, 45, 45, 45, 45,\n",
      "        45, 45, 45, 45, 45, 45, 45, 45, 45, 45, 45, 45, 45, 45, 45, 45, 45, 45,\n",
      "        45, 45, 45, 45, 45, 45, 45, 45, 45, 45, 45, 45, 45, 45, 45, 45, 45, 45,\n",
      "        45, 45, 45, 45])\n",
      "tag tensor([50, 50, 50, 50, 50, 50, 50, 50, 50, 50, 50, 50, 50, 50, 50, 50, 50, 50,\n",
      "        50, 50, 50, 50, 50, 50, 50, 50, 50, 50, 50, 50, 50, 50, 50, 50, 50, 50,\n",
      "        50, 50, 50, 50, 50, 50, 50, 50, 50, 50, 50, 50, 50, 50, 50, 50, 50, 50,\n",
      "        50, 50, 50, 50, 50, 50, 50, 50, 50, 50, 50, 50, 50, 50, 50, 50, 50, 50,\n",
      "        50, 50, 50, 50, 50, 50, 50, 50, 50, 50, 50, 50, 50, 50, 50, 50, 50, 50,\n",
      "        50, 50, 50, 50, 50, 50, 50, 50, 50, 50, 50, 50, 50, 50, 50, 50, 50, 50,\n",
      "        50, 50, 50, 50, 50, 50, 50, 50, 50, 50, 50, 50, 50, 50, 50, 50, 50, 50,\n",
      "        50, 50, 50, 50, 50, 50, 50, 50, 50, 50, 50, 50, 50, 50, 50, 50, 50, 50,\n",
      "        50, 50, 50, 50, 50, 50, 50, 50, 50, 50, 50, 50, 50, 50, 50, 50, 50, 50,\n",
      "        50, 50, 50, 50, 50, 50, 50, 50, 50, 50, 50, 50, 50, 50, 50, 50, 50, 50,\n",
      "        50, 50, 50, 50, 50, 50, 50, 50, 50, 50, 50, 50, 50, 50, 50, 50, 50, 50,\n",
      "        50, 50, 50, 50, 50, 50, 50, 50, 50, 50, 50, 50, 50, 50, 50, 50, 50, 50,\n",
      "        50, 50, 50, 50, 50, 50, 50, 50, 50, 50, 50, 50, 50, 50, 50, 50, 50, 50,\n",
      "        50, 50, 50, 50, 50, 50, 50, 50, 50, 50, 50, 50, 50, 50, 50, 50, 50, 50,\n",
      "        50, 50, 50, 50])\n",
      "word tensor([ 42,  30,  33,  25,  43,  82,  51,  39,  41,  33,  38,  44,  41,  47,\n",
      "         39,  38,  26,  43,  35,  44,  39,  47,  30,  50,  61,  78,  38,  28,\n",
      "         42,  33,  50,  44,  40,  38,  48,  43,  27,  32,  53,  41,  51,  39,\n",
      "         41,  46,  50,  38,  50,  32,  53,  45,  53,  41,  32,  39,  56,  79,\n",
      "         58,  59,  50,  25,  61,  39,  49,  31,  52,  48,  41,  44,  47,  52,\n",
      "         46,  41,  53,  30,  38,  53,  17,  42,  33,  38,  42,  40,  51,  35,\n",
      "         38,  33,  29,  46,  43,  48,  44,  44,  35,  28,  46,  60,  25,  52,\n",
      "         55,  36,  44,  47,  44,  38,  39,  53,  28,  36,  26,  53,  56,  38,\n",
      "         34,  53,  64,  50,  34,  50,  76,  31,  51,  35,  35,  51,  53,  40,\n",
      "         33,  30,  44,  50,  52,  41,  34,  51,  45,  65,  48,  22,  42,  41,\n",
      "         53,  21,  42,  50,  48,  32,  36,  35,  45,  53,  46,  47,  66,  25,\n",
      "         41,  48,  43,  59,  48,  36,  40,  38,  41,  46,  43,  51,  50,  50,\n",
      "         36,  40,  26,  60,  42,  54,  38,  35,  32,  28,  60,  79,  51,  45,\n",
      "         36,  60,  47,  47,  29,  37,  41,  63,  52,  41,  27,  56,  32,  90,\n",
      "         38,  22,  48,  55,  82,  39,  43,  33,  32,  38,  52,  49,  36,  39,\n",
      "         33,  40,  46, 140,  36,  42,  38,  60,  54,  41,  42,  46,  39,  43,\n",
      "         16,  36,  42,  27,  53,  45,  47,  56,  49,  54,  40,  47,  39,  38,\n",
      "         32,  35,  40,  34,  43,  48, 110,  30,  46,  41,  42,  47,  54,  34,\n",
      "         34,  33,  40,  40])\n",
      "sentence tensor([3, 1, 2, 1, 1, 3, 1, 2, 1, 1, 2, 1, 1, 2, 2, 2, 1, 1, 3, 3, 1, 1, 1, 1,\n",
      "        1, 5, 1, 3, 2, 1, 1, 1, 1, 1, 2, 1, 1, 2, 1, 1, 4, 1, 4, 1, 1, 1, 1, 1,\n",
      "        2, 2, 3, 1, 1, 2, 1, 2, 2, 3, 1, 2, 2, 1, 1, 1, 2, 3, 2, 1, 2, 1, 1, 2,\n",
      "        1, 1, 1, 2, 1, 3, 1, 1, 4, 2, 1, 1, 1, 2, 1, 1, 2, 2, 2, 4, 2, 1, 1, 1,\n",
      "        1, 1, 3, 2, 2, 1, 1, 1, 1, 1, 1, 1, 2, 1, 2, 1, 2, 2, 3, 1, 2, 2, 6, 1,\n",
      "        2, 2, 1, 1, 2, 1, 1, 1, 2, 2, 2, 2, 5, 1, 1, 1, 1, 1, 1, 1, 1, 1, 2, 2,\n",
      "        1, 1, 1, 1, 1, 1, 1, 3, 2, 1, 1, 2, 1, 2, 2, 1, 1, 3, 1, 1, 2, 2, 1, 2,\n",
      "        1, 1, 1, 3, 2, 2, 3, 2, 1, 1, 1, 4, 1, 1, 2, 1, 1, 2, 1, 1, 1, 2, 2, 3,\n",
      "        2, 3, 1, 4, 1, 1, 1, 1, 4, 1, 1, 1, 1, 1, 3, 1, 2, 1, 1, 1, 2, 6, 1, 2,\n",
      "        1, 2, 2, 2, 1, 1, 1, 1, 2, 1, 2, 1, 1, 2, 2, 1, 2, 2, 3, 1, 2, 1, 1, 1,\n",
      "        1, 1, 2, 1, 3, 1, 2, 1, 1, 1, 2, 1, 1, 1, 1, 1])\n",
      "general tensor([1, 1, 1, 1, 1, 1, 1, 1, 1, 1, 1, 1, 1, 1, 1, 1, 1, 1, 1, 1, 1, 1, 1, 1,\n",
      "        1, 1, 1, 1, 1, 1, 1, 1, 1, 1, 1, 1, 1, 1, 1, 1, 1, 1, 1, 1, 1, 1, 1, 1,\n",
      "        1, 1, 1, 1, 1, 1, 1, 1, 1, 1, 1, 1, 1, 1, 1, 1, 1, 1, 1, 1, 1, 1, 1, 1,\n",
      "        1, 1, 1, 1, 1, 1, 1, 1, 1, 1, 1, 1, 1, 1, 1, 1, 1, 1, 1, 1, 1, 1, 1, 1,\n",
      "        1, 1, 1, 1, 1, 1, 1, 1, 1, 1, 1, 1, 1, 1, 1, 1, 1, 1, 1, 1, 1, 1, 1, 1,\n",
      "        1, 1, 1, 1, 1, 1, 1, 1, 1, 1, 1, 1, 1, 1, 1, 1, 1, 1, 1, 1, 1, 1, 1, 1,\n",
      "        1, 1, 1, 1, 1, 1, 1, 1, 1, 1, 1, 1, 1, 1, 1, 1, 1, 1, 1, 1, 1, 1, 1, 1,\n",
      "        1, 1, 1, 1, 1, 1, 1, 1, 1, 1, 1, 1, 1, 1, 1, 1, 1, 1, 1, 1, 1, 1, 1, 1,\n",
      "        1, 1, 1, 1, 1, 1, 1, 1, 1, 1, 1, 1, 1, 1, 1, 1, 1, 1, 1, 1, 1, 1, 1, 1,\n",
      "        1, 1, 1, 1, 1, 1, 1, 1, 1, 1, 1, 1, 1, 1, 1, 1, 1, 1, 1, 1, 1, 1, 1, 1,\n",
      "        1, 1, 1, 1, 1, 1, 1, 1, 1, 1, 1, 1, 1, 1, 1, 1])\n",
      "sentiment tensor([2, 2, 2, 2, 2, 2, 2, 2, 2, 2, 2, 2, 2, 2, 2, 2, 2, 2, 2, 2, 2, 2, 2, 2,\n",
      "        2, 2, 2, 2, 2, 2, 2, 2, 2, 2, 2, 2, 2, 2, 2, 2, 2, 2, 2, 2, 2, 2, 2, 2,\n",
      "        2, 2, 2, 2, 2, 2, 2, 2, 2, 2, 2, 2, 2, 2, 2, 2, 2, 2, 2, 2, 2, 2, 2, 2,\n",
      "        2, 2, 2, 2, 2, 2, 2, 2, 2, 2, 2, 2, 2, 2, 2, 2, 2, 2, 2, 2, 2, 2, 2, 2,\n",
      "        2, 2, 2, 2, 2, 2, 2, 2, 2, 2, 2, 2, 2, 2, 2, 2, 2, 2, 2, 2, 2, 2, 2, 2,\n",
      "        2, 2, 2, 2, 2, 2, 2, 2, 2, 2, 2, 2, 2, 2, 2, 2, 2, 2, 2, 2, 2, 2, 2, 2,\n",
      "        2, 2, 2, 2, 2, 2, 2, 2, 2, 2, 2, 2, 2, 2, 2, 2, 2, 2, 2, 2, 2, 2, 2, 2,\n",
      "        2, 2, 2, 2, 2, 2, 2, 2, 2, 2, 2, 2, 2, 2, 2, 2, 2, 2, 2, 2, 2, 2, 2, 2,\n",
      "        2, 2, 2, 2, 2, 2, 2, 2, 2, 2, 2, 2, 2, 2, 2, 2, 2, 2, 2, 2, 2, 2, 2, 2,\n",
      "        2, 2, 2, 2, 2, 2, 2, 2, 2, 2, 2, 2, 2, 2, 2, 2, 2, 2, 2, 2, 2, 2, 2, 2,\n",
      "        2, 2, 2, 2, 2, 2, 2, 2, 2, 2, 2, 2, 2, 2, 2, 2])\n"
     ]
    }
   ],
   "source": [
    " for k in model_manager.trainer.model.model.x_batches_cpu:\n",
    "     print(k, model_manager.trainer.model.model.x_batches_cpu[k].unique(return_counts=True)[1])"
   ]
  },
  {
   "cell_type": "code",
   "execution_count": null,
   "metadata": {},
   "outputs": [
    {
     "ename": "RuntimeError",
     "evalue": "CUDA error: device-side assert triggered\nCUDA kernel errors might be asynchronously reported at some other API call, so the stacktrace below might be incorrect.\nFor debugging consider passing CUDA_LAUNCH_BLOCKING=1.\nCompile with `TORCH_USE_CUDA_DSA` to enable device-side assertions.\n",
     "output_type": "error",
     "traceback": [
      "\u001b[1;31m---------------------------------------------------------------------------\u001b[0m",
      "\u001b[1;31mRuntimeError\u001b[0m                              Traceback (most recent call last)",
      "\u001b[1;32mc:\\Users\\fardin\\Projects\\ColorIntelligence\\Practices\\Tasks\\Tests\\4_SentimentClassificationOnNews.ipynb Cell 20\u001b[0m line \u001b[0;36m1\n\u001b[1;32m----> <a href='vscode-notebook-cell:/c%3A/Users/fardin/Projects/ColorIntelligence/Practices/Tasks/Tests/4_SentimentClassificationOnNews.ipynb#X65sZmlsZQ%3D%3D?line=0'>1</a>\u001b[0m \u001b[39mprint\u001b[39m(model_manager\u001b[39m.\u001b[39;49mtrainer\u001b[39m.\u001b[39;49mmodel\u001b[39m.\u001b[39;49mmodel\u001b[39m.\u001b[39;49mx_batches[\u001b[39m'\u001b[39;49m\u001b[39mtag\u001b[39;49m\u001b[39m'\u001b[39;49m]\u001b[39m.\u001b[39;49mto(\u001b[39m'\u001b[39;49m\u001b[39mcpu\u001b[39;49m\u001b[39m'\u001b[39;49m))\n",
      "\u001b[1;31mRuntimeError\u001b[0m: CUDA error: device-side assert triggered\nCUDA kernel errors might be asynchronously reported at some other API call, so the stacktrace below might be incorrect.\nFor debugging consider passing CUDA_LAUNCH_BLOCKING=1.\nCompile with `TORCH_USE_CUDA_DSA` to enable device-side assertions.\n"
     ]
    }
   ],
   "source": [
    "print(model_manager.trainer.model.model.x_batches['tag'].to('cpu'))"
   ]
  },
  {
   "cell_type": "code",
   "execution_count": null,
   "metadata": {},
   "outputs": [
    {
     "data": {
      "text/plain": [
       "[1, 1, 1, 1, 1, 1, 1, 1, 1, 1, 1]"
      ]
     },
     "execution_count": 20,
     "metadata": {},
     "output_type": "execute_result"
    }
   ],
   "source": [
    "model_manager.trainer.model.loss_func.loss_logger"
   ]
  },
  {
   "cell_type": "code",
   "execution_count": null,
   "metadata": {},
   "outputs": [],
   "source": [
    "model_manager.torch_model = model_manager.torch_model.to('cuda')\n",
    "save_evaluation(model_manager, data_manager.test_dataloader(), f'{k}',True, True, True, True, True, True, True, True)"
   ]
  },
  {
   "cell_type": "code",
   "execution_count": null,
   "metadata": {},
   "outputs": [
    {
     "name": "stderr",
     "output_type": "stream",
     "text": [
      "c:\\Users\\fardin\\AppData\\Local\\Programs\\Python\\Python310\\lib\\site-packages\\lightning\\pytorch\\utilities\\parsing.py:198: Attribute 'model' is an instance of `nn.Module` and is already saved during checkpointing. It is recommended to ignore them using `self.save_hyperparameters(ignore=['model'])`.\n",
      "GPU available: True (cuda), used: True\n",
      "TPU available: False, using: 0 TPU cores\n",
      "IPU available: False, using: 0 IPUs\n",
      "HPU available: False, using: 0 HPUs\n"
     ]
    }
   ],
   "source": [
    "# lightning_model = HeteroBinaryLightningModel.load_from_checkpoint(r'C:\\Users\\fardin\\Projects\\ColorIntelligence\\logs\\hetero_model_5\\version_0\\checkpoints\\epoch=7-step=2056.ckpt', model=)\n",
    "\n",
    "# callbacks = [\n",
    "#     ModelCheckpoint(save_top_k=5, mode='max', monitor='val_acc', save_last=True),\n",
    "#     EarlyStopping(patience=50, mode='max', monitor='val_acc')\n",
    "# ]\n",
    "lightning_model = MultiClassLightningModel(graph_embedding, 4,\n",
    "                                 torch.optim.Adam(graph_embedding.parameters(), lr=0.004, weight_decay=0.001),\n",
    "                                       loss_func=torch.nn.CrossEntropyLoss(),\n",
    "                                       lr=0.004,\n",
    "                                       batch_size=batch_size,\n",
    "                                       user_lr_scheduler=True,\n",
    "                                       min_lr=0.00005\n",
    "                                       ).to(device)\n",
    "model_manager = ClassifierModelManager(graph_embedding, lightning_model, log_name='hetero_model_6', model_save_dir=r'C:\\Users\\fardin\\Projects\\ColorIntelligence\\Practices\\Tasks\\HeterogeneousGraphs\\hetero_model_3',device=device, num_train_epoch=200)"
   ]
  },
  {
   "cell_type": "code",
   "execution_count": null,
   "metadata": {},
   "outputs": [],
   "source": [
    "# model_manager.tune(data_manager=data_manager, min_lr=1e-7, max_lr = 1e-2)"
   ]
  },
  {
   "cell_type": "code",
   "execution_count": null,
   "metadata": {},
   "outputs": [
    {
     "name": "stderr",
     "output_type": "stream",
     "text": [
      "LOCAL_RANK: 0 - CUDA_VISIBLE_DEVICES: [0]\n"
     ]
    },
    {
     "name": "stdout",
     "output_type": "stream",
     "text": [
      "bbbb\n"
     ]
    },
    {
     "name": "stderr",
     "output_type": "stream",
     "text": [
      "\n",
      "  | Name      | Type                      | Params\n",
      "--------------------------------------------------------\n",
      "0 | model     | HeteroDeepGraphEmbedding4 | 3.8 M \n",
      "1 | loss_func | CrossEntropyLoss          | 0     \n",
      "2 | train_acc | MulticlassAccuracy        | 0     \n",
      "3 | val_acc   | MulticlassAccuracy        | 0     \n",
      "4 | test_acc  | MulticlassAccuracy        | 0     \n",
      "--------------------------------------------------------\n",
      "3.8 M     Trainable params\n",
      "22        Non-trainable params\n",
      "3.8 M     Total params\n",
      "15.279    Total estimated model params size (MB)\n",
      "c:\\Users\\fardin\\AppData\\Local\\Programs\\Python\\Python310\\lib\\site-packages\\lightning\\pytorch\\trainer\\connectors\\data_connector.py:441: The 'train_dataloader' does not have many workers which may be a bottleneck. Consider increasing the value of the `num_workers` argument` to `num_workers=7` in the `DataLoader` to improve performance.\n",
      "c:\\Users\\fardin\\AppData\\Local\\Programs\\Python\\Python310\\lib\\site-packages\\lightning\\pytorch\\trainer\\connectors\\data_connector.py:441: The 'val_dataloader' does not have many workers which may be a bottleneck. Consider increasing the value of the `num_workers` argument` to `num_workers=7` in the `DataLoader` to improve performance.\n"
     ]
    },
    {
     "data": {
      "application/vnd.jupyter.widget-view+json": {
       "model_id": "cbb8f8c67adf42cfab6c21e48171230c",
       "version_major": 2,
       "version_minor": 0
      },
      "text/plain": [
       "Training: |          | 0/? [00:00<?, ?it/s]"
      ]
     },
     "metadata": {},
     "output_type": "display_data"
    },
    {
     "data": {
      "application/vnd.jupyter.widget-view+json": {
       "model_id": "d39b362dea4442dba195dcf85df71255",
       "version_major": 2,
       "version_minor": 0
      },
      "text/plain": [
       "Validation: |          | 0/? [00:00<?, ?it/s]"
      ]
     },
     "metadata": {},
     "output_type": "display_data"
    },
    {
     "data": {
      "application/vnd.jupyter.widget-view+json": {
       "model_id": "c1337b90d7ea4317a349e82c633f04c8",
       "version_major": 2,
       "version_minor": 0
      },
      "text/plain": [
       "Validation: |          | 0/? [00:00<?, ?it/s]"
      ]
     },
     "metadata": {},
     "output_type": "display_data"
    },
    {
     "data": {
      "application/vnd.jupyter.widget-view+json": {
       "model_id": "caaeecfda06d4283b7c7d9d98baa584e",
       "version_major": 2,
       "version_minor": 0
      },
      "text/plain": [
       "Validation: |          | 0/? [00:00<?, ?it/s]"
      ]
     },
     "metadata": {},
     "output_type": "display_data"
    },
    {
     "data": {
      "application/vnd.jupyter.widget-view+json": {
       "model_id": "82227f070e1944f4adafa0d2a5bba6b2",
       "version_major": 2,
       "version_minor": 0
      },
      "text/plain": [
       "Validation: |          | 0/? [00:00<?, ?it/s]"
      ]
     },
     "metadata": {},
     "output_type": "display_data"
    },
    {
     "data": {
      "application/vnd.jupyter.widget-view+json": {
       "model_id": "3cc9e45877ec41f688019ee86a2a5f82",
       "version_major": 2,
       "version_minor": 0
      },
      "text/plain": [
       "Validation: |          | 0/? [00:00<?, ?it/s]"
      ]
     },
     "metadata": {},
     "output_type": "display_data"
    },
    {
     "data": {
      "application/vnd.jupyter.widget-view+json": {
       "model_id": "771e58f93bb149e19116494d5345d86a",
       "version_major": 2,
       "version_minor": 0
      },
      "text/plain": [
       "Validation: |          | 0/? [00:00<?, ?it/s]"
      ]
     },
     "metadata": {},
     "output_type": "display_data"
    },
    {
     "data": {
      "application/vnd.jupyter.widget-view+json": {
       "model_id": "e6fd4ff20cbe48a7b538101d4fcc66f4",
       "version_major": 2,
       "version_minor": 0
      },
      "text/plain": [
       "Validation: |          | 0/? [00:00<?, ?it/s]"
      ]
     },
     "metadata": {},
     "output_type": "display_data"
    },
    {
     "name": "stderr",
     "output_type": "stream",
     "text": [
      "c:\\Users\\fardin\\AppData\\Local\\Programs\\Python\\Python310\\lib\\site-packages\\lightning\\pytorch\\trainer\\call.py:58: Detected KeyboardInterrupt, attempting graceful shutdown...\n"
     ]
    }
   ],
   "source": [
    "model_manager.fit(datamodule=data_manager)"
   ]
  },
  {
   "cell_type": "code",
   "execution_count": null,
   "metadata": {},
   "outputs": [],
   "source": [
    "from sklearn.metrics import classification_report, f1_score, accuracy_score, precision_score, recall_score, confusion_matrix, hinge_loss\n",
    "\n",
    "def evaluate(eval_dataloader,\n",
    "                 give_confusion_matrix: bool=True, \n",
    "                 give_report: bool=True, \n",
    "                 give_f1_score: bool=False, \n",
    "                 give_accuracy_score: bool=False, \n",
    "                 give_precision_score: bool=False, \n",
    "                 give_recall_score: bool=False, \n",
    "                 give_hinge_loss: bool=False):\n",
    "        y_true = []\n",
    "        y_pred = []\n",
    "        model_manager.lightning_model.eval()\n",
    "        for X, y in eval_dataloader:\n",
    "            print(f\"ii: {X.edge_index_dict[('word', 'word_sentiment', 'sentiment')]}\")\n",
    "            y_p, _ = model_manager.torch_model(X.to(device))\n",
    "            y_pred.append((y_p>0).to(torch.int32).detach().to(y.device))\n",
    "            y_true.append(y.to(torch.int32))\n",
    "        y_true = torch.concat(y_true)\n",
    "        y_pred = torch.concat(y_pred)\n",
    "        print(f\"ii: {y_true.shape} : {y_pred.shape}\")\n",
    "        if(give_confusion_matrix):\n",
    "            print(f'confusion_matrix: \\n{confusion_matrix(y_true, y_pred)}')\n",
    "        if(give_report):\n",
    "            print(classification_report(y_true, y_pred))\n",
    "        if(give_f1_score):\n",
    "            print(f'f1_score: {f1_score(y_true, y_pred)}')\n",
    "        if(give_accuracy_score):\n",
    "            print(f'accuracy_score: {accuracy_score(y_true, y_pred)}')\n",
    "        if(give_precision_score):\n",
    "            print(f'precision_score: {precision_score(y_true, y_pred)}')\n",
    "        if(give_recall_score):\n",
    "            print(f'recall_score: {recall_score(y_true, y_pred)}')\n",
    "        if(give_hinge_loss):\n",
    "            print(f'hinge_loss: {hinge_loss(y_true, y_pred)}')"
   ]
  },
  {
   "cell_type": "code",
   "execution_count": null,
   "metadata": {},
   "outputs": [],
   "source": [
    "X3, y3 = next(iter(data_manager.test_dataloader()))"
   ]
  },
  {
   "cell_type": "code",
   "execution_count": null,
   "metadata": {},
   "outputs": [],
   "source": [
    "evaluate(data_manager.test_dataloader())"
   ]
  },
  {
   "cell_type": "code",
   "execution_count": null,
   "metadata": {},
   "outputs": [],
   "source": [
    "model_manager.trainer.save_checkpoint(r'C:\\Users\\fardin\\Desktop\\Learning Parts 2\\part1\\deep_graph_embedding_1.ckpt')"
   ]
  },
  {
   "cell_type": "code",
   "execution_count": null,
   "metadata": {},
   "outputs": [],
   "source": [
    "custom_model = HeteroBinaryLightningModel.load_from_checkpoint(r'C:\\Users\\fardin\\Desktop\\Learning Parts 2\\part1\\deep_graph_embedding_1.ckpt', model=graph_embedding)"
   ]
  },
  {
   "cell_type": "code",
   "execution_count": null,
   "metadata": {},
   "outputs": [],
   "source": [
    "test_dataloader = data_manager.test_dataloader()\n",
    "x_t, y_t = next(iter(test_dataloader))\n",
    "len(x_t)"
   ]
  }
 ],
 "metadata": {
  "kernelspec": {
   "display_name": "Python 3",
   "language": "python",
   "name": "python3"
  },
  "language_info": {
   "codemirror_mode": {
    "name": "ipython",
    "version": 3
   },
   "file_extension": ".py",
   "mimetype": "text/x-python",
   "name": "python",
   "nbconvert_exporter": "python",
   "pygments_lexer": "ipython3",
   "version": "3.10.11"
  }
 },
 "nbformat": 4,
 "nbformat_minor": 2
}
