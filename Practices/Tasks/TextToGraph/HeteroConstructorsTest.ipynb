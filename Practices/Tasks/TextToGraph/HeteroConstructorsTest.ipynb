{
 "cells": [
  {
   "cell_type": "code",
   "execution_count": 2,
   "metadata": {},
   "outputs": [],
   "source": [
    "import numpy as np\n",
    "import pandas as pd\n",
    "import matplotlib.pyplot as plt\n",
    "import seaborn as sns\n",
    "import re\n",
    "import nltk\n",
    "import torch\n",
    "from nltk.corpus import stopwords\n",
    "from nltk.stem import SnowballStemmer\n",
    "from collections import Counter\n",
    "from wordcloud import WordCloud\n",
    "from sklearn.feature_extraction.text import TfidfVectorizer\n",
    "from sklearn.svm import LinearSVC\n",
    "from sklearn.metrics import accuracy_score, classification_report\n",
    "from Scripts.DataManager.GraphConstructor.TagsGraphConstructor import TagsGraphConstructor\n",
    "from Scripts.DataManager.GraphConstructor.DependencyGraphConstructor import DependencyGraphConstructor\n",
    "from Scripts.DataManager.GraphConstructor.SequentialGraphConstructor import SequentialGraphConstructor\n",
    "stop_words = set(stopwords.words('english'))\n",
    "stemmer = SnowballStemmer('english')\n",
    "from Scripts.Configs.ConfigClass import Config\n",
    "config = Config(r'C:\\Users\\fardin\\Projects\\ColorIntelligence\\Scripts\\Configs\\Config.json')\n",
    "from torch_geometric.data import Data\n",
    "from torch_geometric.utils import to_networkx\n",
    "import networkx as nx"
   ]
  },
  {
   "cell_type": "code",
   "execution_count": 3,
   "metadata": {},
   "outputs": [],
   "source": [
    "train_df = pd.read_csv(r'C:\\Users\\fardin\\Projects\\ColorIntelligence\\data\\Amazon-Review\\train_sm.csv')\n",
    "test_df = pd.read_csv(r'C:\\Users\\fardin\\Projects\\ColorIntelligence\\data\\Amazon-Review\\test_sm.csv')"
   ]
  },
  {
   "cell_type": "code",
   "execution_count": 4,
   "metadata": {},
   "outputs": [],
   "source": [
    "train_df.columns = ['Polarity', 'Title', 'Review']\n",
    "test_df.columns = ['Polarity', 'Title', 'Review']"
   ]
  },
  {
   "cell_type": "code",
   "execution_count": 5,
   "metadata": {},
   "outputs": [],
   "source": [
    "train_df = train_df[['Polarity', 'Review']]\n",
    "test_df = test_df[['Polarity', 'Review']]"
   ]
  },
  {
   "cell_type": "code",
   "execution_count": 6,
   "metadata": {},
   "outputs": [
    {
     "name": "stdout",
     "output_type": "stream",
     "text": [
      "i: 0\n",
      "HeteroData(\n",
      "  dep={ x=[45, 300] },\n",
      "  word={ x=[104, 300] },\n",
      "  (dep, dep_word, word)={\n",
      "    edge_index=[2, 100],\n",
      "    edge_attr=[100],\n",
      "  },\n",
      "  (word, word_dep, dep)={\n",
      "    edge_index=[2, 100],\n",
      "    edge_attr=[100],\n",
      "  },\n",
      "  (word, seq, word)={\n",
      "    edge_index=[2, 206],\n",
      "    edge_attr=[206],\n",
      "  }\n",
      ")\n"
     ]
    }
   ],
   "source": [
    "# start_time = time.time()\n",
    "# graph_const = CoOccurrenceGraphConstructor(train_df['Review'], 'AmazonReview', config, lazy_construction=True,  load_preprocessed_data=True, naming_prepend='graph')\n",
    "# print(f'execution time in second: {time.time() - start_time}')\n",
    "graph_const = DependencyGraphConstructor(train_df['Review'][:10], 'AmazonReview', config, lazy_construction=False, naming_prepend='graph', load_preprocessed_data=False , use_node_dependencies=True)\n",
    "# graph = graph_const.to_graph(train_df['Review'][0])\n",
    "print(graph_const.get_graph(0))"
   ]
  },
  {
   "cell_type": "code",
   "execution_count": 7,
   "metadata": {},
   "outputs": [
    {
     "name": "stdout",
     "output_type": "stream",
     "text": [
      "i: 0\n",
      "HeteroData(\n",
      "  tag={ x=[50, 300] },\n",
      "  word={ x=[104, 300] },\n",
      "  (tag, tag_word, word)={\n",
      "    edge_index=[2, 104],\n",
      "    edge_attr=[104],\n",
      "  },\n",
      "  (word, word_tag, tag)={\n",
      "    edge_index=[2, 104],\n",
      "    edge_attr=[104],\n",
      "  },\n",
      "  (word, seq, word)={\n",
      "    edge_index=[2, 206],\n",
      "    edge_attr=[206],\n",
      "  }\n",
      ")\n"
     ]
    }
   ],
   "source": [
    "# start_time = time.time()\n",
    "# graph_const = CoOccurrenceGraphConstructor(train_df['Review'], 'AmazonReview', config, lazy_construction=True,  load_preprocessed_data=True, naming_prepend='graph')\n",
    "# print(f'execution time in second: {time.time() - start_time}')\n",
    "graph_const = TagsGraphConstructor(train_df['Review'][:10], 'AmazonReview', config, lazy_construction=False, naming_prepend='graph', load_preprocessed_data=False)\n",
    "# graph = graph_const.to_graph(train_df['Review'][0])\n",
    "print(graph_const.get_graph(0))"
   ]
  },
  {
   "cell_type": "code",
   "execution_count": 8,
   "metadata": {},
   "outputs": [
    {
     "name": "stdout",
     "output_type": "stream",
     "text": [
      "i: 0\n",
      "HeteroData(\n",
      "  general={ x=[1, 300] },\n",
      "  word={ x=[104, 300] },\n",
      "  (general, general_word, word)={\n",
      "    edge_index=[2, 104],\n",
      "    edge_attr=[104],\n",
      "  },\n",
      "  (word, word_general, general)={\n",
      "    edge_index=[2, 104],\n",
      "    edge_attr=[104],\n",
      "  },\n",
      "  (word, seq, word)={\n",
      "    edge_index=[2, 206],\n",
      "    edge_attr=[206],\n",
      "  }\n",
      ")\n"
     ]
    }
   ],
   "source": [
    "# start_time = time.time()\n",
    "# graph_const = CoOccurrenceGraphConstructor(train_df['Review'], 'AmazonReview', config, lazy_construction=True,  load_preprocessed_data=True, naming_prepend='graph')\n",
    "# print(f'execution time in second: {time.time() - start_time}')\n",
    "graph_const = SequentialGraphConstructor(train_df['Review'][:10], 'AmazonReview', config, lazy_construction=False, naming_prepend='graph', load_preprocessed_data=False,use_general_node=True)\n",
    "# graph = graph_const.to_graph(train_df['Review'][0])\n",
    "print(graph_const.get_graph(0))"
   ]
  },
  {
   "cell_type": "code",
   "execution_count": 9,
   "metadata": {},
   "outputs": [
    {
     "name": "stdout",
     "output_type": "stream",
     "text": [
      "i: 0\n",
      "Data(x=[104, 300], edge_index=[2, 206], edge_attr=[206])\n"
     ]
    }
   ],
   "source": [
    "# start_time = time.time()\n",
    "# graph_const = CoOccurrenceGraphConstructor(train_df['Review'], 'AmazonReview', config, lazy_construction=True,  load_preprocessed_data=True, naming_prepend='graph')\n",
    "# print(f'execution time in second: {time.time() - start_time}')\n",
    "graph_const = SequentialGraphConstructor(train_df['Review'][:10], 'AmazonReview', config, lazy_construction=False, naming_prepend='graph', load_preprocessed_data=False,use_general_node=False)\n",
    "# graph = graph_const.to_graph(train_df['Review'][0])\n",
    "print(graph_const.get_graph(0))"
   ]
  }
 ],
 "metadata": {
  "kernelspec": {
   "display_name": "Python 3",
   "language": "python",
   "name": "python3"
  },
  "language_info": {
   "codemirror_mode": {
    "name": "ipython",
    "version": 3
   },
   "file_extension": ".py",
   "mimetype": "text/x-python",
   "name": "python",
   "nbconvert_exporter": "python",
   "pygments_lexer": "ipython3",
   "version": "3.10.11"
  }
 },
 "nbformat": 4,
 "nbformat_minor": 2
}
