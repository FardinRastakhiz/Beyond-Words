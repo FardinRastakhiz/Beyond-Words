{
 "cells": [
  {
   "cell_type": "markdown",
   "metadata": {},
   "source": [
    "#### Omid Davar @2023"
   ]
  },
  {
   "cell_type": "code",
   "execution_count": 1,
   "metadata": {},
   "outputs": [],
   "source": [
    "import numpy as np\n",
    "from Scripts.Configs.ConfigClass import Config\n",
    "from Scripts.DataManager.GraphConstructor.GraphConstructor import TextGraphType\n",
    "from lightning.pytorch.loggers import CSVLogger\n",
    "import os\n",
    "from Scripts.DataManager.GraphLoader.TwitterGraphDataModule import TwitterGraphDataModule\n",
    "import time\n",
    "\n",
    "config = Config(r'E:\\Darsi\\Payan Name Arshad\\Second Work\\ColorIntelligence2')\n",
    "os.environ['CUDA_LAUNCH_BLOCKING'] = \"1\"\n",
    "device = 'cuda'\n",
    "batch_size = 128"
   ]
  },
  {
   "cell_type": "code",
   "execution_count": 5,
   "metadata": {},
   "outputs": [
    {
     "name": "stdout",
     "output_type": "stream",
     "text": [
      "      Polarity                                              Tweet\n",
      "0            4  i had the best dream last night. i'd like to m...\n",
      "1            0             I wonder what's wrong with @0halysssa \n",
      "2            0                            @xosaturday  I'm sorry.\n",
      "3            0  headin off 2 do somework but fell blah for sum...\n",
      "4            4  @TaylaMe3 thts prob the best idea not to drink...\n",
      "...        ...                                                ...\n",
      "9995         0  Arrived in Glasgow, too bad I'll only see the ...\n",
      "9996         4  Itz always nice having a friend who is willing...\n",
      "9997         0  @froznvoice - Since the cavs made the playoffs...\n",
      "9998         4  having rainforrest alliance coffee at shell se...\n",
      "9999         0  @srmccarthy WTF Indeed! House hallucinated the...\n",
      "\n",
      "[10000 rows x 2 columns]\n",
      "self.num_data_load: 5000\n",
      "i: 0\n"
     ]
    },
    {
     "ename": "IndexError",
     "evalue": "Dimension out of range (expected to be in range of [-1, 0], but got 1)",
     "output_type": "error",
     "traceback": [
      "\u001b[1;31m---------------------------------------------------------------------------\u001b[0m",
      "\u001b[1;31mIndexError\u001b[0m                                Traceback (most recent call last)",
      "\u001b[1;32me:\\Darsi\\Payan Name Arshad\\Second Work\\ColorIntelligence2\\Practices\\Tasks\\DataLoaders\\TestSentiment140DataModule.ipynb Cell 2\u001b[0m line \u001b[0;36m4\n\u001b[0;32m      <a href='vscode-notebook-cell:/e%3A/Darsi/Payan%20Name%20Arshad/Second%20Work/ColorIntelligence2/Practices/Tasks/DataLoaders/TestSentiment140DataModule.ipynb#W1sZmlsZQ%3D%3D?line=1'>2</a>\u001b[0m data_manager \u001b[39m=\u001b[39m TwitterGraphDataModule(config, \u001b[39mTrue\u001b[39;00m, \u001b[39mTrue\u001b[39;00m, shuffle\u001b[39m=\u001b[39m\u001b[39mFalse\u001b[39;00m, num_data_load \u001b[39m=\u001b[39m \u001b[39m5000\u001b[39m, device\u001b[39m=\u001b[39m\u001b[39m'\u001b[39m\u001b[39mcpu\u001b[39m\u001b[39m'\u001b[39m, batch_size\u001b[39m=\u001b[39mbatch_size, graph_type\u001b[39m=\u001b[39mtag_dep_seq_sent, load_preprocessed_data \u001b[39m=\u001b[39m \u001b[39mFalse\u001b[39;00m)\n\u001b[0;32m      <a href='vscode-notebook-cell:/e%3A/Darsi/Payan%20Name%20Arshad/Second%20Work/ColorIntelligence2/Practices/Tasks/DataLoaders/TestSentiment140DataModule.ipynb#W1sZmlsZQ%3D%3D?line=2'>3</a>\u001b[0m data_manager\u001b[39m.\u001b[39mload_labels()\n\u001b[1;32m----> <a href='vscode-notebook-cell:/e%3A/Darsi/Payan%20Name%20Arshad/Second%20Work/ColorIntelligence2/Practices/Tasks/DataLoaders/TestSentiment140DataModule.ipynb#W1sZmlsZQ%3D%3D?line=3'>4</a>\u001b[0m data_manager\u001b[39m.\u001b[39;49mload_graphs()\n",
      "File \u001b[1;32me:\\Darsi\\Payan Name Arshad\\Second Work\\ColorIntelligence2\\Scripts\\DataManager\\GraphLoader\\TwitterGraphDataModule.py:80\u001b[0m, in \u001b[0;36mTwitterGraphDataModule.load_graphs\u001b[1;34m(self)\u001b[0m\n\u001b[0;32m     78\u001b[0m \u001b[39mself\u001b[39m\u001b[39m.\u001b[39m__train_dataloader, \u001b[39mself\u001b[39m\u001b[39m.\u001b[39m__test_dataloader, \u001b[39mself\u001b[39m\u001b[39m.\u001b[39m__val_dataloader \u001b[39m=\u001b[39m {}, {}, {}\n\u001b[0;32m     79\u001b[0m \u001b[39mfor\u001b[39;00m key \u001b[39min\u001b[39;00m \u001b[39mself\u001b[39m\u001b[39m.\u001b[39mgraph_constructors:\n\u001b[1;32m---> 80\u001b[0m     \u001b[39mself\u001b[39;49m\u001b[39m.\u001b[39;49mgraph_constructors[key]\u001b[39m.\u001b[39;49msetup(\u001b[39mself\u001b[39;49m\u001b[39m.\u001b[39;49mload_preprocessed_data)\n\u001b[0;32m     81\u001b[0m     \u001b[39m# reweighting\u001b[39;00m\n\u001b[0;32m     82\u001b[0m     \u001b[39mif\u001b[39;00m key \u001b[39min\u001b[39;00m \u001b[39mself\u001b[39m\u001b[39m.\u001b[39mreweights:\n",
      "File \u001b[1;32me:\\Darsi\\Payan Name Arshad\\Second Work\\ColorIntelligence2\\Scripts\\DataManager\\GraphConstructor\\TagDepTokenGraphConstructor.py:59\u001b[0m, in \u001b[0;36mTagDepTokenGraphConstructor.setup\u001b[1;34m(self, load_preprocessed_data)\u001b[0m\n\u001b[0;32m     57\u001b[0m             save_start \u001b[39m=\u001b[39m i\n\u001b[0;32m     58\u001b[0m             \u001b[39mprint\u001b[39m(\u001b[39mf\u001b[39m\u001b[39m'\u001b[39m\u001b[39mi: \u001b[39m\u001b[39m{\u001b[39;00mi\u001b[39m}\u001b[39;00m\u001b[39m'\u001b[39m)\n\u001b[1;32m---> 59\u001b[0m         \u001b[39mself\u001b[39m\u001b[39m.\u001b[39m_graphs[i] \u001b[39m=\u001b[39m \u001b[39mself\u001b[39;49m\u001b[39m.\u001b[39;49mto_graph(\u001b[39mself\u001b[39;49m\u001b[39m.\u001b[39;49mraw_data[i])\n\u001b[0;32m     60\u001b[0m         \u001b[39mself\u001b[39m\u001b[39m.\u001b[39mvar\u001b[39m.\u001b[39mgraphs_name[i] \u001b[39m=\u001b[39m \u001b[39mf\u001b[39m\u001b[39m'\u001b[39m\u001b[39m{\u001b[39;00m\u001b[39mself\u001b[39m\u001b[39m.\u001b[39mnaming_prepend\u001b[39m}\u001b[39;00m\u001b[39m_\u001b[39m\u001b[39m{\u001b[39;00mi\u001b[39m}\u001b[39;00m\u001b[39m'\u001b[39m\n\u001b[0;32m     61\u001b[0m \u001b[39mself\u001b[39m\u001b[39m.\u001b[39msave_data_range(save_start, \u001b[39mself\u001b[39m\u001b[39m.\u001b[39mnum_data_load)\n",
      "File \u001b[1;32me:\\Darsi\\Payan Name Arshad\\Second Work\\ColorIntelligence2\\Scripts\\DataManager\\GraphConstructor\\TagDepTokenGraphConstructor.py:70\u001b[0m, in \u001b[0;36mTagDepTokenGraphConstructor.to_graph\u001b[1;34m(self, text)\u001b[0m\n\u001b[0;32m     67\u001b[0m \u001b[39m# if len(doc) < 2:\u001b[39;00m\n\u001b[0;32m     68\u001b[0m \u001b[39m#     return\u001b[39;00m\n\u001b[0;32m     69\u001b[0m \u001b[39mif\u001b[39;00m \u001b[39mself\u001b[39m\u001b[39m.\u001b[39muse_sentence_nodes:\n\u001b[1;32m---> 70\u001b[0m     \u001b[39mreturn\u001b[39;00m \u001b[39mself\u001b[39;49m\u001b[39m.\u001b[39;49m__create_graph_with_sentences(doc)\n\u001b[0;32m     71\u001b[0m \u001b[39melse\u001b[39;00m:\n\u001b[0;32m     72\u001b[0m     \u001b[39mreturn\u001b[39;00m \u001b[39mself\u001b[39m\u001b[39m.\u001b[39m__create_graph(doc, use_general_node\u001b[39m=\u001b[39m\u001b[39mself\u001b[39m\u001b[39m.\u001b[39muse_general_node)\n",
      "File \u001b[1;32me:\\Darsi\\Payan Name Arshad\\Second Work\\ColorIntelligence2\\Scripts\\DataManager\\GraphConstructor\\TagDepTokenGraphConstructor.py:98\u001b[0m, in \u001b[0;36mTagDepTokenGraphConstructor.__create_graph_with_sentences\u001b[1;34m(self, doc, for_compression)\u001b[0m\n\u001b[0;32m     97\u001b[0m \u001b[39mdef\u001b[39;00m \u001b[39m__create_graph_with_sentences\u001b[39m(\u001b[39mself\u001b[39m , doc , for_compression\u001b[39m=\u001b[39m\u001b[39mFalse\u001b[39;00m):\n\u001b[1;32m---> 98\u001b[0m     data \u001b[39m=\u001b[39m \u001b[39mself\u001b[39;49m\u001b[39m.\u001b[39;49m__create_graph(doc,for_compression,\u001b[39mFalse\u001b[39;49;00m)\n\u001b[0;32m     99\u001b[0m     sentence_embeddings \u001b[39m=\u001b[39m [sent\u001b[39m.\u001b[39mvector \u001b[39mfor\u001b[39;00m sent \u001b[39min\u001b[39;00m doc\u001b[39m.\u001b[39msents]\n\u001b[0;32m    100\u001b[0m     data[\u001b[39m'\u001b[39m\u001b[39msentence\u001b[39m\u001b[39m'\u001b[39m]\u001b[39m.\u001b[39mx \u001b[39m=\u001b[39m torch\u001b[39m.\u001b[39mtensor(sentence_embeddings, dtype\u001b[39m=\u001b[39mtorch\u001b[39m.\u001b[39mfloat32)\n",
      "File \u001b[1;32me:\\Darsi\\Payan Name Arshad\\Second Work\\ColorIntelligence2\\Scripts\\DataManager\\GraphConstructor\\TagDepTokenGraphConstructor.py:209\u001b[0m, in \u001b[0;36mTagDepTokenGraphConstructor.__create_graph\u001b[1;34m(self, doc, for_compression, use_general_node)\u001b[0m\n\u001b[0;32m    207\u001b[0m         general_word_edge_index\u001b[39m.\u001b[39mappend([\u001b[39m0\u001b[39m , token\u001b[39m.\u001b[39mi])\n\u001b[0;32m    208\u001b[0m         general_word_edge_attr\u001b[39m.\u001b[39mappend(\u001b[39mself\u001b[39m\u001b[39m.\u001b[39msettings[\u001b[39m\"\u001b[39m\u001b[39mgeneral_token_weight\u001b[39m\u001b[39m\"\u001b[39m])\n\u001b[1;32m--> 209\u001b[0m data[\u001b[39m'\u001b[39m\u001b[39mdep\u001b[39m\u001b[39m'\u001b[39m , \u001b[39m'\u001b[39m\u001b[39mdep_word\u001b[39m\u001b[39m'\u001b[39m , \u001b[39m'\u001b[39m\u001b[39mword\u001b[39m\u001b[39m'\u001b[39m]\u001b[39m.\u001b[39medge_index \u001b[39m=\u001b[39m torch\u001b[39m.\u001b[39;49mtranspose(torch\u001b[39m.\u001b[39;49mtensor(dep_word_edge_index, dtype\u001b[39m=\u001b[39;49mtorch\u001b[39m.\u001b[39;49mint32) , \u001b[39m0\u001b[39;49m , \u001b[39m1\u001b[39;49m)\n\u001b[0;32m    210\u001b[0m data[\u001b[39m'\u001b[39m\u001b[39mword\u001b[39m\u001b[39m'\u001b[39m , \u001b[39m'\u001b[39m\u001b[39mword_dep\u001b[39m\u001b[39m'\u001b[39m , \u001b[39m'\u001b[39m\u001b[39mdep\u001b[39m\u001b[39m'\u001b[39m]\u001b[39m.\u001b[39medge_index \u001b[39m=\u001b[39m torch\u001b[39m.\u001b[39mtranspose(torch\u001b[39m.\u001b[39mtensor(word_dep_edge_index, dtype\u001b[39m=\u001b[39mtorch\u001b[39m.\u001b[39mint32) , \u001b[39m0\u001b[39m , \u001b[39m1\u001b[39m)\n\u001b[0;32m    211\u001b[0m data[\u001b[39m'\u001b[39m\u001b[39mtag\u001b[39m\u001b[39m'\u001b[39m, \u001b[39m'\u001b[39m\u001b[39mtag_word\u001b[39m\u001b[39m'\u001b[39m, \u001b[39m'\u001b[39m\u001b[39mword\u001b[39m\u001b[39m'\u001b[39m]\u001b[39m.\u001b[39medge_index \u001b[39m=\u001b[39m torch\u001b[39m.\u001b[39mtranspose(torch\u001b[39m.\u001b[39mtensor(tag_word_edge_index, dtype\u001b[39m=\u001b[39mtorch\u001b[39m.\u001b[39mint32) , \u001b[39m0\u001b[39m , \u001b[39m1\u001b[39m)\n",
      "\u001b[1;31mIndexError\u001b[0m: Dimension out of range (expected to be in range of [-1, 0], but got 1)"
     ]
    }
   ],
   "source": [
    "tag_dep_seq_sent = TextGraphType.DEPENDENCY | TextGraphType.TAGS | TextGraphType.SEQUENTIAL | TextGraphType.SENTENCE\n",
    "data_manager = TwitterGraphDataModule(config, True, True, shuffle=False, num_data_load = 5000, device='cpu', batch_size=batch_size, graph_type=tag_dep_seq_sent, load_preprocessed_data = False)\n",
    "data_manager.load_labels()\n",
    "data_manager.load_graphs()"
   ]
  }
 ],
 "metadata": {
  "kernelspec": {
   "display_name": "Python 3",
   "language": "python",
   "name": "python3"
  },
  "language_info": {
   "codemirror_mode": {
    "name": "ipython",
    "version": 3
   },
   "file_extension": ".py",
   "mimetype": "text/x-python",
   "name": "python",
   "nbconvert_exporter": "python",
   "pygments_lexer": "ipython3",
   "version": "3.10.11"
  }
 },
 "nbformat": 4,
 "nbformat_minor": 2
}
