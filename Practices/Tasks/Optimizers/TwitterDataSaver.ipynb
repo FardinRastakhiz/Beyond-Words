{
 "cells": [
  {
   "cell_type": "code",
   "execution_count": 1,
   "metadata": {},
   "outputs": [],
   "source": [
    "import numpy as np\n",
    "from Scripts.Configs.ConfigClass import Config\n",
    "from Scripts.DataManager.GraphConstructor.GraphConstructor import TextGraphType\n",
    "from lightning.pytorch.loggers import CSVLogger\n",
    "import os\n",
    "from Scripts.DataManager.GraphLoader.TwitterGraphDataModule import TwitterGraphDataModule\n",
    "import time\n",
    "\n",
    "config = Config(r'E:\\Darsi\\Payan Name Arshad\\Second Work\\ColorIntelligence2')\n",
    "os.environ['CUDA_LAUNCH_BLOCKING'] = \"1\"\n",
    "device = 'cuda'\n",
    "batch_size = 128"
   ]
  },
  {
   "cell_type": "code",
   "execution_count": 2,
   "metadata": {},
   "outputs": [
    {
     "name": "stdout",
     "output_type": "stream",
     "text": [
      "self.end_data_load: 1000\n"
     ]
    },
    {
     "name": "stderr",
     "output_type": "stream",
     "text": [
      " Creating Graphs :   0%|          | 0/1000 [00:00<?, ?it/s]e:\\Darsi\\Payan Name Arshad\\Second Work\\ColorIntelligence2\\Scripts\\DataManager\\GraphConstructor\\TagDepTokenGraphConstructor.py:68: UserWarning: Creating a tensor from a list of numpy.ndarrays is extremely slow. Please consider converting the list to a single numpy.ndarray with numpy.array() before converting to a tensor. (Triggered internally at ..\\torch\\csrc\\utils\\tensor_new.cpp:264.)\n",
      "  data['sentence'].x = torch.tensor(sentence_embeddings, dtype=torch.float32)\n",
      " Creating Graphs : 100%|██████████| 1000/1000 [00:18<00:00, 55.43it/s]\n"
     ]
    }
   ],
   "source": [
    "\n",
    "tag_dep_seq_sent = TextGraphType.SENTIMENT\n",
    "data_manager = TwitterGraphDataModule(config, True, True, shuffle=False, start_data_load=0 , end_data_load = 1000, device='cpu', batch_size=batch_size, graph_type=tag_dep_seq_sent, load_preprocessed_data = False)\n",
    "data_manager.load_labels()\n",
    "data_manager.load_graphs()"
   ]
  },
  {
   "cell_type": "code",
   "execution_count": 3,
   "metadata": {},
   "outputs": [],
   "source": [
    "for i in range(1000):\n",
    "    if data_manager.graph_constructors[TextGraphType.SENTIMENT].get_graph(i) is None:\n",
    "        print(i)"
   ]
  },
  {
   "cell_type": "code",
   "execution_count": 3,
   "metadata": {},
   "outputs": [
    {
     "name": "stdout",
     "output_type": "stream",
     "text": [
      "self.end_data_load: 2000\n",
      "filename: E:\\Darsi\\Payan Name Arshad\\Second Work\\ColorIntelligence2\\data/GraphData/Sentiment140\\140_sentiment\\graph_var.txt\n"
     ]
    },
    {
     "name": "stderr",
     "output_type": "stream",
     "text": [
      " Loding Graphs From File :   0%|          | 0/2 [00:01<?, ?it/s]"
     ]
    },
    {
     "name": "stdout",
     "output_type": "stream",
     "text": [
      "398\n"
     ]
    },
    {
     "name": "stderr",
     "output_type": "stream",
     "text": [
      "\n"
     ]
    },
    {
     "ename": "TypeError",
     "evalue": "'NoneType' object is not subscriptable",
     "output_type": "error",
     "traceback": [
      "\u001b[1;31m---------------------------------------------------------------------------\u001b[0m",
      "\u001b[1;31mTypeError\u001b[0m                                 Traceback (most recent call last)",
      "\u001b[1;32me:\\Darsi\\Payan Name Arshad\\Second Work\\ColorIntelligence2\\Practices\\Tasks\\Optimizers\\TwitterDataSaver.ipynb Cell 3\u001b[0m line \u001b[0;36m4\n\u001b[0;32m      <a href='vscode-notebook-cell:/e%3A/Darsi/Payan%20Name%20Arshad/Second%20Work/ColorIntelligence2/Practices/Tasks/Optimizers/TwitterDataSaver.ipynb#W3sZmlsZQ%3D%3D?line=1'>2</a>\u001b[0m data_manager \u001b[39m=\u001b[39m TwitterGraphDataModule(config, \u001b[39mTrue\u001b[39;00m, \u001b[39mTrue\u001b[39;00m, shuffle\u001b[39m=\u001b[39m\u001b[39mFalse\u001b[39;00m, start_data_load\u001b[39m=\u001b[39m\u001b[39m0\u001b[39m , end_data_load \u001b[39m=\u001b[39m \u001b[39m2000\u001b[39m, device\u001b[39m=\u001b[39m\u001b[39m'\u001b[39m\u001b[39mcpu\u001b[39m\u001b[39m'\u001b[39m, batch_size\u001b[39m=\u001b[39mbatch_size, graph_type\u001b[39m=\u001b[39mtag_dep_seq_sent, load_preprocessed_data \u001b[39m=\u001b[39m \u001b[39mTrue\u001b[39;00m)\n\u001b[0;32m      <a href='vscode-notebook-cell:/e%3A/Darsi/Payan%20Name%20Arshad/Second%20Work/ColorIntelligence2/Practices/Tasks/Optimizers/TwitterDataSaver.ipynb#W3sZmlsZQ%3D%3D?line=2'>3</a>\u001b[0m data_manager\u001b[39m.\u001b[39mload_labels()\n\u001b[1;32m----> <a href='vscode-notebook-cell:/e%3A/Darsi/Payan%20Name%20Arshad/Second%20Work/ColorIntelligence2/Practices/Tasks/Optimizers/TwitterDataSaver.ipynb#W3sZmlsZQ%3D%3D?line=3'>4</a>\u001b[0m data_manager\u001b[39m.\u001b[39;49mload_graphs()\n",
      "File \u001b[1;32me:\\Darsi\\Payan Name Arshad\\Second Work\\ColorIntelligence2\\Scripts\\DataManager\\GraphLoader\\TwitterGraphDataModule.py:80\u001b[0m, in \u001b[0;36mTwitterGraphDataModule.load_graphs\u001b[1;34m(self)\u001b[0m\n\u001b[0;32m     78\u001b[0m \u001b[39mself\u001b[39m\u001b[39m.\u001b[39m__train_dataloader, \u001b[39mself\u001b[39m\u001b[39m.\u001b[39m__test_dataloader, \u001b[39mself\u001b[39m\u001b[39m.\u001b[39m__val_dataloader \u001b[39m=\u001b[39m {}, {}, {}\n\u001b[0;32m     79\u001b[0m \u001b[39mfor\u001b[39;00m key \u001b[39min\u001b[39;00m \u001b[39mself\u001b[39m\u001b[39m.\u001b[39mgraph_constructors:\n\u001b[1;32m---> 80\u001b[0m     \u001b[39mself\u001b[39;49m\u001b[39m.\u001b[39;49mgraph_constructors[key]\u001b[39m.\u001b[39;49msetup(\u001b[39mself\u001b[39;49m\u001b[39m.\u001b[39;49mload_preprocessed_data)\n\u001b[0;32m     81\u001b[0m     \u001b[39m# reweighting\u001b[39;00m\n\u001b[0;32m     82\u001b[0m     \u001b[39mif\u001b[39;00m key \u001b[39min\u001b[39;00m \u001b[39mself\u001b[39m\u001b[39m.\u001b[39mreweights:\n",
      "File \u001b[1;32me:\\Darsi\\Payan Name Arshad\\Second Work\\ColorIntelligence2\\Scripts\\DataManager\\GraphConstructor\\GraphConstructor.py:73\u001b[0m, in \u001b[0;36mGraphConstructor.setup\u001b[1;34m(self, load_preprocessed_data)\u001b[0m\n\u001b[0;32m     71\u001b[0m     \u001b[39mself\u001b[39m\u001b[39m.\u001b[39mend_data_load \u001b[39m=\u001b[39m \u001b[39mself\u001b[39m\u001b[39m.\u001b[39mvar\u001b[39m.\u001b[39mgraph_num \u001b[39mif\u001b[39;00m \u001b[39mself\u001b[39m\u001b[39m.\u001b[39mend_data_load \u001b[39m>\u001b[39m \u001b[39mself\u001b[39m\u001b[39m.\u001b[39mvar\u001b[39m.\u001b[39mgraph_num \u001b[39melse\u001b[39;00m \u001b[39mself\u001b[39m\u001b[39m.\u001b[39mend_data_load\n\u001b[0;32m     72\u001b[0m     \u001b[39mfor\u001b[39;00m i \u001b[39min\u001b[39;00m tqdm(\u001b[39mrange\u001b[39m(\u001b[39mself\u001b[39m\u001b[39m.\u001b[39mstart_data_load , \u001b[39mself\u001b[39m\u001b[39m.\u001b[39mend_data_load , \u001b[39mself\u001b[39m\u001b[39m.\u001b[39msaving_batch_size), desc \u001b[39m=\u001b[39m\u001b[39m\"\u001b[39m\u001b[39m Loding Graphs From File \u001b[39m\u001b[39m\"\u001b[39m):\n\u001b[1;32m---> 73\u001b[0m         \u001b[39mself\u001b[39;49m\u001b[39m.\u001b[39;49mload_data_range(i , i \u001b[39m+\u001b[39;49m \u001b[39mself\u001b[39;49m\u001b[39m.\u001b[39;49msaving_batch_size)\n\u001b[0;32m     74\u001b[0m \u001b[39melse\u001b[39;00m:\n\u001b[0;32m     75\u001b[0m     save_start \u001b[39m=\u001b[39m \u001b[39mself\u001b[39m\u001b[39m.\u001b[39mstart_data_load\n",
      "File \u001b[1;32me:\\Darsi\\Payan Name Arshad\\Second Work\\ColorIntelligence2\\Scripts\\DataManager\\GraphConstructor\\GraphConstructor.py:186\u001b[0m, in \u001b[0;36mGraphConstructor.load_data_range\u001b[1;34m(self, start, end)\u001b[0m\n\u001b[0;32m    184\u001b[0m     \u001b[39mif\u001b[39;00m data_list[i] \u001b[39m==\u001b[39m \u001b[39mNone\u001b[39;00m:\n\u001b[0;32m    185\u001b[0m         \u001b[39mprint\u001b[39m(i)\n\u001b[1;32m--> 186\u001b[0m     \u001b[39mself\u001b[39m\u001b[39m.\u001b[39m_graphs[i] \u001b[39m=\u001b[39m \u001b[39mself\u001b[39;49m\u001b[39m.\u001b[39;49mprepare_loaded_data(data_list[index])\n\u001b[0;32m    187\u001b[0m     index \u001b[39m+\u001b[39m\u001b[39m=\u001b[39m \u001b[39m1\u001b[39m\n\u001b[0;32m    188\u001b[0m \u001b[39mpass\u001b[39;00m\n",
      "File \u001b[1;32me:\\Darsi\\Payan Name Arshad\\Second Work\\ColorIntelligence2\\Scripts\\DataManager\\GraphConstructor\\SentimentGraphConstructor.py:83\u001b[0m, in \u001b[0;36mSentimentGraphConstructor.prepare_loaded_data\u001b[1;34m(self, graph)\u001b[0m\n\u001b[0;32m     82\u001b[0m \u001b[39mdef\u001b[39;00m \u001b[39mprepare_loaded_data\u001b[39m(\u001b[39mself\u001b[39m, graph):\n\u001b[1;32m---> 83\u001b[0m     words \u001b[39m=\u001b[39m torch\u001b[39m.\u001b[39mzeros((\u001b[39mlen\u001b[39m(graph[\u001b[39m'\u001b[39;49m\u001b[39mword\u001b[39;49m\u001b[39m'\u001b[39;49m]\u001b[39m.\u001b[39mx) , \u001b[39mself\u001b[39m\u001b[39m.\u001b[39mnlp\u001b[39m.\u001b[39mvocab\u001b[39m.\u001b[39mvectors_length), dtype\u001b[39m=\u001b[39mtorch\u001b[39m.\u001b[39mfloat32)\n\u001b[0;32m     84\u001b[0m     \u001b[39mfor\u001b[39;00m i \u001b[39min\u001b[39;00m \u001b[39mrange\u001b[39m(\u001b[39mlen\u001b[39m(graph[\u001b[39m'\u001b[39m\u001b[39mword\u001b[39m\u001b[39m'\u001b[39m]\u001b[39m.\u001b[39mx)):\n\u001b[0;32m     85\u001b[0m         \u001b[39mif\u001b[39;00m graph[\u001b[39m'\u001b[39m\u001b[39mword\u001b[39m\u001b[39m'\u001b[39m]\u001b[39m.\u001b[39mx[i] \u001b[39min\u001b[39;00m \u001b[39mself\u001b[39m\u001b[39m.\u001b[39mnlp\u001b[39m.\u001b[39mvocab\u001b[39m.\u001b[39mvectors:\n",
      "\u001b[1;31mTypeError\u001b[0m: 'NoneType' object is not subscriptable"
     ]
    }
   ],
   "source": [
    "tag_dep_seq_sent = TextGraphType.SENTIMENT\n",
    "data_manager = TwitterGraphDataModule(config, True, True, shuffle=False, start_data_load=0 , end_data_load = 2000, device='cpu', batch_size=batch_size, graph_type=tag_dep_seq_sent, load_preprocessed_data = True)\n",
    "data_manager.load_labels()\n",
    "data_manager.load_graphs()"
   ]
  }
 ],
 "metadata": {
  "kernelspec": {
   "display_name": "Python 3",
   "language": "python",
   "name": "python3"
  },
  "language_info": {
   "codemirror_mode": {
    "name": "ipython",
    "version": 3
   },
   "file_extension": ".py",
   "mimetype": "text/x-python",
   "name": "python",
   "nbconvert_exporter": "python",
   "pygments_lexer": "ipython3",
   "version": "3.10.11"
  }
 },
 "nbformat": 4,
 "nbformat_minor": 2
}
