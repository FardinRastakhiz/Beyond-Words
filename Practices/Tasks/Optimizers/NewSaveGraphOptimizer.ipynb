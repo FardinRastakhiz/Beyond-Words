{
 "cells": [
  {
   "cell_type": "markdown",
   "metadata": {},
   "source": [
    "#### Omid Davar @2023"
   ]
  },
  {
   "cell_type": "code",
   "execution_count": 1,
   "metadata": {},
   "outputs": [],
   "source": [
    "import numpy as np\n",
    "from Scripts.Configs.ConfigClass import Config\n",
    "from Scripts.DataManager.GraphConstructor.GraphConstructor import TextGraphType\n",
    "from lightning.pytorch.loggers import CSVLogger\n",
    "import os\n",
    "from Scripts.DataManager.GraphLoader.AmazonReviewGraphDataModule import AmazonReviewGraphDataModule\n",
    "import time\n",
    "\n",
    "config = Config(r'E:\\Darsi\\Payan Name Arshad\\Second Work\\ColorIntelligence')\n",
    "os.environ['CUDA_LAUNCH_BLOCKING'] = \"1\"\n",
    "device = 'cuda'\n",
    "batch_size = 128"
   ]
  },
  {
   "cell_type": "code",
   "execution_count": 2,
   "metadata": {},
   "outputs": [
    {
     "name": "stdout",
     "output_type": "stream",
     "text": [
      "self.end_data_load: 1000\n"
     ]
    },
    {
     "name": "stderr",
     "output_type": "stream",
     "text": [
      " Creating Graphs :   0%|          | 0/1000 [00:00<?, ?it/s]e:\\Darsi\\Payan Name Arshad\\Second Work\\ColorIntelligence2\\Scripts\\DataManager\\GraphConstructor\\TagDepTokenGraphConstructor.py:68: UserWarning: Creating a tensor from a list of numpy.ndarrays is extremely slow. Please consider converting the list to a single numpy.ndarray with numpy.array() before converting to a tensor. (Triggered internally at ..\\torch\\csrc\\utils\\tensor_new.cpp:264.)\n",
      "  data['sentence'].x = torch.tensor(sentence_embeddings, dtype=torch.float32)\n",
      " Creating Graphs : 100%|██████████| 1000/1000 [00:54<00:00, 18.29it/s]\n"
     ]
    }
   ],
   "source": [
    "\n",
    "tag_dep_seq_sent = TextGraphType.SENTIMENT\n",
    "data_manager = AmazonReviewGraphDataModule(config, True, True, shuffle=False, start_data_load=0 , end_data_load = 1000, device='cpu', batch_size=batch_size, graph_type=tag_dep_seq_sent, load_preprocessed_data = False)\n",
    "data_manager.load_labels()\n",
    "data_manager.load_graphs()"
   ]
  },
  {
   "cell_type": "code",
   "execution_count": 5,
   "metadata": {},
   "outputs": [
    {
     "ename": "AttributeError",
     "evalue": "'HeteroData' has no attribute 'edge_index'",
     "output_type": "error",
     "traceback": [
      "\u001b[1;31m---------------------------------------------------------------------------\u001b[0m",
      "\u001b[1;31mAttributeError\u001b[0m                            Traceback (most recent call last)",
      "\u001b[1;32me:\\Darsi\\Payan Name Arshad\\Second Work\\ColorIntelligence\\Practices\\Tasks\\Optimizers\\NewSaveGraphOptimizer.ipynb Cell 3\u001b[0m line \u001b[0;36m1\n\u001b[1;32m----> <a href='vscode-notebook-cell:/e%3A/Darsi/Payan%20Name%20Arshad/Second%20Work/ColorIntelligence/Practices/Tasks/Optimizers/NewSaveGraphOptimizer.ipynb#W3sZmlsZQ%3D%3D?line=0'>1</a>\u001b[0m \u001b[39mprint\u001b[39m(data_manager\u001b[39m.\u001b[39;49mgraph_constructors[TextGraphType\u001b[39m.\u001b[39;49mSENTIMENT]\u001b[39m.\u001b[39;49mget_first()\u001b[39m.\u001b[39;49medge_index)\n",
      "File \u001b[1;32mc:\\Users\\Omid\\AppData\\Local\\Programs\\Python\\Python310\\lib\\site-packages\\torch_geometric\\data\\hetero_data.py:156\u001b[0m, in \u001b[0;36mHeteroData.__getattr__\u001b[1;34m(self, key)\u001b[0m\n\u001b[0;32m    154\u001b[0m \u001b[39melif\u001b[39;00m \u001b[39mbool\u001b[39m(re\u001b[39m.\u001b[39msearch(\u001b[39m'\u001b[39m\u001b[39m_dict$\u001b[39m\u001b[39m'\u001b[39m, key)):\n\u001b[0;32m    155\u001b[0m     \u001b[39mreturn\u001b[39;00m \u001b[39mself\u001b[39m\u001b[39m.\u001b[39mcollect(key[:\u001b[39m-\u001b[39m\u001b[39m5\u001b[39m])\n\u001b[1;32m--> 156\u001b[0m \u001b[39mraise\u001b[39;00m \u001b[39mAttributeError\u001b[39;00m(\u001b[39mf\u001b[39m\u001b[39m\"\u001b[39m\u001b[39m'\u001b[39m\u001b[39m{\u001b[39;00m\u001b[39mself\u001b[39m\u001b[39m.\u001b[39m\u001b[39m__class__\u001b[39m\u001b[39m.\u001b[39m\u001b[39m__name__\u001b[39m\u001b[39m}\u001b[39;00m\u001b[39m'\u001b[39m\u001b[39m has no \u001b[39m\u001b[39m\"\u001b[39m\n\u001b[0;32m    157\u001b[0m                      \u001b[39mf\u001b[39m\u001b[39m\"\u001b[39m\u001b[39mattribute \u001b[39m\u001b[39m'\u001b[39m\u001b[39m{\u001b[39;00mkey\u001b[39m}\u001b[39;00m\u001b[39m'\u001b[39m\u001b[39m\"\u001b[39m)\n",
      "\u001b[1;31mAttributeError\u001b[0m: 'HeteroData' has no attribute 'edge_index'"
     ]
    }
   ],
   "source": []
  },
  {
   "cell_type": "code",
   "execution_count": 2,
   "metadata": {},
   "outputs": [
    {
     "name": "stdout",
     "output_type": "stream",
     "text": [
      "self.end_data_load: 1000\n",
      "filename: E:\\Darsi\\Payan Name Arshad\\Second Work\\ColorIntelligence\\data/GraphData/AmazonReview\\sentiment\\graph_var.txt\n"
     ]
    },
    {
     "name": "stderr",
     "output_type": "stream",
     "text": [
      " Loding Graphs From File : 100%|██████████| 1/1 [00:03<00:00,  3.20s/it]\n"
     ]
    }
   ],
   "source": [
    "tag_dep_seq_sent = TextGraphType.SENTIMENT\n",
    "data_manager = AmazonReviewGraphDataModule(config, True, True, shuffle=False, start_data_load=0 , end_data_load = 1000, device='cpu', batch_size=batch_size, graph_type=tag_dep_seq_sent, load_preprocessed_data = True)\n",
    "data_manager.load_labels()\n",
    "data_manager.load_graphs()"
   ]
  }
 ],
 "metadata": {
  "kernelspec": {
   "display_name": "Python 3",
   "language": "python",
   "name": "python3"
  },
  "language_info": {
   "codemirror_mode": {
    "name": "ipython",
    "version": 3
   },
   "file_extension": ".py",
   "mimetype": "text/x-python",
   "name": "python",
   "nbconvert_exporter": "python",
   "pygments_lexer": "ipython3",
   "version": "3.10.11"
  }
 },
 "nbformat": 4,
 "nbformat_minor": 2
}
