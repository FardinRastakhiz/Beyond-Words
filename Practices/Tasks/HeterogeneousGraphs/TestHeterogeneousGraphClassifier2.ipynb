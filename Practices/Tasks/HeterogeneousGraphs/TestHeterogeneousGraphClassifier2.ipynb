{
 "cells": [
  {
   "cell_type": "code",
   "execution_count": null,
   "metadata": {},
   "outputs": [],
   "source": [
    "import numpy as np\n",
    "from Scripts.Configs.ConfigClass import Config\n",
    "from Scripts.DataManager.GraphConstructor.GraphConstructor import TextGraphType\n",
    "from lightning.pytorch.loggers import CSVLogger\n",
    "import os\n",
    "from Scripts.DataManager.GraphLoader.AmazonReviewGraphDataModule import AmazonReviewGraphDataModule\n",
    "\n",
    "\n",
    "config = Config(r'C:\\Users\\fardin\\Projects\\ColorIntelligence')\n",
    "os.environ['CUDA_LAUNCH_BLOCKING'] = \"1\"\n",
    "device = 'cuda'\n",
    "batch_size = 64"
   ]
  },
  {
   "cell_type": "code",
   "execution_count": null,
   "metadata": {},
   "outputs": [],
   "source": [
    "tag_dep_seq = TextGraphType.DEPENDENCY | TextGraphType.TAGS | TextGraphType.SEQUENTIAL\n",
    "data_manager = AmazonReviewGraphDataModule(config, True, True, shuffle=True, num_data_load = 50000, device='cpu', batch_size=batch_size, graph_type=tag_dep_seq, load_preprocessed_data = True)"
   ]
  },
  {
   "cell_type": "code",
   "execution_count": null,
   "metadata": {},
   "outputs": [],
   "source": [
    "t_dataloader = data_manager.train_dataloader()\n",
    "v_dataloader = data_manager.val_dataloader()\n",
    "X1, y1 = next(iter(t_dataloader))\n",
    "X2, y2 = next(iter(v_dataloader))"
   ]
  },
  {
   "cell_type": "code",
   "execution_count": null,
   "metadata": {},
   "outputs": [],
   "source": [
    "from torch import nn, Tensor\n",
    "import torch.nn.functional as F\n",
    "from torch_geometric.nn import GATv2Conv, BatchNorm, SAGEConv\n",
    "class HeteroGCNConv(nn.Module):\n",
    "    def __init__(self, in_feature, out_feature, dropout = 0.0) -> None:\n",
    "        super().__init__()\n",
    "        self.conv1 = GATv2Conv(in_feature, out_feature/4, heads=4, edge_dim=1, add_self_loops=False)\n",
    "        self.batch_norm = BatchNorm(32)\n",
    "        self.dropout= nn.Dropout(dropout)\n",
    "        \n",
    "    def forward(self, x: Tensor, edge_index: Tensor, edge_weights: Tensor) -> Tensor:\n",
    "        x = self.conv1(x, edge_index)\n",
    "        x = self.batch_norm(x)\n",
    "        x = F.leaky_relu(x)\n",
    "        x = self.dropout(x)\n",
    "        return x"
   ]
  },
  {
   "cell_type": "code",
   "execution_count": null,
   "metadata": {},
   "outputs": [],
   "source": [
    "from torch_geometric.nn import to_hetero\n",
    "hetero_model = to_hetero(HeteroGCNConv(300, 256, 0.2), X2.metadata())\n",
    "pre = hetero_model(X2.x_dict, X2.edge_index_dict, X2.edge_attr_dict)"
   ]
  },
  {
   "cell_type": "code",
   "execution_count": null,
   "metadata": {},
   "outputs": [],
   "source": [
    "from torch_geometric.nn import SAGEConv, to_hetero\n",
    "import torch.nn.functional as F\n",
    "from torch import Tensor\n",
    "import torch\n",
    "from typing import Dict\n",
    "import torch_geometric\n",
    "from torch.nn import Linear\n",
    "from torch_geometric.nn import GATv2Conv, GCNConv, GCN2Conv, DenseGCNConv, dense_diff_pool, BatchNorm, global_mean_pool, global_add_pool, global_max_pool, MemPooling, SAGEConv, to_hetero, HeteroBatchNorm\n",
    "from torch_geometric.nn import Sequential as GSequential\n",
    "from torch_geometric.utils import to_dense_adj\n",
    "from torch import nn, Tensor\n",
    "import torch.nn.functional as F\n",
    "from torch_geometric.data import HeteroData\n",
    "\n",
    "class HeteroGcnGatModel1(torch.nn.Module):\n",
    "    def __init__(self,\n",
    "                 input_feature: int, out_features: int,\n",
    "                 metadata,\n",
    "                 base_hidden_feature: int=256,\n",
    "                 dropout=0.1):\n",
    "        \n",
    "        super(HeteroGcnGatModel1, self).__init__()\n",
    "        self.input_features = input_feature\n",
    "        self.num_out_features = out_features\n",
    "        self.bsh: int = base_hidden_feature\n",
    "        bsh2: int = int(self.bsh/2)\n",
    "        bsh4: int = int(self.bsh/4)\n",
    "        bsh8: int = int(self.bsh/8)\n",
    "        \n",
    "        self.encoder = GSequential('x_dict, edge_index_dict, edge_weights_dict', [\n",
    "            (to_hetero(HeteroGCNConv(input_feature, self.bsh, dropout), metadata), 'x_dict, edge_index_dict, edge_weights_dict ->x1'),\n",
    "            (to_hetero(HeteroGCNConv(self.bsh, self.bsh, dropout), metadata), 'x1, edge_index_dict, edge_weights_dict ->x1'),\n",
    "            (to_hetero(HeteroGCNConv(self.bsh, bsh2, dropout), metadata), 'x1, edge_index_dict, edge_weights_dict -> x2'),\n",
    "            (to_hetero(HeteroGCNConv(bsh2, bsh2, dropout), metadata), 'x2, edge_index_dict, edge_weights_dict -> x2'),\n",
    "            (to_hetero(HeteroGCNConv(bsh2, bsh2, dropout), metadata), 'x2, edge_index_dict, edge_weights_dict -> x2'),\n",
    "            (lambda x1, x2: (x1, x2), 'x1, x2 -> x1, x2')\n",
    "            \n",
    "            # (to_hetero(HeteroGCNConv(bsh2, bsh4, dropout), metadata), 'x2, edge_index_dict, edge_weights_dict -> x3'),\n",
    "            # (to_hetero(HeteroGCNConv(bsh4, bsh4, dropout), metadata), 'x3, edge_index_dict, edge_weights_dict -> x3'),\n",
    "            # (to_hetero(HeteroGCNConv(bsh4, bsh4, dropout), metadata), 'x3, edge_index_dict, edge_weights_dict -> x3'),\n",
    "            # (to_hetero(HeteroGCNConv(bsh4, bsh8, dropout), metadata), 'x3, edge_index_dict, edge_weights_dict -> x4'),\n",
    "            # (to_hetero(HeteroGCNConv(bsh8, bsh8, dropout), metadata), 'x4, edge_index_dict, edge_weights_dict -> x4'),\n",
    "            # (to_hetero(HeteroGCNConv(bsh8, bsh8, dropout), metadata), 'x4, edge_index_dict, edge_weights_dict -> x4'),\n",
    "            # (lambda x1, x2, x3, x4: (x1, x2, x3, x4), 'x1, x2, x3, x4 -> x1, x2, x3, x4')\n",
    "        ])\n",
    "        \n",
    "        # print(f'bsh8: {bsh8}')\n",
    "        # self.attention = GSequential('x3, x4, edge_index, edge_weights', [\n",
    "        #     (GATv2Conv(bsh8, bsh8, 2, edge_dim=1, dropout=dropout), 'x4, edge_index, edge_weights ->x4'),\n",
    "        #     (BatchNorm(bsh4), 'x4->x4'),\n",
    "        #     (nn.ReLU(), 'x4->x4'),\n",
    "            \n",
    "        #     (GCN2Conv(bsh4, 0.5, 0.1, 2), 'x4, x3, edge_index, edge_weights->x3'),\n",
    "        #     (BatchNorm(bsh4), 'x3->x3'),\n",
    "        #     (nn.ReLU(), 'x3->x3'),\n",
    "        #     (GCNConv(bsh4, bsh4), 'x3, edge_index, edge_weights -> x3'),\n",
    "        #     (BatchNorm(bsh4), 'x3->x3'),\n",
    "        #     (nn.ReLU(), 'x3->x3'),\n",
    "            \n",
    "        #     (GATv2Conv(bsh4, bsh4, 2, edge_dim=1, dropout=dropout), 'x3, edge_index, edge_weights ->x3'),\n",
    "        #     (BatchNorm(bsh2), 'x3->x3'),\n",
    "        #     (nn.ReLU(), 'x3->x3'),\n",
    "        #     (lambda x3, x4: (x3, x4), 'x3, x4 -> x3, x4')\n",
    "        # ])\n",
    "        \n",
    "        # self.decoder = GSequential('x1, x2, x3, edge_index, edge_weights', [\n",
    "            \n",
    "        #     (GCN2Conv(bsh2, 0.5, 0.1, 2), 'x3, x2, edge_index, edge_weights->x2'),\n",
    "        #     (BatchNorm(bsh2), 'x2->x2'),\n",
    "        #     (nn.ReLU(), 'x2->x2'),\n",
    "        #     (nn.Dropout(dropout), 'x2->x2'),\n",
    "        # self.decoder = GSequential('x1, x2, edge_index, edge_weights', [\n",
    "        #     (GCNConv(bsh2, bsh2), 'x2, edge_index, edge_weights -> x2'),\n",
    "        #     (BatchNorm(bsh2), 'x2->x2'),\n",
    "        #     (nn.ReLU(), 'x2->x2'),\n",
    "        #     (nn.Dropout(dropout), 'x2->x2'),\n",
    "        #     (GCNConv(bsh2, self.bsh), 'x2, edge_index->x2'),\n",
    "        #     (BatchNorm(self.bsh), 'x2->x2'),\n",
    "        #     (nn.ReLU(), 'x2->x2'),\n",
    "        #     (nn.Dropout(dropout), 'x2->x2'),\n",
    "            \n",
    "        #     (GCN2Conv(self.bsh, 0.5, 0.1, 2), 'x2, x1, edge_index, edge_weights->x1'),\n",
    "        #     (BatchNorm(self.bsh), 'x1->x1'),\n",
    "        #     (nn.ReLU(), 'x1->x1'),\n",
    "        #     (nn.Dropout(dropout), 'x1->x1'),\n",
    "        #     (GCNConv(self.bsh, self.bsh), 'x1, edge_index, edge_weights ->x1'),\n",
    "        #     (BatchNorm(self.bsh), 'x1->x1'),\n",
    "        #     (nn.ReLU(), 'x1->x1'),\n",
    "        #     (nn.Dropout(dropout), 'x1->x1'),\n",
    "        #     (GCNConv(self.bsh, self.bsh), 'x1, edge_index, edge_weights ->x1'),\n",
    "        #     (BatchNorm(self.bsh), 'x1->x1'),\n",
    "        #     (nn.ReLU(), 'x1->x1'),\n",
    "        #     (nn.Dropout(dropout), 'x1->x1')\n",
    "        # ])\n",
    "        self.mem_pool = MemPooling(bsh2, bsh2, 4, 2)\n",
    "        self.output_layer = Linear(bsh2, self.num_out_features)\n",
    "        \n",
    "        \n",
    "    def forward(self, x: HeteroData) -> Tensor:\n",
    "        x1_dict, x2_dict = self.encoder(x.x_dict, x.edge_index_dict, x.edge_attr_dict)\n",
    "        \n",
    "        # x1_dict, x2_dict, x3_dict, x4_dict = self.encoder(x.x_dict, x.edge_index_dict, x.edge_attr_dict)\n",
    "        # x_att, x4 = self.attention(x3_dict[\"word\"], x4_dict[\"word\"], \n",
    "        #                            x.edge_index_dict[('word', 'seq', 'word')],\n",
    "        #                            x.edge_attr_dict[('word', 'seq', 'word')])\n",
    "        # x_dec = self.decoder(x1_dict[\"word\"], x2_dict[\"word\"], x_att, \n",
    "        #                      x.edge_index_dict[('word', 'seq', 'word')],\n",
    "        #                      x.edge_attr_dict[('word', 'seq', 'word')])\n",
    "        \n",
    "        x_pooled, S = self.mem_pool(x2_dict[\"word\"], x['word'].batch)\n",
    "        x_pooled = x_pooled.view(x_pooled.shape[0], -1)\n",
    "        return self.output_layer(x_pooled)"
   ]
  },
  {
   "cell_type": "code",
   "execution_count": null,
   "metadata": {},
   "outputs": [],
   "source": [
    "torch_model = HeteroGcnGatModel1(300, 1, X1.metadata(), 256, dropout=0.2)\n",
    "torch_model = torch_model.to(device)\n",
    "print(next(iter(torch_model.parameters())).device)\n",
    "print(torch_geometric.nn.summary(torch_model, X1.to(device)))"
   ]
  },
  {
   "cell_type": "code",
   "execution_count": null,
   "metadata": {},
   "outputs": [],
   "source": [
    "from Scripts.Models.LightningModels.LightningModels import BinaryLightningModel\n",
    "from lightning.pytorch.callbacks import EarlyStopping, ModelCheckpoint\n",
    "import lightning as L\n",
    "from lightning.pytorch.tuner import Tuner"
   ]
  },
  {
   "cell_type": "code",
   "execution_count": null,
   "metadata": {},
   "outputs": [],
   "source": [
    "callbacks = [\n",
    "    ModelCheckpoint(save_top_k=2, mode='max', monitor='val_acc', save_last=True),\n",
    "    EarlyStopping(patience=50, mode='max', monitor='val_acc')\n",
    "]\n",
    "lightning_model = BinaryLightningModel(torch_model,\n",
    "                                 torch.optim.Adam(torch_model.parameters(), lr=0.01, weight_decay=0.00055),\n",
    "                                       torch.nn.BCEWithLogitsLoss(),\n",
    "                                       learning_rate=0.01,\n",
    "                                       batch_size=batch_size,\n",
    "                                       ).to(device)\n",
    "trainer = L.Trainer(\n",
    "            callbacks=callbacks,\n",
    "            max_epochs=50,\n",
    "            accelerator='gpu',\n",
    "            logger=CSVLogger(save_dir='logs/', name='GcnGatSentiment3'),\n",
    "            num_sanity_val_steps=0)"
   ]
  },
  {
   "cell_type": "code",
   "execution_count": null,
   "metadata": {},
   "outputs": [],
   "source": [
    "tuner = Tuner(trainer)\n",
    "results = tuner.lr_find(lightning_model, datamodule=data_manager, min_lr=0.000001,max_lr=0.1)\n",
    "fig = results.plot(suggest=True)"
   ]
  },
  {
   "cell_type": "code",
   "execution_count": null,
   "metadata": {},
   "outputs": [],
   "source": [
    "from Scripts.Models.ModelsManager.ClassifierModelManager import ClassifierModelManager"
   ]
  },
  {
   "cell_type": "code",
   "execution_count": null,
   "metadata": {},
   "outputs": [],
   "source": [
    "model_manager = ClassifierModelManager(torch_model, lightning_model)"
   ]
  },
  {
   "cell_type": "code",
   "execution_count": null,
   "metadata": {},
   "outputs": [],
   "source": [
    "suggested_lr = model_manager.tune(data_manager=data_manager)"
   ]
  },
  {
   "cell_type": "code",
   "execution_count": null,
   "metadata": {},
   "outputs": [],
   "source": [
    "model_manager.fit(datamodule=data_manager, max_epochs=20, ckpt_path='best')"
   ]
  },
  {
   "cell_type": "code",
   "execution_count": null,
   "metadata": {},
   "outputs": [],
   "source": [
    "model_manager.fit(datamodule=data_manager)"
   ]
  }
 ],
 "metadata": {
  "language_info": {
   "name": "python"
  }
 },
 "nbformat": 4,
 "nbformat_minor": 2
}
