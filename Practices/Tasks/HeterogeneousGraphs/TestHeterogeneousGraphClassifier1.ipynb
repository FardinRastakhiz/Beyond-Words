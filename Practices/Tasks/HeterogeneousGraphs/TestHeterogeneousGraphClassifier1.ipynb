{
 "cells": [
  {
   "cell_type": "markdown",
   "metadata": {},
   "source": [
    "#### Fardin Rastakhiz @2023"
   ]
  },
  {
   "cell_type": "code",
   "execution_count": 1,
   "metadata": {},
   "outputs": [
    {
     "name": "stderr",
     "output_type": "stream",
     "text": [
      "c:\\Users\\fardin\\AppData\\Local\\Programs\\Python\\Python310\\lib\\site-packages\\torchaudio\\backend\\utils.py:74: UserWarning: No audio backend is available.\n",
      "  warnings.warn(\"No audio backend is available.\")\n"
     ]
    }
   ],
   "source": [
    "import numpy as np\n",
    "# from Scripts.DataManager.DabasePreparations.AmazonReviewSentiGraph import AmazonReviewSentiGraph\n",
    "# from Scripts.Models.ModelsManager.SimpleGraphClassifierModelManager import SimpleGraphClassifierModelManager\n",
    "from Scripts.Configs.ConfigClass import Config\n",
    "from Scripts.DataManager.GraphConstructor.GraphConstructor import TextGraphType\n",
    "from lightning.pytorch.loggers import CSVLogger\n",
    "import os\n",
    "from os import path\n",
    "config = Config(r'C:\\Users\\fardin\\Projects\\ColorIntelligence')\n",
    "# os.environ['TORCH_USE_CUDA_DSA']\n",
    "os.environ['CUDA_LAUNCH_BLOCKING'] = \"1\"\n",
    "device = 'cuda'\n",
    "batch_size = 64"
   ]
  },
  {
   "cell_type": "code",
   "execution_count": 2,
   "metadata": {},
   "outputs": [
    {
     "name": "stdout",
     "output_type": "stream",
     "text": [
      "True True True False\n",
      "False True True False\n"
     ]
    }
   ],
   "source": [
    "from Scripts.DataManager.GraphConstructor.GraphConstructor import TextGraphType\n",
    "test_type = TextGraphType.CO_OCCURRENCE | TextGraphType.DEPENDENCY | TextGraphType.SEQUENTIAL\n",
    "print((TextGraphType.CO_OCCURRENCE in test_type), (TextGraphType.DEPENDENCY in test_type), (TextGraphType.SEQUENTIAL in test_type), (TextGraphType.TAGS in test_type))\n",
    "test_type = test_type - (TextGraphType.TAGS | TextGraphType.CO_OCCURRENCE)\n",
    "print((TextGraphType.CO_OCCURRENCE in test_type), (TextGraphType.DEPENDENCY in test_type), (TextGraphType.SEQUENTIAL in test_type), (TextGraphType.TAGS in test_type))"
   ]
  },
  {
   "cell_type": "code",
   "execution_count": 3,
   "metadata": {},
   "outputs": [],
   "source": [
    "from Scripts.DataManager.GraphLoader.AmazonReviewGraphDataModule import AmazonReviewGraphDataModule"
   ]
  },
  {
   "cell_type": "code",
   "execution_count": 97,
   "metadata": {},
   "outputs": [
    {
     "name": "stdout",
     "output_type": "stream",
     "text": [
      "self.end_data_load: 50000\n",
      "i: 0\n",
      "i: 100\n",
      "i: 200\n",
      "i: 300\n",
      "i: 400\n",
      "i: 500\n",
      "i: 600\n",
      "i: 700\n",
      "i: 800\n",
      "i: 900\n",
      "i: 1000\n",
      "i: 1100\n",
      "i: 1200\n",
      "i: 1300\n",
      "i: 1400\n",
      "i: 1500\n",
      "i: 1600\n",
      "i: 1700\n",
      "i: 1800\n",
      "i: 1900\n",
      "i: 2000\n",
      "i: 2100\n",
      "i: 2200\n",
      "i: 2300\n",
      "i: 2400\n",
      "i: 2500\n",
      "i: 2600\n",
      "i: 2700\n",
      "i: 2800\n",
      "i: 2900\n",
      "i: 3000\n",
      "i: 3100\n",
      "i: 3200\n",
      "i: 3300\n",
      "i: 3400\n",
      "i: 3500\n",
      "i: 3600\n",
      "i: 3700\n",
      "i: 3800\n",
      "i: 3900\n",
      "i: 4000\n",
      "i: 4100\n",
      "i: 4200\n",
      "i: 4300\n",
      "i: 4400\n",
      "i: 4500\n",
      "i: 4600\n",
      "i: 4700\n",
      "i: 4800\n",
      "i: 4900\n",
      "i: 5000\n",
      "i: 5100\n",
      "i: 5200\n",
      "i: 5300\n",
      "i: 5400\n",
      "i: 5500\n",
      "i: 5600\n",
      "i: 5700\n",
      "i: 5800\n",
      "i: 5900\n",
      "i: 6000\n",
      "i: 6100\n",
      "i: 6200\n",
      "i: 6300\n",
      "i: 6400\n",
      "i: 6500\n",
      "i: 6600\n",
      "i: 6700\n",
      "i: 6800\n",
      "i: 6900\n",
      "i: 7000\n",
      "i: 7100\n",
      "i: 7200\n",
      "i: 7300\n",
      "i: 7400\n",
      "i: 7500\n",
      "i: 7600\n",
      "i: 7700\n",
      "i: 7800\n",
      "i: 7900\n",
      "i: 8000\n",
      "i: 8100\n",
      "i: 8200\n",
      "i: 8300\n",
      "i: 8400\n",
      "i: 8500\n",
      "i: 8600\n",
      "i: 8700\n",
      "i: 8800\n",
      "i: 8900\n",
      "i: 9000\n",
      "i: 9100\n",
      "i: 9200\n",
      "i: 9300\n",
      "i: 9400\n",
      "i: 9500\n",
      "i: 9600\n",
      "i: 9700\n",
      "i: 9800\n",
      "i: 9900\n",
      "i: 10000\n",
      "i: 10100\n",
      "i: 10200\n",
      "i: 10300\n",
      "i: 10400\n",
      "i: 10500\n",
      "i: 10600\n",
      "i: 10700\n",
      "i: 10800\n",
      "i: 10900\n",
      "i: 11000\n",
      "i: 11100\n",
      "i: 11200\n",
      "i: 11300\n",
      "i: 11400\n",
      "i: 11500\n",
      "i: 11600\n",
      "i: 11700\n",
      "i: 11800\n",
      "i: 11900\n",
      "i: 12000\n",
      "i: 12100\n",
      "i: 12200\n",
      "i: 12300\n",
      "i: 12400\n",
      "i: 12500\n",
      "i: 12600\n",
      "i: 12700\n",
      "i: 12800\n",
      "i: 12900\n",
      "i: 13000\n",
      "i: 13100\n",
      "i: 13200\n",
      "i: 13300\n",
      "i: 13400\n",
      "i: 13500\n",
      "i: 13600\n",
      "i: 13700\n",
      "i: 13800\n",
      "i: 13900\n",
      "i: 14000\n",
      "i: 14100\n",
      "i: 14200\n",
      "i: 14300\n",
      "i: 14400\n",
      "i: 14500\n",
      "i: 14600\n",
      "i: 14700\n",
      "i: 14800\n",
      "i: 14900\n",
      "i: 15000\n",
      "i: 15100\n",
      "i: 15200\n",
      "i: 15300\n",
      "i: 15400\n",
      "i: 15500\n",
      "i: 15600\n",
      "i: 15700\n",
      "i: 15800\n",
      "i: 15900\n",
      "i: 16000\n",
      "i: 16100\n",
      "i: 16200\n",
      "i: 16300\n",
      "i: 16400\n",
      "i: 16500\n",
      "i: 16600\n",
      "i: 16700\n",
      "i: 16800\n",
      "i: 16900\n",
      "i: 17000\n",
      "i: 17100\n",
      "i: 17200\n",
      "i: 17300\n",
      "i: 17400\n",
      "i: 17500\n",
      "i: 17600\n",
      "i: 17700\n",
      "i: 17800\n",
      "i: 17900\n",
      "i: 18000\n",
      "i: 18100\n",
      "i: 18200\n",
      "i: 18300\n",
      "i: 18400\n",
      "i: 18500\n",
      "i: 18600\n",
      "i: 18700\n",
      "i: 18800\n",
      "i: 18900\n",
      "i: 19000\n",
      "i: 19100\n",
      "i: 19200\n",
      "i: 19300\n",
      "i: 19400\n",
      "i: 19500\n",
      "i: 19600\n",
      "i: 19700\n",
      "i: 19800\n",
      "i: 19900\n",
      "i: 20000\n",
      "i: 20100\n",
      "i: 20200\n",
      "i: 20300\n",
      "i: 20400\n",
      "i: 20500\n",
      "i: 20600\n",
      "i: 20700\n",
      "i: 20800\n",
      "i: 20900\n",
      "i: 21000\n",
      "i: 21100\n",
      "i: 21200\n",
      "i: 21300\n",
      "i: 21400\n",
      "i: 21500\n",
      "i: 21600\n",
      "i: 21700\n",
      "i: 21800\n",
      "i: 21900\n",
      "i: 22000\n",
      "i: 22100\n",
      "i: 22200\n",
      "i: 22300\n",
      "i: 22400\n",
      "i: 22500\n",
      "i: 22600\n",
      "i: 22700\n",
      "i: 22800\n",
      "i: 22900\n",
      "i: 23000\n",
      "i: 23100\n",
      "i: 23200\n",
      "i: 23300\n",
      "i: 23400\n",
      "i: 23500\n",
      "i: 23600\n",
      "i: 23700\n",
      "i: 23800\n",
      "i: 23900\n",
      "i: 24000\n",
      "i: 24100\n",
      "i: 24200\n",
      "i: 24300\n",
      "i: 24400\n",
      "i: 24500\n",
      "i: 24600\n",
      "i: 24700\n",
      "i: 24800\n",
      "i: 24900\n",
      "i: 25000\n",
      "i: 25100\n",
      "i: 25200\n",
      "i: 25300\n",
      "i: 25400\n",
      "i: 25500\n",
      "i: 25600\n",
      "i: 25700\n",
      "i: 25800\n",
      "i: 25900\n",
      "i: 26000\n",
      "i: 26100\n",
      "i: 26200\n",
      "i: 26300\n",
      "i: 26400\n",
      "i: 26500\n",
      "i: 26600\n",
      "i: 26700\n",
      "i: 26800\n",
      "i: 26900\n",
      "i: 27000\n",
      "i: 27100\n",
      "i: 27200\n",
      "i: 27300\n",
      "i: 27400\n",
      "i: 27500\n",
      "i: 27600\n",
      "i: 27700\n",
      "i: 27800\n",
      "i: 27900\n",
      "i: 28000\n",
      "i: 28100\n",
      "i: 28200\n",
      "i: 28300\n",
      "i: 28400\n",
      "i: 28500\n",
      "i: 28600\n",
      "i: 28700\n",
      "i: 28800\n",
      "i: 28900\n",
      "i: 29000\n",
      "i: 29100\n",
      "i: 29200\n",
      "i: 29300\n",
      "i: 29400\n",
      "i: 29500\n",
      "i: 29600\n",
      "i: 29700\n",
      "i: 29800\n",
      "i: 29900\n",
      "i: 30000\n",
      "i: 30100\n",
      "i: 30200\n",
      "i: 30300\n",
      "i: 30400\n",
      "i: 30500\n",
      "i: 30600\n",
      "i: 30700\n",
      "i: 30800\n",
      "i: 30900\n",
      "i: 31000\n",
      "i: 31100\n",
      "i: 31200\n",
      "i: 31300\n",
      "i: 31400\n",
      "i: 31500\n",
      "i: 31600\n",
      "i: 31700\n",
      "i: 31800\n",
      "i: 31900\n",
      "i: 32000\n",
      "i: 32100\n",
      "i: 32200\n",
      "i: 32300\n",
      "i: 32400\n",
      "i: 32500\n",
      "i: 32600\n",
      "i: 32700\n",
      "i: 32800\n",
      "i: 32900\n",
      "i: 33000\n",
      "i: 33100\n",
      "i: 33200\n",
      "i: 33300\n",
      "i: 33400\n",
      "i: 33500\n",
      "i: 33600\n",
      "i: 33700\n",
      "i: 33800\n",
      "i: 33900\n",
      "i: 34000\n",
      "i: 34100\n",
      "i: 34200\n",
      "i: 34300\n",
      "i: 34400\n",
      "i: 34500\n",
      "i: 34600\n",
      "i: 34700\n",
      "i: 34800\n",
      "i: 34900\n",
      "i: 35000\n",
      "i: 35100\n",
      "i: 35200\n",
      "i: 35300\n",
      "i: 35400\n",
      "i: 35500\n",
      "i: 35600\n",
      "i: 35700\n",
      "i: 35800\n",
      "i: 35900\n",
      "i: 36000\n",
      "i: 36100\n",
      "i: 36200\n",
      "i: 36300\n",
      "i: 36400\n",
      "i: 36500\n",
      "i: 36600\n",
      "i: 36700\n",
      "i: 36800\n",
      "i: 36900\n",
      "i: 37000\n",
      "i: 37100\n",
      "i: 37200\n",
      "i: 37300\n",
      "i: 37400\n",
      "i: 37500\n",
      "i: 37600\n",
      "i: 37700\n",
      "i: 37800\n",
      "i: 37900\n",
      "i: 38000\n",
      "i: 38100\n",
      "i: 38200\n",
      "i: 38300\n",
      "i: 38400\n",
      "i: 38500\n",
      "i: 38600\n",
      "i: 38700\n",
      "i: 38800\n",
      "i: 38900\n",
      "i: 39000\n",
      "i: 39100\n",
      "i: 39200\n",
      "i: 39300\n",
      "i: 39400\n",
      "i: 39500\n",
      "i: 39600\n",
      "i: 39700\n",
      "i: 39800\n",
      "i: 39900\n",
      "i: 40000\n",
      "i: 40100\n",
      "i: 40200\n",
      "i: 40300\n",
      "i: 40400\n",
      "i: 40500\n",
      "i: 40600\n",
      "i: 40700\n",
      "i: 40800\n",
      "i: 40900\n",
      "i: 41000\n",
      "i: 41100\n",
      "i: 41200\n",
      "i: 41300\n",
      "i: 41400\n",
      "i: 41500\n",
      "i: 41600\n",
      "i: 41700\n",
      "i: 41800\n",
      "i: 41900\n",
      "i: 42000\n",
      "i: 42100\n",
      "i: 42200\n",
      "i: 42300\n",
      "i: 42400\n",
      "i: 42500\n",
      "i: 42600\n",
      "i: 42700\n",
      "i: 42800\n",
      "i: 42900\n",
      "i: 43000\n",
      "i: 43100\n",
      "i: 43200\n",
      "i: 43300\n",
      "i: 43400\n",
      "i: 43500\n",
      "i: 43600\n",
      "i: 43700\n",
      "i: 43800\n",
      "i: 43900\n",
      "i: 44000\n",
      "i: 44100\n",
      "i: 44200\n",
      "i: 44300\n",
      "i: 44400\n",
      "i: 44500\n",
      "i: 44600\n",
      "i: 44700\n",
      "i: 44800\n",
      "i: 44900\n",
      "i: 45000\n",
      "i: 45100\n",
      "i: 45200\n",
      "i: 45300\n",
      "i: 45400\n",
      "i: 45500\n",
      "i: 45600\n",
      "i: 45700\n",
      "i: 45800\n",
      "i: 45900\n",
      "i: 46000\n",
      "i: 46100\n",
      "i: 46200\n",
      "i: 46300\n",
      "i: 46400\n",
      "i: 46500\n",
      "i: 46600\n",
      "i: 46700\n",
      "i: 46800\n",
      "i: 46900\n",
      "i: 47000\n",
      "i: 47100\n",
      "i: 47200\n",
      "i: 47300\n",
      "i: 47400\n",
      "i: 47500\n",
      "i: 47600\n",
      "i: 47700\n",
      "i: 47800\n",
      "i: 47900\n",
      "i: 48000\n",
      "i: 48100\n",
      "i: 48200\n",
      "i: 48300\n",
      "i: 48400\n",
      "i: 48500\n",
      "i: 48600\n",
      "i: 48700\n",
      "i: 48800\n",
      "i: 48900\n",
      "i: 49000\n",
      "i: 49100\n",
      "i: 49200\n",
      "i: 49300\n",
      "i: 49400\n",
      "i: 49500\n",
      "i: 49600\n",
      "i: 49700\n",
      "i: 49800\n",
      "i: 49900\n"
     ]
    }
   ],
   "source": [
    "tag_dep_seq = TextGraphType.DEPENDENCY | TextGraphType.TAGS | TextGraphType.SEQUENTIAL\n",
    "data_manager = AmazonReviewGraphDataModule(config, True, True, shuffle=True, end_data_load = 50000, device='cpu', batch_size=batch_size, graph_type=tag_dep_seq, load_preprocessed_data = True)"
   ]
  },
  {
   "cell_type": "code",
   "execution_count": 98,
   "metadata": {},
   "outputs": [],
   "source": [
    "t_dataloader = data_manager.train_dataloader()\n",
    "v_dataloader = data_manager.val_dataloader()"
   ]
  },
  {
   "cell_type": "code",
   "execution_count": 99,
   "metadata": {},
   "outputs": [],
   "source": [
    "X1, y1 = next(iter(t_dataloader))\n",
    "X2, y2 = next(iter(v_dataloader))"
   ]
  },
  {
   "cell_type": "code",
   "execution_count": 7,
   "metadata": {},
   "outputs": [],
   "source": [
    "# import spacy\n",
    "# nlp = spacy.load(\"en_core_web_trf\")\n",
    "# for label in nlp.get_pipe(\"tagger\").labels:\n",
    "#     print(label, \" -- \", spacy.explain(label))"
   ]
  },
  {
   "cell_type": "code",
   "execution_count": 8,
   "metadata": {},
   "outputs": [],
   "source": [
    "# torch.max(X1['dep'].x)"
   ]
  },
  {
   "cell_type": "code",
   "execution_count": 9,
   "metadata": {},
   "outputs": [],
   "source": [
    "# X1.edge_attr_dict"
   ]
  },
  {
   "cell_type": "code",
   "execution_count": 10,
   "metadata": {},
   "outputs": [
    {
     "data": {
      "text/plain": [
       "HeteroDataBatch(\n",
       "  \u001b[1mdep\u001b[0m={\n",
       "    x=[2880, 300],\n",
       "    batch=[2880],\n",
       "    ptr=[65]\n",
       "  },\n",
       "  \u001b[1mword\u001b[0m={\n",
       "    x=[5443, 300],\n",
       "    batch=[5443],\n",
       "    ptr=[65]\n",
       "  },\n",
       "  \u001b[1mtag\u001b[0m={\n",
       "    x=[3200, 300],\n",
       "    batch=[3200],\n",
       "    ptr=[65]\n",
       "  },\n",
       "  \u001b[1mgeneral\u001b[0m={\n",
       "    x=[64, 300],\n",
       "    batch=[64],\n",
       "    ptr=[65]\n",
       "  },\n",
       "  \u001b[1m(dep, dep_word, word)\u001b[0m={\n",
       "    edge_index=[2, 5127],\n",
       "    edge_attr=[5127]\n",
       "  },\n",
       "  \u001b[1m(word, word_dep, dep)\u001b[0m={\n",
       "    edge_index=[2, 5127],\n",
       "    edge_attr=[5127]\n",
       "  },\n",
       "  \u001b[1m(tag, tag_word, word)\u001b[0m={\n",
       "    edge_index=[2, 5443],\n",
       "    edge_attr=[5443]\n",
       "  },\n",
       "  \u001b[1m(word, word_tag, tag)\u001b[0m={\n",
       "    edge_index=[2, 5443],\n",
       "    edge_attr=[5443]\n",
       "  },\n",
       "  \u001b[1m(word, seq, word)\u001b[0m={\n",
       "    edge_index=[2, 10758],\n",
       "    edge_attr=[10758]\n",
       "  },\n",
       "  \u001b[1m(general, general_word, word)\u001b[0m={\n",
       "    edge_index=[2, 5443],\n",
       "    edge_attr=[5443]\n",
       "  },\n",
       "  \u001b[1m(word, word_general, general)\u001b[0m={\n",
       "    edge_index=[2, 5443],\n",
       "    edge_attr=[5443]\n",
       "  }\n",
       ")"
      ]
     },
     "execution_count": 10,
     "metadata": {},
     "output_type": "execute_result"
    }
   ],
   "source": [
    "X1"
   ]
  },
  {
   "cell_type": "code",
   "execution_count": 73,
   "metadata": {},
   "outputs": [],
   "source": [
    "from torch import nn, Tensor\n",
    "import torch.nn.functional as F\n",
    "from torch_geometric.nn import GATv2Conv, BatchNorm, SAGEConv\n",
    "class HeteroGCNConv(nn.Module):\n",
    "    def __init__(self, in_feature, out_feature, dropout = 0.0) -> None:\n",
    "        super().__init__()\n",
    "        self.conv1 = SAGEConv(in_feature, 32)\n",
    "        self.conv2 = GATv2Conv(32, 32, heads=2, edge_dim=1, add_self_loops=False)\n",
    "        self.conv3 = SAGEConv(64, out_feature)\n",
    "        # self.conv2 = GATv2Conv(out_feature, out_feature, edge_dim=1, add_self_loops=False)\n",
    "        \n",
    "        self.batch_norm1 = BatchNorm(32)\n",
    "        self.batch_norm2 = BatchNorm(64)\n",
    "        self.batch_norm3 = BatchNorm(out_feature)\n",
    "        self.dropout= nn.Dropout(dropout)\n",
    "        \n",
    "    def forward(self, x: Tensor, edge_index: Tensor, edge_weights: Tensor) -> Tensor:\n",
    "        x = self.conv1(x, edge_index)\n",
    "        x = self.batch_norm1(x)\n",
    "        x = F.leaky_relu(x)\n",
    "        x = self.conv2(x, edge_index, edge_attr=edge_weights)\n",
    "        x = self.batch_norm2(x)\n",
    "        x = F.leaky_relu(x)\n",
    "        x = self.conv3(x, edge_index)\n",
    "        x = self.batch_norm3(x)\n",
    "        x = F.leaky_relu(x)\n",
    "        x = self.dropout(x)\n",
    "        return x"
   ]
  },
  {
   "cell_type": "code",
   "execution_count": 74,
   "metadata": {},
   "outputs": [],
   "source": [
    "from torch_geometric.nn import to_hetero\n",
    "hetero_model = to_hetero(HeteroGCNConv(300, 256, 0.2), X2.metadata())\n",
    "pre = hetero_model(X2.x_dict, X2.edge_index_dict, X2.edge_attr_dict)"
   ]
  },
  {
   "cell_type": "code",
   "execution_count": 79,
   "metadata": {},
   "outputs": [],
   "source": [
    "from torch_geometric.nn import SAGEConv, to_hetero\n",
    "import torch.nn.functional as F\n",
    "from torch import Tensor\n",
    "import torch\n",
    "from typing import Dict\n",
    "import torch_geometric\n",
    "from torch.nn import Linear\n",
    "from torch_geometric.nn import GATv2Conv, GCNConv, GCN2Conv, DenseGCNConv, dense_diff_pool, BatchNorm, global_mean_pool, global_add_pool, global_max_pool, MemPooling, SAGEConv, to_hetero, HeteroBatchNorm\n",
    "from torch_geometric.nn import Sequential as GSequential\n",
    "from torch_geometric.utils import to_dense_adj\n",
    "from torch import nn, Tensor\n",
    "import torch.nn.functional as F\n",
    "from torch_geometric.data import HeteroData\n",
    "\n",
    "class HeteroGcnGatModel1(torch.nn.Module):\n",
    "    def __init__(self,\n",
    "                 input_feature: int, out_features: int,\n",
    "                 metadata,\n",
    "                 base_hidden_feature: int=256,\n",
    "                 dropout=0.1):\n",
    "        \n",
    "        super(HeteroGcnGatModel1, self).__init__()\n",
    "        self.input_features = input_feature\n",
    "        self.num_out_features = out_features\n",
    "        self.bsh: int = base_hidden_feature\n",
    "        bsh2: int = int(self.bsh/2)\n",
    "        bsh4: int = int(self.bsh/4)\n",
    "        bsh8: int = int(self.bsh/8)\n",
    "        \n",
    "        self.encoder = GSequential('x_dict, edge_index_dict, edge_weights_dict', [\n",
    "            (to_hetero(HeteroGCNConv(input_feature, self.bsh, dropout), metadata), 'x_dict, edge_index_dict, edge_weights_dict ->x1'),\n",
    "            (to_hetero(HeteroGCNConv(self.bsh, self.bsh, dropout), metadata), 'x1, edge_index_dict, edge_weights_dict ->x1'),\n",
    "            (to_hetero(HeteroGCNConv(self.bsh, bsh2, dropout), metadata), 'x1, edge_index_dict, edge_weights_dict -> x2'),\n",
    "            (to_hetero(HeteroGCNConv(bsh2, bsh2, dropout), metadata), 'x2, edge_index_dict, edge_weights_dict -> x2'),\n",
    "            (to_hetero(HeteroGCNConv(bsh2, bsh2, dropout), metadata), 'x2, edge_index_dict, edge_weights_dict -> x2'),\n",
    "            (to_hetero(HeteroGCNConv(bsh2, bsh2, dropout), metadata), 'x2, edge_index_dict, edge_weights_dict -> x2'),\n",
    "            (to_hetero(HeteroGCNConv(bsh2, bsh4, dropout), metadata), 'x2, edge_index_dict, edge_weights_dict -> x3'),\n",
    "            (to_hetero(HeteroGCNConv(bsh4, bsh4, dropout), metadata), 'x3, edge_index_dict, edge_weights_dict -> x3'),\n",
    "            (to_hetero(HeteroGCNConv(bsh4, bsh4, dropout), metadata), 'x3, edge_index_dict, edge_weights_dict -> x3'),\n",
    "            (to_hetero(HeteroGCNConv(bsh4, bsh4, dropout), metadata), 'x3, edge_index_dict, edge_weights_dict -> x3'),\n",
    "            (to_hetero(HeteroGCNConv(bsh4, bsh8, dropout), metadata), 'x3, edge_index_dict, edge_weights_dict -> x4'),\n",
    "            (to_hetero(HeteroGCNConv(bsh8, bsh8, dropout), metadata), 'x4, edge_index_dict, edge_weights_dict -> x4'),\n",
    "            (to_hetero(HeteroGCNConv(bsh8, bsh8, dropout), metadata), 'x4, edge_index_dict, edge_weights_dict -> x4'),\n",
    "            (to_hetero(HeteroGCNConv(bsh8, bsh8, dropout), metadata), 'x4, edge_index_dict, edge_weights_dict -> x4'),\n",
    "            (lambda x1, x2, x3, x4: (x1, x2, x3, x4), 'x1, x2, x3, x4 -> x1, x2, x3, x4')\n",
    "        ])\n",
    "        \n",
    "        print(f'bsh8: {bsh8}')\n",
    "        self.attention = GSequential('x3, x4, edge_index, edge_weights', [\n",
    "            (GATv2Conv(bsh8, bsh8, 2, edge_dim=1, dropout=dropout), 'x4, edge_index, edge_weights ->x4'),\n",
    "            (BatchNorm(bsh4), 'x4->x4'),\n",
    "            (nn.ReLU(), 'x4->x4'),\n",
    "            \n",
    "            (GCN2Conv(bsh4, 0.5, 0.1, 2), 'x4, x3, edge_index, edge_weights->x3'),\n",
    "            (BatchNorm(bsh4), 'x3->x3'),\n",
    "            (nn.ReLU(), 'x3->x3'),\n",
    "            (GCNConv(bsh4, bsh4), 'x3, edge_index, edge_weights -> x3'),\n",
    "            (BatchNorm(bsh4), 'x3->x3'),\n",
    "            (nn.ReLU(), 'x3->x3'),\n",
    "            \n",
    "            (GATv2Conv(bsh4, bsh4, 2, edge_dim=1, dropout=dropout), 'x3, edge_index, edge_weights ->x3'),\n",
    "            (BatchNorm(bsh2), 'x3->x3'),\n",
    "            (nn.ReLU(), 'x3->x3'),\n",
    "            (lambda x3, x4: (x3, x4), 'x3, x4 -> x3, x4')\n",
    "        ])\n",
    "        \n",
    "        self.decoder = GSequential('x1, x2, x3, edge_index, edge_weights', [\n",
    "            \n",
    "            (GCN2Conv(bsh2, 0.5, 0.1, 2), 'x3, x2, edge_index, edge_weights->x2'),\n",
    "            (BatchNorm(bsh2), 'x2->x2'),\n",
    "            (nn.ReLU(), 'x2->x2'),\n",
    "            (nn.Dropout(dropout), 'x2->x2'),\n",
    "            (GCNConv(bsh2, bsh2), 'x2, edge_index, edge_weights -> x2'),\n",
    "            (BatchNorm(bsh2), 'x2->x2'),\n",
    "            (nn.ReLU(), 'x2->x2'),\n",
    "            (nn.Dropout(dropout), 'x2->x2'),\n",
    "            (GCNConv(bsh2, self.bsh), 'x2, edge_index->x2'),\n",
    "            (BatchNorm(self.bsh), 'x2->x2'),\n",
    "            (nn.ReLU(), 'x2->x2'),\n",
    "            (nn.Dropout(dropout), 'x2->x2'),\n",
    "            \n",
    "            (GCN2Conv(self.bsh, 0.5, 0.1, 2), 'x2, x1, edge_index, edge_weights->x1'),\n",
    "            (BatchNorm(self.bsh), 'x1->x1'),\n",
    "            (nn.ReLU(), 'x1->x1'),\n",
    "            (nn.Dropout(dropout), 'x1->x1'),\n",
    "            (GCNConv(self.bsh, self.bsh), 'x1, edge_index, edge_weights ->x1'),\n",
    "            (BatchNorm(self.bsh), 'x1->x1'),\n",
    "            (nn.ReLU(), 'x1->x1'),\n",
    "            (nn.Dropout(dropout), 'x1->x1'),\n",
    "            (GCNConv(self.bsh, self.bsh), 'x1, edge_index, edge_weights ->x1'),\n",
    "            (BatchNorm(self.bsh), 'x1->x1'),\n",
    "            (nn.ReLU(), 'x1->x1'),\n",
    "            (nn.Dropout(dropout), 'x1->x1')\n",
    "        ])\n",
    "        self.mem_pool = MemPooling(self.bsh, bsh2, 4, 2)\n",
    "        self.output_layer = Linear(self.bsh, self.num_out_features)\n",
    "        \n",
    "        \n",
    "    def forward(self, x: HeteroData) -> Tensor:\n",
    "        \n",
    "        x1_dict, x2_dict, x3_dict, x4_dict = self.encoder(x.x_dict, x.edge_index_dict, x.edge_attr_dict)\n",
    "        x_att, x4 = self.attention(x3_dict[\"word\"], x4_dict[\"word\"], \n",
    "                                   x.edge_index_dict[('word', 'seq', 'word')],\n",
    "                                   x.edge_attr_dict[('word', 'seq', 'word')])\n",
    "        x_dec = self.decoder(x1_dict[\"word\"], x2_dict[\"word\"], x_att, \n",
    "                             x.edge_index_dict[('word', 'seq', 'word')],\n",
    "                             x.edge_attr_dict[('word', 'seq', 'word')])\n",
    "        x_pooled, S = self.mem_pool(x_dec, x['word'].batch)\n",
    "        x_pooled = x_pooled.view(x_pooled.shape[0], -1)\n",
    "        return self.output_layer(x_pooled)"
   ]
  },
  {
   "cell_type": "code",
   "execution_count": 80,
   "metadata": {},
   "outputs": [
    {
     "name": "stdout",
     "output_type": "stream",
     "text": [
      "bsh8: 32\n"
     ]
    }
   ],
   "source": [
    "torch_model = HeteroGcnGatModel1(300, 1, X1.metadata(), 256, dropout=0.2)\n",
    "# pre = torch_model(X1)\n",
    "torch_model = torch_model.to(device)\n",
    "# print(next(iter(torch_model.parameters())).device)\n",
    "# pre = torch_model(X1.to(device))"
   ]
  },
  {
   "cell_type": "code",
   "execution_count": 81,
   "metadata": {},
   "outputs": [
    {
     "name": "stdout",
     "output_type": "stream",
     "text": [
      "+-------------------------------------+------------------------------------------------------------+----------------------------+-----------+\n",
      "| Layer                               | Input Shape                                                | Output Shape               | #Param    |\n",
      "|-------------------------------------+------------------------------------------------------------+----------------------------+-----------|\n",
      "| HeteroGcnGatModel1                  | [11587, 11587]                                             | [64, 1]                    | 2,811,205 |\n",
      "| ├─(encoder)Sequential_f7a638        |                                                            |                            | 2,480,192 |\n",
      "| │    └─(module_0)GraphModule        |                                                            |                            | 399,520   |\n",
      "| │    │    └─(conv1)ModuleDict       | --                                                         | --                         | 134,624   |\n",
      "| │    │    └─(batch_norm1)ModuleDict | --                                                         | --                         | 256       |\n",
      "| │    │    └─(conv2)ModuleDict       | --                                                         | --                         | 30,912    |\n",
      "| │    │    └─(batch_norm2)ModuleDict | --                                                         | --                         | 512       |\n",
      "| │    │    └─(conv3)ModuleDict       | --                                                         | --                         | 231,168   |\n",
      "| │    │    └─(batch_norm3)ModuleDict | --                                                         | --                         | 2,048     |\n",
      "| │    │    └─(dropout)ModuleDict     | --                                                         | --                         | --        |\n",
      "| │    └─(module_1)GraphModule        |                                                            |                            | 379,808   |\n",
      "| │    │    └─(conv1)ModuleDict       | --                                                         | --                         | 114,912   |\n",
      "| │    │    └─(batch_norm1)ModuleDict | --                                                         | --                         | 256       |\n",
      "| │    │    └─(conv2)ModuleDict       | --                                                         | --                         | 30,912    |\n",
      "| │    │    └─(batch_norm2)ModuleDict | --                                                         | --                         | 512       |\n",
      "| │    │    └─(conv3)ModuleDict       | --                                                         | --                         | 231,168   |\n",
      "| │    │    └─(batch_norm3)ModuleDict | --                                                         | --                         | 2,048     |\n",
      "| │    │    └─(dropout)ModuleDict     | --                                                         | --                         | --        |\n",
      "| │    └─(module_2)GraphModule        |                                                            |                            | 263,200   |\n",
      "| │    │    └─(conv1)ModuleDict       | --                                                         | --                         | 114,912   |\n",
      "| │    │    └─(batch_norm1)ModuleDict | --                                                         | --                         | 256       |\n",
      "| │    │    └─(conv2)ModuleDict       | --                                                         | --                         | 30,912    |\n",
      "| │    │    └─(batch_norm2)ModuleDict | --                                                         | --                         | 512       |\n",
      "| │    │    └─(conv3)ModuleDict       | --                                                         | --                         | 115,584   |\n",
      "| │    │    └─(batch_norm3)ModuleDict | --                                                         | --                         | 1,024     |\n",
      "| │    │    └─(dropout)ModuleDict     | --                                                         | --                         | --        |\n",
      "| │    └─(module_3)GraphModule        |                                                            |                            | 205,856   |\n",
      "| │    │    └─(conv1)ModuleDict       | --                                                         | --                         | 57,568    |\n",
      "| │    │    └─(batch_norm1)ModuleDict | --                                                         | --                         | 256       |\n",
      "| │    │    └─(conv2)ModuleDict       | --                                                         | --                         | 30,912    |\n",
      "| │    │    └─(batch_norm2)ModuleDict | --                                                         | --                         | 512       |\n",
      "| │    │    └─(conv3)ModuleDict       | --                                                         | --                         | 115,584   |\n",
      "| │    │    └─(batch_norm3)ModuleDict | --                                                         | --                         | 1,024     |\n",
      "| │    │    └─(dropout)ModuleDict     | --                                                         | --                         | --        |\n",
      "| │    └─(module_4)GraphModule        |                                                            |                            | 205,856   |\n",
      "| │    │    └─(conv1)ModuleDict       | --                                                         | --                         | 57,568    |\n",
      "| │    │    └─(batch_norm1)ModuleDict | --                                                         | --                         | 256       |\n",
      "| │    │    └─(conv2)ModuleDict       | --                                                         | --                         | 30,912    |\n",
      "| │    │    └─(batch_norm2)ModuleDict | --                                                         | --                         | 512       |\n",
      "| │    │    └─(conv3)ModuleDict       | --                                                         | --                         | 115,584   |\n",
      "| │    │    └─(batch_norm3)ModuleDict | --                                                         | --                         | 1,024     |\n",
      "| │    │    └─(dropout)ModuleDict     | --                                                         | --                         | --        |\n",
      "| │    └─(module_5)GraphModule        |                                                            |                            | 205,856   |\n",
      "| │    │    └─(conv1)ModuleDict       | --                                                         | --                         | 57,568    |\n",
      "| │    │    └─(batch_norm1)ModuleDict | --                                                         | --                         | 256       |\n",
      "| │    │    └─(conv2)ModuleDict       | --                                                         | --                         | 30,912    |\n",
      "| │    │    └─(batch_norm2)ModuleDict | --                                                         | --                         | 512       |\n",
      "| │    │    └─(conv3)ModuleDict       | --                                                         | --                         | 115,584   |\n",
      "| │    │    └─(batch_norm3)ModuleDict | --                                                         | --                         | 1,024     |\n",
      "| │    │    └─(dropout)ModuleDict     | --                                                         | --                         | --        |\n",
      "| │    └─(module_6)GraphModule        |                                                            |                            | 147,552   |\n",
      "| │    │    └─(conv1)ModuleDict       | --                                                         | --                         | 57,568    |\n",
      "| │    │    └─(batch_norm1)ModuleDict | --                                                         | --                         | 256       |\n",
      "| │    │    └─(conv2)ModuleDict       | --                                                         | --                         | 30,912    |\n",
      "| │    │    └─(batch_norm2)ModuleDict | --                                                         | --                         | 512       |\n",
      "| │    │    └─(conv3)ModuleDict       | --                                                         | --                         | 57,792    |\n",
      "| │    │    └─(batch_norm3)ModuleDict | --                                                         | --                         | 512       |\n",
      "| │    │    └─(dropout)ModuleDict     | --                                                         | --                         | --        |\n",
      "| │    └─(module_7)GraphModule        |                                                            |                            | 118,880   |\n",
      "| │    │    └─(conv1)ModuleDict       | --                                                         | --                         | 28,896    |\n",
      "| │    │    └─(batch_norm1)ModuleDict | --                                                         | --                         | 256       |\n",
      "| │    │    └─(conv2)ModuleDict       | --                                                         | --                         | 30,912    |\n",
      "| │    │    └─(batch_norm2)ModuleDict | --                                                         | --                         | 512       |\n",
      "| │    │    └─(conv3)ModuleDict       | --                                                         | --                         | 57,792    |\n",
      "| │    │    └─(batch_norm3)ModuleDict | --                                                         | --                         | 512       |\n",
      "| │    │    └─(dropout)ModuleDict     | --                                                         | --                         | --        |\n",
      "| │    └─(module_8)GraphModule        |                                                            |                            | 118,880   |\n",
      "| │    │    └─(conv1)ModuleDict       | --                                                         | --                         | 28,896    |\n",
      "| │    │    └─(batch_norm1)ModuleDict | --                                                         | --                         | 256       |\n",
      "| │    │    └─(conv2)ModuleDict       | --                                                         | --                         | 30,912    |\n",
      "| │    │    └─(batch_norm2)ModuleDict | --                                                         | --                         | 512       |\n",
      "| │    │    └─(conv3)ModuleDict       | --                                                         | --                         | 57,792    |\n",
      "| │    │    └─(batch_norm3)ModuleDict | --                                                         | --                         | 512       |\n",
      "| │    │    └─(dropout)ModuleDict     | --                                                         | --                         | --        |\n",
      "| │    └─(module_9)GraphModule        |                                                            |                            | 118,880   |\n",
      "| │    │    └─(conv1)ModuleDict       | --                                                         | --                         | 28,896    |\n",
      "| │    │    └─(batch_norm1)ModuleDict | --                                                         | --                         | 256       |\n",
      "| │    │    └─(conv2)ModuleDict       | --                                                         | --                         | 30,912    |\n",
      "| │    │    └─(batch_norm2)ModuleDict | --                                                         | --                         | 512       |\n",
      "| │    │    └─(conv3)ModuleDict       | --                                                         | --                         | 57,792    |\n",
      "| │    │    └─(batch_norm3)ModuleDict | --                                                         | --                         | 512       |\n",
      "| │    │    └─(dropout)ModuleDict     | --                                                         | --                         | --        |\n",
      "| │    └─(module_10)GraphModule       |                                                            |                            | 89,728    |\n",
      "| │    │    └─(conv1)ModuleDict       | --                                                         | --                         | 28,896    |\n",
      "| │    │    └─(batch_norm1)ModuleDict | --                                                         | --                         | 256       |\n",
      "| │    │    └─(conv2)ModuleDict       | --                                                         | --                         | 30,912    |\n",
      "| │    │    └─(batch_norm2)ModuleDict | --                                                         | --                         | 512       |\n",
      "| │    │    └─(conv3)ModuleDict       | --                                                         | --                         | 28,896    |\n",
      "| │    │    └─(batch_norm3)ModuleDict | --                                                         | --                         | 256       |\n",
      "| │    │    └─(dropout)ModuleDict     | --                                                         | --                         | --        |\n",
      "| │    └─(module_11)GraphModule       |                                                            |                            | 75,392    |\n",
      "| │    │    └─(conv1)ModuleDict       | --                                                         | --                         | 14,560    |\n",
      "| │    │    └─(batch_norm1)ModuleDict | --                                                         | --                         | 256       |\n",
      "| │    │    └─(conv2)ModuleDict       | --                                                         | --                         | 30,912    |\n",
      "| │    │    └─(batch_norm2)ModuleDict | --                                                         | --                         | 512       |\n",
      "| │    │    └─(conv3)ModuleDict       | --                                                         | --                         | 28,896    |\n",
      "| │    │    └─(batch_norm3)ModuleDict | --                                                         | --                         | 256       |\n",
      "| │    │    └─(dropout)ModuleDict     | --                                                         | --                         | --        |\n",
      "| │    └─(module_12)GraphModule       |                                                            |                            | 75,392    |\n",
      "| │    │    └─(conv1)ModuleDict       | --                                                         | --                         | 14,560    |\n",
      "| │    │    └─(batch_norm1)ModuleDict | --                                                         | --                         | 256       |\n",
      "| │    │    └─(conv2)ModuleDict       | --                                                         | --                         | 30,912    |\n",
      "| │    │    └─(batch_norm2)ModuleDict | --                                                         | --                         | 512       |\n",
      "| │    │    └─(conv3)ModuleDict       | --                                                         | --                         | 28,896    |\n",
      "| │    │    └─(batch_norm3)ModuleDict | --                                                         | --                         | 256       |\n",
      "| │    │    └─(dropout)ModuleDict     | --                                                         | --                         | --        |\n",
      "| │    └─(module_13)GraphModule       |                                                            |                            | 75,392    |\n",
      "| │    │    └─(conv1)ModuleDict       | --                                                         | --                         | 14,560    |\n",
      "| │    │    └─(batch_norm1)ModuleDict | --                                                         | --                         | 256       |\n",
      "| │    │    └─(conv2)ModuleDict       | --                                                         | --                         | 30,912    |\n",
      "| │    │    └─(batch_norm2)ModuleDict | --                                                         | --                         | 512       |\n",
      "| │    │    └─(conv3)ModuleDict       | --                                                         | --                         | 28,896    |\n",
      "| │    │    └─(batch_norm3)ModuleDict | --                                                         | --                         | 256       |\n",
      "| │    │    └─(dropout)ModuleDict     | --                                                         | --                         | --        |\n",
      "| ├─(attention)Sequential_f7aa55      | [5443, 64], [5443, 32], [2, 10758], [10758]                | [5443, 128], [5443, 64]    | 30,336    |\n",
      "| │    └─(module_0)GATv2Conv          | [5443, 32], [2, 10758], [10758]                            | [5443, 64]                 | 4,416     |\n",
      "| │    └─(module_1)BatchNorm          | [5443, 64]                                                 | [5443, 64]                 | 128       |\n",
      "| │    │    └─(module)BatchNorm1d     | [5443, 64]                                                 | [5443, 64]                 | 128       |\n",
      "| │    └─(module_2)ReLU               | [5443, 64]                                                 | [5443, 64]                 | --        |\n",
      "| │    └─(module_3)GCN2Conv           | [5443, 64], [5443, 64], [2, 10758], [10758]                | [5443, 64]                 | 4,096     |\n",
      "| │    └─(module_4)BatchNorm          | [5443, 64]                                                 | [5443, 64]                 | 128       |\n",
      "| │    │    └─(module)BatchNorm1d     | [5443, 64]                                                 | [5443, 64]                 | 128       |\n",
      "| │    └─(module_5)ReLU               | [5443, 64]                                                 | [5443, 64]                 | --        |\n",
      "| │    └─(module_6)GCNConv            | [5443, 64], [2, 10758], [10758]                            | [5443, 64]                 | 4,160     |\n",
      "| │    └─(module_7)BatchNorm          | [5443, 64]                                                 | [5443, 64]                 | 128       |\n",
      "| │    │    └─(module)BatchNorm1d     | [5443, 64]                                                 | [5443, 64]                 | 128       |\n",
      "| │    └─(module_8)ReLU               | [5443, 64]                                                 | [5443, 64]                 | --        |\n",
      "| │    └─(module_9)GATv2Conv          | [5443, 64], [2, 10758], [10758]                            | [5443, 128]                | 17,024    |\n",
      "| │    └─(module_10)BatchNorm         | [5443, 128]                                                | [5443, 128]                | 256       |\n",
      "| │    │    └─(module)BatchNorm1d     | [5443, 128]                                                | [5443, 128]                | 256       |\n",
      "| │    └─(module_11)ReLU              | [5443, 128]                                                | [5443, 128]                | --        |\n",
      "| ├─(decoder)Sequential_f7aec5        | [5443, 256], [5443, 128], [5443, 128], [2, 10758], [10758] | [5443, 256]                | 265,600   |\n",
      "| │    └─(module_0)GCN2Conv           | [5443, 128], [5443, 128], [2, 10758], [10758]              | [5443, 128]                | 16,384    |\n",
      "| │    └─(module_1)BatchNorm          | [5443, 128]                                                | [5443, 128]                | 256       |\n",
      "| │    │    └─(module)BatchNorm1d     | [5443, 128]                                                | [5443, 128]                | 256       |\n",
      "| │    └─(module_2)ReLU               | [5443, 128]                                                | [5443, 128]                | --        |\n",
      "| │    └─(module_3)Dropout            | [5443, 128]                                                | [5443, 128]                | --        |\n",
      "| │    └─(module_4)GCNConv            | [5443, 128], [2, 10758], [10758]                           | [5443, 128]                | 16,512    |\n",
      "| │    └─(module_5)BatchNorm          | [5443, 128]                                                | [5443, 128]                | 256       |\n",
      "| │    │    └─(module)BatchNorm1d     | [5443, 128]                                                | [5443, 128]                | 256       |\n",
      "| │    └─(module_6)ReLU               | [5443, 128]                                                | [5443, 128]                | --        |\n",
      "| │    └─(module_7)Dropout            | [5443, 128]                                                | [5443, 128]                | --        |\n",
      "| │    └─(module_8)GCNConv            | [5443, 128], [2, 10758]                                    | [5443, 256]                | 33,024    |\n",
      "| │    └─(module_9)BatchNorm          | [5443, 256]                                                | [5443, 256]                | 512       |\n",
      "| │    │    └─(module)BatchNorm1d     | [5443, 256]                                                | [5443, 256]                | 512       |\n",
      "| │    └─(module_10)ReLU              | [5443, 256]                                                | [5443, 256]                | --        |\n",
      "| │    └─(module_11)Dropout           | [5443, 256]                                                | [5443, 256]                | --        |\n",
      "| │    └─(module_12)GCN2Conv          | [5443, 256], [5443, 256], [2, 10758], [10758]              | [5443, 256]                | 65,536    |\n",
      "| │    └─(module_13)BatchNorm         | [5443, 256]                                                | [5443, 256]                | 512       |\n",
      "| │    │    └─(module)BatchNorm1d     | [5443, 256]                                                | [5443, 256]                | 512       |\n",
      "| │    └─(module_14)ReLU              | [5443, 256]                                                | [5443, 256]                | --        |\n",
      "| │    └─(module_15)Dropout           | [5443, 256]                                                | [5443, 256]                | --        |\n",
      "| │    └─(module_16)GCNConv           | [5443, 256], [2, 10758], [10758]                           | [5443, 256]                | 65,792    |\n",
      "| │    └─(module_17)BatchNorm         | [5443, 256]                                                | [5443, 256]                | 512       |\n",
      "| │    │    └─(module)BatchNorm1d     | [5443, 256]                                                | [5443, 256]                | 512       |\n",
      "| │    └─(module_18)ReLU              | [5443, 256]                                                | [5443, 256]                | --        |\n",
      "| │    └─(module_19)Dropout           | [5443, 256]                                                | [5443, 256]                | --        |\n",
      "| │    └─(module_20)GCNConv           | [5443, 256], [2, 10758], [10758]                           | [5443, 256]                | 65,792    |\n",
      "| │    └─(module_21)BatchNorm         | [5443, 256]                                                | [5443, 256]                | 512       |\n",
      "| │    │    └─(module)BatchNorm1d     | [5443, 256]                                                | [5443, 256]                | 512       |\n",
      "| │    └─(module_22)ReLU              | [5443, 256]                                                | [5443, 256]                | --        |\n",
      "| │    └─(module_23)Dropout           | [5443, 256]                                                | [5443, 256]                | --        |\n",
      "| ├─(mem_pool)MemPooling              | [5443, 256], [5443]                                        | [64, 2, 128], [64, 192, 2] | 34,820    |\n",
      "| │    └─(conv)Conv2d                 | [64, 4, 192, 2]                                            | [64, 1, 192, 2]            | 4         |\n",
      "| │    └─(lin)Linear                  | [64, 2, 256]                                               | [64, 2, 128]               | 32,768    |\n",
      "| ├─(output_layer)Linear              | [64, 256]                                                  | [64, 1]                    | 257       |\n",
      "+-------------------------------------+------------------------------------------------------------+----------------------------+-----------+\n"
     ]
    }
   ],
   "source": [
    "print(torch_geometric.nn.summary(torch_model, X1.to(device)))"
   ]
  },
  {
   "cell_type": "code",
   "execution_count": 82,
   "metadata": {},
   "outputs": [
    {
     "name": "stdout",
     "output_type": "stream",
     "text": [
      "torch.cuda.memory_allocated: 0.183651GB\n",
      "torch.cuda.memory_reserved: 1.830078GB\n",
      "torch.cuda.max_memory_reserved: 2.066406GB\n"
     ]
    }
   ],
   "source": [
    "import torch\n",
    "print(\"torch.cuda.memory_allocated: %fGB\"%(torch.cuda.memory_allocated(0)/1024/1024/1024))\n",
    "print(\"torch.cuda.memory_reserved: %fGB\"%(torch.cuda.memory_reserved(0)/1024/1024/1024))\n",
    "print(\"torch.cuda.max_memory_reserved: %fGB\"%(torch.cuda.max_memory_reserved(0)/1024/1024/1024))"
   ]
  },
  {
   "cell_type": "code",
   "execution_count": 83,
   "metadata": {},
   "outputs": [],
   "source": [
    "# from Scripts.Models.BaseModels.GcnGatModel1 import GcnGatModel1\n",
    "from Scripts.Models.LightningModels.LightningModels import BinaryLightningModel\n",
    "from lightning.pytorch.callbacks import EarlyStopping, ModelCheckpoint\n",
    "import lightning as L\n",
    "from lightning.pytorch.tuner import Tuner"
   ]
  },
  {
   "cell_type": "code",
   "execution_count": 84,
   "metadata": {},
   "outputs": [],
   "source": [
    "callbacks = [\n",
    "    ModelCheckpoint(save_top_k=2, mode='max', monitor='val_acc', save_last=True),\n",
    "    EarlyStopping(patience=50, mode='max', monitor='val_acc')\n",
    "]"
   ]
  },
  {
   "cell_type": "code",
   "execution_count": 92,
   "metadata": {},
   "outputs": [],
   "source": [
    "lightning_model = BinaryLightningModel(torch_model,\n",
    "                                 torch.optim.Adam(torch_model.parameters(), lr=0.01, weight_decay=0.00055),\n",
    "                                       torch.nn.BCEWithLogitsLoss(),\n",
    "                                       learning_rate=0.01,\n",
    "                                       batch_size=batch_size,\n",
    "                                       ).to(device)"
   ]
  },
  {
   "cell_type": "code",
   "execution_count": 101,
   "metadata": {},
   "outputs": [
    {
     "name": "stderr",
     "output_type": "stream",
     "text": [
      "Trainer already configured with model summary callbacks: [<class 'lightning.pytorch.callbacks.model_summary.ModelSummary'>]. Skipping setting a default `ModelSummary` callback.\n"
     ]
    },
    {
     "name": "stderr",
     "output_type": "stream",
     "text": [
      "GPU available: True (cuda), used: True\n",
      "TPU available: False, using: 0 TPU cores\n",
      "IPU available: False, using: 0 IPUs\n",
      "HPU available: False, using: 0 HPUs\n"
     ]
    }
   ],
   "source": [
    "trainer = L.Trainer(\n",
    "            callbacks=callbacks,\n",
    "            max_epochs=500,\n",
    "            accelerator='gpu',\n",
    "            logger=CSVLogger(save_dir='logs/', name='GcnGatSentiment3'),\n",
    "            num_sanity_val_steps=0)"
   ]
  },
  {
   "cell_type": "code",
   "execution_count": 87,
   "metadata": {},
   "outputs": [
    {
     "name": "stdout",
     "output_type": "stream",
     "text": [
      "bbbb\n"
     ]
    },
    {
     "name": "stderr",
     "output_type": "stream",
     "text": [
      "c:\\Users\\fardin\\AppData\\Local\\Programs\\Python\\Python310\\lib\\site-packages\\lightning\\pytorch\\utilities\\parsing.py:43: attribute 'model' removed from hparams because it cannot be pickled\n",
      "LOCAL_RANK: 0 - CUDA_VISIBLE_DEVICES: [0]\n",
      "c:\\Users\\fardin\\AppData\\Local\\Programs\\Python\\Python310\\lib\\site-packages\\lightning\\pytorch\\trainer\\connectors\\data_connector.py:441: The 'train_dataloader' does not have many workers which may be a bottleneck. Consider increasing the value of the `num_workers` argument` to `num_workers=7` in the `DataLoader` to improve performance.\n",
      "c:\\Users\\fardin\\AppData\\Local\\Programs\\Python\\Python310\\lib\\site-packages\\lightning\\pytorch\\loops\\fit_loop.py:293: The number of training batches (46) is smaller than the logging interval Trainer(log_every_n_steps=50). Set a lower value for log_every_n_steps if you want to see logs for the training epoch.\n",
      "c:\\Users\\fardin\\AppData\\Local\\Programs\\Python\\Python310\\lib\\site-packages\\lightning\\pytorch\\trainer\\connectors\\data_connector.py:441: The 'val_dataloader' does not have many workers which may be a bottleneck. Consider increasing the value of the `num_workers` argument` to `num_workers=7` in the `DataLoader` to improve performance.\n"
     ]
    },
    {
     "data": {
      "application/vnd.jupyter.widget-view+json": {
       "model_id": "06a77c55e56345b4b861254ccf08ac1c",
       "version_major": 2,
       "version_minor": 0
      },
      "text/plain": [
       "Finding best initial lr:   0%|          | 0/100 [00:00<?, ?it/s]"
      ]
     },
     "metadata": {},
     "output_type": "display_data"
    },
    {
     "name": "stderr",
     "output_type": "stream",
     "text": [
      "`Trainer.fit` stopped: `max_steps=100` reached.\n",
      "Learning rate set to 1.5848931924611134e-05\n",
      "Restoring states from the checkpoint path at c:\\Users\\fardin\\Projects\\ColorIntelligence\\.lr_find_c7b05ef3-7aad-4e14-a577-0546fd3183c7.ckpt\n",
      "Restored all states from the checkpoint at c:\\Users\\fardin\\Projects\\ColorIntelligence\\.lr_find_c7b05ef3-7aad-4e14-a577-0546fd3183c7.ckpt\n"
     ]
    }
   ],
   "source": [
    "tuner = Tuner(trainer)\n",
    "results = tuner.lr_find(lightning_model, datamodule=data_manager, min_lr=0.000001,max_lr=0.1)"
   ]
  },
  {
   "cell_type": "code",
   "execution_count": 41,
   "metadata": {},
   "outputs": [
    {
     "data": {
      "image/png": "[encoded data removed]",
      "text/plain": [
       "<Figure size 640x480 with 1 Axes>"
      ]
     },
     "metadata": {},
     "output_type": "display_data"
    }
   ],
   "source": [
    "fig = results.plot(suggest=True)"
   ]
  },
  {
   "cell_type": "code",
   "execution_count": 102,
   "metadata": {},
   "outputs": [
    {
     "name": "stdout",
     "output_type": "stream",
     "text": [
      "bbbb\n"
     ]
    },
    {
     "name": "stderr",
     "output_type": "stream",
     "text": [
      "LOCAL_RANK: 0 - CUDA_VISIBLE_DEVICES: [0]\n",
      "\n",
      "  | Name      | Type               | Params\n",
      "-------------------------------------------------\n",
      "0 | model     | HeteroGcnGatModel1 | 2.8 M \n",
      "1 | loss_func | BCEWithLogitsLoss  | 0     \n",
      "2 | train_acc | BinaryAccuracy     | 0     \n",
      "3 | val_acc   | BinaryAccuracy     | 0     \n",
      "4 | test_acc  | BinaryAccuracy     | 0     \n",
      "-------------------------------------------------\n",
      "2.8 M     Trainable params\n",
      "0         Non-trainable params\n",
      "2.8 M     Total params\n",
      "11.245    Total estimated model params size (MB)\n",
      "c:\\Users\\fardin\\AppData\\Local\\Programs\\Python\\Python310\\lib\\site-packages\\lightning\\pytorch\\trainer\\connectors\\data_connector.py:441: The 'val_dataloader' does not have many workers which may be a bottleneck. Consider increasing the value of the `num_workers` argument` to `num_workers=7` in the `DataLoader` to improve performance.\n"
     ]
    },
    {
     "data": {
      "application/vnd.jupyter.widget-view+json": {
       "model_id": "237f4505e65c466f84d6f1932247e08e",
       "version_major": 2,
       "version_minor": 0
      },
      "text/plain": [
       "Training: |          | 0/? [00:00<?, ?it/s]"
      ]
     },
     "metadata": {},
     "output_type": "display_data"
    },
    {
     "data": {
      "application/vnd.jupyter.widget-view+json": {
       "model_id": "c5e65f58828e4869bf2529a773cd72af",
       "version_major": 2,
       "version_minor": 0
      },
      "text/plain": [
       "Validation: |          | 0/? [00:00<?, ?it/s]"
      ]
     },
     "metadata": {},
     "output_type": "display_data"
    },
    {
     "data": {
      "application/vnd.jupyter.widget-view+json": {
       "model_id": "aa980c0d09ae401ba37b6c28435c61b7",
       "version_major": 2,
       "version_minor": 0
      },
      "text/plain": [
       "Validation: |          | 0/? [00:00<?, ?it/s]"
      ]
     },
     "metadata": {},
     "output_type": "display_data"
    },
    {
     "data": {
      "application/vnd.jupyter.widget-view+json": {
       "model_id": "1b1eee0c38ea4859b716f3fcab78ef9b",
       "version_major": 2,
       "version_minor": 0
      },
      "text/plain": [
       "Validation: |          | 0/? [00:00<?, ?it/s]"
      ]
     },
     "metadata": {},
     "output_type": "display_data"
    },
    {
     "data": {
      "application/vnd.jupyter.widget-view+json": {
       "model_id": "53da6368f20a434c99363b2611ab05a1",
       "version_major": 2,
       "version_minor": 0
      },
      "text/plain": [
       "Validation: |          | 0/? [00:00<?, ?it/s]"
      ]
     },
     "metadata": {},
     "output_type": "display_data"
    },
    {
     "data": {
      "application/vnd.jupyter.widget-view+json": {
       "model_id": "18ec784cea454fada38ed0edb60eaf88",
       "version_major": 2,
       "version_minor": 0
      },
      "text/plain": [
       "Validation: |          | 0/? [00:00<?, ?it/s]"
      ]
     },
     "metadata": {},
     "output_type": "display_data"
    },
    {
     "data": {
      "application/vnd.jupyter.widget-view+json": {
       "model_id": "1f3f2012a89d4451b42066a2bfb5f7f8",
       "version_major": 2,
       "version_minor": 0
      },
      "text/plain": [
       "Validation: |          | 0/? [00:00<?, ?it/s]"
      ]
     },
     "metadata": {},
     "output_type": "display_data"
    },
    {
     "data": {
      "application/vnd.jupyter.widget-view+json": {
       "model_id": "51a01facf63f482789718bb3df7ec744",
       "version_major": 2,
       "version_minor": 0
      },
      "text/plain": [
       "Validation: |          | 0/? [00:00<?, ?it/s]"
      ]
     },
     "metadata": {},
     "output_type": "display_data"
    },
    {
     "data": {
      "application/vnd.jupyter.widget-view+json": {
       "model_id": "d51ca4d0e31e4aa78e18627751e765d4",
       "version_major": 2,
       "version_minor": 0
      },
      "text/plain": [
       "Validation: |          | 0/? [00:00<?, ?it/s]"
      ]
     },
     "metadata": {},
     "output_type": "display_data"
    },
    {
     "name": "stderr",
     "output_type": "stream",
     "text": [
      "c:\\Users\\fardin\\AppData\\Local\\Programs\\Python\\Python310\\lib\\site-packages\\lightning\\pytorch\\trainer\\call.py:58: Detected KeyboardInterrupt, attempting graceful shutdown...\n"
     ]
    }
   ],
   "source": [
    "# trainer.fit(lightning_model, datamodule=data_manager)\n",
    "trainer.fit(lightning_model,\n",
    "            datamodule=data_manager,\n",
    "            # train_dataloaders=data_manager.train_dataloader(),\n",
    "            # val_dataloaders=data_manager.val_dataloader(),\n",
    "            # logger=CSVLogger(save_dir='logs/', name='sample_model'),\n",
    "            # default_root_dir=\"~/Desktop\",\n",
    "            ckpt_path=path.join(config.root,'Practices\\Tasks\\HeterogeneousGraphs\\epoch=6-step=3276.ckpt')\n",
    "            )"
   ]
  },
  {
   "cell_type": "code",
   "execution_count": 103,
   "metadata": {},
   "outputs": [
    {
     "data": {
      "text/plain": [
       "'logs/GcnGatSentiment3\\\\version_16\\\\checkpoints\\\\epoch=7-step=3744.ckpt'"
      ]
     },
     "execution_count": 103,
     "metadata": {},
     "output_type": "execute_result"
    }
   ],
   "source": [
    "trainer.checkpoint_callback.best_model_path"
   ]
  },
  {
   "cell_type": "code",
   "execution_count": 95,
   "metadata": {},
   "outputs": [],
   "source": [
    "import matplotlib.pyplot as plt\n",
    "import pandas as pd\n",
    "'''From torch lightning tutorials'''\n",
    "def plot_csv_logger(csv_path, loss_names=['train_loss', 'val_loss'], eval_names=['train_acc', 'val_acc']):\n",
    "    metrics = pd.read_csv(csv_path)\n",
    "    \n",
    "    aggregation_metrics = []\n",
    "    agg_col = 'epoch'\n",
    "    for i, dfg in metrics.groupby(agg_col):\n",
    "        agg = dict(dfg.mean())\n",
    "        agg[agg_col] = i\n",
    "        aggregation_metrics.append(agg)\n",
    "    \n",
    "    df_metrics = pd.DataFrame(aggregation_metrics)\n",
    "    df_metrics[loss_names].plot(grid=True, legend=True, xlabel='Epoch', ylabel='loss')\n",
    "    df_metrics[eval_names].plot(grid=True, legend=True, xlabel='Epoch', ylabel='accuracy')\n",
    "    plt.show()\n",
    "    "
   ]
  },
  {
   "cell_type": "code",
   "execution_count": 104,
   "metadata": {},
   "outputs": [
    {
     "data": {
      "image/png": "[encoded data removed]",
      "text/plain": [
       "<Figure size 640x480 with 1 Axes>"
      ]
     },
     "metadata": {},
     "output_type": "display_data"
    },
    {
     "data": {
      "image/png": "[encoded data removed]",
      "text/plain": [
       "<Figure size 640x480 with 1 Axes>"
      ]
     },
     "metadata": {},
     "output_type": "display_data"
    }
   ],
   "source": [
    "plot_csv_logger(r'C:\\Users\\fardin\\Projects\\ColorIntelligence\\logs\\GcnGatSentiment3\\version_19\\metrics.csv')"
   ]
  },
  {
   "cell_type": "code",
   "execution_count": null,
   "metadata": {},
   "outputs": [],
   "source": []
  }
 ],
 "metadata": {
  "kernelspec": {
   "display_name": "Python 3",
   "language": "python",
   "name": "python3"
  },
  "language_info": {
   "codemirror_mode": {
    "name": "ipython",
    "version": 3
   },
   "file_extension": ".py",
   "mimetype": "text/x-python",
   "name": "python",
   "nbconvert_exporter": "python",
   "pygments_lexer": "ipython3",
   "version": "3.10.11"
  }
 },
 "nbformat": 4,
 "nbformat_minor": 2
}
