{
 "cells": [
  {
   "cell_type": "code",
   "execution_count": 16,
   "metadata": {
    "collapsed": true,
    "pycharm": {
     "name": "#%%\n"
    }
   },
   "outputs": [],
   "source": [
    "import numpy as np\n",
    "# from Scripts.DataManager.DabasePreparations.AmazonReviewSentiGraph import AmazonReviewSentiGraph\n",
    "# from Scripts.Models.ModelsManager.SimpleGraphClassifierModelManager import SimpleGraphClassifierModelManager\n",
    "from Scripts.Configs.ConfigClass import Config\n",
    "config = Config(r'C:\\Users\\fardin\\Projects\\ColorIntelligence')\n",
    "from Scripts.DataManager.GraphConstructor.GraphConstructor import TextGraphType\n",
    "import os\n",
    "# os.environ['TORCH_USE_CUDA_DSA']\n",
    "os.environ['CUDA_LAUNCH_BLOCKING'] = \"1\"\n",
    "device = 'cuda'\n",
    "batch_size = 8"
   ]
  },
  {
   "cell_type": "code",
   "execution_count": 17,
   "metadata": {
    "collapsed": false,
    "pycharm": {
     "name": "#%%\n"
    }
   },
   "outputs": [],
   "source": [
    "from Scripts.DataManager.GraphLoader.AmazonReviewGraphDataModule import AmazonReviewGraphDataModule"
   ]
  },
  {
   "cell_type": "code",
   "execution_count": 18,
   "metadata": {
    "collapsed": false,
    "pycharm": {
     "name": "#%%\n"
    }
   },
   "outputs": [
    {
     "name": "stdout",
     "output_type": "stream",
     "text": [
      "self.num_data_load: 100\n",
      "filename: C:\\Users\\fardin\\Projects\\ColorIntelligence\\data/GraphData/AmazonReview\\graph_var.txt\n",
      " 0 graph loaded\n",
      "self.num_data_load: 100\n",
      "self.labels.shape: torch.Size([100, 1])\n"
     ]
    }
   ],
   "source": [
    "data_manager = AmazonReviewGraphDataModule(config, True, True, shuffle=True, num_data_load = 100, device='cpu', batch_size=batch_size, graph_type=TextGraphType.CO_OCCURRENCE)"
   ]
  },
  {
   "cell_type": "code",
   "execution_count": 19,
   "metadata": {
    "collapsed": false,
    "pycharm": {
     "name": "#%%\n"
    }
   },
   "outputs": [
    {
     "name": "stdout",
     "output_type": "stream",
     "text": [
      "cpu\n",
      "cpu\n"
     ]
    }
   ],
   "source": [
    "t_dataloader = data_manager.train_dataloader()\n",
    "v_dataloader = data_manager.val_dataloader()\n",
    "X1, y1 = next(iter(t_dataloader))\n",
    "X2, y2 = next(iter(v_dataloader))\n",
    "print(X1[0].x.device)\n",
    "print(X2[0].x.device)"
   ]
  },
  {
   "cell_type": "code",
   "execution_count": 20,
   "metadata": {
    "collapsed": false,
    "pycharm": {
     "name": "#%%\n"
    }
   },
   "outputs": [],
   "source": [
    "from Scripts.Models.BaseModels.GcnGatModel1 import GcnGatModel1\n",
    "from Scripts.Models.LightningModels.LightningModels import BinaryLightningModel\n",
    "import torch"
   ]
  },
  {
   "cell_type": "code",
   "execution_count": 21,
   "metadata": {
    "collapsed": false,
    "pycharm": {
     "name": "#%%\n"
    }
   },
   "outputs": [],
   "source": [
    "torch_model = GcnGatModel1(300, 1, 256, dropout=0.2)\n",
    "torch_model = torch_model.to(device)\n",
    "# print(next(iter(torch_model.parameters())).device)\n",
    "pre = torch_model(X1.to(device))"
   ]
  },
  {
   "cell_type": "code",
   "execution_count": 22,
   "metadata": {
    "collapsed": false,
    "pycharm": {
     "name": "#%%\n"
    }
   },
   "outputs": [
    {
     "name": "stderr",
     "output_type": "stream",
     "text": [
      "c:\\Users\\fardin\\AppData\\Local\\Programs\\Python\\Python310\\lib\\site-packages\\lightning\\pytorch\\utilities\\parsing.py:198: Attribute 'model' is an instance of `nn.Module` and is already saved during checkpointing. It is recommended to ignore them using `self.save_hyperparameters(ignore=['model'])`.\n"
     ]
    }
   ],
   "source": [
    "lightning_model = BinaryLightningModel(torch_model,\n",
    "                                 torch.optim.Adam(torch_model.parameters(), lr=0.00017, weight_decay=0.00055),\n",
    "                                       torch.nn.BCEWithLogitsLoss(),\n",
    "                                       learning_rate=0.00017,\n",
    "                                       batch_size=batch_size,\n",
    "                                       ).to(device)"
   ]
  },
  {
   "cell_type": "code",
   "execution_count": 23,
   "metadata": {
    "collapsed": false,
    "pycharm": {
     "name": "#%%\n"
    }
   },
   "outputs": [],
   "source": [
    "# from Scripts.Models.LightningModels.LightningModels import BaseLightningModel\n",
    "# from abc import ABC, abstractmethod\n",
    "# from typing import List, Optional\n",
    "\n",
    "# import torch\n",
    "# import lightning as L\n",
    "# from lightning.pytorch.callbacks import Callback, ModelCheckpoint, EarlyStopping\n",
    "# from lightning.pytorch.loggers import Logger, CSVLogger\n",
    "# from lightning.pytorch.tuner import Tuner\n",
    "\n",
    "# class ModelManager(ABC):\n",
    "\n",
    "#     def __init__(self,\n",
    "#                  torch_model: torch.nn.Module,\n",
    "#                  lightning_model: BaseLightningModel,\n",
    "#                  model_save_dir: str = '~/Desktop',\n",
    "#                  log_dir: str = 'logs/',\n",
    "#                  log_name: str = 'model_logs',\n",
    "#                  device='cpu',\n",
    "#                  max_epochs = 100,\n",
    "#                  ckpt_path: str|None=None):\n",
    "#         self.torch_model = torch_model\n",
    "#         self.lightning_model: BaseLightningModel = lightning_model\n",
    "#         self.log_dir = log_dir\n",
    "#         self.log_name = log_name\n",
    "#         self.model_save_dir = model_save_dir\n",
    "#         self.device = device\n",
    "#         self.accelerator = 'cpu' if self.device=='cpu' else 'gpu'\n",
    "#         self.max_epochs = max_epochs\n",
    "#         self.ckpt_path = ckpt_path\n",
    "\n",
    "#         self.logger = self._create_logger()\n",
    "#         self.callbacks = self._create_callbacks()\n",
    "#         self.trainer: L.Trainer = self._create_trainer()\n",
    "#         self.tuner = Tuner(self.trainer)\n",
    "#         self.tuning_result = None\n",
    "\n",
    "#     def tune(self, data_manager, draw_result=True, min_lr=0.0000001, max_lr=0.1):\n",
    "#         self.tuning_result = self.tuner.lr_find(self.lightning_model, datamodule=data_manager, min_lr=min_lr,max_lr=max_lr)\n",
    "#         if draw_result:\n",
    "#             fig = self.tuning_result.plot(suggest=True)\n",
    "#             fig.show()\n",
    "#         self.update_learning_rate(self.tuning_result.suggestion())\n",
    "#         return self.tuning_result.suggestion()\n",
    "\n",
    "#     def update_learning_rate(self, lr):\n",
    "#         self.lightning_model.update_learning_rate(lr)\n",
    "\n",
    "#     def fit(self, train_dataloaders=None, val_dataloaders=None, datamodule=None, max_epochs = -1, ckpt_path=None):\n",
    "#         if ckpt_path!=None and ckpt_path != '':\n",
    "#             self.ckpt_path = ckpt_path\n",
    "#         if max_epochs>0:\n",
    "#             self.max_epochs = max_epochs\n",
    "#             self.trainer = self._create_trainer()\n",
    "#         self.trainer.fit(self.lightning_model,\n",
    "#                          datamodule=datamodule,\n",
    "#                          train_dataloaders=train_dataloaders,\n",
    "#                          val_dataloaders=val_dataloaders,\n",
    "#                          ckpt_path = self.ckpt_path\n",
    "#                          )\n",
    "\n",
    "#     def validate(self, dataloaders=None, datamodule=None):\n",
    "#         return self.trainer.validate(self.lightning_model,\n",
    "#                              datamodule=datamodule,\n",
    "#                              dataloaders=dataloaders)\n",
    "\n",
    "#     def predict(self, dataloaders=None, datamodule=None):\n",
    "#         return self.trainer.predict(self.lightning_model,\n",
    "#                              datamodule=datamodule,\n",
    "#                              dataloaders=dataloaders)\n",
    "\n",
    "#     def _create_trainer(self) -> L.Trainer:\n",
    "#         return L.Trainer(\n",
    "#             callbacks=self.callbacks,\n",
    "#             max_epochs=self.max_epochs,\n",
    "#             accelerator=self.accelerator,\n",
    "#             logger=self.logger,\n",
    "#             num_sanity_val_steps=0,\n",
    "#             default_root_dir=self.model_save_dir\n",
    "#         )\n",
    "\n",
    "#     @abstractmethod\n",
    "#     def _create_callbacks(self) -> List[Callback]:\n",
    "#         pass\n",
    "\n",
    "#     def _create_logger(self) -> Logger:\n",
    "#         return CSVLogger(save_dir=self.log_dir, name=self.log_name)\n",
    "\n",
    "#     @abstractmethod\n",
    "#     def draw_summary(self, dataloader):\n",
    "#         pass\n",
    "\n",
    "#     @abstractmethod\n",
    "#     def plot_csv_logger(self, loss_names, eval_names):\n",
    "#         pass\n"
   ]
  },
  {
   "cell_type": "code",
   "execution_count": 24,
   "metadata": {
    "collapsed": false,
    "pycharm": {
     "name": "#%%\n"
    }
   },
   "outputs": [],
   "source": [
    "# import torch\n",
    "# from Scripts.Models.LightningModels.LightningModels import BaseLightningModel\n",
    "# # from Scripts.Models.ModelsManager.ModelManager import ModelManager\n",
    "# # from Scripts.Models.ClassifierModels.GATGCNClassifierSimple import GNNClassifier\n",
    "# import pandas as pd\n",
    "# import matplotlib.pyplot as plt\n",
    "\n",
    "# import lightning as L\n",
    "# from torch_geometric.nn import summary\n",
    "\n",
    "# class ClassifierModelManager(ModelManager):\n",
    "\n",
    "#     def __init__(self,\n",
    "#                  torch_model: torch.nn.Module,\n",
    "#                  lightning_model: BaseLightningModel,\n",
    "#                  model_save_dir: str = '~/Desktop',\n",
    "#                  log_dir: str = 'logs/',\n",
    "#                  log_name: str = 'model_logs',\n",
    "#                  device='cpu',\n",
    "#                  num_train_epoch = 100):\n",
    "#         super(ClassifierModelManager, self).__init__(torch_model, lightning_model, model_save_dir, log_dir,\n",
    "#                                                      log_name, device, num_train_epoch)\n",
    "\n",
    "#     def _create_callbacks(self) -> List[Callback]:\n",
    "#         return [\n",
    "#             ModelCheckpoint(save_top_k=2, mode='max', monitor='val_acc', save_last=True),\n",
    "#             EarlyStopping(patience=50, mode='max', monitor='val_acc')\n",
    "#         ]\n",
    "\n",
    "#     def draw_summary(self, dataloader):\n",
    "#         X, y = next(iter(dataloader))\n",
    "#         print(summary(self.torch_model, X))\n",
    "\n",
    "#     def plot_csv_logger(self, loss_names=['train_loss', 'val_loss'], eval_names=['train_acc', 'val_acc']):\n",
    "#         csv_path = os.path.join(self.log_dir, self.log_name, f'version_{self.logger.version}', 'metrics.csv')\n",
    "#         metrics = pd.read_csv(csv_path)\n",
    "\n",
    "#         aggregation_metrics = []\n",
    "#         agg_col = 'epoch'\n",
    "#         for i, dfg in metrics.groupby(agg_col):\n",
    "#             agg = dict(dfg.mean())\n",
    "#             agg[agg_col] = i\n",
    "#             aggregation_metrics.append(agg)\n",
    "\n",
    "#         df_metrics = pd.DataFrame(aggregation_metrics)\n",
    "#         df_metrics[loss_names].plot(grid=True, legend=True, xlabel='Epoch', ylabel='loss')\n",
    "#         df_metrics[eval_names].plot(grid=True, legend=True, xlabel='Epoch', ylabel='accuracy')\n",
    "#         plt.show()\n"
   ]
  },
  {
   "cell_type": "code",
   "execution_count": 25,
   "metadata": {},
   "outputs": [],
   "source": [
    "from Scripts.Models.ModelsManager.ClassifierModelManager import ClassifierModelManager"
   ]
  },
  {
   "cell_type": "code",
   "execution_count": 26,
   "metadata": {
    "collapsed": false,
    "pycharm": {
     "name": "#%%\n"
    }
   },
   "outputs": [
    {
     "name": "stderr",
     "output_type": "stream",
     "text": [
      "GPU available: True (cuda), used: False\n",
      "TPU available: False, using: 0 TPU cores\n",
      "IPU available: False, using: 0 IPUs\n",
      "HPU available: False, using: 0 HPUs\n",
      "c:\\Users\\fardin\\AppData\\Local\\Programs\\Python\\Python310\\lib\\site-packages\\lightning\\pytorch\\trainer\\setup.py:187: GPU available but not used. You can set it by doing `Trainer(accelerator='gpu')`.\n"
     ]
    }
   ],
   "source": [
    "model_manager = ClassifierModelManager(torch_model, lightning_model)"
   ]
  },
  {
   "cell_type": "code",
   "execution_count": 27,
   "metadata": {
    "collapsed": false,
    "pycharm": {
     "name": "#%%\n"
    }
   },
   "outputs": [
    {
     "name": "stderr",
     "output_type": "stream",
     "text": [
      "c:\\Users\\fardin\\AppData\\Local\\Programs\\Python\\Python310\\lib\\site-packages\\lightning\\pytorch\\utilities\\parsing.py:43: attribute 'model' removed from hparams because it cannot be pickled\n",
      "\n",
      "  | Name      | Type              | Params\n",
      "------------------------------------------------\n",
      "0 | model     | GcnGatModel1      | 629 K \n",
      "1 | loss_func | BCEWithLogitsLoss | 0     \n",
      "2 | train_acc | BinaryAccuracy    | 0     \n",
      "3 | val_acc   | BinaryAccuracy    | 0     \n",
      "4 | test_acc  | BinaryAccuracy    | 0     \n",
      "------------------------------------------------\n",
      "629 K     Trainable params\n",
      "0         Non-trainable params\n",
      "629 K     Total params\n",
      "2.516     Total estimated model params size (MB)\n"
     ]
    },
    {
     "name": "stdout",
     "output_type": "stream",
     "text": [
      "bbbb\n"
     ]
    },
    {
     "name": "stderr",
     "output_type": "stream",
     "text": [
      "c:\\Users\\fardin\\AppData\\Local\\Programs\\Python\\Python310\\lib\\site-packages\\lightning\\pytorch\\trainer\\connectors\\data_connector.py:441: The 'train_dataloader' does not have many workers which may be a bottleneck. Consider increasing the value of the `num_workers` argument` to `num_workers=7` in the `DataLoader` to improve performance.\n",
      "c:\\Users\\fardin\\AppData\\Local\\Programs\\Python\\Python310\\lib\\site-packages\\lightning\\pytorch\\loops\\fit_loop.py:293: The number of training batches (7) is smaller than the logging interval Trainer(log_every_n_steps=50). Set a lower value for log_every_n_steps if you want to see logs for the training epoch.\n",
      "c:\\Users\\fardin\\AppData\\Local\\Programs\\Python\\Python310\\lib\\site-packages\\lightning\\pytorch\\trainer\\connectors\\data_connector.py:441: The 'val_dataloader' does not have many workers which may be a bottleneck. Consider increasing the value of the `num_workers` argument` to `num_workers=7` in the `DataLoader` to improve performance.\n"
     ]
    },
    {
     "data": {
      "application/vnd.jupyter.widget-view+json": {
       "model_id": "a4121bafd67b48848ca5964c5c794f2d",
       "version_major": 2,
       "version_minor": 0
      },
      "text/plain": [
       "Training: |          | 0/? [00:00<?, ?it/s]"
      ]
     },
     "metadata": {},
     "output_type": "display_data"
    },
    {
     "data": {
      "application/vnd.jupyter.widget-view+json": {
       "model_id": "40283c86cd6c417196bd36ade6b98b21",
       "version_major": 2,
       "version_minor": 0
      },
      "text/plain": [
       "Validation: |          | 0/? [00:00<?, ?it/s]"
      ]
     },
     "metadata": {},
     "output_type": "display_data"
    },
    {
     "data": {
      "application/vnd.jupyter.widget-view+json": {
       "model_id": "9a80cdce151f4a18aa51e4d9f5785bf9",
       "version_major": 2,
       "version_minor": 0
      },
      "text/plain": [
       "Validation: |          | 0/? [00:00<?, ?it/s]"
      ]
     },
     "metadata": {},
     "output_type": "display_data"
    },
    {
     "data": {
      "application/vnd.jupyter.widget-view+json": {
       "model_id": "9ac84107686a44f6b7405529440bf81d",
       "version_major": 2,
       "version_minor": 0
      },
      "text/plain": [
       "Validation: |          | 0/? [00:00<?, ?it/s]"
      ]
     },
     "metadata": {},
     "output_type": "display_data"
    },
    {
     "data": {
      "application/vnd.jupyter.widget-view+json": {
       "model_id": "563b232f6b734795833723618d1fc6f7",
       "version_major": 2,
       "version_minor": 0
      },
      "text/plain": [
       "Validation: |          | 0/? [00:00<?, ?it/s]"
      ]
     },
     "metadata": {},
     "output_type": "display_data"
    },
    {
     "name": "stderr",
     "output_type": "stream",
     "text": [
      "c:\\Users\\fardin\\AppData\\Local\\Programs\\Python\\Python310\\lib\\site-packages\\lightning\\pytorch\\trainer\\call.py:58: Detected KeyboardInterrupt, attempting graceful shutdown...\n"
     ]
    }
   ],
   "source": [
    "model_manager.fit(datamodule=data_manager)"
   ]
  },
  {
   "cell_type": "code",
   "execution_count": 12,
   "metadata": {},
   "outputs": [
    {
     "name": "stderr",
     "output_type": "stream",
     "text": [
      "Trainer already configured with model summary callbacks: [<class 'lightning.pytorch.callbacks.model_summary.ModelSummary'>]. Skipping setting a default `ModelSummary` callback.\n",
      "GPU available: True (cuda), used: False\n",
      "TPU available: False, using: 0 TPU cores\n",
      "IPU available: False, using: 0 IPUs\n",
      "HPU available: False, using: 0 HPUs\n",
      "c:\\Users\\fardin\\AppData\\Local\\Programs\\Python\\Python310\\lib\\site-packages\\lightning\\pytorch\\trainer\\setup.py:187: GPU available but not used. You can set it by doing `Trainer(accelerator='gpu')`.\n",
      "c:\\Users\\fardin\\AppData\\Local\\Programs\\Python\\Python310\\lib\\site-packages\\lightning\\pytorch\\callbacks\\model_checkpoint.py:630: Checkpoint directory logs/model_logs\\version_5\\checkpoints exists and is not empty.\n",
      "Restoring states from the checkpoint path at logs/model_logs\\version_5\\checkpoints\\epoch=4-step=35.ckpt\n",
      "\n",
      "  | Name      | Type              | Params\n",
      "------------------------------------------------\n",
      "0 | model     | GcnGatModel1      | 629 K \n",
      "1 | loss_func | BCEWithLogitsLoss | 0     \n",
      "2 | train_acc | BinaryAccuracy    | 0     \n",
      "3 | val_acc   | BinaryAccuracy    | 0     \n",
      "4 | test_acc  | BinaryAccuracy    | 0     \n",
      "------------------------------------------------\n",
      "629 K     Trainable params\n",
      "0         Non-trainable params\n",
      "629 K     Total params\n",
      "2.516     Total estimated model params size (MB)\n",
      "Restored all states from the checkpoint at logs/model_logs\\version_5\\checkpoints\\epoch=4-step=35.ckpt\n"
     ]
    },
    {
     "name": "stdout",
     "output_type": "stream",
     "text": [
      "bbbb\n"
     ]
    },
    {
     "data": {
      "application/vnd.jupyter.widget-view+json": {
       "model_id": "202e6a7bb2354dbaacef204d847b7b5a",
       "version_major": 2,
       "version_minor": 0
      },
      "text/plain": [
       "Training: |          | 0/? [00:00<?, ?it/s]"
      ]
     },
     "metadata": {},
     "output_type": "display_data"
    },
    {
     "data": {
      "application/vnd.jupyter.widget-view+json": {
       "model_id": "ec0bdfdebf7540be9b5be569210a5721",
       "version_major": 2,
       "version_minor": 0
      },
      "text/plain": [
       "Validation: |          | 0/? [00:00<?, ?it/s]"
      ]
     },
     "metadata": {},
     "output_type": "display_data"
    },
    {
     "data": {
      "application/vnd.jupyter.widget-view+json": {
       "model_id": "921a8eef2711470ba860b2530398e7cf",
       "version_major": 2,
       "version_minor": 0
      },
      "text/plain": [
       "Validation: |          | 0/? [00:00<?, ?it/s]"
      ]
     },
     "metadata": {},
     "output_type": "display_data"
    },
    {
     "data": {
      "application/vnd.jupyter.widget-view+json": {
       "model_id": "a4aba6a11dd24f4d9f6fc1e01b7f187d",
       "version_major": 2,
       "version_minor": 0
      },
      "text/plain": [
       "Validation: |          | 0/? [00:00<?, ?it/s]"
      ]
     },
     "metadata": {},
     "output_type": "display_data"
    },
    {
     "data": {
      "application/vnd.jupyter.widget-view+json": {
       "model_id": "a784001eda184b1cbd4a4a1671cdab7f",
       "version_major": 2,
       "version_minor": 0
      },
      "text/plain": [
       "Validation: |          | 0/? [00:00<?, ?it/s]"
      ]
     },
     "metadata": {},
     "output_type": "display_data"
    },
    {
     "data": {
      "application/vnd.jupyter.widget-view+json": {
       "model_id": "e65b1637abad4a86a39385b203751498",
       "version_major": 2,
       "version_minor": 0
      },
      "text/plain": [
       "Validation: |          | 0/? [00:00<?, ?it/s]"
      ]
     },
     "metadata": {},
     "output_type": "display_data"
    },
    {
     "data": {
      "application/vnd.jupyter.widget-view+json": {
       "model_id": "8788c3c1257444189253a4c54d9b5f16",
       "version_major": 2,
       "version_minor": 0
      },
      "text/plain": [
       "Validation: |          | 0/? [00:00<?, ?it/s]"
      ]
     },
     "metadata": {},
     "output_type": "display_data"
    },
    {
     "data": {
      "application/vnd.jupyter.widget-view+json": {
       "model_id": "cca1665d24524148b4330062d2fae563",
       "version_major": 2,
       "version_minor": 0
      },
      "text/plain": [
       "Validation: |          | 0/? [00:00<?, ?it/s]"
      ]
     },
     "metadata": {},
     "output_type": "display_data"
    },
    {
     "data": {
      "application/vnd.jupyter.widget-view+json": {
       "model_id": "126c3bfc247a48bbb0ead03b16b05e53",
       "version_major": 2,
       "version_minor": 0
      },
      "text/plain": [
       "Validation: |          | 0/? [00:00<?, ?it/s]"
      ]
     },
     "metadata": {},
     "output_type": "display_data"
    },
    {
     "data": {
      "application/vnd.jupyter.widget-view+json": {
       "model_id": "2bb040e50dbc4968afcc7744afaa24fe",
       "version_major": 2,
       "version_minor": 0
      },
      "text/plain": [
       "Validation: |          | 0/? [00:00<?, ?it/s]"
      ]
     },
     "metadata": {},
     "output_type": "display_data"
    },
    {
     "data": {
      "application/vnd.jupyter.widget-view+json": {
       "model_id": "e93f1d995e2a4c64ae522920d1b11437",
       "version_major": 2,
       "version_minor": 0
      },
      "text/plain": [
       "Validation: |          | 0/? [00:00<?, ?it/s]"
      ]
     },
     "metadata": {},
     "output_type": "display_data"
    },
    {
     "data": {
      "application/vnd.jupyter.widget-view+json": {
       "model_id": "d545a413aff247c09a1299858ceb1c7a",
       "version_major": 2,
       "version_minor": 0
      },
      "text/plain": [
       "Validation: |          | 0/? [00:00<?, ?it/s]"
      ]
     },
     "metadata": {},
     "output_type": "display_data"
    },
    {
     "data": {
      "application/vnd.jupyter.widget-view+json": {
       "model_id": "959e1b031d304029b6b80838512cd4c8",
       "version_major": 2,
       "version_minor": 0
      },
      "text/plain": [
       "Validation: |          | 0/? [00:00<?, ?it/s]"
      ]
     },
     "metadata": {},
     "output_type": "display_data"
    },
    {
     "data": {
      "application/vnd.jupyter.widget-view+json": {
       "model_id": "f674732c72cf49e7858cbfd54f0b46b3",
       "version_major": 2,
       "version_minor": 0
      },
      "text/plain": [
       "Validation: |          | 0/? [00:00<?, ?it/s]"
      ]
     },
     "metadata": {},
     "output_type": "display_data"
    },
    {
     "data": {
      "application/vnd.jupyter.widget-view+json": {
       "model_id": "20abdaabdd48449da44aa839d2e748f9",
       "version_major": 2,
       "version_minor": 0
      },
      "text/plain": [
       "Validation: |          | 0/? [00:00<?, ?it/s]"
      ]
     },
     "metadata": {},
     "output_type": "display_data"
    },
    {
     "data": {
      "application/vnd.jupyter.widget-view+json": {
       "model_id": "f0a520ac41a5426dba26cb549ad80766",
       "version_major": 2,
       "version_minor": 0
      },
      "text/plain": [
       "Validation: |          | 0/? [00:00<?, ?it/s]"
      ]
     },
     "metadata": {},
     "output_type": "display_data"
    },
    {
     "name": "stderr",
     "output_type": "stream",
     "text": [
      "`Trainer.fit` stopped: `max_epochs=20` reached.\n"
     ]
    }
   ],
   "source": [
    "model_manager.fit(datamodule=data_manager, max_epochs=20, ckpt_path='best')"
   ]
  },
  {
   "cell_type": "code",
   "execution_count": 13,
   "metadata": {},
   "outputs": [
    {
     "data": {
      "text/plain": [
       "('logs/', 'model_logs')"
      ]
     },
     "execution_count": 13,
     "metadata": {},
     "output_type": "execute_result"
    }
   ],
   "source": [
    "model_manager.log_dir, model_manager.log_name"
   ]
  },
  {
   "cell_type": "code",
   "execution_count": 14,
   "metadata": {},
   "outputs": [
    {
     "data": {
      "image/png": "[encoded data removed]",
      "text/plain": [
       "<Figure size 640x480 with 1 Axes>"
      ]
     },
     "metadata": {},
     "output_type": "display_data"
    },
    {
     "data": {
      "image/png": "[encoded data removed]",
      "text/plain": [
       "<Figure size 640x480 with 1 Axes>"
      ]
     },
     "metadata": {},
     "output_type": "display_data"
    }
   ],
   "source": [
    "model_manager.plot_csv_logger()"
   ]
  },
  {
   "cell_type": "code",
   "execution_count": 15,
   "metadata": {},
   "outputs": [
    {
     "name": "stdout",
     "output_type": "stream",
     "text": [
      "+---------------------------------+-------------------------------------------------------+----------------------------------------------+----------+\n",
      "| Layer                           | Input Shape                                           | Output Shape                                 | #Param   |\n",
      "|---------------------------------+-------------------------------------------------------+----------------------------------------------+----------|\n",
      "| GcnGatModel1                    | [463, 463]                                            | [8, 1]                                       | 629,029  |\n",
      "| ├─(encoder)Sequential_6d7686    | [463, 300], [2, 3502], [3502]                         | [463, 256], [463, 128], [463, 64], [463, 32] | 298,208  |\n",
      "| │    └─(module_0)GCNConv        | [463, 300], [2, 3502], [3502]                         | [463, 256]                                   | 77,056   |\n",
      "| │    └─(module_1)BatchNorm      | [463, 256]                                            | [463, 256]                                   | 512      |\n",
      "| │    │    └─(module)BatchNorm1d | [463, 256]                                            | [463, 256]                                   | 512      |\n",
      "| │    └─(module_2)ReLU           | [463, 256]                                            | [463, 256]                                   | --       |\n",
      "| │    └─(module_3)Dropout        | [463, 256]                                            | [463, 256]                                   | --       |\n",
      "| │    └─(module_4)GCNConv        | [463, 256], [2, 3502], [3502]                         | [463, 256]                                   | 65,792   |\n",
      "| │    └─(module_5)BatchNorm      | [463, 256]                                            | [463, 256]                                   | 512      |\n",
      "| │    │    └─(module)BatchNorm1d | [463, 256]                                            | [463, 256]                                   | 512      |\n",
      "| │    └─(module_6)ReLU           | [463, 256]                                            | [463, 256]                                   | --       |\n",
      "| │    └─(module_7)Dropout        | [463, 256]                                            | [463, 256]                                   | --       |\n",
      "| │    └─(module_8)GCNConv        | [463, 256], [2, 3502], [3502]                         | [463, 256]                                   | 65,792   |\n",
      "| │    └─(module_9)BatchNorm      | [463, 256]                                            | [463, 256]                                   | 512      |\n",
      "| │    │    └─(module)BatchNorm1d | [463, 256]                                            | [463, 256]                                   | 512      |\n",
      "| │    └─(module_10)ReLU          | [463, 256]                                            | [463, 256]                                   | --       |\n",
      "| │    └─(module_11)Dropout       | [463, 256]                                            | [463, 256]                                   | --       |\n",
      "| │    └─(module_12)GCNConv       | [463, 256], [2, 3502], [3502]                         | [463, 128]                                   | 32,896   |\n",
      "| │    └─(module_13)BatchNorm     | [463, 128]                                            | [463, 128]                                   | 256      |\n",
      "| │    │    └─(module)BatchNorm1d | [463, 128]                                            | [463, 128]                                   | 256      |\n",
      "| │    └─(module_14)ReLU          | [463, 128]                                            | [463, 128]                                   | --       |\n",
      "| │    └─(module_15)Dropout       | [463, 128]                                            | [463, 128]                                   | --       |\n",
      "| │    └─(module_16)GCNConv       | [463, 128], [2, 3502], [3502]                         | [463, 128]                                   | 16,512   |\n",
      "| │    └─(module_17)BatchNorm     | [463, 128]                                            | [463, 128]                                   | 256      |\n",
      "| │    │    └─(module)BatchNorm1d | [463, 128]                                            | [463, 128]                                   | 256      |\n",
      "| │    └─(module_18)ReLU          | [463, 128]                                            | [463, 128]                                   | --       |\n",
      "| │    └─(module_19)Dropout       | [463, 128]                                            | [463, 128]                                   | --       |\n",
      "| │    └─(module_20)GCNConv       | [463, 128], [2, 3502], [3502]                         | [463, 128]                                   | 16,512   |\n",
      "| │    └─(module_21)BatchNorm     | [463, 128]                                            | [463, 128]                                   | 256      |\n",
      "| │    │    └─(module)BatchNorm1d | [463, 128]                                            | [463, 128]                                   | 256      |\n",
      "| │    └─(module_22)ReLU          | [463, 128]                                            | [463, 128]                                   | --       |\n",
      "| │    └─(module_23)Dropout       | [463, 128]                                            | [463, 128]                                   | --       |\n",
      "| │    └─(module_24)GCNConv       | [463, 128], [2, 3502], [3502]                         | [463, 64]                                    | 8,256    |\n",
      "| │    └─(module_25)BatchNorm     | [463, 64]                                             | [463, 64]                                    | 128      |\n",
      "| │    │    └─(module)BatchNorm1d | [463, 64]                                             | [463, 64]                                    | 128      |\n",
      "| │    └─(module_26)ReLU          | [463, 64]                                             | [463, 64]                                    | --       |\n",
      "| │    └─(module_27)Dropout       | [463, 64]                                             | [463, 64]                                    | --       |\n",
      "| │    └─(module_28)GCNConv       | [463, 64], [2, 3502], [3502]                          | [463, 64]                                    | 4,160    |\n",
      "| │    └─(module_29)BatchNorm     | [463, 64]                                             | [463, 64]                                    | 128      |\n",
      "| │    │    └─(module)BatchNorm1d | [463, 64]                                             | [463, 64]                                    | 128      |\n",
      "| │    └─(module_30)ReLU          | [463, 64]                                             | [463, 64]                                    | --       |\n",
      "| │    └─(module_31)Dropout       | [463, 64]                                             | [463, 64]                                    | --       |\n",
      "| │    └─(module_32)GCNConv       | [463, 64], [2, 3502], [3502]                          | [463, 64]                                    | 4,160    |\n",
      "| │    └─(module_33)BatchNorm     | [463, 64]                                             | [463, 64]                                    | 128      |\n",
      "| │    │    └─(module)BatchNorm1d | [463, 64]                                             | [463, 64]                                    | 128      |\n",
      "| │    └─(module_34)ReLU          | [463, 64]                                             | [463, 64]                                    | --       |\n",
      "| │    └─(module_35)Dropout       | [463, 64]                                             | [463, 64]                                    | --       |\n",
      "| │    └─(module_36)GCNConv       | [463, 64], [2, 3502], [3502]                          | [463, 32]                                    | 2,080    |\n",
      "| │    └─(module_37)BatchNorm     | [463, 32]                                             | [463, 32]                                    | 64       |\n",
      "| │    │    └─(module)BatchNorm1d | [463, 32]                                             | [463, 32]                                    | 64       |\n",
      "| │    └─(module_38)ReLU          | [463, 32]                                             | [463, 32]                                    | --       |\n",
      "| │    └─(module_39)Dropout       | [463, 32]                                             | [463, 32]                                    | --       |\n",
      "| │    └─(module_40)GCNConv       | [463, 32], [2, 3502], [3502]                          | [463, 32]                                    | 1,056    |\n",
      "| │    └─(module_41)BatchNorm     | [463, 32]                                             | [463, 32]                                    | 64       |\n",
      "| │    │    └─(module)BatchNorm1d | [463, 32]                                             | [463, 32]                                    | 64       |\n",
      "| │    └─(module_42)ReLU          | [463, 32]                                             | [463, 32]                                    | --       |\n",
      "| │    └─(module_43)Dropout       | [463, 32]                                             | [463, 32]                                    | --       |\n",
      "| │    └─(module_44)GCNConv       | [463, 32], [2, 3502], [3502]                          | [463, 32]                                    | 1,056    |\n",
      "| │    └─(module_45)BatchNorm     | [463, 32]                                             | [463, 32]                                    | 64       |\n",
      "| │    │    └─(module)BatchNorm1d | [463, 32]                                             | [463, 32]                                    | 64       |\n",
      "| │    └─(module_46)ReLU          | [463, 32]                                             | [463, 32]                                    | --       |\n",
      "| ├─(attention)Sequential_6d7b68  | [463, 64], [463, 32], [2, 3502], [3502]               | [463, 128], [463, 64]                        | 30,144   |\n",
      "| │    └─(module_0)GATv2Conv      | [463, 32], [2, 3502]                                  | [463, 64]                                    | 4,352    |\n",
      "| │    └─(module_1)BatchNorm      | [463, 64]                                             | [463, 64]                                    | 128      |\n",
      "| │    │    └─(module)BatchNorm1d | [463, 64]                                             | [463, 64]                                    | 128      |\n",
      "| │    └─(module_2)ReLU           | [463, 64]                                             | [463, 64]                                    | --       |\n",
      "| │    └─(module_3)GCN2Conv       | [463, 64], [463, 64], [2, 3502], [3502]               | [463, 64]                                    | 4,096    |\n",
      "| │    └─(module_4)BatchNorm      | [463, 64]                                             | [463, 64]                                    | 128      |\n",
      "| │    │    └─(module)BatchNorm1d | [463, 64]                                             | [463, 64]                                    | 128      |\n",
      "| │    └─(module_5)ReLU           | [463, 64]                                             | [463, 64]                                    | --       |\n",
      "| │    └─(module_6)GCNConv        | [463, 64], [2, 3502], [3502]                          | [463, 64]                                    | 4,160    |\n",
      "| │    └─(module_7)BatchNorm      | [463, 64]                                             | [463, 64]                                    | 128      |\n",
      "| │    │    └─(module)BatchNorm1d | [463, 64]                                             | [463, 64]                                    | 128      |\n",
      "| │    └─(module_8)ReLU           | [463, 64]                                             | [463, 64]                                    | --       |\n",
      "| │    └─(module_9)GATv2Conv      | [463, 64], [2, 3502]                                  | [463, 128]                                   | 16,896   |\n",
      "| │    └─(module_10)BatchNorm     | [463, 128]                                            | [463, 128]                                   | 256      |\n",
      "| │    │    └─(module)BatchNorm1d | [463, 128]                                            | [463, 128]                                   | 256      |\n",
      "| │    └─(module_11)ReLU          | [463, 128]                                            | [463, 128]                                   | --       |\n",
      "| ├─(decoder)Sequential_6d815b    | [463, 256], [463, 128], [463, 128], [2, 3502], [3502] | [463, 256], [463, 256], [463, 128]           | 265,600  |\n",
      "| │    └─(module_0)GCN2Conv       | [463, 128], [463, 128], [2, 3502], [3502]             | [463, 128]                                   | 16,384   |\n",
      "| │    └─(module_1)BatchNorm      | [463, 128]                                            | [463, 128]                                   | 256      |\n",
      "| │    │    └─(module)BatchNorm1d | [463, 128]                                            | [463, 128]                                   | 256      |\n",
      "| │    └─(module_2)ReLU           | [463, 128]                                            | [463, 128]                                   | --       |\n",
      "| │    └─(module_3)Dropout        | [463, 128]                                            | [463, 128]                                   | --       |\n",
      "| │    └─(module_4)GCNConv        | [463, 128], [2, 3502], [3502]                         | [463, 128]                                   | 16,512   |\n",
      "| │    └─(module_5)BatchNorm      | [463, 128]                                            | [463, 128]                                   | 256      |\n",
      "| │    │    └─(module)BatchNorm1d | [463, 128]                                            | [463, 128]                                   | 256      |\n",
      "| │    └─(module_6)ReLU           | [463, 128]                                            | [463, 128]                                   | --       |\n",
      "| │    └─(module_7)Dropout        | [463, 128]                                            | [463, 128]                                   | --       |\n",
      "| │    └─(module_8)GCNConv        | [463, 128], [2, 3502]                                 | [463, 256]                                   | 33,024   |\n",
      "| │    └─(module_9)BatchNorm      | [463, 256]                                            | [463, 256]                                   | 512      |\n",
      "| │    │    └─(module)BatchNorm1d | [463, 256]                                            | [463, 256]                                   | 512      |\n",
      "| │    └─(module_10)ReLU          | [463, 256]                                            | [463, 256]                                   | --       |\n",
      "| │    └─(module_11)Dropout       | [463, 256]                                            | [463, 256]                                   | --       |\n",
      "| │    └─(module_12)GCN2Conv      | [463, 256], [463, 256], [2, 3502], [3502]             | [463, 256]                                   | 65,536   |\n",
      "| │    └─(module_13)BatchNorm     | [463, 256]                                            | [463, 256]                                   | 512      |\n",
      "| │    │    └─(module)BatchNorm1d | [463, 256]                                            | [463, 256]                                   | 512      |\n",
      "| │    └─(module_14)ReLU          | [463, 256]                                            | [463, 256]                                   | --       |\n",
      "| │    └─(module_15)Dropout       | [463, 256]                                            | [463, 256]                                   | --       |\n",
      "| │    └─(module_16)GCNConv       | [463, 256], [2, 3502], [3502]                         | [463, 256]                                   | 65,792   |\n",
      "| │    └─(module_17)BatchNorm     | [463, 256]                                            | [463, 256]                                   | 512      |\n",
      "| │    │    └─(module)BatchNorm1d | [463, 256]                                            | [463, 256]                                   | 512      |\n",
      "| │    └─(module_18)ReLU          | [463, 256]                                            | [463, 256]                                   | --       |\n",
      "| │    └─(module_19)Dropout       | [463, 256]                                            | [463, 256]                                   | --       |\n",
      "| │    └─(module_20)GCNConv       | [463, 256], [2, 3502], [3502]                         | [463, 256]                                   | 65,792   |\n",
      "| │    └─(module_21)BatchNorm     | [463, 256]                                            | [463, 256]                                   | 512      |\n",
      "| │    │    └─(module)BatchNorm1d | [463, 256]                                            | [463, 256]                                   | 512      |\n",
      "| │    └─(module_22)ReLU          | [463, 256]                                            | [463, 256]                                   | --       |\n",
      "| │    └─(module_23)Dropout       | [463, 256]                                            | [463, 256]                                   | --       |\n",
      "| ├─(mem_pool)MemPooling          | [463, 256], [463]                                     | [8, 2, 128], [8, 97, 2]                      | 34,820   |\n",
      "| │    └─(conv)Conv2d             | [8, 4, 97, 2]                                         | [8, 1, 97, 2]                                | 4        |\n",
      "| │    └─(lin)Linear              | [8, 2, 256]                                           | [8, 2, 128]                                  | 32,768   |\n",
      "| ├─(output_layer)Linear          | [8, 256]                                              | [8, 1]                                       | 257      |\n",
      "+---------------------------------+-------------------------------------------------------+----------------------------------------------+----------+\n"
     ]
    }
   ],
   "source": [
    "model_manager.draw_summary(dataloader=t_dataloader)"
   ]
  },
  {
   "cell_type": "code",
   "execution_count": 37,
   "metadata": {
    "collapsed": false,
    "pycharm": {
     "name": "#%%\n"
    }
   },
   "outputs": [
    {
     "name": "stdout",
     "output_type": "stream",
     "text": [
      "bbbb\n"
     ]
    },
    {
     "data": {
      "application/vnd.jupyter.widget-view+json": {
       "model_id": "63b410fe51b04982b8ce4a921f8d70e6",
       "version_major": 2,
       "version_minor": 0
      },
      "text/plain": [
       "Finding best initial lr:   0%|          | 0/100 [00:00<?, ?it/s]"
      ]
     },
     "metadata": {},
     "output_type": "display_data"
    },
    {
     "name": "stderr",
     "output_type": "stream",
     "text": [
      "LR finder stopped early after 74 steps due to diverging loss.\n",
      "Learning rate set to 1.0471285480508998e-06\n",
      "Restoring states from the checkpoint path at ~\\Desktop\\.lr_find_c1f9be0a-378f-433c-8017-79650d51b3c8.ckpt\n",
      "Restored all states from the checkpoint at ~\\Desktop\\.lr_find_c1f9be0a-378f-433c-8017-79650d51b3c8.ckpt\n",
      "C:\\Users\\fardin\\AppData\\Local\\Temp\\ipykernel_19660\\4252807159.py:41: UserWarning: Matplotlib is currently using module://matplotlib_inline.backend_inline, which is a non-GUI backend, so cannot show the figure.\n",
      "  fig.show()\n"
     ]
    },
    {
     "data": {
      "text/plain": [
       "1.0471285480508998e-06"
      ]
     },
     "execution_count": 37,
     "metadata": {},
     "output_type": "execute_result"
    },
    {
     "data": {
      "image/png": "[encoded data removed]",
      "text/plain": [
       "<Figure size 640x480 with 1 Axes>"
      ]
     },
     "metadata": {},
     "output_type": "display_data"
    }
   ],
   "source": [
    "model_manager.tune(data_manager=data_manager)"
   ]
  },
  {
   "cell_type": "code",
   "execution_count": 38,
   "metadata": {
    "collapsed": false,
    "pycharm": {
     "name": "#%%\n"
    }
   },
   "outputs": [
    {
     "ename": "AttributeError",
     "evalue": "can't set attribute 'max_steps'",
     "output_type": "error",
     "traceback": [
      "\u001b[1;31m---------------------------------------------------------------------------\u001b[0m",
      "\u001b[1;31mAttributeError\u001b[0m                            Traceback (most recent call last)",
      "Cell \u001b[1;32mIn[38], line 1\u001b[0m\n\u001b[1;32m----> 1\u001b[0m \u001b[43mmodel_manager\u001b[49m\u001b[38;5;241;43m.\u001b[39;49m\u001b[43mfit\u001b[49m\u001b[43m(\u001b[49m\u001b[43mdatamodule\u001b[49m\u001b[38;5;241;43m=\u001b[39;49m\u001b[43mdata_manager\u001b[49m\u001b[43m,\u001b[49m\u001b[43m \u001b[49m\u001b[43mmax_epochs\u001b[49m\u001b[38;5;241;43m=\u001b[39;49m\u001b[38;5;241;43m10\u001b[39;49m\u001b[43m)\u001b[49m\n",
      "Cell \u001b[1;32mIn[34], line 49\u001b[0m, in \u001b[0;36mModelManager.fit\u001b[1;34m(self, train_dataloaders, val_dataloaders, datamodule, max_epochs)\u001b[0m\n\u001b[0;32m     47\u001b[0m \u001b[38;5;28;01mif\u001b[39;00m max_epochs\u001b[38;5;241m>\u001b[39m\u001b[38;5;241m0\u001b[39m:\n\u001b[0;32m     48\u001b[0m     \u001b[38;5;28mself\u001b[39m\u001b[38;5;241m.\u001b[39mtrainer\u001b[38;5;241m.\u001b[39mfit_loop\u001b[38;5;241m.\u001b[39mmax_epochs \u001b[38;5;241m=\u001b[39m max_epochs\n\u001b[1;32m---> 49\u001b[0m     \u001b[38;5;28;43mself\u001b[39;49m\u001b[38;5;241;43m.\u001b[39;49m\u001b[43mtrainer\u001b[49m\u001b[38;5;241;43m.\u001b[39;49m\u001b[43mfit_loop\u001b[49m\u001b[38;5;241;43m.\u001b[39;49m\u001b[43mmax_steps\u001b[49m \u001b[38;5;241m=\u001b[39m \u001b[38;5;241m-\u001b[39m\u001b[38;5;241m1\u001b[39m\n\u001b[0;32m     50\u001b[0m \u001b[38;5;28mself\u001b[39m\u001b[38;5;241m.\u001b[39mtrainer\u001b[38;5;241m.\u001b[39mfit(\u001b[38;5;28mself\u001b[39m\u001b[38;5;241m.\u001b[39mlightning_model,\n\u001b[0;32m     51\u001b[0m                  datamodule\u001b[38;5;241m=\u001b[39mdatamodule,\n\u001b[0;32m     52\u001b[0m                  train_dataloaders\u001b[38;5;241m=\u001b[39mtrain_dataloaders,\n\u001b[0;32m     53\u001b[0m                  val_dataloaders\u001b[38;5;241m=\u001b[39mval_dataloaders\n\u001b[0;32m     54\u001b[0m                  )\n",
      "\u001b[1;31mAttributeError\u001b[0m: can't set attribute 'max_steps'"
     ]
    }
   ],
   "source": [
    "model_manager.fit(datamodule=data_manager, max_epochs=10)"
   ]
  },
  {
   "cell_type": "code",
   "execution_count": null,
   "metadata": {
    "collapsed": false,
    "pycharm": {
     "name": "#%%\n"
    }
   },
   "outputs": [],
   "source": []
  }
 ],
 "metadata": {
  "kernelspec": {
   "display_name": "Python 3",
   "language": "python",
   "name": "python3"
  },
  "language_info": {
   "codemirror_mode": {
    "name": "ipython",
    "version": 3
   },
   "file_extension": ".py",
   "mimetype": "text/x-python",
   "name": "python",
   "nbconvert_exporter": "python",
   "pygments_lexer": "ipython3",
   "version": "3.10.11"
  }
 },
 "nbformat": 4,
 "nbformat_minor": 0
}
