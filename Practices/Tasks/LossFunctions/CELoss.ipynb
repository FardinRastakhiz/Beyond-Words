{
 "cells": [
  {
   "cell_type": "markdown",
   "metadata": {},
   "source": [
    "#### Fardin Rastakhiz @2023"
   ]
  },
  {
   "cell_type": "code",
   "execution_count": 5,
   "metadata": {},
   "outputs": [],
   "source": [
    "import torch\n",
    "import numpy as np\n",
    "import torch"
   ]
  },
  {
   "cell_type": "code",
   "execution_count": 10,
   "metadata": {},
   "outputs": [
    {
     "name": "stderr",
     "output_type": "stream",
     "text": [
      "C:\\Users\\fardin\\AppData\\Local\\Temp\\ipykernel_2504\\3967301347.py:2: UserWarning: To copy construct from a tensor, it is recommended to use sourceTensor.clone().detach() or sourceTensor.clone().detach().requires_grad_(True), rather than torch.tensor(sourceTensor).\n",
      "  a = torch.tensor(y, dtype=torch.float32)\n"
     ]
    }
   ],
   "source": [
    "y = torch.nn.functional.one_hot(torch.tensor(np.random.randint(0, 4, (50, )), dtype=torch.long))\n",
    "a = torch.tensor(y, dtype=torch.float32)\n",
    "b = torch.tensor(np.random.uniform(0, 3, (50, )), dtype=torch.float32)\n",
    "loss_func = torch.nn.CrossEntropyLoss()\n"
   ]
  },
  {
   "cell_type": "code",
   "execution_count": 21,
   "metadata": {},
   "outputs": [
    {
     "data": {
      "text/plain": [
       "tensor([[ 2],\n",
       "        [ 4],\n",
       "        [ 6],\n",
       "        [ 9],\n",
       "        [10],\n",
       "        [20],\n",
       "        [27],\n",
       "        [28],\n",
       "        [30],\n",
       "        [33],\n",
       "        [35],\n",
       "        [36],\n",
       "        [38],\n",
       "        [41],\n",
       "        [46]])"
      ]
     },
     "execution_count": 21,
     "metadata": {},
     "output_type": "execute_result"
    }
   ],
   "source": [
    "c = [torch.argwhere(y[:, i]) for i in range(4)]\n",
    "next(iter(c))"
   ]
  },
  {
   "cell_type": "code",
   "execution_count": 86,
   "metadata": {},
   "outputs": [],
   "source": [
    "c1, c2, c3 = np.argwhere(y==0)[:,0],  np.argwhere(y==1)[:,0],  np.argwhere(y==2)[:,0]\n",
    "weights = torch.ones_like(a)\n",
    "weights[c1] /= len(c1)\n",
    "weights[c2] /= len(c2)\n",
    "weights[c3] /= len(c3)"
   ]
  },
  {
   "cell_type": "code",
   "execution_count": 87,
   "metadata": {},
   "outputs": [
    {
     "name": "stdout",
     "output_type": "stream",
     "text": [
      "tensor(3.0573)\n",
      "tensor(3.0130)\n",
      "tensor(3.2517)\n",
      "tensor(9.3220)\n"
     ]
    }
   ],
   "source": [
    "loss_func = torch.nn.CrossEntropyLoss()\n",
    "print(loss_func(a[c1], b[c1])/len(c1))\n",
    "print(loss_func(a[c2], b[c2])/len(c2))\n",
    "print(loss_func(a[c3], b[c3])/len(c3))\n",
    "print(loss_func(a[c1], b[c1])/len(c1)+ loss_func(a[c2], b[c2])/len(c2)+loss_func(a[c3], b[c3])/len(c3))"
   ]
  },
  {
   "cell_type": "code",
   "execution_count": 88,
   "metadata": {},
   "outputs": [
    {
     "data": {
      "text/plain": [
       "tensor(13.9908)"
      ]
     },
     "execution_count": 88,
     "metadata": {},
     "output_type": "execute_result"
    }
   ],
   "source": [
    "loss_func = torch.nn.CrossEntropyLoss(weight=weights)\n",
    "loss_func(a, b)"
   ]
  },
  {
   "cell_type": "code",
   "execution_count": 5,
   "metadata": {},
   "outputs": [
    {
     "data": {
      "text/plain": [
       "tensor(73.0631)"
      ]
     },
     "execution_count": 5,
     "metadata": {},
     "output_type": "execute_result"
    }
   ],
   "source": [
    "loss_func(a, b)"
   ]
  },
  {
   "cell_type": "code",
   "execution_count": null,
   "metadata": {},
   "outputs": [],
   "source": []
  }
 ],
 "metadata": {
  "kernelspec": {
   "display_name": "Python 3",
   "language": "python",
   "name": "python3"
  },
  "language_info": {
   "codemirror_mode": {
    "name": "ipython",
    "version": 3
   },
   "file_extension": ".py",
   "mimetype": "text/x-python",
   "name": "python",
   "nbconvert_exporter": "python",
   "pygments_lexer": "ipython3",
   "version": "3.10.11"
  }
 },
 "nbformat": 4,
 "nbformat_minor": 2
}
