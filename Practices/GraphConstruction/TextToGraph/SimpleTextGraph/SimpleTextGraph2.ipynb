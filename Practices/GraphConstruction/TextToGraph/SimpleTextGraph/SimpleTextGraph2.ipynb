{
 "cells": [
  {
   "cell_type": "code",
   "execution_count": 1,
   "metadata": {
    "collapsed": true
   },
   "outputs": [],
   "source": [
    "import numpy as np\n",
    "import pandas as pd\n",
    "import matplotlib.pyplot as plt\n",
    "import seaborn as sns\n",
    "import re\n",
    "import nltk\n",
    "import torch\n",
    "from nltk.corpus import stopwords\n",
    "from nltk.stem import SnowballStemmer\n",
    "from collections import Counter\n",
    "from wordcloud import WordCloud\n",
    "from sklearn.feature_extraction.text import TfidfVectorizer\n",
    "from sklearn.svm import LinearSVC\n",
    "from sklearn.metrics import accuracy_score, classification_report\n",
    "from Scripts.DataManager.GraphConstructor.CoOccurrenceGraphConstructor import CoOccurrenceGraphConstructor\n",
    "\n",
    "stop_words = set(stopwords.words('english'))\n",
    "stemmer = SnowballStemmer('english')\n",
    "from Scripts.Configs.ConfigClass import Config\n",
    "config = Config(r'C:\\Users\\fardin\\Projects\\ColorIntelligence\\Scripts\\Configs\\Config.json')\n",
    "from torch_geometric.data import Data\n",
    "from torch_geometric.utils import to_networkx\n",
    "import networkx as nx"
   ]
  },
  {
   "cell_type": "code",
   "execution_count": 2,
   "outputs": [],
   "source": [
    "train_df = pd.read_csv(r'C:\\Users\\fardin\\Projects\\ColorIntelligence\\data\\Amazon-Review\\train_sm.csv')\n",
    "test_df = pd.read_csv(r'C:\\Users\\fardin\\Projects\\ColorIntelligence\\data\\Amazon-Review\\test_sm.csv')"
   ],
   "metadata": {
    "collapsed": false,
    "pycharm": {
     "name": "#%%\n"
    }
   }
  },
  {
   "cell_type": "code",
   "execution_count": 3,
   "outputs": [],
   "source": [
    "train_df.columns = ['Polarity', 'Title', 'Review']\n",
    "test_df.columns = ['Polarity', 'Title', 'Review']"
   ],
   "metadata": {
    "collapsed": false,
    "pycharm": {
     "name": "#%%\n"
    }
   }
  },
  {
   "cell_type": "code",
   "execution_count": 4,
   "outputs": [],
   "source": [
    "train_df = train_df[['Polarity', 'Review']]\n",
    "test_df = test_df[['Polarity', 'Review']]"
   ],
   "metadata": {
    "collapsed": false,
    "pycharm": {
     "name": "#%%\n"
    }
   }
  },
  {
   "cell_type": "code",
   "execution_count": 5,
   "outputs": [
    {
     "name": "stdout",
     "output_type": "stream",
     "text": [
      "abc\n"
     ]
    }
   ],
   "source": [
    "my_dict = {1: 'abc', 3: 'aaa'}\n",
    "if 3 in my_dict:\n",
    "    print(my_dict[1])"
   ],
   "metadata": {
    "collapsed": false,
    "pycharm": {
     "name": "#%%\n"
    }
   }
  },
  {
   "cell_type": "code",
   "execution_count": 6,
   "outputs": [
    {
     "data": {
      "text/plain": "50000"
     },
     "execution_count": 6,
     "metadata": {},
     "output_type": "execute_result"
    }
   ],
   "source": [
    "len(train_df['Review'])"
   ],
   "metadata": {
    "collapsed": false,
    "pycharm": {
     "name": "#%%\n"
    }
   }
  },
  {
   "cell_type": "code",
   "execution_count": 7,
   "outputs": [],
   "source": [
    "#train_df['Review'][:10]"
   ],
   "metadata": {
    "collapsed": false,
    "pycharm": {
     "name": "#%%\n"
    }
   }
  },
  {
   "cell_type": "code",
   "execution_count": 8,
   "outputs": [],
   "source": [
    "config = Config(r'C:\\Users\\fardin\\Projects\\ColorIntelligence\\Scripts\\Configs\\Config.json')"
   ],
   "metadata": {
    "collapsed": false,
    "pycharm": {
     "name": "#%%\n"
    }
   }
  },
  {
   "cell_type": "code",
   "execution_count": null,
   "outputs": [
    {
     "name": "stdout",
     "output_type": "stream",
     "text": [
      "i: 0\n",
      "i: 100\n",
      "i: 200\n",
      "i: 300\n",
      "i: 400\n",
      "i: 500\n",
      "i: 600\n",
      "i: 700\n",
      "i: 800\n",
      "i: 900\n",
      "i: 1000\n",
      "i: 1100\n",
      "i: 1200\n",
      "i: 1300\n",
      "i: 1400\n",
      "i: 1500\n",
      "i: 1600\n",
      "i: 1700\n",
      "i: 1800\n",
      "i: 1900\n",
      "i: 2000\n",
      "i: 2100\n",
      "i: 2200\n",
      "i: 2300\n",
      "i: 2400\n",
      "i: 2500\n",
      "i: 2600\n",
      "i: 2700\n",
      "i: 2800\n",
      "i: 2900\n",
      "i: 3000\n",
      "i: 3100\n",
      "i: 3200\n",
      "i: 3300\n",
      "i: 3400\n",
      "i: 3500\n",
      "i: 3600\n",
      "i: 3700\n",
      "i: 3800\n",
      "i: 3900\n",
      "i: 4000\n",
      "i: 4100\n",
      "i: 4200\n",
      "i: 4300\n",
      "i: 4400\n",
      "i: 4500\n",
      "i: 4600\n",
      "i: 4700\n",
      "i: 4800\n",
      "i: 4900\n",
      "i: 5000\n",
      "i: 5100\n",
      "i: 5200\n",
      "i: 5300\n"
     ]
    }
   ],
   "source": [
    "# graph_const = CoOccurrenceGraphConstructor(None, 'AmazonReview', config, lazy_construction=False, naming_prepend='graph', load_preprocessed_data=True)\n",
    "graph_const = CoOccurrenceGraphConstructor(train_df['Review'], 'AmazonReview', config, lazy_construction=False, naming_prepend='graph', load_preprocessed_data=False)\n",
    "# graph = graph_const.to_graph(train_df['Review'][0])"
   ],
   "metadata": {
    "collapsed": false,
    "pycharm": {
     "name": "#%%\n",
     "is_executing": true
    }
   }
  },
  {
   "cell_type": "code",
   "execution_count": null,
   "outputs": [],
   "source": [
    "print(len(graph_const.graphs))"
   ],
   "metadata": {
    "collapsed": false,
    "pycharm": {
     "name": "#%%\n",
     "is_executing": true
    }
   }
  },
  {
   "cell_type": "code",
   "execution_count": null,
   "outputs": [],
   "source": [
    "type(graph_const.graphs[0])"
   ],
   "metadata": {
    "collapsed": false,
    "pycharm": {
     "name": "#%%\n",
     "is_executing": true
    }
   }
  },
  {
   "cell_type": "code",
   "execution_count": 22,
   "outputs": [],
   "source": [
    "import os"
   ],
   "metadata": {
    "collapsed": false,
    "pycharm": {
     "name": "#%%\n"
    }
   }
  },
  {
   "cell_type": "code",
   "execution_count": 24,
   "outputs": [
    {
     "data": {
      "text/plain": "'C:\\\\Users\\\\fardin\\\\Projects\\\\ColorIntelligence\\\\data\\\\GraphData\\\\AmazonReview\\\\graph_0.graph'"
     },
     "execution_count": 24,
     "metadata": {},
     "output_type": "execute_result"
    }
   ],
   "source": [
    "os.path.join(graph_const.save_path, graph_const.var.graphs_name[0])"
   ],
   "metadata": {
    "collapsed": false,
    "pycharm": {
     "name": "#%%\n"
    }
   }
  },
  {
   "cell_type": "code",
   "execution_count": 13,
   "outputs": [
    {
     "ename": "AttributeError",
     "evalue": "'NoneType' object has no attribute 'num_nodes'",
     "output_type": "error",
     "traceback": [
      "\u001B[1;31m---------------------------------------------------------------------------\u001B[0m",
      "\u001B[1;31mAttributeError\u001B[0m                            Traceback (most recent call last)",
      "Cell \u001B[1;32mIn[13], line 1\u001B[0m\n\u001B[1;32m----> 1\u001B[0m g \u001B[38;5;241m=\u001B[39m \u001B[43mto_networkx\u001B[49m\u001B[43m(\u001B[49m\u001B[43mgraph_const\u001B[49m\u001B[38;5;241;43m.\u001B[39;49m\u001B[43mgraphs\u001B[49m\u001B[43m[\u001B[49m\u001B[38;5;241;43m0\u001B[39;49m\u001B[43m]\u001B[49m\u001B[43m,\u001B[49m\u001B[43m \u001B[49m\u001B[43mto_undirected\u001B[49m\u001B[38;5;241;43m=\u001B[39;49m\u001B[38;5;28;43;01mTrue\u001B[39;49;00m\u001B[43m)\u001B[49m\n\u001B[0;32m      2\u001B[0m layout \u001B[38;5;241m=\u001B[39m nx\u001B[38;5;241m.\u001B[39mspring_layout(g)\n\u001B[0;32m      3\u001B[0m nx\u001B[38;5;241m.\u001B[39mdraw(g, pos\u001B[38;5;241m=\u001B[39mlayout)\n",
      "File \u001B[1;32m~\\AppData\\Local\\Programs\\Python\\Python310\\lib\\site-packages\\torch_geometric\\utils\\convert.py:125\u001B[0m, in \u001B[0;36mto_networkx\u001B[1;34m(data, node_attrs, edge_attrs, graph_attrs, to_undirected, remove_self_loops)\u001B[0m\n\u001B[0;32m    121\u001B[0m \u001B[38;5;28;01mimport\u001B[39;00m \u001B[38;5;21;01mnetworkx\u001B[39;00m \u001B[38;5;28;01mas\u001B[39;00m \u001B[38;5;21;01mnx\u001B[39;00m\n\u001B[0;32m    123\u001B[0m G \u001B[38;5;241m=\u001B[39m nx\u001B[38;5;241m.\u001B[39mGraph() \u001B[38;5;28;01mif\u001B[39;00m to_undirected \u001B[38;5;28;01melse\u001B[39;00m nx\u001B[38;5;241m.\u001B[39mDiGraph()\n\u001B[1;32m--> 125\u001B[0m G\u001B[38;5;241m.\u001B[39madd_nodes_from(\u001B[38;5;28mrange\u001B[39m(\u001B[43mdata\u001B[49m\u001B[38;5;241;43m.\u001B[39;49m\u001B[43mnum_nodes\u001B[49m))\n\u001B[0;32m    127\u001B[0m node_attrs \u001B[38;5;241m=\u001B[39m node_attrs \u001B[38;5;129;01mor\u001B[39;00m []\n\u001B[0;32m    128\u001B[0m edge_attrs \u001B[38;5;241m=\u001B[39m edge_attrs \u001B[38;5;129;01mor\u001B[39;00m []\n",
      "\u001B[1;31mAttributeError\u001B[0m: 'NoneType' object has no attribute 'num_nodes'"
     ]
    }
   ],
   "source": [
    "g = to_networkx(graph_const.graphs[0], to_undirected=True)\n",
    "layout = nx.spring_layout(g)\n",
    "nx.draw(g, pos=layout)\n",
    "unique_words_dict = {i: graph_const.unique_words[i] for i in range(len(graph_const.unique_words))}\n",
    "nx.draw_networkx_labels(g, pos=layout, labels=unique_words_dict)"
   ],
   "metadata": {
    "collapsed": false,
    "pycharm": {
     "name": "#%%\n"
    }
   }
  },
  {
   "cell_type": "code",
   "execution_count": 6,
   "outputs": [
    {
     "ename": "NameError",
     "evalue": "name 'doc_graph' is not defined",
     "output_type": "error",
     "traceback": [
      "\u001B[1;31m---------------------------------------------------------------------------\u001B[0m",
      "\u001B[1;31mNameError\u001B[0m                                 Traceback (most recent call last)",
      "Cell \u001B[1;32mIn[6], line 1\u001B[0m\n\u001B[1;32m----> 1\u001B[0m \u001B[43mdoc_graph\u001B[49m\u001B[38;5;241m.\u001B[39medge_index\n",
      "\u001B[1;31mNameError\u001B[0m: name 'doc_graph' is not defined"
     ]
    }
   ],
   "source": [
    "doc_graph.edge_index"
   ],
   "metadata": {
    "collapsed": false,
    "pycharm": {
     "name": "#%%\n"
    }
   }
  },
  {
   "cell_type": "code",
   "execution_count": 13,
   "outputs": [
    {
     "data": {
      "text/plain": "104"
     },
     "execution_count": 13,
     "metadata": {},
     "output_type": "execute_result"
    }
   ],
   "source": [
    "len(graph_const.unique_words)"
   ],
   "metadata": {
    "collapsed": false,
    "pycharm": {
     "name": "#%%\n"
    }
   }
  },
  {
   "cell_type": "code",
   "execution_count": 8,
   "outputs": [
    {
     "data": {
      "text/plain": "[(0, 1), (0, 2), (1, 0), (1, 2), (2, 0), (2, 1)]"
     },
     "execution_count": 8,
     "metadata": {},
     "output_type": "execute_result"
    }
   ],
   "source": [
    "[(x,y) for x in range(3) for y in range(3) if x!=y]"
   ],
   "metadata": {
    "collapsed": false,
    "pycharm": {
     "name": "#%%\n"
    }
   }
  },
  {
   "cell_type": "code",
   "execution_count": null,
   "outputs": [],
   "source": [],
   "metadata": {
    "collapsed": false,
    "pycharm": {
     "name": "#%%\n"
    }
   }
  }
 ],
 "metadata": {
  "kernelspec": {
   "display_name": "Python 3",
   "language": "python",
   "name": "python3"
  },
  "language_info": {
   "codemirror_mode": {
    "name": "ipython",
    "version": 2
   },
   "file_extension": ".py",
   "mimetype": "text/x-python",
   "name": "python",
   "nbconvert_exporter": "python",
   "pygments_lexer": "ipython2",
   "version": "2.7.6"
  }
 },
 "nbformat": 4,
 "nbformat_minor": 0
}