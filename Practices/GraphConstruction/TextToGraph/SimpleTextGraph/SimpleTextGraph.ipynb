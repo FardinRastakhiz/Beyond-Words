{
 "cells": [
  {
   "cell_type": "code",
   "execution_count": 1,
   "metadata": {
    "collapsed": true
   },
   "outputs": [],
   "source": [
    "import numpy as np\n",
    "import pandas as pd\n",
    "import matplotlib.pyplot as plt\n",
    "import seaborn as sns\n",
    "import re\n",
    "import nltk\n",
    "import torch\n",
    "from nltk.corpus import stopwords\n",
    "from nltk.stem import SnowballStemmer\n",
    "from collections import Counter\n",
    "from wordcloud import WordCloud\n",
    "from sklearn.feature_extraction.text import TfidfVectorizer\n",
    "from sklearn.svm import LinearSVC\n",
    "from sklearn.metrics import accuracy_score, classification_report\n",
    "\n",
    "stop_words = set(stopwords.words('english'))\n",
    "stemmer = SnowballStemmer('english')"
   ]
  },
  {
   "cell_type": "code",
   "execution_count": 10,
   "outputs": [],
   "source": [
    "from Scripts.Configs.ConfigClass import Config"
   ],
   "metadata": {
    "collapsed": false,
    "pycharm": {
     "name": "#%%\n"
    }
   }
  },
  {
   "cell_type": "code",
   "execution_count": 11,
   "outputs": [],
   "source": [
    "config = Config(r'C:\\Users\\fardin\\Projects\\ColorIntelligence\\Scripts\\Configs\\Config.json')"
   ],
   "metadata": {
    "collapsed": false,
    "pycharm": {
     "name": "#%%\n"
    }
   }
  },
  {
   "cell_type": "code",
   "execution_count": 2,
   "outputs": [],
   "source": [
    "# train_df = pd.read_csv(r'C:\\Users\\fardin\\Projects\\ColorIntelligence\\data\\Amazon-Review\\train.csv')\n",
    "# test_df = pd.read_csv(r'C:\\Users\\fardin\\Projects\\ColorIntelligence\\data\\Amazon-Review\\test.csv')\n",
    "# train_df[:50000].to_csv(r'C:\\Users\\fardin\\Projects\\ColorIntelligence\\data\\Amazon-Review\\train_sm.csv', ',', index=False)\n",
    "# test_df[:5000].to_csv(r'C:\\Users\\fardin\\Projects\\ColorIntelligence\\data\\Amazon-Review\\test_sm.csv', ',', index=False)\n",
    "train_df = pd.read_csv(r'C:\\Users\\fardin\\Projects\\ColorIntelligence\\data\\Amazon-Review\\train_sm.csv')\n",
    "test_df = pd.read_csv(r'C:\\Users\\fardin\\Projects\\ColorIntelligence\\data\\Amazon-Review\\test_sm.csv')"
   ],
   "metadata": {
    "collapsed": false,
    "pycharm": {
     "name": "#%%\n"
    }
   }
  },
  {
   "cell_type": "code",
   "execution_count": 3,
   "outputs": [],
   "source": [
    "train_df.columns = ['Polarity', 'Title', 'Review']\n",
    "test_df.columns = ['Polarity', 'Title', 'Review']"
   ],
   "metadata": {
    "collapsed": false,
    "pycharm": {
     "name": "#%%\n"
    }
   }
  },
  {
   "cell_type": "code",
   "execution_count": 4,
   "outputs": [],
   "source": [
    "train_df = train_df[['Polarity', 'Review']]\n",
    "test_df = test_df[['Polarity', 'Review']]"
   ],
   "metadata": {
    "collapsed": false,
    "pycharm": {
     "name": "#%%\n"
    }
   }
  },
  {
   "cell_type": "code",
   "execution_count": null,
   "outputs": [],
   "source": [
    "from torch_geometric.data import Data"
   ],
   "metadata": {
    "collapsed": false,
    "pycharm": {
     "name": "#%%\n"
    }
   }
  },
  {
   "cell_type": "code",
   "execution_count": 5,
   "outputs": [
    {
     "data": {
      "text/plain": "\"I'm reading a lot of reviews saying that this is the best 'game soundtrack' and I figured that I'd write a review to disagree a bit. This in my opinino is Yasunori Mitsuda's ultimate masterpiece. The music is timeless and I'm been listening to it for years now and its beauty simply refuses to fade.The price tag on this is pretty staggering I must say, but if you are going to buy any cd for this much money, this is the only one that I feel would be worth every penny.\""
     },
     "execution_count": 5,
     "metadata": {},
     "output_type": "execute_result"
    }
   ],
   "source": [
    "train_df['Review'][0]"
   ],
   "metadata": {
    "collapsed": false,
    "pycharm": {
     "name": "#%%\n"
    }
   }
  },
  {
   "cell_type": "code",
   "execution_count": 30,
   "outputs": [],
   "source": [
    "# from Scripts.DataManager.GraphConstructor.CoOccurrenceGraphConstructor import CoOccurrenceGraphConstructor\n",
    "import spacy\n",
    "import numpy as np\n",
    "from typing import Dict\n",
    "import torch"
   ],
   "metadata": {
    "collapsed": false,
    "pycharm": {
     "name": "#%%\n"
    }
   }
  },
  {
   "cell_type": "code",
   "execution_count": 49,
   "outputs": [],
   "source": [
    "nlp = spacy.load(config.spacy.pipeline)\n",
    "doc = nlp(train_df['Review'][0])"
   ],
   "metadata": {
    "collapsed": false,
    "pycharm": {
     "name": "#%%\n"
    }
   }
  },
  {
   "cell_type": "code",
   "execution_count": 98,
   "outputs": [],
   "source": [
    "unique_words = []\n",
    "for token in doc:\n",
    "    unique_words.append(token.lemma_)\n",
    "unique_words = list(set(unique_words))\n",
    "unique_map = pd.Series(range(len(unique_words)), index=unique_words, dtype=int)\n",
    "n_gram = 4\n",
    "token_lemmas = [t.lemma_ for t in doc]"
   ],
   "metadata": {
    "collapsed": false,
    "pycharm": {
     "name": "#%%\n"
    }
   }
  },
  {
   "cell_type": "code",
   "execution_count": 99,
   "outputs": [
    {
     "data": {
      "text/plain": "47"
     },
     "execution_count": 99,
     "metadata": {},
     "output_type": "execute_result"
    }
   ],
   "source": [
    "unique_map['I']"
   ],
   "metadata": {
    "collapsed": false,
    "pycharm": {
     "name": "#%%\n"
    }
   }
  },
  {
   "cell_type": "code",
   "execution_count": 108,
   "outputs": [],
   "source": [
    "dense_mat = torch.zeros((len(unique_words), len(unique_words)), dtype=torch.float32)\n",
    "for i in range(len(token_lemmas)-n_gram):\n",
    "    n_gram_data = set(token_lemmas[i:i+n_gram])\n",
    "    n_gram_ids = [unique_map[val] for val in n_gram_data]\n",
    "    grid_ids = torch.tensor([(x,y) for x in n_gram_ids for y in n_gram_ids])\n",
    "    dense_mat[grid_ids[:,0], grid_ids[:,1]] += 1\n",
    "dense_mat = torch.nn.functional.normalize(dense_mat)"
   ],
   "metadata": {
    "collapsed": false,
    "pycharm": {
     "name": "#%%\n"
    }
   }
  },
  {
   "cell_type": "code",
   "execution_count": 109,
   "outputs": [
    {
     "ename": "TypeError",
     "evalue": "sparse_coo_tensor(): argument 'size' (position 1) must be tuple of ints, but found element of type Tensor at pos 0",
     "output_type": "error",
     "traceback": [
      "\u001B[1;31m---------------------------------------------------------------------------\u001B[0m",
      "\u001B[1;31mTypeError\u001B[0m                                 Traceback (most recent call last)",
      "Cell \u001B[1;32mIn[109], line 1\u001B[0m\n\u001B[1;32m----> 1\u001B[0m sparse_mat \u001B[38;5;241m=\u001B[39m \u001B[43mtorch\u001B[49m\u001B[38;5;241;43m.\u001B[39;49m\u001B[43msparse_coo_tensor\u001B[49m\u001B[43m(\u001B[49m\u001B[43mdense_mat\u001B[49m\u001B[43m)\u001B[49m\n",
      "\u001B[1;31mTypeError\u001B[0m: sparse_coo_tensor(): argument 'size' (position 1) must be tuple of ints, but found element of type Tensor at pos 0"
     ]
    }
   ],
   "source": [
    "sparse_mat = torch.sparse_coo_tensor(dense_mat)"
   ],
   "metadata": {
    "collapsed": false,
    "pycharm": {
     "name": "#%%\n"
    }
   }
  },
  {
   "cell_type": "code",
   "execution_count": 104,
   "outputs": [
    {
     "data": {
      "text/plain": "tensor([[ 4.,  0.,  0.,  ...,  0.,  3.,  0.],\n        [ 0.,  1.,  0.,  ...,  0.,  0.,  0.],\n        [ 0.,  0.,  4.,  ...,  0.,  0.,  0.],\n        ...,\n        [ 0.,  0.,  0.,  ...,  4.,  0.,  0.],\n        [ 3.,  0.,  0.,  ...,  0., 12.,  0.],\n        [ 0.,  0.,  0.,  ...,  0.,  0.,  4.]])"
     },
     "execution_count": 104,
     "metadata": {},
     "output_type": "execute_result"
    }
   ],
   "source": [
    "dense_mat"
   ],
   "metadata": {
    "collapsed": false,
    "pycharm": {
     "name": "#%%\n"
    }
   }
  },
  {
   "cell_type": "code",
   "execution_count": 19,
   "outputs": [
    {
     "name": "stdout",
     "output_type": "stream",
     "text": [
      "sent.text: I'm reading a lot of reviews saying that this is the best 'game soundtrack' and I figured that I'd write a review to disagree a bit.\n",
      "token.text: I\n",
      "token.text: be\n",
      "token.text: read\n",
      "token.text: a\n",
      "token.text: lot\n",
      "token.text: of\n",
      "token.text: review\n",
      "token.text: say\n",
      "token.text: that\n",
      "token.text: this\n",
      "token.text: be\n",
      "token.text: the\n",
      "token.text: good\n",
      "token.text: '\n",
      "token.text: game\n",
      "token.text: soundtrack\n",
      "token.text: '\n",
      "token.text: and\n",
      "token.text: I\n",
      "token.text: figure\n",
      "token.text: that\n",
      "token.text: I\n",
      "token.text: would\n",
      "token.text: write\n",
      "token.text: a\n",
      "token.text: review\n",
      "token.text: to\n",
      "token.text: disagree\n",
      "token.text: a\n",
      "token.text: bit\n",
      "token.text: .\n",
      "sent.text: This in my opinino is Yasunori Mitsuda's ultimate masterpiece.\n",
      "token.text: this\n",
      "token.text: in\n",
      "token.text: my\n",
      "token.text: opinino\n",
      "token.text: be\n",
      "token.text: Yasunori\n",
      "token.text: Mitsuda\n",
      "token.text: 's\n",
      "token.text: ultimate\n",
      "token.text: masterpiece\n",
      "token.text: .\n",
      "sent.text: The music is timeless and I'm been listening to it for years now and its beauty simply refuses to fade.\n",
      "token.text: the\n",
      "token.text: music\n",
      "token.text: be\n",
      "token.text: timeless\n",
      "token.text: and\n",
      "token.text: I\n",
      "token.text: be\n",
      "token.text: be\n",
      "token.text: listen\n",
      "token.text: to\n",
      "token.text: it\n",
      "token.text: for\n",
      "token.text: year\n",
      "token.text: now\n",
      "token.text: and\n",
      "token.text: its\n",
      "token.text: beauty\n",
      "token.text: simply\n",
      "token.text: refuse\n",
      "token.text: to\n",
      "token.text: fade\n",
      "token.text: .\n",
      "sent.text: The price tag on this is pretty staggering I must say, but if you are going to buy any cd for this much money, this is the only one that I feel would be worth every penny.\n",
      "token.text: the\n",
      "token.text: price\n",
      "token.text: tag\n",
      "token.text: on\n",
      "token.text: this\n",
      "token.text: be\n",
      "token.text: pretty\n",
      "token.text: staggering\n",
      "token.text: I\n",
      "token.text: must\n",
      "token.text: say\n",
      "token.text: ,\n",
      "token.text: but\n",
      "token.text: if\n",
      "token.text: you\n",
      "token.text: be\n",
      "token.text: go\n",
      "token.text: to\n",
      "token.text: buy\n",
      "token.text: any\n",
      "token.text: cd\n",
      "token.text: for\n",
      "token.text: this\n",
      "token.text: much\n",
      "token.text: money\n",
      "token.text: ,\n",
      "token.text: this\n",
      "token.text: be\n",
      "token.text: the\n",
      "token.text: only\n",
      "token.text: one\n",
      "token.text: that\n",
      "token.text: I\n",
      "token.text: feel\n",
      "token.text: would\n",
      "token.text: be\n",
      "token.text: worth\n",
      "token.text: every\n",
      "token.text: penny\n",
      "token.text: .\n"
     ]
    }
   ],
   "source": [
    "\n",
    "\n",
    "\n",
    "for sent in doc.sents:\n",
    "    print(f'sent.text: {sent.text}')\n",
    "    for token in sent:\n",
    "        print(f'token.text: {token.lemma_}')\n"
   ],
   "metadata": {
    "collapsed": false,
    "pycharm": {
     "name": "#%%\n"
    }
   }
  },
  {
   "cell_type": "code",
   "execution_count": 12,
   "outputs": [
    {
     "ename": "TypeError",
     "evalue": "tensor() missing 1 required positional arguments: \"data\"",
     "output_type": "error",
     "traceback": [
      "\u001B[1;31m---------------------------------------------------------------------------\u001B[0m",
      "\u001B[1;31mTypeError\u001B[0m                                 Traceback (most recent call last)",
      "Cell \u001B[1;32mIn[12], line 1\u001B[0m\n\u001B[1;32m----> 1\u001B[0m graph_constructor \u001B[38;5;241m=\u001B[39m \u001B[43mCoOccurrenceGraphConstructor\u001B[49m\u001B[43m(\u001B[49m\u001B[43mtrain_df\u001B[49m\u001B[43m[\u001B[49m\u001B[38;5;124;43m'\u001B[39;49m\u001B[38;5;124;43mReview\u001B[39;49m\u001B[38;5;124;43m'\u001B[39;49m\u001B[43m]\u001B[49m\u001B[43m[\u001B[49m\u001B[38;5;241;43m0\u001B[39;49m\u001B[43m]\u001B[49m\u001B[43m,\u001B[49m\u001B[43m \u001B[49m\u001B[43mconfig\u001B[49m\u001B[43m)\u001B[49m\n",
      "File \u001B[1;32m~\\Projects\\ColorIntelligence\\Scripts\\DataManager\\GraphConstructor\\CoOccurrenceGraphConstructor.py:12\u001B[0m, in \u001B[0;36mCoOccurrenceGraphConstructor.__init__\u001B[1;34m(self, text, config)\u001B[0m\n\u001B[0;32m     11\u001B[0m \u001B[38;5;28;01mdef\u001B[39;00m \u001B[38;5;21m__init__\u001B[39m(\u001B[38;5;28mself\u001B[39m, text: \u001B[38;5;28mstr\u001B[39m, config: Config):\n\u001B[1;32m---> 12\u001B[0m     \u001B[38;5;28;43msuper\u001B[39;49m\u001B[43m(\u001B[49m\u001B[43mCoOccurrenceGraphConstructor\u001B[49m\u001B[43m,\u001B[49m\u001B[43m \u001B[49m\u001B[38;5;28;43mself\u001B[39;49m\u001B[43m)\u001B[49m\u001B[38;5;241;43m.\u001B[39;49m\u001B[38;5;21;43m__init__\u001B[39;49m\u001B[43m(\u001B[49m\u001B[43mtext\u001B[49m\u001B[43m,\u001B[49m\u001B[43m \u001B[49m\u001B[43mconfig\u001B[49m\u001B[43m)\u001B[49m\n",
      "File \u001B[1;32m~\\Projects\\ColorIntelligence\\Scripts\\DataManager\\GraphConstructor\\GraphConstructor.py:16\u001B[0m, in \u001B[0;36mGraphConstructor.__init__\u001B[1;34m(self, text, config)\u001B[0m\n\u001B[0;32m     14\u001B[0m \u001B[38;5;28mself\u001B[39m\u001B[38;5;241m.\u001B[39mtext \u001B[38;5;241m=\u001B[39m text\n\u001B[0;32m     15\u001B[0m \u001B[38;5;28mself\u001B[39m\u001B[38;5;241m.\u001B[39mdevice \u001B[38;5;241m=\u001B[39m config\u001B[38;5;241m.\u001B[39mdevice\n\u001B[1;32m---> 16\u001B[0m \u001B[38;5;28mself\u001B[39m\u001B[38;5;241m.\u001B[39mx, \u001B[38;5;28mself\u001B[39m\u001B[38;5;241m.\u001B[39my, \u001B[38;5;28mself\u001B[39m\u001B[38;5;241m.\u001B[39medge_index \u001B[38;5;241m=\u001B[39m \u001B[38;5;28;43mself\u001B[39;49m\u001B[38;5;241;43m.\u001B[39;49m\u001B[43m_generate_graph\u001B[49m\u001B[43m(\u001B[49m\u001B[43m)\u001B[49m\n\u001B[0;32m     17\u001B[0m \u001B[38;5;28mself\u001B[39m\u001B[38;5;241m.\u001B[39mdata \u001B[38;5;241m=\u001B[39m Data(x\u001B[38;5;241m=\u001B[39m\u001B[38;5;28mself\u001B[39m\u001B[38;5;241m.\u001B[39mx, y\u001B[38;5;241m=\u001B[39m\u001B[38;5;28mself\u001B[39m\u001B[38;5;241m.\u001B[39my, edge_index\u001B[38;5;241m=\u001B[39m\u001B[38;5;28mself\u001B[39m\u001B[38;5;241m.\u001B[39medge_index)\n",
      "File \u001B[1;32m~\\Projects\\ColorIntelligence\\Scripts\\DataManager\\GraphConstructor\\CoOccurrenceGraphConstructor.py:18\u001B[0m, in \u001B[0;36mCoOccurrenceGraphConstructor._generate_graph\u001B[1;34m(self)\u001B[0m\n\u001B[0;32m     15\u001B[0m nlp \u001B[38;5;241m=\u001B[39m spacy\u001B[38;5;241m.\u001B[39mload(\u001B[38;5;28mself\u001B[39m\u001B[38;5;241m.\u001B[39mconfig\u001B[38;5;241m.\u001B[39mspacy\u001B[38;5;241m.\u001B[39mpipeline)\n\u001B[0;32m     16\u001B[0m doc \u001B[38;5;241m=\u001B[39m nlp(\u001B[38;5;28mself\u001B[39m\u001B[38;5;241m.\u001B[39mtext)\n\u001B[1;32m---> 18\u001B[0m \u001B[38;5;28mself\u001B[39m\u001B[38;5;241m.\u001B[39mx \u001B[38;5;241m=\u001B[39m \u001B[43mtorch\u001B[49m\u001B[38;5;241;43m.\u001B[39;49m\u001B[43mtensor\u001B[49m\u001B[43m(\u001B[49m\u001B[43m)\u001B[49m\n\u001B[0;32m     19\u001B[0m \u001B[38;5;28mself\u001B[39m\u001B[38;5;241m.\u001B[39my \u001B[38;5;241m=\u001B[39m torch\u001B[38;5;241m.\u001B[39mtensor()\n\u001B[0;32m     20\u001B[0m \u001B[38;5;28mself\u001B[39m\u001B[38;5;241m.\u001B[39medge_index \u001B[38;5;241m=\u001B[39m torch\u001B[38;5;241m.\u001B[39mtensor()\n",
      "\u001B[1;31mTypeError\u001B[0m: tensor() missing 1 required positional arguments: \"data\""
     ]
    }
   ],
   "source": [
    "\n",
    "graph_constructor = CoOccurrenceGraphConstructor(train_df['Review'][0], config)"
   ],
   "metadata": {
    "collapsed": false,
    "pycharm": {
     "name": "#%%\n"
    }
   }
  },
  {
   "cell_type": "code",
   "execution_count": null,
   "outputs": [],
   "source": [
    "nlp = spacy.load('en_core_web_sm')\n",
    "doc = nlp(self.text)\n",
    "\n",
    "self.x = torch.tensor()\n",
    "self.y = torch.tensor()\n",
    "self.edge_index = torch.tensor()"
   ],
   "metadata": {
    "collapsed": false,
    "pycharm": {
     "name": "#%%\n"
    }
   }
  }
 ],
 "metadata": {
  "kernelspec": {
   "display_name": "Python 3",
   "language": "python",
   "name": "python3"
  },
  "language_info": {
   "codemirror_mode": {
    "name": "ipython",
    "version": 2
   },
   "file_extension": ".py",
   "mimetype": "text/x-python",
   "name": "python",
   "nbconvert_exporter": "python",
   "pygments_lexer": "ipython2",
   "version": "2.7.6"
  }
 },
 "nbformat": 4,
 "nbformat_minor": 0
}