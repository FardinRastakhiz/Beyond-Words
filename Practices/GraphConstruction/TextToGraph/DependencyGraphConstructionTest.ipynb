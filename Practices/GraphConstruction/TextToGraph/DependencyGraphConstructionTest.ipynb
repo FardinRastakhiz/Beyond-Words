{
 "cells": [
  {
   "cell_type": "code",
   "execution_count": 1,
   "metadata": {},
   "outputs": [
    {
     "ename": "TypeError",
     "evalue": "unsupported operand type(s) for |: '_GenericAlias' and '_VariadicGenericAlias'",
     "output_type": "error",
     "traceback": [
      "\u001b[1;31m---------------------------------------------------------------------------\u001b[0m",
      "\u001b[1;31mTypeError\u001b[0m                                 Traceback (most recent call last)",
      "\u001b[1;32mc:\\Users\\fardin\\Projects\\ColorIntelligence\\Practices\\GraphConstruction\\TextToGraph\\DependencyGraphConstructionTest.ipynb Cell 1\u001b[0m line \u001b[0;36m1\n\u001b[0;32m     <a href='vscode-notebook-cell:/c%3A/Users/fardin/Projects/ColorIntelligence/Practices/GraphConstruction/TextToGraph/DependencyGraphConstructionTest.ipynb#W2sZmlsZQ%3D%3D?line=12'>13</a>\u001b[0m \u001b[39mfrom\u001b[39;00m \u001b[39msklearn\u001b[39;00m\u001b[39m.\u001b[39;00m\u001b[39msvm\u001b[39;00m \u001b[39mimport\u001b[39;00m LinearSVC\n\u001b[0;32m     <a href='vscode-notebook-cell:/c%3A/Users/fardin/Projects/ColorIntelligence/Practices/GraphConstruction/TextToGraph/DependencyGraphConstructionTest.ipynb#W2sZmlsZQ%3D%3D?line=13'>14</a>\u001b[0m \u001b[39mfrom\u001b[39;00m \u001b[39msklearn\u001b[39;00m\u001b[39m.\u001b[39;00m\u001b[39mmetrics\u001b[39;00m \u001b[39mimport\u001b[39;00m accuracy_score, classification_report\n\u001b[1;32m---> <a href='vscode-notebook-cell:/c%3A/Users/fardin/Projects/ColorIntelligence/Practices/GraphConstruction/TextToGraph/DependencyGraphConstructionTest.ipynb#W2sZmlsZQ%3D%3D?line=14'>15</a>\u001b[0m \u001b[39mfrom\u001b[39;00m \u001b[39mScripts\u001b[39;00m\u001b[39m.\u001b[39;00m\u001b[39mDataManager\u001b[39;00m\u001b[39m.\u001b[39;00m\u001b[39mGraphConstructor\u001b[39;00m\u001b[39m.\u001b[39;00m\u001b[39mDependencyGraphConstructor\u001b[39;00m \u001b[39mimport\u001b[39;00m DependencyGraphConstructor\n\u001b[0;32m     <a href='vscode-notebook-cell:/c%3A/Users/fardin/Projects/ColorIntelligence/Practices/GraphConstruction/TextToGraph/DependencyGraphConstructionTest.ipynb#W2sZmlsZQ%3D%3D?line=16'>17</a>\u001b[0m stop_words \u001b[39m=\u001b[39m \u001b[39mset\u001b[39m(stopwords\u001b[39m.\u001b[39mwords(\u001b[39m'\u001b[39m\u001b[39menglish\u001b[39m\u001b[39m'\u001b[39m))\n\u001b[0;32m     <a href='vscode-notebook-cell:/c%3A/Users/fardin/Projects/ColorIntelligence/Practices/GraphConstruction/TextToGraph/DependencyGraphConstructionTest.ipynb#W2sZmlsZQ%3D%3D?line=17'>18</a>\u001b[0m stemmer \u001b[39m=\u001b[39m SnowballStemmer(\u001b[39m'\u001b[39m\u001b[39menglish\u001b[39m\u001b[39m'\u001b[39m)\n",
      "File \u001b[1;32mc:\\Users\\fardin\\Projects\\ColorIntelligence\\Scripts\\DataManager\\GraphConstructor\\DependencyGraphConstructor.py:3\u001b[0m\n\u001b[0;32m      2\u001b[0m \u001b[39mimport\u001b[39;00m \u001b[39mpandas\u001b[39;00m \u001b[39mas\u001b[39;00m \u001b[39mpd\u001b[39;00m\n\u001b[1;32m----> 3\u001b[0m \u001b[39mfrom\u001b[39;00m \u001b[39mScripts\u001b[39;00m\u001b[39m.\u001b[39;00m\u001b[39mDataManager\u001b[39;00m\u001b[39m.\u001b[39;00m\u001b[39mGraphConstructor\u001b[39;00m\u001b[39m.\u001b[39;00m\u001b[39mGraphConstructor\u001b[39;00m \u001b[39mimport\u001b[39;00m GraphConstructor\n\u001b[0;32m      4\u001b[0m \u001b[39mfrom\u001b[39;00m \u001b[39mtorch_geometric\u001b[39;00m\u001b[39m.\u001b[39;00m\u001b[39mdata\u001b[39;00m \u001b[39mimport\u001b[39;00m Data\n\u001b[0;32m      5\u001b[0m \u001b[39mfrom\u001b[39;00m \u001b[39mScripts\u001b[39;00m\u001b[39m.\u001b[39;00m\u001b[39mConfigs\u001b[39;00m\u001b[39m.\u001b[39;00m\u001b[39mConfigClass\u001b[39;00m \u001b[39mimport\u001b[39;00m Config\n",
      "File \u001b[1;32mc:\\Users\\fardin\\Projects\\ColorIntelligence\\Scripts\\DataManager\\GraphConstructor\\GraphConstructor.py:17\u001b[0m\n\u001b[0;32m     12\u001b[0m \u001b[39mfrom\u001b[39;00m \u001b[39mtorch_geometric\u001b[39;00m\u001b[39m.\u001b[39;00m\u001b[39mutils\u001b[39;00m \u001b[39mimport\u001b[39;00m to_networkx\n\u001b[0;32m     14\u001b[0m \u001b[39mfrom\u001b[39;00m \u001b[39mScripts\u001b[39;00m\u001b[39m.\u001b[39;00m\u001b[39mConfigs\u001b[39;00m\u001b[39m.\u001b[39;00m\u001b[39mConfigClass\u001b[39;00m \u001b[39mimport\u001b[39;00m Config\n\u001b[1;32m---> 17\u001b[0m \u001b[39mclass\u001b[39;00m \u001b[39mGraphConstructor\u001b[39;00m(ABC):\n\u001b[0;32m     19\u001b[0m     \u001b[39mclass\u001b[39;00m \u001b[39m_Variables\u001b[39;00m(ABC):\n\u001b[0;32m     20\u001b[0m         \u001b[39mdef\u001b[39;00m \u001b[39m__init__\u001b[39m(\u001b[39mself\u001b[39m):\n",
      "File \u001b[1;32mc:\\Users\\fardin\\Projects\\ColorIntelligence\\Scripts\\DataManager\\GraphConstructor\\GraphConstructor.py:72\u001b[0m, in \u001b[0;36mGraphConstructor\u001b[1;34m()\u001b[0m\n\u001b[0;32m     62\u001b[0m     \u001b[39mreturn\u001b[39;00m \u001b[39mself\u001b[39m\u001b[39m.\u001b[39m_graphs[idx]\n\u001b[0;32m     64\u001b[0m \u001b[39m# @abstractmethod\u001b[39;00m\n\u001b[0;32m     65\u001b[0m \u001b[39m# def set_graph(self, idx: int):\u001b[39;00m\n\u001b[0;32m     66\u001b[0m \u001b[39m#     pass\u001b[39;00m\n\u001b[1;32m   (...)\u001b[0m\n\u001b[0;32m     69\u001b[0m \u001b[39m# def set_graphs(self, ids: List | Tuple | range | np.array | torch.Tensor | any):\u001b[39;00m\n\u001b[0;32m     70\u001b[0m \u001b[39m#     pass\u001b[39;00m\n\u001b[1;32m---> 72\u001b[0m \u001b[39mdef\u001b[39;00m \u001b[39mget_graphs\u001b[39m(\u001b[39mself\u001b[39m, ids: List \u001b[39m|\u001b[39;49m Tuple \u001b[39m|\u001b[39m \u001b[39mrange\u001b[39m \u001b[39m|\u001b[39m np\u001b[39m.\u001b[39marray \u001b[39m|\u001b[39m torch\u001b[39m.\u001b[39mTensor \u001b[39m|\u001b[39m \u001b[39many\u001b[39m):\n\u001b[0;32m     73\u001b[0m     not_loaded_ids \u001b[39m=\u001b[39m [idx \u001b[39mfor\u001b[39;00m idx \u001b[39min\u001b[39;00m ids \u001b[39mif\u001b[39;00m idx \u001b[39mnot\u001b[39;00m \u001b[39min\u001b[39;00m \u001b[39mself\u001b[39m\u001b[39m.\u001b[39m_graphs]\n\u001b[0;32m     74\u001b[0m     \u001b[39mif\u001b[39;00m \u001b[39mlen\u001b[39m(not_loaded_ids) \u001b[39m>\u001b[39m \u001b[39m0\u001b[39m \u001b[39mand\u001b[39;00m \u001b[39mself\u001b[39m\u001b[39m.\u001b[39mload_preprocessed_data:\n",
      "\u001b[1;31mTypeError\u001b[0m: unsupported operand type(s) for |: '_GenericAlias' and '_VariadicGenericAlias'"
     ]
    }
   ],
   "source": [
    "import numpy as np\n",
    "import pandas as pd\n",
    "import matplotlib.pyplot as plt\n",
    "import seaborn as sns\n",
    "import re\n",
    "import nltk\n",
    "import torch\n",
    "from nltk.corpus import stopwords\n",
    "from nltk.stem import SnowballStemmer\n",
    "from collections import Counter\n",
    "from wordcloud import WordCloud\n",
    "from sklearn.feature_extraction.text import TfidfVectorizer\n",
    "from sklearn.svm import LinearSVC\n",
    "from sklearn.metrics import accuracy_score, classification_report\n",
    "from Scripts.DataManager.GraphConstructor.DependencyGraphConstructor import DependencyGraphConstructor\n",
    "\n",
    "stop_words = set(stopwords.words('english'))\n",
    "stemmer = SnowballStemmer('english')\n",
    "from Scripts.Configs.ConfigClass import Config\n",
    "config = Config(r'C:\\Users\\fardin\\Projects\\ColorIntelligence\\Scripts\\Configs\\Config.json')\n",
    "from torch_geometric.data import Data\n",
    "from torch_geometric.utils import to_networkx\n",
    "import networkx as nx"
   ]
  },
  {
   "cell_type": "code",
   "execution_count": null,
   "metadata": {},
   "outputs": [],
   "source": [
    "train_df = pd.read_csv(r'C:\\Users\\fardin\\Projects\\ColorIntelligence\\data\\Amazon-Review\\train_sm.csv')\n",
    "test_df = pd.read_csv(r'C:\\Users\\fardin\\Projects\\ColorIntelligence\\data\\Amazon-Review\\test_sm.csv')"
   ]
  },
  {
   "cell_type": "code",
   "execution_count": null,
   "metadata": {},
   "outputs": [],
   "source": [
    "train_df.columns = ['Polarity', 'Title', 'Review']\n",
    "test_df.columns = ['Polarity', 'Title', 'Review']"
   ]
  },
  {
   "cell_type": "code",
   "execution_count": null,
   "metadata": {},
   "outputs": [],
   "source": [
    "train_df = train_df[['Polarity', 'Review']]\n",
    "test_df = test_df[['Polarity', 'Review']]"
   ]
  },
  {
   "cell_type": "code",
   "execution_count": null,
   "metadata": {},
   "outputs": [],
   "source": [
    "# start_time = time.time()\n",
    "# graph_const = CoOccurrenceGraphConstructor(train_df['Review'], 'AmazonReview', config, lazy_construction=True,  load_preprocessed_data=True, naming_prepend='graph')\n",
    "# print(f'execution time in second: {time.time() - start_time}')\n",
    "graph_const = DependencyGraphConstructor(train_df['Review'][:10], 'AmazonReview', config, lazy_construction=False, naming_prepend='graph', load_preprocessed_data=False, use_node_dependencies=True)\n",
    "# graph = graph_const.to_graph(train_df['Review'][0])\n",
    "graph_const.draw_graph(0)"
   ]
  }
 ],
 "metadata": {
  "kernelspec": {
   "display_name": "Python 3",
   "language": "python",
   "name": "python3"
  },
  "language_info": {
   "codemirror_mode": {
    "name": "ipython",
    "version": 3
   },
   "file_extension": ".py",
   "mimetype": "text/x-python",
   "name": "python",
   "nbconvert_exporter": "python",
   "pygments_lexer": "ipython3",
   "version": "3.8.6"
  }
 },
 "nbformat": 4,
 "nbformat_minor": 2
}
