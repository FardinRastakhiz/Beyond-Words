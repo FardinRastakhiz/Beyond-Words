{
 "cells": [
  {
   "cell_type": "markdown",
   "metadata": {
    "collapsed": false
   },
   "source": [
    "# Import dependencies"
   ]
  },
  {
   "cell_type": "code",
   "execution_count": 1,
   "metadata": {
    "collapsed": true
   },
   "outputs": [
    {
     "name": "stderr",
     "output_type": "stream",
     "text": [
      "c:\\Users\\fardin\\AppData\\Local\\Programs\\Python\\Python310\\lib\\site-packages\\torchaudio\\backend\\utils.py:74: UserWarning: No audio backend is available.\n",
      "  warnings.warn(\"No audio backend is available.\")\n"
     ]
    }
   ],
   "source": [
    "import numpy as np\n",
    "# from Scripts.DataManager.DabasePreparations.AmazonReviewSentiGraph import AmazonReviewSentiGraph\n",
    "# from Scripts.Models.ModelsManager.SimpleGraphClassifierModelManager import SimpleGraphClassifierModelManager\n",
    "from Scripts.Configs.ConfigClass import Config\n",
    "config = Config(r'C:\\Users\\fardin\\Projects\\ColorIntelligence')\n",
    "from Scripts.DataManager.GraphConstructor.GraphConstructor import TextGraphType\n",
    "from lightning.pytorch.loggers import CSVLogger\n",
    "import os\n",
    "# os.environ['TORCH_USE_CUDA_DSA']\n",
    "os.environ['CUDA_LAUNCH_BLOCKING'] = \"1\"\n",
    "device = 'cuda'\n",
    "batch_size = 128"
   ]
  },
  {
   "cell_type": "markdown",
   "metadata": {
    "collapsed": false
   },
   "source": [
    "# Load and prepare data"
   ]
  },
  {
   "cell_type": "code",
   "execution_count": 2,
   "metadata": {},
   "outputs": [],
   "source": [
    "from Scripts.DataManager.GraphLoader.AmazonReviewGraphDataModule import AmazonReviewGraphDataModule"
   ]
  },
  {
   "cell_type": "code",
   "execution_count": 24,
   "metadata": {},
   "outputs": [
    {
     "name": "stdout",
     "output_type": "stream",
     "text": [
      "self.num_data_load: 55000\n",
      "filename: C:\\Users\\fardin\\Projects\\ColorIntelligence\\data/GraphData/AmazonReview\\graph_var.txt\n",
      " 0 graph loaded\n",
      " 100 graph loaded\n",
      " 200 graph loaded\n",
      " 300 graph loaded\n",
      " 400 graph loaded\n",
      " 500 graph loaded\n",
      " 600 graph loaded\n",
      " 700 graph loaded\n",
      " 800 graph loaded\n",
      " 900 graph loaded\n",
      " 1000 graph loaded\n",
      " 1100 graph loaded\n",
      " 1200 graph loaded\n",
      " 1300 graph loaded\n",
      " 1400 graph loaded\n",
      " 1500 graph loaded\n",
      " 1600 graph loaded\n",
      " 1700 graph loaded\n",
      " 1800 graph loaded\n",
      " 1900 graph loaded\n",
      " 2000 graph loaded\n",
      " 2100 graph loaded\n",
      " 2200 graph loaded\n",
      " 2300 graph loaded\n",
      " 2400 graph loaded\n",
      " 2500 graph loaded\n",
      " 2600 graph loaded\n",
      " 2700 graph loaded\n",
      " 2800 graph loaded\n",
      " 2900 graph loaded\n",
      " 3000 graph loaded\n",
      " 3100 graph loaded\n",
      " 3200 graph loaded\n",
      " 3300 graph loaded\n",
      " 3400 graph loaded\n",
      " 3500 graph loaded\n",
      " 3600 graph loaded\n",
      " 3700 graph loaded\n",
      " 3800 graph loaded\n",
      " 3900 graph loaded\n",
      " 4000 graph loaded\n",
      " 4100 graph loaded\n",
      " 4200 graph loaded\n",
      " 4300 graph loaded\n",
      " 4400 graph loaded\n",
      " 4500 graph loaded\n",
      " 4600 graph loaded\n",
      " 4700 graph loaded\n",
      " 4800 graph loaded\n",
      " 4900 graph loaded\n",
      " 5000 graph loaded\n",
      " 5100 graph loaded\n",
      " 5200 graph loaded\n",
      " 5300 graph loaded\n",
      " 5400 graph loaded\n",
      " 5500 graph loaded\n",
      " 5600 graph loaded\n",
      " 5700 graph loaded\n",
      " 5800 graph loaded\n",
      " 5900 graph loaded\n",
      " 6000 graph loaded\n",
      " 6100 graph loaded\n",
      " 6200 graph loaded\n",
      " 6300 graph loaded\n",
      " 6400 graph loaded\n",
      " 6500 graph loaded\n",
      " 6600 graph loaded\n",
      " 6700 graph loaded\n",
      " 6800 graph loaded\n",
      " 6900 graph loaded\n",
      " 7000 graph loaded\n",
      " 7100 graph loaded\n",
      " 7200 graph loaded\n",
      " 7300 graph loaded\n",
      " 7400 graph loaded\n",
      " 7500 graph loaded\n",
      " 7600 graph loaded\n",
      " 7700 graph loaded\n",
      " 7800 graph loaded\n",
      " 7900 graph loaded\n",
      " 8000 graph loaded\n",
      " 8100 graph loaded\n",
      " 8200 graph loaded\n",
      " 8300 graph loaded\n",
      " 8400 graph loaded\n",
      " 8500 graph loaded\n",
      " 8600 graph loaded\n",
      " 8700 graph loaded\n",
      " 8800 graph loaded\n",
      " 8900 graph loaded\n",
      " 9000 graph loaded\n",
      " 9100 graph loaded\n",
      " 9200 graph loaded\n",
      " 9300 graph loaded\n",
      " 9400 graph loaded\n",
      " 9500 graph loaded\n",
      " 9600 graph loaded\n",
      " 9700 graph loaded\n",
      " 9800 graph loaded\n",
      " 9900 graph loaded\n",
      " 10000 graph loaded\n",
      " 10100 graph loaded\n",
      " 10200 graph loaded\n",
      " 10300 graph loaded\n",
      " 10400 graph loaded\n",
      " 10500 graph loaded\n",
      " 10600 graph loaded\n",
      " 10700 graph loaded\n",
      " 10800 graph loaded\n",
      " 10900 graph loaded\n",
      " 11000 graph loaded\n",
      " 11100 graph loaded\n",
      " 11200 graph loaded\n",
      " 11300 graph loaded\n",
      " 11400 graph loaded\n",
      " 11500 graph loaded\n",
      " 11600 graph loaded\n",
      " 11700 graph loaded\n",
      " 11800 graph loaded\n",
      " 11900 graph loaded\n",
      " 12000 graph loaded\n",
      " 12100 graph loaded\n",
      " 12200 graph loaded\n",
      " 12300 graph loaded\n",
      " 12400 graph loaded\n",
      " 12500 graph loaded\n",
      " 12600 graph loaded\n",
      " 12700 graph loaded\n",
      " 12800 graph loaded\n",
      " 12900 graph loaded\n",
      " 13000 graph loaded\n",
      " 13100 graph loaded\n",
      " 13200 graph loaded\n",
      " 13300 graph loaded\n",
      " 13400 graph loaded\n",
      " 13500 graph loaded\n",
      " 13600 graph loaded\n",
      " 13700 graph loaded\n",
      " 13800 graph loaded\n",
      " 13900 graph loaded\n",
      " 14000 graph loaded\n",
      " 14100 graph loaded\n",
      " 14200 graph loaded\n",
      " 14300 graph loaded\n",
      " 14400 graph loaded\n",
      " 14500 graph loaded\n",
      " 14600 graph loaded\n",
      " 14700 graph loaded\n",
      " 14800 graph loaded\n",
      " 14900 graph loaded\n",
      " 15000 graph loaded\n",
      " 15100 graph loaded\n",
      " 15200 graph loaded\n",
      " 15300 graph loaded\n",
      " 15400 graph loaded\n",
      " 15500 graph loaded\n",
      " 15600 graph loaded\n",
      " 15700 graph loaded\n",
      " 15800 graph loaded\n",
      " 15900 graph loaded\n",
      " 16000 graph loaded\n",
      " 16100 graph loaded\n",
      " 16200 graph loaded\n",
      " 16300 graph loaded\n",
      " 16400 graph loaded\n",
      " 16500 graph loaded\n",
      " 16600 graph loaded\n",
      " 16700 graph loaded\n",
      " 16800 graph loaded\n",
      " 16900 graph loaded\n",
      " 17000 graph loaded\n",
      " 17100 graph loaded\n",
      " 17200 graph loaded\n",
      " 17300 graph loaded\n",
      " 17400 graph loaded\n",
      " 17500 graph loaded\n",
      " 17600 graph loaded\n",
      " 17700 graph loaded\n",
      " 17800 graph loaded\n",
      " 17900 graph loaded\n",
      " 18000 graph loaded\n",
      " 18100 graph loaded\n",
      " 18200 graph loaded\n",
      " 18300 graph loaded\n",
      " 18400 graph loaded\n",
      " 18500 graph loaded\n",
      " 18600 graph loaded\n",
      " 18700 graph loaded\n",
      " 18800 graph loaded\n",
      " 18900 graph loaded\n",
      " 19000 graph loaded\n",
      " 19100 graph loaded\n",
      " 19200 graph loaded\n",
      " 19300 graph loaded\n",
      " 19400 graph loaded\n",
      " 19500 graph loaded\n",
      " 19600 graph loaded\n",
      " 19700 graph loaded\n",
      " 19800 graph loaded\n",
      " 19900 graph loaded\n",
      " 20000 graph loaded\n",
      " 20100 graph loaded\n",
      " 20200 graph loaded\n",
      " 20300 graph loaded\n",
      " 20400 graph loaded\n",
      " 20500 graph loaded\n",
      " 20600 graph loaded\n",
      " 20700 graph loaded\n",
      " 20800 graph loaded\n",
      " 20900 graph loaded\n",
      " 21000 graph loaded\n",
      " 21100 graph loaded\n",
      " 21200 graph loaded\n",
      " 21300 graph loaded\n",
      " 21400 graph loaded\n",
      " 21500 graph loaded\n",
      " 21600 graph loaded\n",
      " 21700 graph loaded\n",
      " 21800 graph loaded\n",
      " 21900 graph loaded\n",
      " 22000 graph loaded\n",
      " 22100 graph loaded\n",
      " 22200 graph loaded\n",
      " 22300 graph loaded\n",
      " 22400 graph loaded\n",
      " 22500 graph loaded\n",
      " 22600 graph loaded\n",
      " 22700 graph loaded\n",
      " 22800 graph loaded\n",
      " 22900 graph loaded\n",
      " 23000 graph loaded\n",
      " 23100 graph loaded\n",
      " 23200 graph loaded\n",
      " 23300 graph loaded\n",
      " 23400 graph loaded\n",
      " 23500 graph loaded\n",
      " 23600 graph loaded\n",
      " 23700 graph loaded\n",
      " 23800 graph loaded\n",
      " 23900 graph loaded\n",
      " 24000 graph loaded\n",
      " 24100 graph loaded\n",
      " 24200 graph loaded\n",
      " 24300 graph loaded\n",
      " 24400 graph loaded\n",
      " 24500 graph loaded\n",
      " 24600 graph loaded\n",
      " 24700 graph loaded\n",
      " 24800 graph loaded\n",
      " 24900 graph loaded\n",
      " 25000 graph loaded\n",
      " 25100 graph loaded\n",
      " 25200 graph loaded\n",
      " 25300 graph loaded\n",
      " 25400 graph loaded\n",
      " 25500 graph loaded\n",
      " 25600 graph loaded\n",
      " 25700 graph loaded\n",
      " 25800 graph loaded\n",
      " 25900 graph loaded\n",
      " 26000 graph loaded\n",
      " 26100 graph loaded\n",
      " 26200 graph loaded\n",
      " 26300 graph loaded\n",
      " 26400 graph loaded\n",
      " 26500 graph loaded\n",
      " 26600 graph loaded\n",
      " 26700 graph loaded\n",
      " 26800 graph loaded\n",
      " 26900 graph loaded\n",
      " 27000 graph loaded\n",
      " 27100 graph loaded\n",
      " 27200 graph loaded\n",
      " 27300 graph loaded\n",
      " 27400 graph loaded\n",
      " 27500 graph loaded\n",
      " 27600 graph loaded\n",
      " 27700 graph loaded\n",
      " 27800 graph loaded\n",
      " 27900 graph loaded\n",
      " 28000 graph loaded\n",
      " 28100 graph loaded\n",
      " 28200 graph loaded\n",
      " 28300 graph loaded\n",
      " 28400 graph loaded\n",
      " 28500 graph loaded\n",
      " 28600 graph loaded\n",
      " 28700 graph loaded\n",
      " 28800 graph loaded\n",
      " 28900 graph loaded\n",
      " 29000 graph loaded\n",
      " 29100 graph loaded\n",
      " 29200 graph loaded\n",
      " 29300 graph loaded\n",
      " 29400 graph loaded\n",
      " 29500 graph loaded\n",
      " 29600 graph loaded\n",
      " 29700 graph loaded\n",
      " 29800 graph loaded\n",
      " 29900 graph loaded\n",
      " 30000 graph loaded\n",
      " 30100 graph loaded\n",
      " 30200 graph loaded\n",
      " 30300 graph loaded\n",
      " 30400 graph loaded\n",
      " 30500 graph loaded\n",
      " 30600 graph loaded\n",
      " 30700 graph loaded\n",
      " 30800 graph loaded\n",
      " 30900 graph loaded\n",
      " 31000 graph loaded\n",
      " 31100 graph loaded\n",
      " 31200 graph loaded\n",
      " 31300 graph loaded\n",
      " 31400 graph loaded\n",
      " 31500 graph loaded\n",
      " 31600 graph loaded\n",
      " 31700 graph loaded\n",
      " 31800 graph loaded\n",
      " 31900 graph loaded\n",
      " 32000 graph loaded\n",
      " 32100 graph loaded\n",
      " 32200 graph loaded\n",
      " 32300 graph loaded\n",
      " 32400 graph loaded\n",
      " 32500 graph loaded\n",
      " 32600 graph loaded\n",
      " 32700 graph loaded\n",
      " 32800 graph loaded\n",
      " 32900 graph loaded\n",
      " 33000 graph loaded\n",
      " 33100 graph loaded\n",
      " 33200 graph loaded\n",
      " 33300 graph loaded\n",
      " 33400 graph loaded\n",
      " 33500 graph loaded\n",
      " 33600 graph loaded\n",
      " 33700 graph loaded\n",
      " 33800 graph loaded\n",
      " 33900 graph loaded\n",
      " 34000 graph loaded\n",
      " 34100 graph loaded\n",
      " 34200 graph loaded\n",
      " 34300 graph loaded\n",
      " 34400 graph loaded\n",
      " 34500 graph loaded\n",
      " 34600 graph loaded\n",
      " 34700 graph loaded\n",
      " 34800 graph loaded\n",
      " 34900 graph loaded\n",
      " 35000 graph loaded\n",
      " 35100 graph loaded\n",
      " 35200 graph loaded\n",
      " 35300 graph loaded\n",
      " 35400 graph loaded\n",
      " 35500 graph loaded\n",
      " 35600 graph loaded\n",
      " 35700 graph loaded\n",
      " 35800 graph loaded\n",
      " 35900 graph loaded\n",
      " 36000 graph loaded\n",
      " 36100 graph loaded\n",
      " 36200 graph loaded\n",
      " 36300 graph loaded\n",
      " 36400 graph loaded\n",
      " 36500 graph loaded\n",
      " 36600 graph loaded\n",
      " 36700 graph loaded\n",
      " 36800 graph loaded\n",
      " 36900 graph loaded\n",
      " 37000 graph loaded\n",
      " 37100 graph loaded\n",
      " 37200 graph loaded\n",
      " 37300 graph loaded\n",
      " 37400 graph loaded\n",
      " 37500 graph loaded\n",
      " 37600 graph loaded\n",
      " 37700 graph loaded\n",
      " 37800 graph loaded\n",
      " 37900 graph loaded\n",
      " 38000 graph loaded\n",
      " 38100 graph loaded\n",
      " 38200 graph loaded\n",
      " 38300 graph loaded\n",
      " 38400 graph loaded\n",
      " 38500 graph loaded\n",
      " 38600 graph loaded\n",
      " 38700 graph loaded\n",
      " 38800 graph loaded\n",
      " 38900 graph loaded\n",
      " 39000 graph loaded\n",
      " 39100 graph loaded\n",
      " 39200 graph loaded\n",
      " 39300 graph loaded\n",
      " 39400 graph loaded\n",
      " 39500 graph loaded\n",
      " 39600 graph loaded\n",
      " 39700 graph loaded\n",
      " 39800 graph loaded\n",
      " 39900 graph loaded\n",
      " 40000 graph loaded\n",
      " 40100 graph loaded\n",
      " 40200 graph loaded\n",
      " 40300 graph loaded\n",
      " 40400 graph loaded\n",
      " 40500 graph loaded\n",
      " 40600 graph loaded\n",
      " 40700 graph loaded\n",
      " 40800 graph loaded\n",
      " 40900 graph loaded\n",
      " 41000 graph loaded\n",
      " 41100 graph loaded\n",
      " 41200 graph loaded\n",
      " 41300 graph loaded\n",
      " 41400 graph loaded\n",
      " 41500 graph loaded\n",
      " 41600 graph loaded\n",
      " 41700 graph loaded\n",
      " 41800 graph loaded\n",
      " 41900 graph loaded\n",
      " 42000 graph loaded\n",
      " 42100 graph loaded\n",
      " 42200 graph loaded\n",
      " 42300 graph loaded\n",
      " 42400 graph loaded\n",
      " 42500 graph loaded\n",
      " 42600 graph loaded\n",
      " 42700 graph loaded\n",
      " 42800 graph loaded\n",
      " 42900 graph loaded\n",
      " 43000 graph loaded\n",
      " 43100 graph loaded\n",
      " 43200 graph loaded\n",
      " 43300 graph loaded\n",
      " 43400 graph loaded\n",
      " 43500 graph loaded\n",
      " 43600 graph loaded\n",
      " 43700 graph loaded\n",
      " 43800 graph loaded\n",
      " 43900 graph loaded\n",
      " 44000 graph loaded\n",
      " 44100 graph loaded\n",
      " 44200 graph loaded\n",
      " 44300 graph loaded\n",
      " 44400 graph loaded\n",
      " 44500 graph loaded\n",
      " 44600 graph loaded\n",
      " 44700 graph loaded\n",
      " 44800 graph loaded\n",
      " 44900 graph loaded\n",
      " 45000 graph loaded\n",
      " 45100 graph loaded\n",
      " 45200 graph loaded\n",
      " 45300 graph loaded\n",
      " 45400 graph loaded\n",
      " 45500 graph loaded\n",
      " 45600 graph loaded\n",
      " 45700 graph loaded\n",
      " 45800 graph loaded\n",
      " 45900 graph loaded\n",
      " 46000 graph loaded\n",
      " 46100 graph loaded\n",
      " 46200 graph loaded\n",
      " 46300 graph loaded\n",
      " 46400 graph loaded\n",
      " 46500 graph loaded\n",
      " 46600 graph loaded\n",
      " 46700 graph loaded\n",
      " 46800 graph loaded\n",
      " 46900 graph loaded\n",
      " 47000 graph loaded\n",
      " 47100 graph loaded\n",
      " 47200 graph loaded\n",
      " 47300 graph loaded\n",
      " 47400 graph loaded\n",
      " 47500 graph loaded\n",
      " 47600 graph loaded\n",
      " 47700 graph loaded\n",
      " 47800 graph loaded\n",
      " 47900 graph loaded\n",
      " 48000 graph loaded\n",
      " 48100 graph loaded\n",
      " 48200 graph loaded\n",
      " 48300 graph loaded\n",
      " 48400 graph loaded\n",
      " 48500 graph loaded\n",
      " 48600 graph loaded\n",
      " 48700 graph loaded\n",
      " 48800 graph loaded\n",
      " 48900 graph loaded\n",
      " 49000 graph loaded\n",
      " 49100 graph loaded\n",
      " 49200 graph loaded\n",
      " 49300 graph loaded\n",
      " 49400 graph loaded\n",
      " 49500 graph loaded\n",
      " 49600 graph loaded\n",
      " 49700 graph loaded\n",
      " 49800 graph loaded\n",
      " 49900 graph loaded\n",
      " 50000 graph loaded\n",
      " 50100 graph loaded\n",
      " 50200 graph loaded\n",
      " 50300 graph loaded\n",
      " 50400 graph loaded\n",
      " 50500 graph loaded\n",
      " 50600 graph loaded\n",
      " 50700 graph loaded\n",
      " 50800 graph loaded\n",
      " 50900 graph loaded\n",
      " 51000 graph loaded\n",
      " 51100 graph loaded\n",
      " 51200 graph loaded\n",
      " 51300 graph loaded\n",
      " 51400 graph loaded\n",
      " 51500 graph loaded\n",
      " 51600 graph loaded\n",
      " 51700 graph loaded\n",
      " 51800 graph loaded\n",
      " 51900 graph loaded\n",
      " 52000 graph loaded\n",
      " 52100 graph loaded\n",
      " 52200 graph loaded\n",
      " 52300 graph loaded\n",
      " 52400 graph loaded\n",
      " 52500 graph loaded\n",
      " 52600 graph loaded\n",
      " 52700 graph loaded\n",
      " 52800 graph loaded\n",
      " 52900 graph loaded\n",
      " 53000 graph loaded\n",
      " 53100 graph loaded\n",
      " 53200 graph loaded\n",
      " 53300 graph loaded\n",
      " 53400 graph loaded\n",
      " 53500 graph loaded\n",
      " 53600 graph loaded\n",
      " 53700 graph loaded\n",
      " 53800 graph loaded\n",
      " 53900 graph loaded\n",
      " 54000 graph loaded\n",
      " 54100 graph loaded\n",
      " 54200 graph loaded\n",
      " 54300 graph loaded\n",
      " 54400 graph loaded\n",
      " 54500 graph loaded\n",
      " 54600 graph loaded\n",
      " 54700 graph loaded\n",
      " 54800 graph loaded\n",
      " 54900 graph loaded\n",
      "self.num_data_load: 55000\n",
      "self.labels.shape: torch.Size([55000, 1])\n"
     ]
    }
   ],
   "source": [
    "data_manager = AmazonReviewGraphDataModule(config, True, True, shuffle=True, num_data_load = -1, device='cpu', batch_size=batch_size)"
   ]
  },
  {
   "cell_type": "markdown",
   "metadata": {
    "collapsed": false
   },
   "source": [
    "# Train Data"
   ]
  },
  {
   "cell_type": "code",
   "execution_count": 5,
   "metadata": {},
   "outputs": [],
   "source": [
    "t_dataloader = data_manager.train_dataloader()\n",
    "v_dataloader = data_manager.val_dataloader()"
   ]
  },
  {
   "cell_type": "code",
   "execution_count": 6,
   "metadata": {},
   "outputs": [
    {
     "name": "stdout",
     "output_type": "stream",
     "text": [
      "cpu\n",
      "cpu\n"
     ]
    }
   ],
   "source": [
    "X1, y1 = next(iter(t_dataloader))\n",
    "X2, y2 = next(iter(v_dataloader))\n",
    "print(X1[0].x.device)\n",
    "print(X2[0].x.device)"
   ]
  },
  {
   "cell_type": "code",
   "execution_count": 4,
   "metadata": {},
   "outputs": [],
   "source": [
    "from Scripts.Models.BaseModels.GcnGatModel1 import GcnGatModel1"
   ]
  },
  {
   "cell_type": "code",
   "execution_count": 8,
   "metadata": {},
   "outputs": [],
   "source": [
    "torch_model = GcnGatModel1(300, 1, 1024, dropout=0.2)\n",
    "torch_model = torch_model.to(device)\n",
    "# print(next(iter(torch_model.parameters())).device)\n",
    "pre = torch_model(X1.to(device))"
   ]
  },
  {
   "cell_type": "code",
   "execution_count": 9,
   "metadata": {},
   "outputs": [
    {
     "name": "stdout",
     "output_type": "stream",
     "text": [
      "torch.cuda.memory_allocated: 1.950257GB\n",
      "torch.cuda.memory_reserved: 2.736328GB\n",
      "torch.cuda.max_memory_reserved: 2.736328GB\n"
     ]
    }
   ],
   "source": [
    "import torch\n",
    "print(\"torch.cuda.memory_allocated: %fGB\"%(torch.cuda.memory_allocated(0)/1024/1024/1024))\n",
    "print(\"torch.cuda.memory_reserved: %fGB\"%(torch.cuda.memory_reserved(0)/1024/1024/1024))\n",
    "print(\"torch.cuda.max_memory_reserved: %fGB\"%(torch.cuda.max_memory_reserved(0)/1024/1024/1024))"
   ]
  },
  {
   "cell_type": "code",
   "execution_count": 10,
   "metadata": {
    "collapsed": false,
    "pycharm": {
     "name": "#%%\n"
    }
   },
   "outputs": [],
   "source": [
    "# from Scripts.Models.BaseModels.GcnGatModel1 import GcnGatModel1\n",
    "from Scripts.Models.LightningModels.LightningModels import BinaryLightningModel\n",
    "from lightning.pytorch.callbacks import EarlyStopping, ModelCheckpoint\n",
    "import lightning as L\n",
    "from lightning.pytorch.tuner import Tuner"
   ]
  },
  {
   "cell_type": "code",
   "execution_count": 11,
   "metadata": {},
   "outputs": [],
   "source": [
    "callbacks = [\n",
    "    ModelCheckpoint(save_top_k=2, mode='max', monitor='val_acc', save_last=True),\n",
    "    EarlyStopping(patience=50, mode='max', monitor='val_acc')\n",
    "]"
   ]
  },
  {
   "cell_type": "code",
   "execution_count": 12,
   "metadata": {
    "collapsed": false,
    "pycharm": {
     "name": "#%%\n"
    }
   },
   "outputs": [
    {
     "name": "stderr",
     "output_type": "stream",
     "text": [
      "c:\\Users\\fardin\\AppData\\Local\\Programs\\Python\\Python310\\lib\\site-packages\\lightning\\pytorch\\utilities\\parsing.py:198: Attribute 'model' is an instance of `nn.Module` and is already saved during checkpointing. It is recommended to ignore them using `self.save_hyperparameters(ignore=['model'])`.\n"
     ]
    }
   ],
   "source": [
    "lightning_model = BinaryLightningModel(torch_model,\n",
    "                                 torch.optim.Adam(torch_model.parameters(), lr=0.00017, weight_decay=0.00055),\n",
    "                                       torch.nn.BCEWithLogitsLoss(),\n",
    "                                       learning_rate=0.00017,\n",
    "                                       batch_size=batch_size,\n",
    "                                       ).to(device)"
   ]
  },
  {
   "cell_type": "code",
   "execution_count": 13,
   "metadata": {},
   "outputs": [
    {
     "name": "stdout",
     "output_type": "stream",
     "text": [
      "cuda:0\n",
      "cuda:0\n"
     ]
    }
   ],
   "source": [
    "print(next(iter(torch_model.parameters())).device)\n",
    "print(lightning_model.device)"
   ]
  },
  {
   "cell_type": "code",
   "execution_count": 14,
   "metadata": {},
   "outputs": [],
   "source": [
    "# torch_model(X)"
   ]
  },
  {
   "cell_type": "code",
   "execution_count": 15,
   "metadata": {},
   "outputs": [],
   "source": [
    "# t_dataloader = data_manager.train_dataloader()\n",
    "# loss_func = torch.nn.BCEWithLogitsLoss()\n",
    "# optimizer = torch.optim.Adam(torch_model.parameters(), 0.001, weight_decay=0.0055)\n",
    "# for X,y in t_dataloader:\n",
    "#     optimizer.zero_grad()\n",
    "#     predicted = torch_model(X)\n",
    "#     loss = loss_func(predicted, y)\n",
    "#     loss.backward()\n",
    "#     optimizer.step()"
   ]
  },
  {
   "cell_type": "code",
   "execution_count": 16,
   "metadata": {},
   "outputs": [
    {
     "name": "stderr",
     "output_type": "stream",
     "text": [
      "GPU available: True (cuda), used: True\n",
      "TPU available: False, using: 0 TPU cores\n",
      "IPU available: False, using: 0 IPUs\n",
      "HPU available: False, using: 0 HPUs\n"
     ]
    }
   ],
   "source": [
    "trainer = L.Trainer(\n",
    "            callbacks=callbacks,\n",
    "            max_epochs=5000,\n",
    "            accelerator='gpu',\n",
    "            logger=CSVLogger(save_dir='logs/', name='GcnGatSentiment3'),\n",
    "            num_sanity_val_steps=0)"
   ]
  },
  {
   "cell_type": "code",
   "execution_count": 17,
   "metadata": {},
   "outputs": [],
   "source": [
    "# tuner = Tuner(trainer)\n",
    "# results = tuner.lr_find(lightning_model, datamodule=data_manager, min_lr=0.00001,max_lr=0.03)"
   ]
  },
  {
   "cell_type": "code",
   "execution_count": 18,
   "metadata": {},
   "outputs": [],
   "source": [
    "# fig = results.plot(suggest=True)"
   ]
  },
  {
   "cell_type": "code",
   "execution_count": 19,
   "metadata": {},
   "outputs": [],
   "source": [
    "# 0.00004"
   ]
  },
  {
   "cell_type": "code",
   "execution_count": 20,
   "metadata": {},
   "outputs": [
    {
     "data": {
      "text/plain": [
       "device(type='cuda', index=0)"
      ]
     },
     "execution_count": 20,
     "metadata": {},
     "output_type": "execute_result"
    }
   ],
   "source": [
    "lightning_model.device"
   ]
  },
  {
   "cell_type": "code",
   "execution_count": 21,
   "metadata": {},
   "outputs": [
    {
     "data": {
      "text/plain": [
       "True"
      ]
     },
     "execution_count": 21,
     "metadata": {},
     "output_type": "execute_result"
    }
   ],
   "source": [
    "from Scripts.DataManager.GraphLoader.GraphDataModule import GraphDataModule\n",
    "isinstance(data_manager, GraphDataModule)\n",
    "issubclass(GraphDataModule, L.pytorch.LightningDataModule)"
   ]
  },
  {
   "cell_type": "code",
   "execution_count": null,
   "metadata": {},
   "outputs": [],
   "source": []
  },
  {
   "cell_type": "code",
   "execution_count": 22,
   "metadata": {},
   "outputs": [
    {
     "data": {
      "text/plain": [
       "500"
      ]
     },
     "execution_count": 22,
     "metadata": {},
     "output_type": "execute_result"
    }
   ],
   "source": [
    "len(data_manager.dataset)"
   ]
  },
  {
   "cell_type": "code",
   "execution_count": 25,
   "metadata": {
    "collapsed": false,
    "pycharm": {
     "name": "#%%\n"
    }
   },
   "outputs": [
    {
     "name": "stderr",
     "output_type": "stream",
     "text": [
      "c:\\Users\\fardin\\AppData\\Local\\Programs\\Python\\Python310\\lib\\site-packages\\lightning\\pytorch\\callbacks\\model_checkpoint.py:630: Checkpoint directory logs/GcnGatSentiment3\\version_4\\checkpoints exists and is not empty.\n",
      "LOCAL_RANK: 0 - CUDA_VISIBLE_DEVICES: [0]\n"
     ]
    },
    {
     "name": "stdout",
     "output_type": "stream",
     "text": [
      "bbbb\n"
     ]
    },
    {
     "name": "stderr",
     "output_type": "stream",
     "text": [
      "\n",
      "  | Name      | Type              | Params\n",
      "------------------------------------------------\n",
      "0 | model     | GcnGatModel1      | 9.0 M \n",
      "1 | loss_func | BCEWithLogitsLoss | 0     \n",
      "2 | train_acc | BinaryAccuracy    | 0     \n",
      "3 | val_acc   | BinaryAccuracy    | 0     \n",
      "4 | test_acc  | BinaryAccuracy    | 0     \n",
      "------------------------------------------------\n",
      "9.0 M     Trainable params\n",
      "0         Non-trainable params\n",
      "9.0 M     Total params\n",
      "36.017    Total estimated model params size (MB)\n"
     ]
    },
    {
     "name": "stderr",
     "output_type": "stream",
     "text": [
      "c:\\Users\\fardin\\AppData\\Local\\Programs\\Python\\Python310\\lib\\site-packages\\lightning\\pytorch\\trainer\\connectors\\data_connector.py:441: The 'train_dataloader' does not have many workers which may be a bottleneck. Consider increasing the value of the `num_workers` argument` to `num_workers=7` in the `DataLoader` to improve performance.\n",
      "c:\\Users\\fardin\\AppData\\Local\\Programs\\Python\\Python310\\lib\\site-packages\\lightning\\pytorch\\trainer\\connectors\\data_connector.py:441: The 'val_dataloader' does not have many workers which may be a bottleneck. Consider increasing the value of the `num_workers` argument` to `num_workers=7` in the `DataLoader` to improve performance.\n"
     ]
    },
    {
     "data": {
      "application/vnd.jupyter.widget-view+json": {
       "model_id": "fe8280db809a4d3ab522eb17e616942b",
       "version_major": 2,
       "version_minor": 0
      },
      "text/plain": [
       "Training: |          | 0/? [00:00<?, ?it/s]"
      ]
     },
     "metadata": {},
     "output_type": "display_data"
    },
    {
     "data": {
      "application/vnd.jupyter.widget-view+json": {
       "model_id": "aafafe3d53604f4dbefa9799f52531c9",
       "version_major": 2,
       "version_minor": 0
      },
      "text/plain": [
       "Validation: |          | 0/? [00:00<?, ?it/s]"
      ]
     },
     "metadata": {},
     "output_type": "display_data"
    },
    {
     "data": {
      "application/vnd.jupyter.widget-view+json": {
       "model_id": "97df81d2dd99470abac6c6d67fa7f38b",
       "version_major": 2,
       "version_minor": 0
      },
      "text/plain": [
       "Validation: |          | 0/? [00:00<?, ?it/s]"
      ]
     },
     "metadata": {},
     "output_type": "display_data"
    },
    {
     "data": {
      "application/vnd.jupyter.widget-view+json": {
       "model_id": "4cfee8ce5adf48b4ad506553b9d0b5f5",
       "version_major": 2,
       "version_minor": 0
      },
      "text/plain": [
       "Validation: |          | 0/? [00:00<?, ?it/s]"
      ]
     },
     "metadata": {},
     "output_type": "display_data"
    },
    {
     "data": {
      "application/vnd.jupyter.widget-view+json": {
       "model_id": "9695a7f2f3974b308b726aea7bb6dd06",
       "version_major": 2,
       "version_minor": 0
      },
      "text/plain": [
       "Validation: |          | 0/? [00:00<?, ?it/s]"
      ]
     },
     "metadata": {},
     "output_type": "display_data"
    },
    {
     "data": {
      "application/vnd.jupyter.widget-view+json": {
       "model_id": "1f206709bd3c486eb908aa25f639afad",
       "version_major": 2,
       "version_minor": 0
      },
      "text/plain": [
       "Validation: |          | 0/? [00:00<?, ?it/s]"
      ]
     },
     "metadata": {},
     "output_type": "display_data"
    },
    {
     "data": {
      "application/vnd.jupyter.widget-view+json": {
       "model_id": "ca7d2d86501a4c0ba958678839239384",
       "version_major": 2,
       "version_minor": 0
      },
      "text/plain": [
       "Validation: |          | 0/? [00:00<?, ?it/s]"
      ]
     },
     "metadata": {},
     "output_type": "display_data"
    },
    {
     "data": {
      "application/vnd.jupyter.widget-view+json": {
       "model_id": "c0fb4409ed6b4917aad9522fe0aa1ba7",
       "version_major": 2,
       "version_minor": 0
      },
      "text/plain": [
       "Validation: |          | 0/? [00:00<?, ?it/s]"
      ]
     },
     "metadata": {},
     "output_type": "display_data"
    },
    {
     "data": {
      "application/vnd.jupyter.widget-view+json": {
       "model_id": "9bc99b9ac90641889cff6a3bc192718e",
       "version_major": 2,
       "version_minor": 0
      },
      "text/plain": [
       "Validation: |          | 0/? [00:00<?, ?it/s]"
      ]
     },
     "metadata": {},
     "output_type": "display_data"
    },
    {
     "data": {
      "application/vnd.jupyter.widget-view+json": {
       "model_id": "dece85143867411788858a702ea3ee13",
       "version_major": 2,
       "version_minor": 0
      },
      "text/plain": [
       "Validation: |          | 0/? [00:00<?, ?it/s]"
      ]
     },
     "metadata": {},
     "output_type": "display_data"
    },
    {
     "data": {
      "application/vnd.jupyter.widget-view+json": {
       "model_id": "1d76fd4d745d4a96a240387454f6294e",
       "version_major": 2,
       "version_minor": 0
      },
      "text/plain": [
       "Validation: |          | 0/? [00:00<?, ?it/s]"
      ]
     },
     "metadata": {},
     "output_type": "display_data"
    },
    {
     "name": "stderr",
     "output_type": "stream",
     "text": [
      "c:\\Users\\fardin\\AppData\\Local\\Programs\\Python\\Python310\\lib\\site-packages\\lightning\\pytorch\\trainer\\call.py:58: Detected KeyboardInterrupt, attempting graceful shutdown...\n"
     ]
    }
   ],
   "source": [
    "\n",
    "# trainer.fit(lightning_model, datamodule=data_manager)\n",
    "trainer.fit(lightning_model,\n",
    "            datamodule=data_manager\n",
    "            # train_dataloaders=data_manager.train_dataloader(),\n",
    "            # val_dataloaders=data_manager.val_dataloader(),\n",
    "            # logger=CSVLogger(save_dir='logs/', name='sample_model'),\n",
    "            # default_root_dir=\"~/Desktop\"\n",
    "            )"
   ]
  },
  {
   "cell_type": "code",
   "execution_count": 2,
   "metadata": {},
   "outputs": [],
   "source": [
    "import matplotlib.pyplot as plt\n",
    "import pandas as pd\n",
    "'''From torch lightning tutorials'''\n",
    "def plot_csv_logger(csv_path, loss_names=['train_loss', 'val_loss'], eval_names=['train_acc', 'val_acc']):\n",
    "    metrics = pd.read_csv(csv_path)\n",
    "    \n",
    "    aggregation_metrics = []\n",
    "    agg_col = 'epoch'\n",
    "    for i, dfg in metrics.groupby(agg_col):\n",
    "        agg = dict(dfg.mean())\n",
    "        agg[agg_col] = i\n",
    "        aggregation_metrics.append(agg)\n",
    "    \n",
    "    df_metrics = pd.DataFrame(aggregation_metrics)\n",
    "    df_metrics[loss_names].plot(grid=True, legend=True, xlabel='Epoch', ylabel='loss')\n",
    "    df_metrics[eval_names].plot(grid=True, legend=True, xlabel='Epoch', ylabel='accuracy')\n",
    "    plt.show()\n",
    "    "
   ]
  },
  {
   "cell_type": "code",
   "execution_count": 3,
   "metadata": {},
   "outputs": [
    {
     "data": {
      "image/png": "[encoded data removed]",
      "text/plain": [
       "<Figure size 640x480 with 1 Axes>"
      ]
     },
     "metadata": {},
     "output_type": "display_data"
    },
    {
     "data": {
      "image/png": "[encoded data removed]",
      "text/plain": [
       "<Figure size 640x480 with 1 Axes>"
      ]
     },
     "metadata": {},
     "output_type": "display_data"
    }
   ],
   "source": [
    "plot_csv_logger(r'C:\\Users\\fardin\\Projects\\ColorIntelligence\\logs\\GcnGatSentiment3\\version_4\\metrics.csv')"
   ]
  },
  {
   "cell_type": "code",
   "execution_count": 27,
   "metadata": {},
   "outputs": [
    {
     "data": {
      "text/plain": [
       "'logs/GcnGatSentiment3\\\\version_4\\\\checkpoints\\\\epoch=53-step=2148.ckpt'"
      ]
     },
     "execution_count": 27,
     "metadata": {},
     "output_type": "execute_result"
    }
   ],
   "source": [
    "trainer.checkpoint_callback.best_model_path"
   ]
  },
  {
   "cell_type": "code",
   "execution_count": null,
   "metadata": {
    "collapsed": false,
    "pycharm": {
     "name": "#%%\n"
    }
   },
   "outputs": [],
   "source": [
    "# trainer.save_checkpoint('example.ckpt')\n",
    "BinaryLightningModel.load_from_checkpoint(checkpoint_path='example.ckpt', model=torch_model)"
   ]
  },
  {
   "cell_type": "code",
   "execution_count": null,
   "metadata": {
    "collapsed": false,
    "pycharm": {
     "name": "#%%\n"
    }
   },
   "outputs": [],
   "source": [
    "lightning_model.eval()\n",
    "with torch.inference_mode():\n",
    "    logits = lightning_model('new_data')"
   ]
  },
  {
   "cell_type": "code",
   "execution_count": null,
   "metadata": {},
   "outputs": [],
   "source": [
    "trainer.test(model=lightning_model, datamodule=data_manager, ckpt_path='best')"
   ]
  },
  {
   "cell_type": "code",
   "execution_count": null,
   "metadata": {
    "collapsed": false,
    "pycharm": {
     "name": "#%%\n"
    }
   },
   "outputs": [],
   "source": [
    "import torch\n",
    "import torch.nn.functional as F\n",
    "from torch_geometric.nn import summary\n",
    "from tqdm import tqdm\n",
    "from Scripts.Models.LightningModels.LightningModels import BaseLightningModel\n",
    "from Scripts.Models.ModelsManager.ModelManager import ModelManager\n",
    "from Scripts.Models.BaseModels.GATGCNClassifierSimple import GNNClassifier\n",
    "from Scripts.DataManager.GraphLoader.NLabeledGraphLoader import NLabeledGraphLoader\n",
    "from Scripts.Utils.enums import Optimizer, LossType\n",
    "\n",
    "import lightning as L\n",
    "\n",
    "\n",
    "class SimpleNodeClassifierModelManager(ModelManager):\n",
    "\n",
    "    def __init__(self, graph_handler: NLabeledGraphLoader, device=torch.device('cpu'),\n",
    "                 lr=0.01, weight_decay=0.001, optimizer_type: Optimizer = Optimizer.ADAM,\n",
    "                 loss_type: LossType = LossType.CROSS_ENTROPY):\n",
    "        super(SimpleNodeClassifierModelManager, self).__init__(lr, weight_decay, device)\n",
    "        self.graph_handler = graph_handler\n",
    "        self.num_output_classes = self.graph_handler.num_classes\n",
    "        self.num_input_features = self.graph_handler.num_features\n",
    "        self.loss_type = loss_type\n",
    "        self.optimizer_type = optimizer_type\n",
    "        self.model, self.optimizer, self.loss_func = self._create_model(lr, weight_decay, optimizer_type, loss_type)\n",
    "        self.lightning_model = BaseLightningModel(self.model, self.optimizer, self.loss_func)\n",
    "\n",
    "    def train(self, epoch_num: int = 100, lr: float = None, l2_norm: float = None, optimizer: Optimizer = None):\n",
    "\n",
    "        trainer = L.Trainer(max_epochs=100, accelerator='gpu', devices=1)\n",
    "        trainer.fit(self.lightning_model,\n",
    "                    train_dataloaders=self.graph_handler.get_train_data(),\n",
    "                    val_dataloaders=self.graph_handler.get_val_data()\n",
    "                    )\n",
    "\n",
    "\n",
    "\n",
    "        if lr or l2_norm or optimizer:\n",
    "            self.set_optimizer(lr, l2_norm, optimizer)\n",
    "\n",
    "        train_losses = []\n",
    "        train_accuracies = []\n",
    "        test_losses = []\n",
    "        test_accuracies = []\n",
    "\n",
    "        train_node_x, train_node_y, train_edges = self.graph_handler.get_train_data()\n",
    "        test_node_x, test_node_y, test_edges = self.graph_handler.get_test_data()\n",
    "        for i in tqdm(range(epoch_num)):\n",
    "            self.model.train()\n",
    "            self.optimizer.zero_grad()\n",
    "            my_node, my_label, my_edges = self.graph_handler.extract_random_sub_edges_graph()\n",
    "            y_hat: torch.Tensor = self.model(my_node, my_edges)\n",
    "            loss = self.loss_func(F.one_hot(my_label, self.num_output_classes).float(), y_hat)\n",
    "            loss.backward()\n",
    "            self.optimizer.step()\n",
    "\n",
    "            self.model.eval()\n",
    "\n",
    "            loss_value = loss.item()\n",
    "            train_losses.append(loss_value)\n",
    "            accuracy = (torch.sum((y_hat.argmax(dim=1) == my_label).float()) / len(my_label)).cpu().numpy()\n",
    "            train_accuracies.append(accuracy)\n",
    "\n",
    "            my_node, my_label, my_edges = self.graph_handler.extract_random_sub_edges_graph()\n",
    "            y_hat: torch.Tensor = self.model(my_node, my_edges)\n",
    "            loss = self.loss_func(F.one_hot(my_label, self.graph_handler.num_classes).float(), y_hat)\n",
    "            loss_value = loss.item()\n",
    "            test_losses.append(loss_value)\n",
    "            accuracy = (torch.sum((y_hat.argmax(dim=1) == my_label).float()) / len(my_label)).cpu().numpy()\n",
    "            test_accuracies.append(accuracy)\n",
    "        self.history['train_losses'] = train_losses\n",
    "        self.history['train_accuracies'] = train_accuracies\n",
    "        self.history['test_losses'] = test_losses\n",
    "        self.history['test_accuracies'] = test_accuracies\n",
    "        return self.history\n",
    "\n",
    "    def evaluate(self):\n",
    "        node_x, node_y, edges = self.graph_handler.get_val_data()\n",
    "        self.model.eval()\n",
    "        y_hat: torch.Tensor = self.model(node_x, edges)\n",
    "        loss = self.loss_func(F.one_hot(node_y, self.num_output_classes).float(), y_hat)\n",
    "        return y_hat, loss\n",
    "\n",
    "    def predict(self, node_x, edge_index):\n",
    "        self.model.eval()\n",
    "        y_hat: torch.Tensor = self.model(node_x, edge_index)\n",
    "        return y_hat\n",
    "\n",
    "    def draw_summary(self):\n",
    "        nodes_x, nodes_y, edge_indices_test = self.graph_handler.get_test_data()\n",
    "        nodes_x, nodes_y, edge_indices_test = self.graph_handler.extract_random_sub_edges_graph(2)\n",
    "        print(summary(self.model, nodes_x, edge_indices_test))\n",
    "\n",
    "    def _create_model(self, lr, l2_norm, optimizer_type, loss_type):\n",
    "        model = GNNClassifier(input_feature=self.num_input_features, class_counts=self.num_output_classes)\n",
    "        optimizer = ModelManager._create_optimizer(model, lr, l2_norm, optimizer_type)\n",
    "        loss_func = ModelManager._create_loss_func(loss_type)\n",
    "        model.to(self.device)\n",
    "        return model, optimizer, loss_func\n",
    "\n",
    "    def set_optimizer(self, lr, l2_norm, optimizer=Optimizer.ADAM):\n",
    "        if lr:\n",
    "            self.lr = lr\n",
    "        if l2_norm:\n",
    "            self.l2_norm = l2_norm\n",
    "        if optimizer:\n",
    "            self.optimizer_type = optimizer\n",
    "        self.optimizer = ModelManager._create_optimizer(self.model, self.lr, self.l2_norm, self.optimizer_type)\n"
   ]
  },
  {
   "cell_type": "code",
   "execution_count": null,
   "metadata": {
    "collapsed": false,
    "pycharm": {
     "name": "#%%\n"
    }
   },
   "outputs": [],
   "source": [
    "# from Scripts.Models.ModelsManager.SimpleGraphClassifierModelManager import SimpleGraphClassifierModelManager\n",
    "\n",
    "if 'Train Data':\n",
    "    model_manager = SimpleGraphClassifierModelManager(\n",
    "        data_manager.graph_constructors[TextGraphType.CO_OCCURRENCE])\n",
    "    model_manager.draw_summary()\n",
    "    model_manager.train()\n",
    "    model_manager.draw_training_results()"
   ]
  },
  {
   "cell_type": "markdown",
   "metadata": {
    "collapsed": false
   },
   "source": [
    "# Draw Results"
   ]
  },
  {
   "cell_type": "code",
   "execution_count": null,
   "metadata": {
    "collapsed": false,
    "pycharm": {
     "name": "#%%\n"
    }
   },
   "outputs": [],
   "source": [
    "from Scripts.Models.BaseModels.GcnGatModel1 import GcnGatModel1\n",
    "from transformers.models.longformer.convert_longformer_original_pytorch_lightning_to_pytorch import LightningModel\n",
    "mymodel = GcnGatModel1(100, 10, config)\n",
    "print(type(mymodel))\n",
    "model = LightningModel(mymodel)\n",
    "print(type(model))"
   ]
  },
  {
   "cell_type": "code",
   "execution_count": null,
   "metadata": {
    "collapsed": false,
    "pycharm": {
     "name": "#%%\n"
    }
   },
   "outputs": [],
   "source": [
    "from typing import Tuple\n",
    "\n",
    "\n",
    "def sample_func() -> Tuple[int, float]:\n",
    "    return 1, 2.5"
   ]
  },
  {
   "cell_type": "code",
   "execution_count": null,
   "metadata": {
    "collapsed": false,
    "pycharm": {
     "name": "#%%\n"
    }
   },
   "outputs": [],
   "source": [
    "targets = sample_func"
   ]
  },
  {
   "cell_type": "code",
   "execution_count": null,
   "metadata": {
    "collapsed": false,
    "pycharm": {
     "name": "#%%\n"
    }
   },
   "outputs": [],
   "source": [
    "type(targets)"
   ]
  },
  {
   "cell_type": "code",
   "execution_count": null,
   "metadata": {
    "collapsed": false,
    "pycharm": {
     "name": "#%%\n"
    }
   },
   "outputs": [],
   "source": [
    "from Scripts.Utils.enums import Optimizer\n",
    "\n",
    "type(Optimizer.ADAM)"
   ]
  },
  {
   "cell_type": "code",
   "execution_count": null,
   "metadata": {
    "collapsed": false,
    "pycharm": {
     "name": "#%%\n"
    }
   },
   "outputs": [],
   "source": [
    "def sample_func():\n",
    "    return True"
   ]
  },
  {
   "cell_type": "code",
   "execution_count": null,
   "metadata": {
    "collapsed": false,
    "pycharm": {
     "name": "#%%\n"
    }
   },
   "outputs": [],
   "source": [
    "from typing import Callable\n",
    "import types"
   ]
  },
  {
   "cell_type": "code",
   "execution_count": null,
   "metadata": {
    "collapsed": false,
    "pycharm": {
     "name": "#%%\n"
    }
   },
   "outputs": [],
   "source": [
    "aa: Callable = None\n",
    "type(aa)"
   ]
  },
  {
   "cell_type": "code",
   "execution_count": null,
   "metadata": {
    "collapsed": false,
    "pycharm": {
     "name": "#%%\n"
    }
   },
   "outputs": [],
   "source": []
  }
 ],
 "metadata": {
  "kernelspec": {
   "display_name": "Python 3",
   "language": "python",
   "name": "python3"
  },
  "language_info": {
   "codemirror_mode": {
    "name": "ipython",
    "version": 3
   },
   "file_extension": ".py",
   "mimetype": "text/x-python",
   "name": "python",
   "nbconvert_exporter": "python",
   "pygments_lexer": "ipython3",
   "version": "3.10.11"
  }
 },
 "nbformat": 4,
 "nbformat_minor": 0
}
